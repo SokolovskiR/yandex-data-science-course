{
 "cells": [
  {
   "cell_type": "markdown",
   "metadata": {},
   "source": [
    "# Identifying patterns which determine success of video games"
   ]
  },
  {
   "cell_type": "markdown",
   "metadata": {},
   "source": [
    "**Project description**\n",
    "\n",
    "You work in the online store \"Stremchik\", which sells computer games all over the world. Historical data on game sales, user and expert ratings, genres and platforms (for example, Xbox or PlayStation) are available from open sources. You need to identify the patterns that determine the success of the game. This will allow you to bet on a potentially popular product and plan advertising campaigns.\n",
    "\n",
    "You have data until 2016. Let's say it's December 2016 and you're planning a campaign for 2017. We need to work out the principle of working with data. It doesn't matter if you predict 2017 sales based on 2016 data or 2027 based on 2026 data.\n",
    "\n",
    "The dataset contains the abbreviation ESRB (Entertainment Software Rating Board) - an association that determines the age rating of computer games. The ESRB evaluates game content and assigns it to an appropriate age category, such as Adult, Younger Kids or Teenagers."
   ]
  },
  {
   "cell_type": "markdown",
   "metadata": {},
   "source": [
    "**Instructions**\n",
    "\n",
    "Step 1. Open the data file and study the general information\n",
    "\n",
    "Step 2. Prepare the data\n",
    "\n",
    "Step 3. Exploratory data analysis\n",
    "\n",
    "Step 4. Make a portrait of the user of each region\n",
    "\n",
    "Step 5. Test hypotheses\n",
    "\n",
    "Step 6. Write a general conclusion"
   ]
  },
  {
   "cell_type": "markdown",
   "metadata": {},
   "source": [
    "**Data description**\n",
    "\n",
    "* *Name* - the name of the game\n",
    "* *Platform* - platform\n",
    "* *Year_of_Release* - release year\n",
    "* *Genre* - the genre of the game\n",
    "* *NA_sales* - North American sales (millions of copies sold)\n",
    "* *EU_sales* - sales in Europe (millions of copies sold)\n",
    "* *JP_sales* - sales in Japan (millions of copies sold)\n",
    "* *Other_sales* - sales in other countries (millions of copies sold)\n",
    "* *Critic_Score* - critics score (maximum 100)\n",
    "* *User_Score* - user score (maximum 10)\n",
    "* *Rating* - a rating from the ESRB organization (Entertainment Software Rating Board). This association determines the rating of computer games and assigns them a suitable age category.\n",
    "\n",
    "Data for 2016 may be incomplete."
   ]
  },
  {
   "cell_type": "markdown",
   "metadata": {},
   "source": [
    "### Table of Content <a id='content'></a>\n",
    "\n",
    "[**1. Importing data and exploring general information.**](#step1)\n",
    "   * [*1.1 Import data.*](#step1.1)\n",
    "   * [*1.2 General information.*](#step1.2)\n",
    "   * [*1.3 Conclusion.*](#step1.3)\n",
    "\n",
    "\n",
    "[**2. Data preparation.**](#step2)\n",
    "   * [*2.1 Dealing with missing data.*](#step2.1)\n",
    "   * [*2.2 Convert data types.*](#step2.2)\n",
    "   * [*2.3 Feature engineering.*](#step2.3)\n",
    "   * [*2.4 Conclusion.*](#step2.4)\n",
    "   \n",
    "[**3. Data analytics.**](#step3)\n",
    "   * [*3.1 Exploratory data analysis.*](#step3.1)\n",
    "   * [*3.2 Conclusion.*](#step3.2)\n",
    "\n",
    "[**4. Analysis of users by region.**](#step4)\n",
    "   * [*4.1 User profile for each region.*](#step4.1)\n",
    "   * [*4.2 Conclusion.*](#step4.2)\n",
    "\n",
    "[**5. Hypothesis testing.**](#step5)\n",
    "   * [*5.1 Hypothesis 1 - Average user ratings for Xbox One and PC platforms are the same.*](#step5.1)\n",
    "   * [*5.2 Hypothesis 2 - The average user ratings of the Action and Sports genres are different.*](#step5.2)\n",
    "   * [*5.3 Conclusion.*](#step5.3)\n",
    "\n",
    "[**6. Summary.**](#step6)"
   ]
  },
  {
   "cell_type": "markdown",
   "metadata": {},
   "source": [
    "### 1. Importing data and exploring general information.  <a class=\"anchor\" id=\"step1\"></a>\n",
    "[back to table of content](#content)"
   ]
  },
  {
   "cell_type": "markdown",
   "metadata": {},
   "source": [
    "#### 1.1 Import data.  <a class=\"anchor\" id=\"step1.1\"></a>\n",
    "[back to table of content](#content)"
   ]
  },
  {
   "cell_type": "markdown",
   "metadata": {},
   "source": [
    "Importing libraries:"
   ]
  },
  {
   "cell_type": "code",
   "execution_count": 1,
   "metadata": {},
   "outputs": [],
   "source": [
    "import pandas as pd\n",
    "import numpy as np\n",
    "import seaborn as sns\n",
    "import matplotlib.pyplot as plt\n",
    "from scipy import stats as st"
   ]
  },
  {
   "cell_type": "markdown",
   "metadata": {},
   "source": [
    "We try to read files without additional arguments using the read_csv () method:"
   ]
  },
  {
   "cell_type": "code",
   "execution_count": 2,
   "metadata": {},
   "outputs": [],
   "source": [
    "df_games = pd.read_csv('games.csv')"
   ]
  },
  {
   "cell_type": "code",
   "execution_count": 3,
   "metadata": {},
   "outputs": [
    {
     "data": {
      "text/plain": [
       "(16715, 11)"
      ]
     },
     "execution_count": 3,
     "metadata": {},
     "output_type": "execute_result"
    }
   ],
   "source": [
    "# dataframe size\n",
    "df_games.shape"
   ]
  },
  {
   "cell_type": "markdown",
   "metadata": {},
   "source": [
    "#### 1.2 General information.  <a class=\"anchor\" id=\"step1.2\"></a>\n",
    "[back to table of content](#content)"
   ]
  },
  {
   "cell_type": "markdown",
   "metadata": {},
   "source": [
    "Let's see some random rows of the dataframe:"
   ]
  },
  {
   "cell_type": "code",
   "execution_count": 4,
   "metadata": {},
   "outputs": [
    {
     "data": {
      "text/html": [
       "<div>\n",
       "<style scoped>\n",
       "    .dataframe tbody tr th:only-of-type {\n",
       "        vertical-align: middle;\n",
       "    }\n",
       "\n",
       "    .dataframe tbody tr th {\n",
       "        vertical-align: top;\n",
       "    }\n",
       "\n",
       "    .dataframe thead th {\n",
       "        text-align: right;\n",
       "    }\n",
       "</style>\n",
       "<table border=\"1\" class=\"dataframe\">\n",
       "  <thead>\n",
       "    <tr style=\"text-align: right;\">\n",
       "      <th></th>\n",
       "      <th>Name</th>\n",
       "      <th>Platform</th>\n",
       "      <th>Year_of_Release</th>\n",
       "      <th>Genre</th>\n",
       "      <th>NA_sales</th>\n",
       "      <th>EU_sales</th>\n",
       "      <th>JP_sales</th>\n",
       "      <th>Other_sales</th>\n",
       "      <th>Critic_Score</th>\n",
       "      <th>User_Score</th>\n",
       "      <th>Rating</th>\n",
       "    </tr>\n",
       "  </thead>\n",
       "  <tbody>\n",
       "    <tr>\n",
       "      <th>11269</th>\n",
       "      <td>Princess Maker 2</td>\n",
       "      <td>SAT</td>\n",
       "      <td>1995.0</td>\n",
       "      <td>Simulation</td>\n",
       "      <td>0.00</td>\n",
       "      <td>0.00</td>\n",
       "      <td>0.08</td>\n",
       "      <td>0.00</td>\n",
       "      <td>NaN</td>\n",
       "      <td>NaN</td>\n",
       "      <td>NaN</td>\n",
       "    </tr>\n",
       "    <tr>\n",
       "      <th>8953</th>\n",
       "      <td>SpongeBob's Boating Bash</td>\n",
       "      <td>DS</td>\n",
       "      <td>2010.0</td>\n",
       "      <td>Misc</td>\n",
       "      <td>0.13</td>\n",
       "      <td>0.00</td>\n",
       "      <td>0.00</td>\n",
       "      <td>0.01</td>\n",
       "      <td>NaN</td>\n",
       "      <td>tbd</td>\n",
       "      <td>E</td>\n",
       "    </tr>\n",
       "    <tr>\n",
       "      <th>11604</th>\n",
       "      <td>X Rebirth</td>\n",
       "      <td>PC</td>\n",
       "      <td>2013.0</td>\n",
       "      <td>Simulation</td>\n",
       "      <td>0.00</td>\n",
       "      <td>0.08</td>\n",
       "      <td>0.00</td>\n",
       "      <td>0.00</td>\n",
       "      <td>33.0</td>\n",
       "      <td>3.3</td>\n",
       "      <td>T</td>\n",
       "    </tr>\n",
       "    <tr>\n",
       "      <th>16328</th>\n",
       "      <td>Double Sequence: The Q-Virus Invasion</td>\n",
       "      <td>DS</td>\n",
       "      <td>2008.0</td>\n",
       "      <td>Puzzle</td>\n",
       "      <td>0.01</td>\n",
       "      <td>0.00</td>\n",
       "      <td>0.00</td>\n",
       "      <td>0.00</td>\n",
       "      <td>37.0</td>\n",
       "      <td>tbd</td>\n",
       "      <td>E</td>\n",
       "    </tr>\n",
       "    <tr>\n",
       "      <th>516</th>\n",
       "      <td>BioShock</td>\n",
       "      <td>X360</td>\n",
       "      <td>2007.0</td>\n",
       "      <td>Shooter</td>\n",
       "      <td>1.65</td>\n",
       "      <td>0.85</td>\n",
       "      <td>0.05</td>\n",
       "      <td>0.28</td>\n",
       "      <td>96.0</td>\n",
       "      <td>8.9</td>\n",
       "      <td>M</td>\n",
       "    </tr>\n",
       "  </tbody>\n",
       "</table>\n",
       "</div>"
      ],
      "text/plain": [
       "                                        Name Platform  Year_of_Release  \\\n",
       "11269                       Princess Maker 2      SAT           1995.0   \n",
       "8953                SpongeBob's Boating Bash       DS           2010.0   \n",
       "11604                              X Rebirth       PC           2013.0   \n",
       "16328  Double Sequence: The Q-Virus Invasion       DS           2008.0   \n",
       "516                                 BioShock     X360           2007.0   \n",
       "\n",
       "            Genre  NA_sales  EU_sales  JP_sales  Other_sales  Critic_Score  \\\n",
       "11269  Simulation      0.00      0.00      0.08         0.00           NaN   \n",
       "8953         Misc      0.13      0.00      0.00         0.01           NaN   \n",
       "11604  Simulation      0.00      0.08      0.00         0.00          33.0   \n",
       "16328      Puzzle      0.01      0.00      0.00         0.00          37.0   \n",
       "516       Shooter      1.65      0.85      0.05         0.28          96.0   \n",
       "\n",
       "      User_Score Rating  \n",
       "11269        NaN    NaN  \n",
       "8953         tbd      E  \n",
       "11604        3.3      T  \n",
       "16328        tbd      E  \n",
       "516          8.9      M  "
      ]
     },
     "execution_count": 4,
     "metadata": {},
     "output_type": "execute_result"
    }
   ],
   "source": [
    "df_games.sample(5)"
   ]
  },
  {
   "cell_type": "code",
   "execution_count": 5,
   "metadata": {},
   "outputs": [
    {
     "name": "stdout",
     "output_type": "stream",
     "text": [
      "<class 'pandas.core.frame.DataFrame'>\n",
      "RangeIndex: 16715 entries, 0 to 16714\n",
      "Data columns (total 11 columns):\n",
      " #   Column           Non-Null Count  Dtype  \n",
      "---  ------           --------------  -----  \n",
      " 0   Name             16713 non-null  object \n",
      " 1   Platform         16715 non-null  object \n",
      " 2   Year_of_Release  16446 non-null  float64\n",
      " 3   Genre            16713 non-null  object \n",
      " 4   NA_sales         16715 non-null  float64\n",
      " 5   EU_sales         16715 non-null  float64\n",
      " 6   JP_sales         16715 non-null  float64\n",
      " 7   Other_sales      16715 non-null  float64\n",
      " 8   Critic_Score     8137 non-null   float64\n",
      " 9   User_Score       10014 non-null  object \n",
      " 10  Rating           9949 non-null   object \n",
      "dtypes: float64(6), object(5)\n",
      "memory usage: 1.4+ MB\n"
     ]
    }
   ],
   "source": [
    "df_games.info()"
   ]
  },
  {
   "cell_type": "code",
   "execution_count": 6,
   "metadata": {},
   "outputs": [
    {
     "data": {
      "text/plain": [
       "Critic_Score       8578\n",
       "Rating             6766\n",
       "User_Score         6701\n",
       "Year_of_Release     269\n",
       "Genre                 2\n",
       "Name                  2\n",
       "Other_sales           0\n",
       "JP_sales              0\n",
       "EU_sales              0\n",
       "NA_sales              0\n",
       "Platform              0\n",
       "dtype: int64"
      ]
     },
     "execution_count": 6,
     "metadata": {},
     "output_type": "execute_result"
    }
   ],
   "source": [
    "# number of missing values\n",
    "df_games.isnull().sum().sort_values(ascending=False)"
   ]
  },
  {
   "cell_type": "code",
   "execution_count": 7,
   "metadata": {},
   "outputs": [
    {
     "data": {
      "text/html": [
       "<div>\n",
       "<style scoped>\n",
       "    .dataframe tbody tr th:only-of-type {\n",
       "        vertical-align: middle;\n",
       "    }\n",
       "\n",
       "    .dataframe tbody tr th {\n",
       "        vertical-align: top;\n",
       "    }\n",
       "\n",
       "    .dataframe thead th {\n",
       "        text-align: right;\n",
       "    }\n",
       "</style>\n",
       "<table border=\"1\" class=\"dataframe\">\n",
       "  <thead>\n",
       "    <tr style=\"text-align: right;\">\n",
       "      <th></th>\n",
       "      <th>Name</th>\n",
       "      <th>Platform</th>\n",
       "      <th>Genre</th>\n",
       "      <th>User_Score</th>\n",
       "      <th>Rating</th>\n",
       "    </tr>\n",
       "  </thead>\n",
       "  <tbody>\n",
       "    <tr>\n",
       "      <th>count</th>\n",
       "      <td>16713</td>\n",
       "      <td>16715</td>\n",
       "      <td>16713</td>\n",
       "      <td>10014</td>\n",
       "      <td>9949</td>\n",
       "    </tr>\n",
       "    <tr>\n",
       "      <th>unique</th>\n",
       "      <td>11559</td>\n",
       "      <td>31</td>\n",
       "      <td>12</td>\n",
       "      <td>96</td>\n",
       "      <td>8</td>\n",
       "    </tr>\n",
       "    <tr>\n",
       "      <th>top</th>\n",
       "      <td>Need for Speed: Most Wanted</td>\n",
       "      <td>PS2</td>\n",
       "      <td>Action</td>\n",
       "      <td>tbd</td>\n",
       "      <td>E</td>\n",
       "    </tr>\n",
       "    <tr>\n",
       "      <th>freq</th>\n",
       "      <td>12</td>\n",
       "      <td>2161</td>\n",
       "      <td>3369</td>\n",
       "      <td>2424</td>\n",
       "      <td>3990</td>\n",
       "    </tr>\n",
       "  </tbody>\n",
       "</table>\n",
       "</div>"
      ],
      "text/plain": [
       "                               Name Platform   Genre User_Score Rating\n",
       "count                         16713    16715   16713      10014   9949\n",
       "unique                        11559       31      12         96      8\n",
       "top     Need for Speed: Most Wanted      PS2  Action        tbd      E\n",
       "freq                             12     2161    3369       2424   3990"
      ]
     },
     "execution_count": 7,
     "metadata": {},
     "output_type": "execute_result"
    }
   ],
   "source": [
    "#categorical data\n",
    "df_games.describe(include=['object'])"
   ]
  },
  {
   "cell_type": "markdown",
   "metadata": {},
   "source": [
    "Let's look visually at the numerical data using a boxplot. To do this, we create a function `plot_boxplot_sns ()` to automatically draw plots:"
   ]
  },
  {
   "cell_type": "code",
   "execution_count": 8,
   "metadata": {},
   "outputs": [],
   "source": [
    "def plot_boxplot_sns(data, column_name, ax_num, y_range=None):\n",
    "    fig = sns.boxplot(y = column_name, data=data, ax=ax_num)\n",
    "    fig.set(ylim=y_range)"
   ]
  },
  {
   "cell_type": "code",
   "execution_count": 9,
   "metadata": {},
   "outputs": [],
   "source": [
    "#select only numeric columns from the dataset\n",
    "numerical_columns   = [c for c in df_games.columns if df_games[c].dtype.name not in ['object', 'bool']]"
   ]
  },
  {
   "cell_type": "code",
   "execution_count": 10,
   "metadata": {},
   "outputs": [
    {
     "data": {
      "image/png": "[encoded data removed]",
      "text/plain": [
       "<Figure size 1224x720 with 6 Axes>"
      ]
     },
     "metadata": {
      "needs_background": "light"
     },
     "output_type": "display_data"
    }
   ],
   "source": [
    "#plot a  boxplot for each numeric column\n",
    "fig, axis = plt.subplots(ncols=3, nrows=2, figsize=(17, 10))\n",
    "ax = axis.ravel()\n",
    "for i in range(len(numerical_columns)):\n",
    "    plot_boxplot_sns(df_games, numerical_columns[i], ax[i])"
   ]
  },
  {
   "cell_type": "markdown",
   "metadata": {},
   "source": [
    "#### 1.3 Conclusion.  <a class=\"anchor\" id=\"step1.3\"></a>\n",
    "[back to table of content](#content)"
   ]
  },
  {
   "cell_type": "markdown",
   "metadata": {},
   "source": [
    "* the dataset contains 16715 records and 11 columns\n",
    "* a lot of missing data in ratings and scores\n",
    "* 31 platforms and 12 genres of games\n",
    "* many outliers in sales\n",
    "* most of the data is for the period 1994 - 2016\n",
    "* string data should be transformed to lowercase"
   ]
  },
  {
   "cell_type": "markdown",
   "metadata": {},
   "source": [
    "### 2. Data preparation.  <a class=\"anchor\" id=\"step2\"></a>\n",
    "[back to table of content](#content)"
   ]
  },
  {
   "cell_type": "code",
   "execution_count": 11,
   "metadata": {},
   "outputs": [],
   "source": [
    "#copy of the dataframe for further work\n",
    "df_games_prep = df_games.copy()"
   ]
  },
  {
   "cell_type": "code",
   "execution_count": 12,
   "metadata": {},
   "outputs": [],
   "source": [
    "# the total number of lines in the original dataset\n",
    "init_row_count = df_games.shape[0]"
   ]
  },
  {
   "cell_type": "markdown",
   "metadata": {},
   "source": [
    "Let's convert the column names to lowercase:"
   ]
  },
  {
   "cell_type": "code",
   "execution_count": 13,
   "metadata": {},
   "outputs": [],
   "source": [
    "df_games_prep.columns = df_games_prep.columns.str.lower()"
   ]
  },
  {
   "cell_type": "code",
   "execution_count": 14,
   "metadata": {},
   "outputs": [
    {
     "data": {
      "text/plain": [
       "Index(['name', 'platform', 'year_of_release', 'genre', 'na_sales', 'eu_sales',\n",
       "       'jp_sales', 'other_sales', 'critic_score', 'user_score', 'rating'],\n",
       "      dtype='object')"
      ]
     },
     "execution_count": 14,
     "metadata": {},
     "output_type": "execute_result"
    }
   ],
   "source": [
    "df_games_prep.columns"
   ]
  },
  {
   "cell_type": "markdown",
   "metadata": {},
   "source": [
    "Let's also convert all values in string columns to lower case:"
   ]
  },
  {
   "cell_type": "code",
   "execution_count": 15,
   "metadata": {},
   "outputs": [],
   "source": [
    "#select only string columns from the dataset\n",
    "str_columns   = [c for c in df_games_prep.columns if df_games_prep[c].dtype.name in ['object', 'bool']]"
   ]
  },
  {
   "cell_type": "code",
   "execution_count": 16,
   "metadata": {},
   "outputs": [],
   "source": [
    "for column in str_columns:\n",
    "    df_games_prep[column] = df_games_prep[column].str.lower()"
   ]
  },
  {
   "cell_type": "code",
   "execution_count": 17,
   "metadata": {},
   "outputs": [
    {
     "data": {
      "text/html": [
       "<div>\n",
       "<style scoped>\n",
       "    .dataframe tbody tr th:only-of-type {\n",
       "        vertical-align: middle;\n",
       "    }\n",
       "\n",
       "    .dataframe tbody tr th {\n",
       "        vertical-align: top;\n",
       "    }\n",
       "\n",
       "    .dataframe thead th {\n",
       "        text-align: right;\n",
       "    }\n",
       "</style>\n",
       "<table border=\"1\" class=\"dataframe\">\n",
       "  <thead>\n",
       "    <tr style=\"text-align: right;\">\n",
       "      <th></th>\n",
       "      <th>name</th>\n",
       "      <th>platform</th>\n",
       "      <th>year_of_release</th>\n",
       "      <th>genre</th>\n",
       "      <th>na_sales</th>\n",
       "      <th>eu_sales</th>\n",
       "      <th>jp_sales</th>\n",
       "      <th>other_sales</th>\n",
       "      <th>critic_score</th>\n",
       "      <th>user_score</th>\n",
       "      <th>rating</th>\n",
       "    </tr>\n",
       "  </thead>\n",
       "  <tbody>\n",
       "    <tr>\n",
       "      <th>16712</th>\n",
       "      <td>haitaka no psychedelica</td>\n",
       "      <td>psv</td>\n",
       "      <td>2016.0</td>\n",
       "      <td>adventure</td>\n",
       "      <td>0.00</td>\n",
       "      <td>0.0</td>\n",
       "      <td>0.01</td>\n",
       "      <td>0.0</td>\n",
       "      <td>NaN</td>\n",
       "      <td>NaN</td>\n",
       "      <td>NaN</td>\n",
       "    </tr>\n",
       "    <tr>\n",
       "      <th>16713</th>\n",
       "      <td>spirits &amp; spells</td>\n",
       "      <td>gba</td>\n",
       "      <td>2003.0</td>\n",
       "      <td>platform</td>\n",
       "      <td>0.01</td>\n",
       "      <td>0.0</td>\n",
       "      <td>0.00</td>\n",
       "      <td>0.0</td>\n",
       "      <td>NaN</td>\n",
       "      <td>NaN</td>\n",
       "      <td>NaN</td>\n",
       "    </tr>\n",
       "    <tr>\n",
       "      <th>16714</th>\n",
       "      <td>winning post 8 2016</td>\n",
       "      <td>psv</td>\n",
       "      <td>2016.0</td>\n",
       "      <td>simulation</td>\n",
       "      <td>0.00</td>\n",
       "      <td>0.0</td>\n",
       "      <td>0.01</td>\n",
       "      <td>0.0</td>\n",
       "      <td>NaN</td>\n",
       "      <td>NaN</td>\n",
       "      <td>NaN</td>\n",
       "    </tr>\n",
       "  </tbody>\n",
       "</table>\n",
       "</div>"
      ],
      "text/plain": [
       "                          name platform  year_of_release       genre  \\\n",
       "16712  haitaka no psychedelica      psv           2016.0   adventure   \n",
       "16713         spirits & spells      gba           2003.0    platform   \n",
       "16714      winning post 8 2016      psv           2016.0  simulation   \n",
       "\n",
       "       na_sales  eu_sales  jp_sales  other_sales  critic_score user_score  \\\n",
       "16712      0.00       0.0      0.01          0.0           NaN        NaN   \n",
       "16713      0.01       0.0      0.00          0.0           NaN        NaN   \n",
       "16714      0.00       0.0      0.01          0.0           NaN        NaN   \n",
       "\n",
       "      rating  \n",
       "16712    NaN  \n",
       "16713    NaN  \n",
       "16714    NaN  "
      ]
     },
     "execution_count": 17,
     "metadata": {},
     "output_type": "execute_result"
    }
   ],
   "source": [
    "df_games_prep.tail(3)"
   ]
  },
  {
   "cell_type": "markdown",
   "metadata": {},
   "source": [
    "#### 2.1 Dealing with missing data.  <a class=\"anchor\" id=\"step2.1\"></a>\n",
    "[back to table of content](#content)"
   ]
  },
  {
   "cell_type": "markdown",
   "metadata": {},
   "source": [
    "Let's check the dataset for missing values using the `missing_data ()` function, which takes a dataframe and returns a table with the number of missing values for each column:"
   ]
  },
  {
   "cell_type": "code",
   "execution_count": 18,
   "metadata": {},
   "outputs": [],
   "source": [
    "def missing_data(data):\n",
    "    total = data.isnull().sum().sort_values(ascending = False)\n",
    "    percent = (data.isnull().sum()/data.isnull().count()*100).sort_values(ascending = False).round(1).astype(float)\n",
    "    return pd.concat([total, percent], axis=1, keys=['Total', 'Percent']).reset_index()"
   ]
  },
  {
   "cell_type": "code",
   "execution_count": 19,
   "metadata": {
    "scrolled": true
   },
   "outputs": [
    {
     "data": {
      "text/html": [
       "<div>\n",
       "<style scoped>\n",
       "    .dataframe tbody tr th:only-of-type {\n",
       "        vertical-align: middle;\n",
       "    }\n",
       "\n",
       "    .dataframe tbody tr th {\n",
       "        vertical-align: top;\n",
       "    }\n",
       "\n",
       "    .dataframe thead th {\n",
       "        text-align: right;\n",
       "    }\n",
       "</style>\n",
       "<table border=\"1\" class=\"dataframe\">\n",
       "  <thead>\n",
       "    <tr style=\"text-align: right;\">\n",
       "      <th></th>\n",
       "      <th>index</th>\n",
       "      <th>Total</th>\n",
       "      <th>Percent</th>\n",
       "    </tr>\n",
       "  </thead>\n",
       "  <tbody>\n",
       "    <tr>\n",
       "      <th>0</th>\n",
       "      <td>critic_score</td>\n",
       "      <td>8578</td>\n",
       "      <td>51.3</td>\n",
       "    </tr>\n",
       "    <tr>\n",
       "      <th>1</th>\n",
       "      <td>rating</td>\n",
       "      <td>6766</td>\n",
       "      <td>40.5</td>\n",
       "    </tr>\n",
       "    <tr>\n",
       "      <th>2</th>\n",
       "      <td>user_score</td>\n",
       "      <td>6701</td>\n",
       "      <td>40.1</td>\n",
       "    </tr>\n",
       "    <tr>\n",
       "      <th>3</th>\n",
       "      <td>year_of_release</td>\n",
       "      <td>269</td>\n",
       "      <td>1.6</td>\n",
       "    </tr>\n",
       "    <tr>\n",
       "      <th>4</th>\n",
       "      <td>genre</td>\n",
       "      <td>2</td>\n",
       "      <td>0.0</td>\n",
       "    </tr>\n",
       "    <tr>\n",
       "      <th>5</th>\n",
       "      <td>name</td>\n",
       "      <td>2</td>\n",
       "      <td>0.0</td>\n",
       "    </tr>\n",
       "    <tr>\n",
       "      <th>6</th>\n",
       "      <td>other_sales</td>\n",
       "      <td>0</td>\n",
       "      <td>0.0</td>\n",
       "    </tr>\n",
       "    <tr>\n",
       "      <th>7</th>\n",
       "      <td>jp_sales</td>\n",
       "      <td>0</td>\n",
       "      <td>0.0</td>\n",
       "    </tr>\n",
       "    <tr>\n",
       "      <th>8</th>\n",
       "      <td>eu_sales</td>\n",
       "      <td>0</td>\n",
       "      <td>0.0</td>\n",
       "    </tr>\n",
       "    <tr>\n",
       "      <th>9</th>\n",
       "      <td>na_sales</td>\n",
       "      <td>0</td>\n",
       "      <td>0.0</td>\n",
       "    </tr>\n",
       "    <tr>\n",
       "      <th>10</th>\n",
       "      <td>platform</td>\n",
       "      <td>0</td>\n",
       "      <td>0.0</td>\n",
       "    </tr>\n",
       "  </tbody>\n",
       "</table>\n",
       "</div>"
      ],
      "text/plain": [
       "              index  Total  Percent\n",
       "0      critic_score   8578     51.3\n",
       "1            rating   6766     40.5\n",
       "2        user_score   6701     40.1\n",
       "3   year_of_release    269      1.6\n",
       "4             genre      2      0.0\n",
       "5              name      2      0.0\n",
       "6       other_sales      0      0.0\n",
       "7          jp_sales      0      0.0\n",
       "8          eu_sales      0      0.0\n",
       "9          na_sales      0      0.0\n",
       "10         platform      0      0.0"
      ]
     },
     "execution_count": 19,
     "metadata": {},
     "output_type": "execute_result"
    }
   ],
   "source": [
    "missing_data(df_games_prep)"
   ]
  },
  {
   "cell_type": "code",
   "execution_count": 20,
   "metadata": {},
   "outputs": [],
   "source": [
    "#how many missing values we had in the original dataset\n",
    "init_nan_count = missing_data(df_games_prep)['Total'].sum()+df_games[df_games['User_Score'] == 'tbd'].shape[0]"
   ]
  },
  {
   "cell_type": "markdown",
   "metadata": {},
   "source": [
    "Let's start small and remove the gaps with the title and genre, since they are definitely useless for analysis:"
   ]
  },
  {
   "cell_type": "code",
   "execution_count": 21,
   "metadata": {},
   "outputs": [],
   "source": [
    "df_games_prep = df_games_prep.dropna(subset=['genre', 'name'])"
   ]
  },
  {
   "cell_type": "markdown",
   "metadata": {},
   "source": [
    "Missing data in year_of_release can be populated with data from other platforms for the same game, if present. All the gaps will not fill up like this, but we will reduce data loss. For this, we create a function `fill_missing_data ()` which will iterate over the dataframe line by line for empty values in the specified column and return the value processed by the specified function on data from other platforms, if information is present, otherwise the missing value is left."
   ]
  },
  {
   "cell_type": "code",
   "execution_count": 22,
   "metadata": {},
   "outputs": [],
   "source": [
    "def fill_missing_data(row, df, column, fill_func):\n",
    "    try:\n",
    "        if pd.isna(row[column]):\n",
    "            if fill_func in ['mean', 'median', 'min', 'max']:\n",
    "                fill_value = df[df['name'] == row['name']][column].agg(fill_func)\n",
    "                if not pd.isna(fill_value):\n",
    "                    return fill_value\n",
    "            elif fill_func == 'mode':\n",
    "                fill_value = df[df['name'] == row['name']][column].agg(fill_func).to_list()\n",
    "                if len(fill_value) != 0:\n",
    "                    return fill_value[0]\n",
    "        else:\n",
    "            return row[column]\n",
    "    except Exception as error:\n",
    "        print('Filling values failed with error: \"{}\"'.format(error))"
   ]
  },
  {
   "cell_type": "code",
   "execution_count": 23,
   "metadata": {},
   "outputs": [],
   "source": [
    "#fill in the missing data in year_of_release with a function as much as possible:\n",
    "df_games_prep['year_of_release'] = df_games_prep.apply(lambda row: fill_missing_data(row, df_games_prep, 'year_of_release', 'mean'), axis=1)"
   ]
  },
  {
   "cell_type": "code",
   "execution_count": 24,
   "metadata": {},
   "outputs": [
    {
     "data": {
      "text/html": [
       "<div>\n",
       "<style scoped>\n",
       "    .dataframe tbody tr th:only-of-type {\n",
       "        vertical-align: middle;\n",
       "    }\n",
       "\n",
       "    .dataframe tbody tr th {\n",
       "        vertical-align: top;\n",
       "    }\n",
       "\n",
       "    .dataframe thead th {\n",
       "        text-align: right;\n",
       "    }\n",
       "</style>\n",
       "<table border=\"1\" class=\"dataframe\">\n",
       "  <thead>\n",
       "    <tr style=\"text-align: right;\">\n",
       "      <th></th>\n",
       "      <th>index</th>\n",
       "      <th>Total</th>\n",
       "      <th>Percent</th>\n",
       "    </tr>\n",
       "  </thead>\n",
       "  <tbody>\n",
       "    <tr>\n",
       "      <th>0</th>\n",
       "      <td>critic_score</td>\n",
       "      <td>8576</td>\n",
       "      <td>51.3</td>\n",
       "    </tr>\n",
       "    <tr>\n",
       "      <th>1</th>\n",
       "      <td>rating</td>\n",
       "      <td>6764</td>\n",
       "      <td>40.5</td>\n",
       "    </tr>\n",
       "    <tr>\n",
       "      <th>2</th>\n",
       "      <td>user_score</td>\n",
       "      <td>6699</td>\n",
       "      <td>40.1</td>\n",
       "    </tr>\n",
       "    <tr>\n",
       "      <th>3</th>\n",
       "      <td>year_of_release</td>\n",
       "      <td>146</td>\n",
       "      <td>0.9</td>\n",
       "    </tr>\n",
       "    <tr>\n",
       "      <th>4</th>\n",
       "      <td>other_sales</td>\n",
       "      <td>0</td>\n",
       "      <td>0.0</td>\n",
       "    </tr>\n",
       "    <tr>\n",
       "      <th>5</th>\n",
       "      <td>jp_sales</td>\n",
       "      <td>0</td>\n",
       "      <td>0.0</td>\n",
       "    </tr>\n",
       "    <tr>\n",
       "      <th>6</th>\n",
       "      <td>eu_sales</td>\n",
       "      <td>0</td>\n",
       "      <td>0.0</td>\n",
       "    </tr>\n",
       "    <tr>\n",
       "      <th>7</th>\n",
       "      <td>na_sales</td>\n",
       "      <td>0</td>\n",
       "      <td>0.0</td>\n",
       "    </tr>\n",
       "    <tr>\n",
       "      <th>8</th>\n",
       "      <td>genre</td>\n",
       "      <td>0</td>\n",
       "      <td>0.0</td>\n",
       "    </tr>\n",
       "    <tr>\n",
       "      <th>9</th>\n",
       "      <td>platform</td>\n",
       "      <td>0</td>\n",
       "      <td>0.0</td>\n",
       "    </tr>\n",
       "    <tr>\n",
       "      <th>10</th>\n",
       "      <td>name</td>\n",
       "      <td>0</td>\n",
       "      <td>0.0</td>\n",
       "    </tr>\n",
       "  </tbody>\n",
       "</table>\n",
       "</div>"
      ],
      "text/plain": [
       "              index  Total  Percent\n",
       "0      critic_score   8576     51.3\n",
       "1            rating   6764     40.5\n",
       "2        user_score   6699     40.1\n",
       "3   year_of_release    146      0.9\n",
       "4       other_sales      0      0.0\n",
       "5          jp_sales      0      0.0\n",
       "6          eu_sales      0      0.0\n",
       "7          na_sales      0      0.0\n",
       "8             genre      0      0.0\n",
       "9          platform      0      0.0\n",
       "10             name      0      0.0"
      ]
     },
     "execution_count": 24,
     "metadata": {},
     "output_type": "execute_result"
    }
   ],
   "source": [
    "missing_data(df_games_prep)"
   ]
  },
  {
   "cell_type": "markdown",
   "metadata": {},
   "source": [
    "Not perfect, but almost half of the gaps were filled using information on other platforms. The remaining gaps cannot be filled in automatically without additional data, we will leave them."
   ]
  },
  {
   "cell_type": "code",
   "execution_count": 25,
   "metadata": {},
   "outputs": [
    {
     "data": {
      "text/plain": [
       "count     10014\n",
       "unique       96\n",
       "top         tbd\n",
       "freq       2424\n",
       "Name: user_score, dtype: object"
      ]
     },
     "execution_count": 25,
     "metadata": {},
     "output_type": "execute_result"
    }
   ],
   "source": [
    "#let's look at the values in the user rating column\n",
    "df_games_prep.describe(include=['object'])['user_score']"
   ]
  },
  {
   "cell_type": "markdown",
   "metadata": {},
   "source": [
    "The string values *tbd* here most likely mean *to be defined / to be determined*, which in turn may mean that there is no user rating for the game at the time of data upload. First, replace *tbd* with gaps like *np.nan*, and then try to fill in the gaps with averages for other platforms, if information is present."
   ]
  },
  {
   "cell_type": "code",
   "execution_count": 26,
   "metadata": {},
   "outputs": [],
   "source": [
    "df_games_prep['user_score'].replace(to_replace='tbd', value=np.nan, inplace=True)"
   ]
  },
  {
   "cell_type": "code",
   "execution_count": 27,
   "metadata": {},
   "outputs": [
    {
     "data": {
      "text/plain": [
       "array(['8', nan, '8.3', '8.5', '6.6', '8.4', '8.6', '7.7', '6.3', '7.4',\n",
       "       '8.2', '9', '7.9', '8.1', '8.7', '7.1', '3.4', '5.3', '4.8', '3.2',\n",
       "       '8.9', '6.4', '7.8', '7.5', '2.6', '7.2', '9.2', '7', '7.3', '4.3',\n",
       "       '7.6', '5.7', '5', '9.1', '6.5', '8.8', '6.9', '9.4', '6.8', '6.1',\n",
       "       '6.7', '5.4', '4', '4.9', '4.5', '9.3', '6.2', '4.2', '6', '3.7',\n",
       "       '4.1', '5.8', '5.6', '5.5', '4.4', '4.6', '5.9', '3.9', '3.1',\n",
       "       '2.9', '5.2', '3.3', '4.7', '5.1', '3.5', '2.5', '1.9', '3', '2.7',\n",
       "       '2.2', '2', '9.5', '2.1', '3.6', '2.8', '1.8', '3.8', '0', '1.6',\n",
       "       '9.6', '2.4', '1.7', '1.1', '0.3', '1.5', '0.7', '1.2', '2.3',\n",
       "       '0.5', '1.3', '0.2', '0.6', '1.4', '0.9', '1', '9.7'], dtype=object)"
      ]
     },
     "execution_count": 27,
     "metadata": {},
     "output_type": "execute_result"
    }
   ],
   "source": [
    "#let's see if there are any more string values\n",
    "df_games_prep['user_score'].unique()"
   ]
  },
  {
   "cell_type": "code",
   "execution_count": 28,
   "metadata": {},
   "outputs": [],
   "source": [
    "#some numbers in str format, let's convert everything to numeric format\n",
    "df_games_prep['user_score'] = pd.to_numeric(df_games_prep['user_score'])"
   ]
  },
  {
   "cell_type": "code",
   "execution_count": 29,
   "metadata": {},
   "outputs": [
    {
     "name": "stdout",
     "output_type": "stream",
     "text": [
      "CPU times: user 11 s, sys: 3.46 ms, total: 11 s\n",
      "Wall time: 11.1 s\n"
     ]
    }
   ],
   "source": [
    "%%time\n",
    "#fill in the gaps in 'user_score' by analogy with the year of issue\n",
    "df_games_prep['user_score'] = df_games_prep.apply(lambda row: fill_missing_data(row, df_games_prep, 'user_score', 'mean'), axis=1)"
   ]
  },
  {
   "cell_type": "markdown",
   "metadata": {},
   "source": [
    "Now let's fill in the gaps in *critic_score* and *rating* according to the same principle, only for the rating we take the mode instead of the average:"
   ]
  },
  {
   "cell_type": "code",
   "execution_count": 30,
   "metadata": {},
   "outputs": [
    {
     "name": "stdout",
     "output_type": "stream",
     "text": [
      "CPU times: user 19 s, sys: 16.1 ms, total: 19.1 s\n",
      "Wall time: 19.1 s\n"
     ]
    }
   ],
   "source": [
    "%%time\n",
    "df_games_prep['critic_score'] = df_games_prep.apply(lambda row: fill_missing_data(row, df_games_prep, 'critic_score', 'mean'), axis=1)\n",
    "df_games_prep['rating'] = df_games_prep.apply(lambda row: fill_missing_data(row, df_games_prep, 'rating', 'mode'), axis=1)"
   ]
  },
  {
   "cell_type": "markdown",
   "metadata": {},
   "source": [
    "Now let's calculate how much data we deleted in this step:"
   ]
  },
  {
   "cell_type": "code",
   "execution_count": 31,
   "metadata": {},
   "outputs": [
    {
     "name": "stdout",
     "output_type": "stream",
     "text": [
      "In this chapter we deleted 0.01% of the original dataset.\n"
     ]
    }
   ],
   "source": [
    "#The total number of rows after processing\n",
    "act_row_count = df_games_prep.shape[0]\n",
    "print('In this chapter we deleted {:.2%} of the original dataset.'.format((init_row_count - act_row_count) / init_row_count))"
   ]
  },
  {
   "cell_type": "markdown",
   "metadata": {},
   "source": [
    "Now let's count how much missing data we filled in:"
   ]
  },
  {
   "cell_type": "code",
   "execution_count": 32,
   "metadata": {},
   "outputs": [
    {
     "name": "stdout",
     "output_type": "stream",
     "text": [
      "In this chapter, we have reduced the amount of missing data by 10.6%.\n"
     ]
    }
   ],
   "source": [
    "act_nan_count = missing_data(df_games_prep)['Total'].sum()\n",
    "print('In this chapter, we have reduced the amount of missing data by {:.1%}.'.format((init_nan_count - act_nan_count) / init_nan_count))"
   ]
  },
  {
   "cell_type": "markdown",
   "metadata": {},
   "source": [
    "Let's replace the empty gaps in *rating* with the string \"unknown\":"
   ]
  },
  {
   "cell_type": "code",
   "execution_count": 33,
   "metadata": {},
   "outputs": [],
   "source": [
    "df_games_prep['rating'].replace(np.nan, 'unknown', inplace=True)"
   ]
  },
  {
   "cell_type": "markdown",
   "metadata": {},
   "source": [
    "The remaining missing data cannot be intelligently filled in without additional data, except by manually googling each game. Therefore, we will not touch it."
   ]
  },
  {
   "cell_type": "code",
   "execution_count": 34,
   "metadata": {},
   "outputs": [
    {
     "data": {
      "text/plain": [
       "0"
      ]
     },
     "execution_count": 34,
     "metadata": {},
     "output_type": "execute_result"
    }
   ],
   "source": [
    "#check for duplicates\n",
    "df_games_prep.duplicated().sum()"
   ]
  },
  {
   "cell_type": "markdown",
   "metadata": {},
   "source": [
    "Дубликатов нет."
   ]
  },
  {
   "cell_type": "markdown",
   "metadata": {},
   "source": [
    "#### 2.2 Convert data types.  <a class=\"anchor\" id=\"step2.2\"></a>\n",
    "[back to table of content](#content)"
   ]
  },
  {
   "cell_type": "markdown",
   "metadata": {},
   "source": [
    "Let's convert the data types in the columns as follows:\n",
    "\n",
    "* *year_of_release*: to int type since year is an integer\n",
    "* *critic_score*: into int type, since with a 100-point scale, the values after the decimal point have almost no effect on the assessment\n",
    "* the sales columns will be left in float, as these are millions of copies sold and the digits after the decimal point may be significant\n",
    "* string data remains unchanged"
   ]
  },
  {
   "cell_type": "code",
   "execution_count": 35,
   "metadata": {},
   "outputs": [],
   "source": [
    "#let's fill the missing values with zeros so that there is no error when converting the data type\n",
    "df_games_prep['year_of_release'].fillna(value=0, inplace=True)\n",
    "df_games_prep['year_of_release'] = df_games_prep['year_of_release'].astype(int)\n",
    "df_games_prep['critic_score'].fillna(value=0, inplace=True)\n",
    "df_games_prep['critic_score'] = df_games_prep['critic_score'].astype(int)\n",
    "df_games_prep['user_score'].fillna(value=0, inplace=True)"
   ]
  },
  {
   "cell_type": "markdown",
   "metadata": {},
   "source": [
    "#### 2.3 Feature engineering.  <a class=\"anchor\" id=\"step2.3\"></a>\n",
    "[back to table of content](#content)"
   ]
  },
  {
   "cell_type": "markdown",
   "metadata": {},
   "source": [
    "Let's calculate the total sales in a separate column:"
   ]
  },
  {
   "cell_type": "code",
   "execution_count": 36,
   "metadata": {},
   "outputs": [],
   "source": [
    "df_games_prep['total_sales'] = df_games_prep[['na_sales', 'eu_sales', 'jp_sales', 'other_sales']].sum(axis=1)"
   ]
  },
  {
   "cell_type": "code",
   "execution_count": 37,
   "metadata": {},
   "outputs": [
    {
     "data": {
      "text/html": [
       "<div>\n",
       "<style scoped>\n",
       "    .dataframe tbody tr th:only-of-type {\n",
       "        vertical-align: middle;\n",
       "    }\n",
       "\n",
       "    .dataframe tbody tr th {\n",
       "        vertical-align: top;\n",
       "    }\n",
       "\n",
       "    .dataframe thead th {\n",
       "        text-align: right;\n",
       "    }\n",
       "</style>\n",
       "<table border=\"1\" class=\"dataframe\">\n",
       "  <thead>\n",
       "    <tr style=\"text-align: right;\">\n",
       "      <th></th>\n",
       "      <th>na_sales</th>\n",
       "      <th>eu_sales</th>\n",
       "      <th>jp_sales</th>\n",
       "      <th>other_sales</th>\n",
       "      <th>total_sales</th>\n",
       "    </tr>\n",
       "  </thead>\n",
       "  <tbody>\n",
       "    <tr>\n",
       "      <th>12841</th>\n",
       "      <td>0.04</td>\n",
       "      <td>0.01</td>\n",
       "      <td>0.00</td>\n",
       "      <td>0.00</td>\n",
       "      <td>0.05</td>\n",
       "    </tr>\n",
       "    <tr>\n",
       "      <th>7049</th>\n",
       "      <td>0.09</td>\n",
       "      <td>0.11</td>\n",
       "      <td>0.00</td>\n",
       "      <td>0.02</td>\n",
       "      <td>0.22</td>\n",
       "    </tr>\n",
       "    <tr>\n",
       "      <th>15600</th>\n",
       "      <td>0.00</td>\n",
       "      <td>0.00</td>\n",
       "      <td>0.02</td>\n",
       "      <td>0.00</td>\n",
       "      <td>0.02</td>\n",
       "    </tr>\n",
       "  </tbody>\n",
       "</table>\n",
       "</div>"
      ],
      "text/plain": [
       "       na_sales  eu_sales  jp_sales  other_sales  total_sales\n",
       "12841      0.04      0.01      0.00         0.00         0.05\n",
       "7049       0.09      0.11      0.00         0.02         0.22\n",
       "15600      0.00      0.00      0.02         0.00         0.02"
      ]
     },
     "execution_count": 37,
     "metadata": {},
     "output_type": "execute_result"
    }
   ],
   "source": [
    "df_games_prep[['na_sales', 'eu_sales', 'jp_sales', 'other_sales', 'total_sales']].sample(3)"
   ]
  },
  {
   "cell_type": "markdown",
   "metadata": {},
   "source": [
    "In a separate column, add the decoding of the *rating* column according to data from the official website www.esrb.org. The \"k-a\" category has been equated to \"e\" since 1998, so we will refer to it as \"e\"."
   ]
  },
  {
   "cell_type": "code",
   "execution_count": 38,
   "metadata": {},
   "outputs": [
    {
     "data": {
      "text/plain": [
       "array(['e', 'unknown', 'm', 't', 'e10+', 'k-a', 'ao', 'ec', 'rp'],\n",
       "      dtype=object)"
      ]
     },
     "execution_count": 38,
     "metadata": {},
     "output_type": "execute_result"
    }
   ],
   "source": [
    "df_games_prep['rating'].unique()"
   ]
  },
  {
   "cell_type": "code",
   "execution_count": 39,
   "metadata": {},
   "outputs": [],
   "source": [
    "#a dictionary describing the meaning of each rating category\n",
    "rating_dict = {'e': 'for all', 'unknown': 'unknown', 'm': 'for adults',\n",
    "              't': 'for teenagers', 'e10+': 'from 10 years and older',\n",
    "              'k-a': 'for all', 'ao': 'only for adults', 'ec': 'for young children',\n",
    "              'rp': 'rating expected'}"
   ]
  },
  {
   "cell_type": "code",
   "execution_count": 40,
   "metadata": {},
   "outputs": [],
   "source": [
    "#copy the rating column and change the values using map() method\n",
    "df_games_prep['rating_description'] = df_games_prep['rating']\n",
    "df_games_prep['rating_description'] = df_games_prep['rating_description'].map(rating_dict)"
   ]
  },
  {
   "cell_type": "code",
   "execution_count": 41,
   "metadata": {},
   "outputs": [
    {
     "data": {
      "text/html": [
       "<div>\n",
       "<style scoped>\n",
       "    .dataframe tbody tr th:only-of-type {\n",
       "        vertical-align: middle;\n",
       "    }\n",
       "\n",
       "    .dataframe tbody tr th {\n",
       "        vertical-align: top;\n",
       "    }\n",
       "\n",
       "    .dataframe thead th {\n",
       "        text-align: right;\n",
       "    }\n",
       "</style>\n",
       "<table border=\"1\" class=\"dataframe\">\n",
       "  <thead>\n",
       "    <tr style=\"text-align: right;\">\n",
       "      <th></th>\n",
       "      <th>rating</th>\n",
       "      <th>rating_description</th>\n",
       "    </tr>\n",
       "  </thead>\n",
       "  <tbody>\n",
       "    <tr>\n",
       "      <th>0</th>\n",
       "      <td>e</td>\n",
       "      <td>for all</td>\n",
       "    </tr>\n",
       "    <tr>\n",
       "      <th>1</th>\n",
       "      <td>unknown</td>\n",
       "      <td>unknown</td>\n",
       "    </tr>\n",
       "    <tr>\n",
       "      <th>2</th>\n",
       "      <td>e</td>\n",
       "      <td>for all</td>\n",
       "    </tr>\n",
       "  </tbody>\n",
       "</table>\n",
       "</div>"
      ],
      "text/plain": [
       "    rating rating_description\n",
       "0        e            for all\n",
       "1  unknown            unknown\n",
       "2        e            for all"
      ]
     },
     "execution_count": 41,
     "metadata": {},
     "output_type": "execute_result"
    }
   ],
   "source": [
    "df_games_prep[['rating', 'rating_description']].head(3)"
   ]
  },
  {
   "cell_type": "markdown",
   "metadata": {},
   "source": [
    "#### 2.4 Conclusion.  <a class=\"anchor\" id=\"step2.4\"></a>\n",
    "[back to table of content](#content)"
   ]
  },
  {
   "cell_type": "markdown",
   "metadata": {},
   "source": [
    "* there is a lot of missing values in the data, especially in terms of ratings and ratings. We partially filled in the gaps with an average value or mod if there was information from other platforms for the same game. The remaining gaps were left (filled with zeros), since they cannot be restored without additional information.\n",
    "* column names and all string data have been converted to lower case for easier work\n",
    "* entries without the name of the game and genre have been removed, this is approximately 0.01% of the entire dataset\n",
    "* the remaining gaps in the * rating * column were filled with the string 'unknown'\n",
    "* columns * year_of_release * and * critic_score * were cast to int type, the rest of the data were left in their types, as after import\n",
    "* additional signs were added: a column with the amount of sales and a decoding of the rating from the ESRB\n",
    "* possible reasons for the gaps:\n",
    "    * many older games do not have ESRB ratings, as this agency only started operating in 1994\n",
    "    * the data was clearly collected from different sources into one table and information could be lost during the merge\n",
    "    * ratings from users and critics are probably difficult to collect automatically or they were not yet available at the time of data collection"
   ]
  },
  {
   "cell_type": "markdown",
   "metadata": {},
   "source": [
    "### 3. Data analytics.  <a class=\"anchor\" id=\"step3\"></a>\n",
    "[back to table of content](#content)"
   ]
  },
  {
   "cell_type": "code",
   "execution_count": 42,
   "metadata": {},
   "outputs": [],
   "source": [
    "#copy of the dataframe for further work\n",
    "df_games_analyse = df_games_prep.copy()"
   ]
  },
  {
   "cell_type": "markdown",
   "metadata": {},
   "source": [
    "Let's see how many games were released per year:"
   ]
  },
  {
   "cell_type": "code",
   "execution_count": 43,
   "metadata": {},
   "outputs": [
    {
     "data": {
      "text/plain": [
       "Text(0.5, 1.0, 'How many games were released per year')"
      ]
     },
     "execution_count": 43,
     "metadata": {},
     "output_type": "execute_result"
    },
    {
     "data": {
      "image/png": "[encoded data removed]",
      "text/plain": [
       "<Figure size 360x360 with 1 Axes>"
      ]
     },
     "metadata": {
      "needs_background": "light"
     },
     "output_type": "display_data"
    }
   ],
   "source": [
    "sns.displot(df_games_analyse[df_games_analyse['year_of_release'] != 0].reset_index()['year_of_release'])\n",
    "plt.title('How many games were released per year')"
   ]
  },
  {
   "cell_type": "markdown",
   "metadata": {},
   "source": [
    "Until the mid-90s, very few games were released. Since about 1994, the number of games released has steadily grown to a peak in 2008. After 2011, there was a sharp decline (the consequences of the financial crisis?) By half and stabilization until 2016 with a slight negative trend. First, let's look at the data starting from 2000, as it starts a strong increase in the number of games released, which is more significant for us. And only later we will reduce the period based on the intermediate results. Let's create a new dataframe:"
   ]
  },
  {
   "cell_type": "code",
   "execution_count": 44,
   "metadata": {},
   "outputs": [],
   "source": [
    "df_act_period = df_games_analyse[df_games_analyse['year_of_release'] >= 2000].copy()"
   ]
  },
  {
   "cell_type": "markdown",
   "metadata": {},
   "source": [
    "#### 3.1 Exploratory data analysis.  <a class=\"anchor\" id=\"step3.1\"></a>\n",
    "[back to table of content](#content)"
   ]
  },
  {
   "cell_type": "markdown",
   "metadata": {},
   "source": [
    "Let's look at sales by platform and year and determine which platforms may still be relevant in order to more accurately determine the time period for analysis. Let's click on the platforms according to the legend and filter out those whose distributions are not yet approaching zero in 2016:"
   ]
  },
  {
   "cell_type": "code",
   "execution_count": 45,
   "metadata": {},
   "outputs": [
    {
     "data": {
      "image/png": "[encoded data removed]",
      "text/plain": [
       "<Figure size 1296x1080 with 20 Axes>"
      ]
     },
     "metadata": {
      "needs_background": "light"
     },
     "output_type": "display_data"
    }
   ],
   "source": [
    "#list of all platforms available\n",
    "platforms = df_act_period['platform'].unique().tolist()\n",
    "\n",
    "#plot a  boxplot for each numeric column\n",
    "fig, axis = plt.subplots(ncols=5, nrows=4, figsize=(18, 15))\n",
    "ax = axis.ravel()\n",
    "for i in range(len(platforms)):\n",
    "    sns.histplot(data=df_act_period[df_act_period['platform'] == platforms[i]][['year_of_release','total_sales']],\n",
    "                x='year_of_release', ax=ax[i], kde=True)\n",
    "    ax[i].set_title(platforms[i])\n",
    "    if i in [0, 5, 10]:\n",
    "        ax[i].set_ylabel('total_sales')\n",
    "        ax[i].set_xlabel('')\n",
    "        if i==15:\n",
    "            ax[i].set_ylabel('total_sales')\n",
    "            ax[i].set_xlabel('year_of_release')\n",
    "    elif i in range(15,20):\n",
    "        ax[i].set_xlabel('year_of_release')\n",
    "    else:   \n",
    "        ax[i].set_xlabel('')\n",
    "        ax[i].set_ylabel('')  "
   ]
  },
  {
   "cell_type": "markdown",
   "metadata": {},
   "source": [
    "The distributions of sales by platform show that the following platforms are relevant for 2016: ps4, 3ds, xone, wiiu, psv, pc. The current period can be distinguished starting from **2010**.\n",
    "\n",
    "By the length of the boxplot at the top of the histogram, one can determine the characteristic period of disappearance of old platforms, that is, the beginning and end of 95% of the interval in the histogram: this is **9 years** on average.\n",
    "\n",
    "The **pc** platform should be separately noted: the average life cycle is not applicable to this platform due to the peculiarity of the fact that the computer itself is not a game console, so there are no new generations or models here. The hardware improves, but the platform itself remains. Therefore, despite the drop in sales after 2010, pc will still be a relevant platform in the future."
   ]
  },
  {
   "cell_type": "code",
   "execution_count": 46,
   "metadata": {},
   "outputs": [],
   "source": [
    "#platforms that will still be relevant for 2017\n",
    "relevant_platforms = ['ps4', '3ds', 'xone', 'wiiu', 'psv', 'pc']"
   ]
  },
  {
   "cell_type": "markdown",
   "metadata": {},
   "source": [
    "Let's see how often new platforms appear:"
   ]
  },
  {
   "cell_type": "code",
   "execution_count": 47,
   "metadata": {},
   "outputs": [],
   "source": [
    "# create a dataframe with platforms,\n",
    "# where the first year of the release of the game for this platform will be recorded\n",
    "platform_release_dict = {'platform': [], 'year_of_release': []}\n",
    "for platform in df_act_period['platform'].unique():\n",
    "    platform_release_dict['platform'].append(platform)\n",
    "    platform_release_dict['year_of_release'].append(df_act_period[df_act_period['platform'] == platform]['year_of_release'].min())\n",
    "df_platform_release = pd.pivot_table(pd.DataFrame(platform_release_dict),\n",
    "                                     index='year_of_release',\n",
    "                                     values='platform', aggfunc='count').reset_index()"
   ]
  },
  {
   "cell_type": "code",
   "execution_count": 48,
   "metadata": {},
   "outputs": [
    {
     "data": {
      "text/plain": [
       "Text(6.799999999999997, 0.5, 'number of new platforms')"
      ]
     },
     "execution_count": 48,
     "metadata": {},
     "output_type": "execute_result"
    },
    {
     "data": {
      "image/png": "[encoded data removed]",
      "text/plain": [
       "<Figure size 360x360 with 1 Axes>"
      ]
     },
     "metadata": {
      "needs_background": "light"
     },
     "output_type": "display_data"
    }
   ],
   "source": [
    "sns.displot(df_platform_release, x='year_of_release')\n",
    "plt.title('Apperance of new platforms per year')\n",
    "plt.ylabel('number of new platforms')"
   ]
  },
  {
   "cell_type": "markdown",
   "metadata": {},
   "source": [
    "On average, new platforms appeared approximately every **5 years**."
   ]
  },
  {
   "cell_type": "markdown",
   "metadata": {},
   "source": [
    "Now let's filter the current period from the main dataframe, which we defined above, starting from 2010:"
   ]
  },
  {
   "cell_type": "code",
   "execution_count": 49,
   "metadata": {},
   "outputs": [],
   "source": [
    "df_act_period_new = df_games_analyse[df_games_analyse['year_of_release'] >= 2010].copy()"
   ]
  },
  {
   "cell_type": "markdown",
   "metadata": {},
   "source": [
    "Let's select the platforms with the highest total sales for the current period in the TOP10:"
   ]
  },
  {
   "cell_type": "code",
   "execution_count": 50,
   "metadata": {},
   "outputs": [],
   "source": [
    "#list of top selling platforms of all time\n",
    "top_platforms = (df_act_period_new\n",
    "                                  .pivot_table(index=['platform', 'year_of_release'], values='total_sales', aggfunc='sum')\n",
    "                                  .reset_index().groupby(by='platform')\n",
    "                                  .sum().sort_values(by='total_sales', ascending=False)\n",
    "                                  .reset_index()\n",
    "                                  .nlargest(10, ['total_sales'])[['platform', 'total_sales']]\n",
    "                      )"
   ]
  },
  {
   "cell_type": "code",
   "execution_count": 51,
   "metadata": {
    "scrolled": true
   },
   "outputs": [
    {
     "data": {
      "text/html": [
       "<div>\n",
       "<style scoped>\n",
       "    .dataframe tbody tr th:only-of-type {\n",
       "        vertical-align: middle;\n",
       "    }\n",
       "\n",
       "    .dataframe tbody tr th {\n",
       "        vertical-align: top;\n",
       "    }\n",
       "\n",
       "    .dataframe thead th {\n",
       "        text-align: right;\n",
       "    }\n",
       "</style>\n",
       "<table border=\"1\" class=\"dataframe\">\n",
       "  <thead>\n",
       "    <tr style=\"text-align: right;\">\n",
       "      <th></th>\n",
       "      <th>platform</th>\n",
       "      <th>total_sales</th>\n",
       "    </tr>\n",
       "  </thead>\n",
       "  <tbody>\n",
       "    <tr>\n",
       "      <th>0</th>\n",
       "      <td>ps3</td>\n",
       "      <td>590.65</td>\n",
       "    </tr>\n",
       "    <tr>\n",
       "      <th>1</th>\n",
       "      <td>x360</td>\n",
       "      <td>553.30</td>\n",
       "    </tr>\n",
       "    <tr>\n",
       "      <th>2</th>\n",
       "      <td>ps4</td>\n",
       "      <td>314.14</td>\n",
       "    </tr>\n",
       "    <tr>\n",
       "      <th>3</th>\n",
       "      <td>3ds</td>\n",
       "      <td>258.51</td>\n",
       "    </tr>\n",
       "    <tr>\n",
       "      <th>4</th>\n",
       "      <td>wii</td>\n",
       "      <td>225.06</td>\n",
       "    </tr>\n",
       "    <tr>\n",
       "      <th>5</th>\n",
       "      <td>xone</td>\n",
       "      <td>159.32</td>\n",
       "    </tr>\n",
       "    <tr>\n",
       "      <th>6</th>\n",
       "      <td>ds</td>\n",
       "      <td>124.89</td>\n",
       "    </tr>\n",
       "    <tr>\n",
       "      <th>7</th>\n",
       "      <td>pc</td>\n",
       "      <td>124.82</td>\n",
       "    </tr>\n",
       "    <tr>\n",
       "      <th>8</th>\n",
       "      <td>wiiu</td>\n",
       "      <td>82.19</td>\n",
       "    </tr>\n",
       "    <tr>\n",
       "      <th>9</th>\n",
       "      <td>psp</td>\n",
       "      <td>64.55</td>\n",
       "    </tr>\n",
       "  </tbody>\n",
       "</table>\n",
       "</div>"
      ],
      "text/plain": [
       "  platform  total_sales\n",
       "0      ps3       590.65\n",
       "1     x360       553.30\n",
       "2      ps4       314.14\n",
       "3      3ds       258.51\n",
       "4      wii       225.06\n",
       "5     xone       159.32\n",
       "6       ds       124.89\n",
       "7       pc       124.82\n",
       "8     wiiu        82.19\n",
       "9      psp        64.55"
      ]
     },
     "execution_count": 51,
     "metadata": {},
     "output_type": "execute_result"
    }
   ],
   "source": [
    "#top platform in terms of total sales for the period 2010-2016\n",
    "top_platforms"
   ]
  },
  {
   "cell_type": "code",
   "execution_count": 52,
   "metadata": {},
   "outputs": [],
   "source": [
    "#filter data from top platforms into a separate dataframe\n",
    "df_top_platforms = df_act_period_new[df_act_period_new['platform'].isin(top_platforms['platform'].to_list())].sort_values(by='year_of_release').copy()"
   ]
  },
  {
   "cell_type": "markdown",
   "metadata": {},
   "source": [
    "Let's make a pivot table with total sales for all platforms in the current period to look at the trend by year:"
   ]
  },
  {
   "cell_type": "code",
   "execution_count": 53,
   "metadata": {},
   "outputs": [],
   "source": [
    "platform_sales_trend = pd.DataFrame({'platform':[], 'year_of_release': [], 'total_sales': []})"
   ]
  },
  {
   "cell_type": "code",
   "execution_count": 54,
   "metadata": {},
   "outputs": [],
   "source": [
    "for name, group_name in df_top_platforms.groupby(\"platform\"):\n",
    "    to_concat = group_name.pivot_table(index=['platform', \"year_of_release\"],\n",
    "                                 values='total_sales',\n",
    "                                 aggfunc='sum').reset_index()\n",
    "    platform_sales_trend = pd.concat([platform_sales_trend, to_concat], sort=False)\n",
    "platform_sales_trend.year_of_release = platform_sales_trend.year_of_release.astype(int)    "
   ]
  },
  {
   "cell_type": "code",
   "execution_count": 55,
   "metadata": {},
   "outputs": [
    {
     "data": {
      "text/plain": [
       "<seaborn.axisgrid.FacetGrid at 0x7f0aeebdcdc0>"
      ]
     },
     "execution_count": 55,
     "metadata": {},
     "output_type": "execute_result"
    },
    {
     "data": {
      "image/png": "[encoded data removed]",
      "text/plain": [
       "<Figure size 1638x252 with 10 Axes>"
      ]
     },
     "metadata": {
      "needs_background": "light"
     },
     "output_type": "display_data"
    }
   ],
   "source": [
    "g = sns.FacetGrid(platform_sales_trend, col=\"platform\",\n",
    "                  hue='platform', height=3.5, aspect=.65)\n",
    "g.map(sns.scatterplot, 'year_of_release', \"total_sales\")"
   ]
  },
  {
   "cell_type": "markdown",
   "metadata": {},
   "source": [
    "All platforms have negative sales trends, however, the most promising platforms in the future are **ps4**, **3ds** and **xone**. Their sales until 2016 were high and are likely to be at a similar level in 2017."
   ]
  },
  {
   "cell_type": "code",
   "execution_count": 56,
   "metadata": {},
   "outputs": [],
   "source": [
    "#sabe potentially profitable platforms for 2017 in a list\n",
    "potential_platforms = ['ps4', 'xone', '3ds']"
   ]
  },
  {
   "cell_type": "markdown",
   "metadata": {},
   "source": [
    "Let's build a boxplot for global sales by platform:"
   ]
  },
  {
   "cell_type": "code",
   "execution_count": 57,
   "metadata": {},
   "outputs": [
    {
     "data": {
      "text/plain": [
       "(0.0, 2.0)"
      ]
     },
     "execution_count": 57,
     "metadata": {},
     "output_type": "execute_result"
    },
    {
     "data": {
      "image/png": "[encoded data removed]",
      "text/plain": [
       "<Figure size 1080x720 with 1 Axes>"
      ]
     },
     "metadata": {
      "needs_background": "light"
     },
     "output_type": "display_data"
    }
   ],
   "source": [
    "plt.figure(figsize=(15,10))\n",
    "sns.boxplot(data=df_act_period_new, y='platform', x='total_sales',\n",
    "            hue='platform', orient='h', palette=\"Set2\", width=0.9)\n",
    "plt.xlim((0,2))"
   ]
  },
  {
   "cell_type": "markdown",
   "metadata": {},
   "source": [
    "The longest boxes correspond to the most profitable platforms. Their median and average are higher than the rest, and a long mustache towards rising emissions sales suggests that there must have been many 'hits' that sold like hot buns. However, the top selling platforms for the entire period, ps3 and x360, most likely will not be profitable in 2017, as their era is rapidly coming to an end."
   ]
  },
  {
   "cell_type": "markdown",
   "metadata": {},
   "source": [
    "Let's analyze the correlation between sales and ratings from critics / users."
   ]
  },
  {
   "cell_type": "code",
   "execution_count": 58,
   "metadata": {},
   "outputs": [],
   "source": [
    "#columns for correlation\n",
    "corr_columns =['total_sales','critic_score','user_score', 'platform']"
   ]
  },
  {
   "cell_type": "code",
   "execution_count": 59,
   "metadata": {},
   "outputs": [
    {
     "data": {
      "text/plain": [
       "<seaborn.axisgrid.PairGrid at 0x7f0aee5be100>"
      ]
     },
     "execution_count": 59,
     "metadata": {},
     "output_type": "execute_result"
    },
    {
     "data": {
      "text/plain": [
       "<Figure size 1080x720 with 0 Axes>"
      ]
     },
     "metadata": {},
     "output_type": "display_data"
    },
    {
     "data": {
      "image/png": "[encoded data removed]",
      "text/plain": [
       "<Figure size 601x540 with 12 Axes>"
      ]
     },
     "metadata": {
      "needs_background": "light"
     },
     "output_type": "display_data"
    }
   ],
   "source": [
    "plt.figure(figsize=(15,10))\n",
    "sns.pairplot(df_act_period_new[corr_columns], hue=\"platform\")"
   ]
  },
  {
   "cell_type": "markdown",
   "metadata": {},
   "source": [
    "There is no strong dependence of sales on user ratings and critics in general, but there are features for certain platforms. You can also see the correlation between the ratings of critics and users, which means that their impressions of the games coincide."
   ]
  },
  {
   "cell_type": "markdown",
   "metadata": {},
   "source": [
    "Let's look at the Pearson's correlation coefficients for one potentially promising platform, **ps4**:"
   ]
  },
  {
   "cell_type": "code",
   "execution_count": 60,
   "metadata": {},
   "outputs": [
    {
     "name": "stdout",
     "output_type": "stream",
     "text": [
      "Correlation matrix for platform: ps4\n"
     ]
    },
    {
     "data": {
      "text/html": [
       "<style  type=\"text/css\" >\n",
       "#T_9a693aca_1612_11eb_af2a_eb0c972a2d18row0_col0,#T_9a693aca_1612_11eb_af2a_eb0c972a2d18row1_col1,#T_9a693aca_1612_11eb_af2a_eb0c972a2d18row2_col2{\n",
       "            background-color:  #b40426;\n",
       "            color:  #f1f1f1;\n",
       "        }#T_9a693aca_1612_11eb_af2a_eb0c972a2d18row0_col1,#T_9a693aca_1612_11eb_af2a_eb0c972a2d18row0_col2,#T_9a693aca_1612_11eb_af2a_eb0c972a2d18row2_col0{\n",
       "            background-color:  #3b4cc0;\n",
       "            color:  #f1f1f1;\n",
       "        }#T_9a693aca_1612_11eb_af2a_eb0c972a2d18row1_col0{\n",
       "            background-color:  #6485ec;\n",
       "            color:  #000000;\n",
       "        }#T_9a693aca_1612_11eb_af2a_eb0c972a2d18row1_col2{\n",
       "            background-color:  #d95847;\n",
       "            color:  #000000;\n",
       "        }#T_9a693aca_1612_11eb_af2a_eb0c972a2d18row2_col1{\n",
       "            background-color:  #df634e;\n",
       "            color:  #000000;\n",
       "        }</style><table id=\"T_9a693aca_1612_11eb_af2a_eb0c972a2d18\" ><thead>    <tr>        <th class=\"blank level0\" ></th>        <th class=\"col_heading level0 col0\" >total_sales</th>        <th class=\"col_heading level0 col1\" >critic_score</th>        <th class=\"col_heading level0 col2\" >user_score</th>    </tr></thead><tbody>\n",
       "                <tr>\n",
       "                        <th id=\"T_9a693aca_1612_11eb_af2a_eb0c972a2d18level0_row0\" class=\"row_heading level0 row0\" >total_sales</th>\n",
       "                        <td id=\"T_9a693aca_1612_11eb_af2a_eb0c972a2d18row0_col0\" class=\"data row0 col0\" >1.000</td>\n",
       "                        <td id=\"T_9a693aca_1612_11eb_af2a_eb0c972a2d18row0_col1\" class=\"data row0 col1\" >0.222</td>\n",
       "                        <td id=\"T_9a693aca_1612_11eb_af2a_eb0c972a2d18row0_col2\" class=\"data row0 col2\" >0.099</td>\n",
       "            </tr>\n",
       "            <tr>\n",
       "                        <th id=\"T_9a693aca_1612_11eb_af2a_eb0c972a2d18level0_row1\" class=\"row_heading level0 row1\" >critic_score</th>\n",
       "                        <td id=\"T_9a693aca_1612_11eb_af2a_eb0c972a2d18row1_col0\" class=\"data row1 col0\" >0.222</td>\n",
       "                        <td id=\"T_9a693aca_1612_11eb_af2a_eb0c972a2d18row1_col1\" class=\"data row1 col1\" >1.000</td>\n",
       "                        <td id=\"T_9a693aca_1612_11eb_af2a_eb0c972a2d18row1_col2\" class=\"data row1 col2\" >0.899</td>\n",
       "            </tr>\n",
       "            <tr>\n",
       "                        <th id=\"T_9a693aca_1612_11eb_af2a_eb0c972a2d18level0_row2\" class=\"row_heading level0 row2\" >user_score</th>\n",
       "                        <td id=\"T_9a693aca_1612_11eb_af2a_eb0c972a2d18row2_col0\" class=\"data row2 col0\" >0.099</td>\n",
       "                        <td id=\"T_9a693aca_1612_11eb_af2a_eb0c972a2d18row2_col1\" class=\"data row2 col1\" >0.899</td>\n",
       "                        <td id=\"T_9a693aca_1612_11eb_af2a_eb0c972a2d18row2_col2\" class=\"data row2 col2\" >1.000</td>\n",
       "            </tr>\n",
       "    </tbody></table>"
      ],
      "text/plain": [
       "<pandas.io.formats.style.Styler at 0x7f0aee2d9a90>"
      ]
     },
     "execution_count": 60,
     "metadata": {},
     "output_type": "execute_result"
    }
   ],
   "source": [
    "corr_matrix_ps4 = df_act_period_new[df_act_period_new['platform'] == 'ps4'][corr_columns].corr()\n",
    "print('Correlation matrix for platform: {}'.format('ps4'))\n",
    "corr_matrix_ps4.style.background_gradient(cmap='coolwarm').set_precision(3)"
   ]
  },
  {
   "cell_type": "markdown",
   "metadata": {},
   "source": [
    "The dependence of sales on the ratings of critics and users for this platform is very weak. Let's look at the rest of the platforms for comparison:"
   ]
  },
  {
   "cell_type": "code",
   "execution_count": 61,
   "metadata": {},
   "outputs": [],
   "source": [
    "# let's create a dictionary, where for each platform we write two\n",
    "# of interested correlation coefficients\n",
    "corr_matrix_dict = {'platform': [],'critic_score': [],'user_score': []}\n",
    "for platform in df_act_period_new['platform'].unique():\n",
    "    corr_matrix = df_act_period_new[df_act_period_new['platform'] == platform][corr_columns].corr().reset_index()\n",
    "    corr_matrix_dict['platform'].append(platform)\n",
    "    corr_matrix_dict['critic_score'].append(corr_matrix.loc[0, 'critic_score'])\n",
    "    corr_matrix_dict['user_score'].append(corr_matrix.loc[0, 'user_score'])\n",
    "    \n",
    "# make a dataframe from a dictionary and rename the columns\n",
    "corr_matrix_all = pd.DataFrame(corr_matrix_dict)\n",
    "corr_matrix_all.columns = ['platform',\n",
    "                           'correlation between sales and critics rating',\n",
    "                           'correlation between sales and users rating']"
   ]
  },
  {
   "cell_type": "markdown",
   "metadata": {},
   "source": [
    "Посмотрим на корреляцию, желтым подсвечены потенциально актуальные платформы на 2017 год, которые мы отобрали выше:"
   ]
  },
  {
   "cell_type": "code",
   "execution_count": 62,
   "metadata": {},
   "outputs": [
    {
     "data": {
      "text/html": [
       "<style  type=\"text/css\" >\n",
       "#T_9a74483e_1612_11eb_af2a_eb0c972a2d18row0_col1,#T_9a74483e_1612_11eb_af2a_eb0c972a2d18row0_col2{\n",
       "            background-color:  #b40426;\n",
       "            color:  #f1f1f1;\n",
       "        }#T_9a74483e_1612_11eb_af2a_eb0c972a2d18row1_col0,#T_9a74483e_1612_11eb_af2a_eb0c972a2d18row6_col0,#T_9a74483e_1612_11eb_af2a_eb0c972a2d18row7_col0,#T_9a74483e_1612_11eb_af2a_eb0c972a2d18row8_col0,#T_9a74483e_1612_11eb_af2a_eb0c972a2d18row9_col0,#T_9a74483e_1612_11eb_af2a_eb0c972a2d18row10_col0{\n",
       "            background-color:  yellow;\n",
       "        }#T_9a74483e_1612_11eb_af2a_eb0c972a2d18row1_col1{\n",
       "            background-color:  yellow;\n",
       "            background-color:  #d8dce2;\n",
       "            color:  #000000;\n",
       "        }#T_9a74483e_1612_11eb_af2a_eb0c972a2d18row1_col2{\n",
       "            background-color:  yellow;\n",
       "            background-color:  #f2cbb7;\n",
       "            color:  #000000;\n",
       "        }#T_9a74483e_1612_11eb_af2a_eb0c972a2d18row2_col1{\n",
       "            background-color:  #aec9fc;\n",
       "            color:  #000000;\n",
       "        }#T_9a74483e_1612_11eb_af2a_eb0c972a2d18row2_col2{\n",
       "            background-color:  #d1dae9;\n",
       "            color:  #000000;\n",
       "        }#T_9a74483e_1612_11eb_af2a_eb0c972a2d18row3_col1{\n",
       "            background-color:  #abc8fd;\n",
       "            color:  #000000;\n",
       "        }#T_9a74483e_1612_11eb_af2a_eb0c972a2d18row3_col2{\n",
       "            background-color:  #adc9fd;\n",
       "            color:  #000000;\n",
       "        }#T_9a74483e_1612_11eb_af2a_eb0c972a2d18row4_col1{\n",
       "            background-color:  #a5c3fe;\n",
       "            color:  #000000;\n",
       "        }#T_9a74483e_1612_11eb_af2a_eb0c972a2d18row4_col2{\n",
       "            background-color:  #d4dbe6;\n",
       "            color:  #000000;\n",
       "        }#T_9a74483e_1612_11eb_af2a_eb0c972a2d18row5_col1{\n",
       "            background-color:  #9abbff;\n",
       "            color:  #000000;\n",
       "        }#T_9a74483e_1612_11eb_af2a_eb0c972a2d18row5_col2{\n",
       "            background-color:  #93b5fe;\n",
       "            color:  #000000;\n",
       "        }#T_9a74483e_1612_11eb_af2a_eb0c972a2d18row6_col1{\n",
       "            background-color:  yellow;\n",
       "            background-color:  #82a6fb;\n",
       "            color:  #000000;\n",
       "        }#T_9a74483e_1612_11eb_af2a_eb0c972a2d18row6_col2{\n",
       "            background-color:  yellow;\n",
       "            background-color:  #779af7;\n",
       "            color:  #000000;\n",
       "        }#T_9a74483e_1612_11eb_af2a_eb0c972a2d18row7_col1{\n",
       "            background-color:  yellow;\n",
       "            background-color:  #81a4fb;\n",
       "            color:  #000000;\n",
       "        }#T_9a74483e_1612_11eb_af2a_eb0c972a2d18row7_col2{\n",
       "            background-color:  yellow;\n",
       "            background-color:  #b9d0f9;\n",
       "            color:  #000000;\n",
       "        }#T_9a74483e_1612_11eb_af2a_eb0c972a2d18row8_col1{\n",
       "            background-color:  yellow;\n",
       "            background-color:  #6e90f2;\n",
       "            color:  #000000;\n",
       "        }#T_9a74483e_1612_11eb_af2a_eb0c972a2d18row8_col2{\n",
       "            background-color:  yellow;\n",
       "            background-color:  #6485ec;\n",
       "            color:  #000000;\n",
       "        }#T_9a74483e_1612_11eb_af2a_eb0c972a2d18row9_col1{\n",
       "            background-color:  yellow;\n",
       "            background-color:  #6180e9;\n",
       "            color:  #000000;\n",
       "        }#T_9a74483e_1612_11eb_af2a_eb0c972a2d18row9_col2{\n",
       "            background-color:  yellow;\n",
       "            background-color:  #3b4cc0;\n",
       "            color:  #f1f1f1;\n",
       "        }#T_9a74483e_1612_11eb_af2a_eb0c972a2d18row10_col1{\n",
       "            background-color:  yellow;\n",
       "            background-color:  #465ecf;\n",
       "            color:  #f1f1f1;\n",
       "        }#T_9a74483e_1612_11eb_af2a_eb0c972a2d18row10_col2{\n",
       "            background-color:  yellow;\n",
       "            background-color:  #7a9df8;\n",
       "            color:  #000000;\n",
       "        }#T_9a74483e_1612_11eb_af2a_eb0c972a2d18row11_col1{\n",
       "            background-color:  #3b4cc0;\n",
       "            color:  #f1f1f1;\n",
       "        }#T_9a74483e_1612_11eb_af2a_eb0c972a2d18row11_col2{\n",
       "            background-color:  #7a9df8;\n",
       "            color:  #000000;\n",
       "        }</style><table id=\"T_9a74483e_1612_11eb_af2a_eb0c972a2d18\" ><thead>    <tr>        <th class=\"blank level0\" ></th>        <th class=\"col_heading level0 col0\" >platform</th>        <th class=\"col_heading level0 col1\" >correlation between sales and critics rating</th>        <th class=\"col_heading level0 col2\" >correlation between sales and users rating</th>    </tr></thead><tbody>\n",
       "                <tr>\n",
       "                        <th id=\"T_9a74483e_1612_11eb_af2a_eb0c972a2d18level0_row0\" class=\"row_heading level0 row0\" >11</th>\n",
       "                        <td id=\"T_9a74483e_1612_11eb_af2a_eb0c972a2d18row0_col0\" class=\"data row0 col0\" >ps2</td>\n",
       "                        <td id=\"T_9a74483e_1612_11eb_af2a_eb0c972a2d18row0_col1\" class=\"data row0 col1\" >0.693</td>\n",
       "                        <td id=\"T_9a74483e_1612_11eb_af2a_eb0c972a2d18row0_col2\" class=\"data row0 col2\" >0.617</td>\n",
       "            </tr>\n",
       "            <tr>\n",
       "                        <th id=\"T_9a74483e_1612_11eb_af2a_eb0c972a2d18level0_row1\" class=\"row_heading level0 row1\" >10</th>\n",
       "                        <td id=\"T_9a74483e_1612_11eb_af2a_eb0c972a2d18row1_col0\" class=\"data row1 col0\" >psv</td>\n",
       "                        <td id=\"T_9a74483e_1612_11eb_af2a_eb0c972a2d18row1_col1\" class=\"data row1 col1\" >0.403</td>\n",
       "                        <td id=\"T_9a74483e_1612_11eb_af2a_eb0c972a2d18row1_col2\" class=\"data row1 col2\" >0.378</td>\n",
       "            </tr>\n",
       "            <tr>\n",
       "                        <th id=\"T_9a74483e_1612_11eb_af2a_eb0c972a2d18level0_row2\" class=\"row_heading level0 row2\" >5</th>\n",
       "                        <td id=\"T_9a74483e_1612_11eb_af2a_eb0c972a2d18row2_col0\" class=\"data row2 col0\" >wii</td>\n",
       "                        <td id=\"T_9a74483e_1612_11eb_af2a_eb0c972a2d18row2_col1\" class=\"data row2 col1\" >0.325</td>\n",
       "                        <td id=\"T_9a74483e_1612_11eb_af2a_eb0c972a2d18row2_col2\" class=\"data row2 col2\" >0.291</td>\n",
       "            </tr>\n",
       "            <tr>\n",
       "                        <th id=\"T_9a74483e_1612_11eb_af2a_eb0c972a2d18level0_row3\" class=\"row_heading level0 row3\" >1</th>\n",
       "                        <td id=\"T_9a74483e_1612_11eb_af2a_eb0c972a2d18row3_col0\" class=\"data row3 col0\" >ps3</td>\n",
       "                        <td id=\"T_9a74483e_1612_11eb_af2a_eb0c972a2d18row3_col1\" class=\"data row3 col1\" >0.322</td>\n",
       "                        <td id=\"T_9a74483e_1612_11eb_af2a_eb0c972a2d18row3_col2\" class=\"data row3 col2\" >0.222</td>\n",
       "            </tr>\n",
       "            <tr>\n",
       "                        <th id=\"T_9a74483e_1612_11eb_af2a_eb0c972a2d18level0_row4\" class=\"row_heading level0 row4\" >9</th>\n",
       "                        <td id=\"T_9a74483e_1612_11eb_af2a_eb0c972a2d18row4_col0\" class=\"data row4 col0\" >psp</td>\n",
       "                        <td id=\"T_9a74483e_1612_11eb_af2a_eb0c972a2d18row4_col1\" class=\"data row4 col1\" >0.310</td>\n",
       "                        <td id=\"T_9a74483e_1612_11eb_af2a_eb0c972a2d18row4_col2\" class=\"data row4 col2\" >0.297</td>\n",
       "            </tr>\n",
       "            <tr>\n",
       "                        <th id=\"T_9a74483e_1612_11eb_af2a_eb0c972a2d18level0_row5\" class=\"row_heading level0 row5\" >0</th>\n",
       "                        <td id=\"T_9a74483e_1612_11eb_af2a_eb0c972a2d18row5_col0\" class=\"data row5 col0\" >x360</td>\n",
       "                        <td id=\"T_9a74483e_1612_11eb_af2a_eb0c972a2d18row5_col1\" class=\"data row5 col1\" >0.293</td>\n",
       "                        <td id=\"T_9a74483e_1612_11eb_af2a_eb0c972a2d18row5_col2\" class=\"data row5 col2\" >0.179</td>\n",
       "            </tr>\n",
       "            <tr>\n",
       "                        <th id=\"T_9a74483e_1612_11eb_af2a_eb0c972a2d18level0_row6\" class=\"row_heading level0 row6\" >8</th>\n",
       "                        <td id=\"T_9a74483e_1612_11eb_af2a_eb0c972a2d18row6_col0\" class=\"data row6 col0\" >pc</td>\n",
       "                        <td id=\"T_9a74483e_1612_11eb_af2a_eb0c972a2d18row6_col1\" class=\"data row6 col1\" >0.255</td>\n",
       "                        <td id=\"T_9a74483e_1612_11eb_af2a_eb0c972a2d18row6_col2\" class=\"data row6 col2\" >0.131</td>\n",
       "            </tr>\n",
       "            <tr>\n",
       "                        <th id=\"T_9a74483e_1612_11eb_af2a_eb0c972a2d18level0_row7\" class=\"row_heading level0 row7\" >7</th>\n",
       "                        <td id=\"T_9a74483e_1612_11eb_af2a_eb0c972a2d18row7_col0\" class=\"data row7 col0\" >wiiu</td>\n",
       "                        <td id=\"T_9a74483e_1612_11eb_af2a_eb0c972a2d18row7_col1\" class=\"data row7 col1\" >0.253</td>\n",
       "                        <td id=\"T_9a74483e_1612_11eb_af2a_eb0c972a2d18row7_col2\" class=\"data row7 col2\" >0.244</td>\n",
       "            </tr>\n",
       "            <tr>\n",
       "                        <th id=\"T_9a74483e_1612_11eb_af2a_eb0c972a2d18level0_row8\" class=\"row_heading level0 row8\" >3</th>\n",
       "                        <td id=\"T_9a74483e_1612_11eb_af2a_eb0c972a2d18row8_col0\" class=\"data row8 col0\" >ps4</td>\n",
       "                        <td id=\"T_9a74483e_1612_11eb_af2a_eb0c972a2d18row8_col1\" class=\"data row8 col1\" >0.222</td>\n",
       "                        <td id=\"T_9a74483e_1612_11eb_af2a_eb0c972a2d18row8_col2\" class=\"data row8 col2\" >0.099</td>\n",
       "            </tr>\n",
       "            <tr>\n",
       "                        <th id=\"T_9a74483e_1612_11eb_af2a_eb0c972a2d18level0_row9\" class=\"row_heading level0 row9\" >6</th>\n",
       "                        <td id=\"T_9a74483e_1612_11eb_af2a_eb0c972a2d18row9_col0\" class=\"data row9 col0\" >xone</td>\n",
       "                        <td id=\"T_9a74483e_1612_11eb_af2a_eb0c972a2d18row9_col1\" class=\"data row9 col1\" >0.200</td>\n",
       "                        <td id=\"T_9a74483e_1612_11eb_af2a_eb0c972a2d18row9_col2\" class=\"data row9 col2\" >0.018</td>\n",
       "            </tr>\n",
       "            <tr>\n",
       "                        <th id=\"T_9a74483e_1612_11eb_af2a_eb0c972a2d18level0_row10\" class=\"row_heading level0 row10\" >4</th>\n",
       "                        <td id=\"T_9a74483e_1612_11eb_af2a_eb0c972a2d18row10_col0\" class=\"data row10 col0\" >3ds</td>\n",
       "                        <td id=\"T_9a74483e_1612_11eb_af2a_eb0c972a2d18row10_col1\" class=\"data row10 col1\" >0.154</td>\n",
       "                        <td id=\"T_9a74483e_1612_11eb_af2a_eb0c972a2d18row10_col2\" class=\"data row10 col2\" >0.136</td>\n",
       "            </tr>\n",
       "            <tr>\n",
       "                        <th id=\"T_9a74483e_1612_11eb_af2a_eb0c972a2d18level0_row11\" class=\"row_heading level0 row11\" >2</th>\n",
       "                        <td id=\"T_9a74483e_1612_11eb_af2a_eb0c972a2d18row11_col0\" class=\"data row11 col0\" >ds</td>\n",
       "                        <td id=\"T_9a74483e_1612_11eb_af2a_eb0c972a2d18row11_col1\" class=\"data row11 col1\" >0.132</td>\n",
       "                        <td id=\"T_9a74483e_1612_11eb_af2a_eb0c972a2d18row11_col2\" class=\"data row11 col2\" >0.137</td>\n",
       "            </tr>\n",
       "    </tbody></table>"
      ],
      "text/plain": [
       "<pandas.io.formats.style.Styler at 0x7f0aef277a90>"
      ]
     },
     "execution_count": 62,
     "metadata": {},
     "output_type": "execute_result"
    }
   ],
   "source": [
    "corr_matrix_all = corr_matrix_all.sort_values(by='correlation between sales and critics rating',\n",
    "                                              ascending=False)\n",
    "\n",
    "(corr_matrix_all.style\n",
    "                      .apply(lambda row: np.repeat('background-color: yellow' if row['platform'] in relevant_platforms else '',\n",
    "                                                   row.shape[0]), axis=1)\n",
    "                      .background_gradient(cmap='coolwarm').set_precision(3))"
   ]
  },
  {
   "cell_type": "markdown",
   "metadata": {},
   "source": [
    "Critics 'and users' ratings do not, on average, affect sales. PS2 stands out from all platforms, where you can see a tangible correlation between ratings and sales. For current platforms, highlighted in yellow, the dependence of sales on ratings is below average."
   ]
  },
  {
   "cell_type": "markdown",
   "metadata": {},
   "source": [
    "Now let's look at the distribution of games by genre."
   ]
  },
  {
   "cell_type": "code",
   "execution_count": 63,
   "metadata": {},
   "outputs": [],
   "source": [
    "# create a pivot table with game genres and total sales\n",
    "df_genres = (df_act_period_new.pivot_table(index='genre',\n",
    "                                          values='total_sales',\n",
    "                                          aggfunc='sum')\n",
    "                                                        .reset_index()\n",
    "                                                        .sort_values(by='total_sales',\n",
    "                                                                     ascending=False))"
   ]
  },
  {
   "cell_type": "code",
   "execution_count": 64,
   "metadata": {},
   "outputs": [
    {
     "data": {
      "text/plain": [
       "Text(0.5, 1.0, 'Sales by game genre')"
      ]
     },
     "execution_count": 64,
     "metadata": {},
     "output_type": "execute_result"
    },
    {
     "data": {
      "image/png": "[encoded data removed]",
      "text/plain": [
       "<Figure size 720x360 with 1 Axes>"
      ]
     },
     "metadata": {
      "needs_background": "light"
     },
     "output_type": "display_data"
    }
   ],
   "source": [
    "plt.figure(figsize=(10,5))\n",
    "sns.barplot(data=df_genres, x='genre', y='total_sales')\n",
    "plt.title('Sales by game genre')"
   ]
  },
  {
   "cell_type": "markdown",
   "metadata": {},
   "source": [
    "The **action** genre leads the way in sales by a noticeable margin. The most profitable genres are in the first TOP5: action, shooter, sports, role-playing, misc. In other genres outside the top five, sales are significantly lower. The difference in sales between the leaders and the unpopular games is huge: for example, sold copies in the action genre are 34 times more than in the most unpopular puzzle genre."
   ]
  },
  {
   "cell_type": "markdown",
   "metadata": {},
   "source": [
    "#### 3.2 Conclusion.  <a class=\"anchor\" id=\"step3.2\"></a>\n",
    "[back to table of content](#content)"
   ]
  },
  {
   "cell_type": "markdown",
   "metadata": {},
   "source": [
    "* massively games started coming out after 2000\n",
    "* it was found that the average life cycle of gaming platforms is 9 years, and the appearance frequency of new platforms is 5 years. Exception: the pc platform comparison to game consoles.\n",
    "* the current research period was adjusted for the period 2010-2016 taking into account the current platforms\n",
    "* TOP sales platform for the period under review: ps3, xbox360. But their time is rapidly running out and they are no longer relevant.\n",
    "* in the top sales, ps4, 3ds and xone platforms were highlighted as potentially promising in terms of profit for 2017, as they will still be relevant by that time.\n",
    "* Sales figures across all platforms show a downtrend. However, the selected promising platforms still have good sales compared to legacy platforms.\n",
    "* The correlation between sales and ratings of critics / users is observed only for the ps platform, which is no longer relevant. Sales on other platforms are practically independent of estimates.\n",
    "* TOP5 most profitable genres: action, shooter, sports, role-playing, misc. They are in the lead with a tangible gap from other genres. There is speculation that doses of adrenaline in action and sublimation of a person's primary urges for war in the shooter genre are the main recipes for the success of games."
   ]
  },
  {
   "cell_type": "markdown",
   "metadata": {},
   "source": [
    "### 4. Analysis of users by region.  <a class=\"anchor\" id=\"step4\"></a>\n",
    "[back to table of content](#content)"
   ]
  },
  {
   "cell_type": "code",
   "execution_count": 65,
   "metadata": {},
   "outputs": [],
   "source": [
    "# copy of dataframe for further work\n",
    "df_games_regions = df_act_period_new.copy()"
   ]
  },
  {
   "cell_type": "code",
   "execution_count": 66,
   "metadata": {},
   "outputs": [],
   "source": [
    "# create a pivot table with sales by region for each platform\n",
    "df_regions_platforms = df_games_regions.pivot_table(index='platform',\n",
    "                                                    values=['na_sales',\n",
    "                                                            'eu_sales',\n",
    "                                                            'jp_sales',\n",
    "                                                            'other_sales',\n",
    "                                                            'total_sales'],\n",
    "                                                    aggfunc='sum').reset_index().sort_values(by='total_sales',\n",
    "                                                                                             ascending=False)"
   ]
  },
  {
   "cell_type": "code",
   "execution_count": 67,
   "metadata": {},
   "outputs": [],
   "source": [
    "# create a pivot table with sales by region for each genre\n",
    "df_regions_genres = df_games_regions.pivot_table(index='genre',\n",
    "                                                    values=['na_sales',\n",
    "                                                            'eu_sales',\n",
    "                                                            'jp_sales',\n",
    "                                                            'other_sales',\n",
    "                                                            'total_sales'],\n",
    "                                                    aggfunc='sum').reset_index().sort_values(by='total_sales',\n",
    "                                                                                             ascending=False)\n",
    "top_genres = ['action', 'shooter', 'sports', 'role-playing', 'misc']"
   ]
  },
  {
   "cell_type": "code",
   "execution_count": 68,
   "metadata": {},
   "outputs": [],
   "source": [
    "# create a pivot table with sales by region for each ESRB rating score\n",
    "df_regions_rating = df_games_regions.pivot_table(index='rating_description',\n",
    "                                                 values=['na_sales',\n",
    "                                                         'eu_sales',\n",
    "                                                         'jp_sales',\n",
    "                                                         'other_sales',\n",
    "                                                         'total_sales'],\n",
    "                                                 aggfunc='sum').reset_index().sort_values(by='total_sales',\n",
    "                                                                                          ascending=False)"
   ]
  },
  {
   "cell_type": "markdown",
   "metadata": {},
   "source": [
    "#### 4.1 User profile for each region.  <a class=\"anchor\" id=\"step4.1\"></a>\n",
    "[back to table of content](#content)"
   ]
  },
  {
   "cell_type": "markdown",
   "metadata": {},
   "source": [
    "#### TOP5 platforms\n",
    "\n",
    "Let's look at the general picture of the popularity of platforms by region, the current platforms are highlighted in yellow:"
   ]
  },
  {
   "cell_type": "code",
   "execution_count": 69,
   "metadata": {},
   "outputs": [
    {
     "data": {
      "text/html": [
       "<style  type=\"text/css\" >\n",
       "#T_9a998c0c_1612_11eb_af2a_eb0c972a2d18row0_col1,#T_9a998c0c_1612_11eb_af2a_eb0c972a2d18row0_col4,#T_9a998c0c_1612_11eb_af2a_eb0c972a2d18row0_col5,#T_9a998c0c_1612_11eb_af2a_eb0c972a2d18row1_col3{\n",
       "            background-color:  #b40426;\n",
       "            color:  #f1f1f1;\n",
       "        }#T_9a998c0c_1612_11eb_af2a_eb0c972a2d18row0_col2{\n",
       "            background-color:  #f1cdba;\n",
       "            color:  #000000;\n",
       "        }#T_9a998c0c_1612_11eb_af2a_eb0c972a2d18row0_col3{\n",
       "            background-color:  #f7b194;\n",
       "            color:  #000000;\n",
       "        }#T_9a998c0c_1612_11eb_af2a_eb0c972a2d18row1_col1{\n",
       "            background-color:  #f39475;\n",
       "            color:  #000000;\n",
       "        }#T_9a998c0c_1612_11eb_af2a_eb0c972a2d18row1_col2{\n",
       "            background-color:  #4a63d3;\n",
       "            color:  #f1f1f1;\n",
       "        }#T_9a998c0c_1612_11eb_af2a_eb0c972a2d18row1_col4{\n",
       "            background-color:  #e8d6cc;\n",
       "            color:  #000000;\n",
       "        }#T_9a998c0c_1612_11eb_af2a_eb0c972a2d18row1_col5{\n",
       "            background-color:  #cb3e38;\n",
       "            color:  #f1f1f1;\n",
       "        }#T_9a998c0c_1612_11eb_af2a_eb0c972a2d18row2_col0,#T_9a998c0c_1612_11eb_af2a_eb0c972a2d18row3_col0,#T_9a998c0c_1612_11eb_af2a_eb0c972a2d18row5_col0,#T_9a998c0c_1612_11eb_af2a_eb0c972a2d18row7_col0,#T_9a998c0c_1612_11eb_af2a_eb0c972a2d18row8_col0,#T_9a998c0c_1612_11eb_af2a_eb0c972a2d18row10_col0{\n",
       "            background-color:  yellow;\n",
       "        }#T_9a998c0c_1612_11eb_af2a_eb0c972a2d18row2_col1{\n",
       "            background-color:  yellow;\n",
       "            background-color:  #f7bca1;\n",
       "            color:  #000000;\n",
       "        }#T_9a998c0c_1612_11eb_af2a_eb0c972a2d18row2_col2{\n",
       "            background-color:  yellow;\n",
       "            background-color:  #6c8ff1;\n",
       "            color:  #000000;\n",
       "        }#T_9a998c0c_1612_11eb_af2a_eb0c972a2d18row2_col3{\n",
       "            background-color:  yellow;\n",
       "            background-color:  #a5c3fe;\n",
       "            color:  #000000;\n",
       "        }#T_9a998c0c_1612_11eb_af2a_eb0c972a2d18row2_col4{\n",
       "            background-color:  yellow;\n",
       "            background-color:  #ead4c8;\n",
       "            color:  #000000;\n",
       "        }#T_9a998c0c_1612_11eb_af2a_eb0c972a2d18row2_col5{\n",
       "            background-color:  yellow;\n",
       "            background-color:  #e3d9d3;\n",
       "            color:  #000000;\n",
       "        }#T_9a998c0c_1612_11eb_af2a_eb0c972a2d18row3_col1{\n",
       "            background-color:  yellow;\n",
       "            background-color:  #97b8ff;\n",
       "            color:  #000000;\n",
       "        }#T_9a998c0c_1612_11eb_af2a_eb0c972a2d18row3_col2{\n",
       "            background-color:  yellow;\n",
       "            background-color:  #b40426;\n",
       "            color:  #f1f1f1;\n",
       "        }#T_9a998c0c_1612_11eb_af2a_eb0c972a2d18row3_col3{\n",
       "            background-color:  yellow;\n",
       "            background-color:  #89acfd;\n",
       "            color:  #000000;\n",
       "        }#T_9a998c0c_1612_11eb_af2a_eb0c972a2d18row3_col4{\n",
       "            background-color:  yellow;\n",
       "            background-color:  #6788ee;\n",
       "            color:  #000000;\n",
       "        }#T_9a998c0c_1612_11eb_af2a_eb0c972a2d18row3_col5{\n",
       "            background-color:  yellow;\n",
       "            background-color:  #cad8ef;\n",
       "            color:  #000000;\n",
       "        }#T_9a998c0c_1612_11eb_af2a_eb0c972a2d18row4_col1{\n",
       "            background-color:  #9fbfff;\n",
       "            color:  #000000;\n",
       "        }#T_9a998c0c_1612_11eb_af2a_eb0c972a2d18row4_col2{\n",
       "            background-color:  #7396f5;\n",
       "            color:  #000000;\n",
       "        }#T_9a998c0c_1612_11eb_af2a_eb0c972a2d18row4_col3{\n",
       "            background-color:  #b3cdfb;\n",
       "            color:  #000000;\n",
       "        }#T_9a998c0c_1612_11eb_af2a_eb0c972a2d18row4_col4{\n",
       "            background-color:  #7b9ff9;\n",
       "            color:  #000000;\n",
       "        }#T_9a998c0c_1612_11eb_af2a_eb0c972a2d18row4_col5{\n",
       "            background-color:  #b7cff9;\n",
       "            color:  #000000;\n",
       "        }#T_9a998c0c_1612_11eb_af2a_eb0c972a2d18row5_col1{\n",
       "            background-color:  yellow;\n",
       "            background-color:  #86a9fc;\n",
       "            color:  #000000;\n",
       "        }#T_9a998c0c_1612_11eb_af2a_eb0c972a2d18row5_col2,#T_9a998c0c_1612_11eb_af2a_eb0c972a2d18row7_col2{\n",
       "            background-color:  yellow;\n",
       "            background-color:  #3b4cc0;\n",
       "            color:  #f1f1f1;\n",
       "        }#T_9a998c0c_1612_11eb_af2a_eb0c972a2d18row5_col3{\n",
       "            background-color:  yellow;\n",
       "            background-color:  #94b6ff;\n",
       "            color:  #000000;\n",
       "        }#T_9a998c0c_1612_11eb_af2a_eb0c972a2d18row5_col4,#T_9a998c0c_1612_11eb_af2a_eb0c972a2d18row7_col4{\n",
       "            background-color:  yellow;\n",
       "            background-color:  #6b8df0;\n",
       "            color:  #000000;\n",
       "        }#T_9a998c0c_1612_11eb_af2a_eb0c972a2d18row5_col5{\n",
       "            background-color:  yellow;\n",
       "            background-color:  #92b4fe;\n",
       "            color:  #000000;\n",
       "        }#T_9a998c0c_1612_11eb_af2a_eb0c972a2d18row6_col1{\n",
       "            background-color:  #6282ea;\n",
       "            color:  #000000;\n",
       "        }#T_9a998c0c_1612_11eb_af2a_eb0c972a2d18row6_col2{\n",
       "            background-color:  #96b7ff;\n",
       "            color:  #000000;\n",
       "        }#T_9a998c0c_1612_11eb_af2a_eb0c972a2d18row6_col3{\n",
       "            background-color:  #7295f4;\n",
       "            color:  #000000;\n",
       "        }#T_9a998c0c_1612_11eb_af2a_eb0c972a2d18row6_col4{\n",
       "            background-color:  #536edd;\n",
       "            color:  #000000;\n",
       "        }#T_9a998c0c_1612_11eb_af2a_eb0c972a2d18row6_col5{\n",
       "            background-color:  #7da0f9;\n",
       "            color:  #000000;\n",
       "        }#T_9a998c0c_1612_11eb_af2a_eb0c972a2d18row7_col1{\n",
       "            background-color:  yellow;\n",
       "            background-color:  #a6c4fe;\n",
       "            color:  #000000;\n",
       "        }#T_9a998c0c_1612_11eb_af2a_eb0c972a2d18row7_col3,#T_9a998c0c_1612_11eb_af2a_eb0c972a2d18row8_col1{\n",
       "            background-color:  yellow;\n",
       "            background-color:  #5d7ce6;\n",
       "            color:  #000000;\n",
       "        }#T_9a998c0c_1612_11eb_af2a_eb0c972a2d18row7_col5{\n",
       "            background-color:  yellow;\n",
       "            background-color:  #7b9ff9;\n",
       "            color:  #000000;\n",
       "        }#T_9a998c0c_1612_11eb_af2a_eb0c972a2d18row8_col2,#T_9a998c0c_1612_11eb_af2a_eb0c972a2d18row8_col5{\n",
       "            background-color:  yellow;\n",
       "            background-color:  #6384eb;\n",
       "            color:  #000000;\n",
       "        }#T_9a998c0c_1612_11eb_af2a_eb0c972a2d18row8_col3{\n",
       "            background-color:  yellow;\n",
       "            background-color:  #5b7ae5;\n",
       "            color:  #000000;\n",
       "        }#T_9a998c0c_1612_11eb_af2a_eb0c972a2d18row8_col4{\n",
       "            background-color:  yellow;\n",
       "            background-color:  #4b64d5;\n",
       "            color:  #f1f1f1;\n",
       "        }#T_9a998c0c_1612_11eb_af2a_eb0c972a2d18row9_col1{\n",
       "            background-color:  #4358cb;\n",
       "            color:  #f1f1f1;\n",
       "        }#T_9a998c0c_1612_11eb_af2a_eb0c972a2d18row9_col2{\n",
       "            background-color:  #c6d6f1;\n",
       "            color:  #000000;\n",
       "        }#T_9a998c0c_1612_11eb_af2a_eb0c972a2d18row9_col3{\n",
       "            background-color:  #4055c8;\n",
       "            color:  #f1f1f1;\n",
       "        }#T_9a998c0c_1612_11eb_af2a_eb0c972a2d18row9_col4{\n",
       "            background-color:  #465ecf;\n",
       "            color:  #f1f1f1;\n",
       "        }#T_9a998c0c_1612_11eb_af2a_eb0c972a2d18row9_col5{\n",
       "            background-color:  #5977e3;\n",
       "            color:  #000000;\n",
       "        }#T_9a998c0c_1612_11eb_af2a_eb0c972a2d18row10_col1{\n",
       "            background-color:  yellow;\n",
       "            background-color:  #4a63d3;\n",
       "            color:  #f1f1f1;\n",
       "        }#T_9a998c0c_1612_11eb_af2a_eb0c972a2d18row10_col2{\n",
       "            background-color:  yellow;\n",
       "            background-color:  #81a4fb;\n",
       "            color:  #000000;\n",
       "        }#T_9a998c0c_1612_11eb_af2a_eb0c972a2d18row10_col3{\n",
       "            background-color:  yellow;\n",
       "            background-color:  #4358cb;\n",
       "            color:  #f1f1f1;\n",
       "        }#T_9a998c0c_1612_11eb_af2a_eb0c972a2d18row10_col4{\n",
       "            background-color:  yellow;\n",
       "            background-color:  #4c66d6;\n",
       "            color:  #000000;\n",
       "        }#T_9a998c0c_1612_11eb_af2a_eb0c972a2d18row10_col5{\n",
       "            background-color:  yellow;\n",
       "            background-color:  #536edd;\n",
       "            color:  #000000;\n",
       "        }#T_9a998c0c_1612_11eb_af2a_eb0c972a2d18row11_col1,#T_9a998c0c_1612_11eb_af2a_eb0c972a2d18row11_col3,#T_9a998c0c_1612_11eb_af2a_eb0c972a2d18row11_col4,#T_9a998c0c_1612_11eb_af2a_eb0c972a2d18row11_col5{\n",
       "            background-color:  #3b4cc0;\n",
       "            color:  #f1f1f1;\n",
       "        }#T_9a998c0c_1612_11eb_af2a_eb0c972a2d18row11_col2{\n",
       "            background-color:  #3d50c3;\n",
       "            color:  #f1f1f1;\n",
       "        }</style><table id=\"T_9a998c0c_1612_11eb_af2a_eb0c972a2d18\" ><thead>    <tr>        <th class=\"blank level0\" ></th>        <th class=\"col_heading level0 col0\" >platform</th>        <th class=\"col_heading level0 col1\" >eu_sales</th>        <th class=\"col_heading level0 col2\" >jp_sales</th>        <th class=\"col_heading level0 col3\" >na_sales</th>        <th class=\"col_heading level0 col4\" >other_sales</th>        <th class=\"col_heading level0 col5\" >total_sales</th>    </tr></thead><tbody>\n",
       "                <tr>\n",
       "                        <th id=\"T_9a998c0c_1612_11eb_af2a_eb0c972a2d18level0_row0\" class=\"row_heading level0 row0\" >4</th>\n",
       "                        <td id=\"T_9a998c0c_1612_11eb_af2a_eb0c972a2d18row0_col0\" class=\"data row0 col0\" >ps3</td>\n",
       "                        <td id=\"T_9a998c0c_1612_11eb_af2a_eb0c972a2d18row0_col1\" class=\"data row0 col1\" >214.740000</td>\n",
       "                        <td id=\"T_9a998c0c_1612_11eb_af2a_eb0c972a2d18row0_col2\" class=\"data row0 col2\" >59.360000</td>\n",
       "                        <td id=\"T_9a998c0c_1612_11eb_af2a_eb0c972a2d18row0_col3\" class=\"data row0 col3\" >230.470000</td>\n",
       "                        <td id=\"T_9a998c0c_1612_11eb_af2a_eb0c972a2d18row0_col4\" class=\"data row0 col4\" >86.080000</td>\n",
       "                        <td id=\"T_9a998c0c_1612_11eb_af2a_eb0c972a2d18row0_col5\" class=\"data row0 col5\" >590.650000</td>\n",
       "            </tr>\n",
       "            <tr>\n",
       "                        <th id=\"T_9a998c0c_1612_11eb_af2a_eb0c972a2d18level0_row1\" class=\"row_heading level0 row1\" >10</th>\n",
       "                        <td id=\"T_9a998c0c_1612_11eb_af2a_eb0c972a2d18row1_col0\" class=\"data row1 col0\" >x360</td>\n",
       "                        <td id=\"T_9a998c0c_1612_11eb_af2a_eb0c972a2d18row1_col1\" class=\"data row1 col1\" >164.290000</td>\n",
       "                        <td id=\"T_9a998c0c_1612_11eb_af2a_eb0c972a2d18row1_col2\" class=\"data row1 col2\" >5.470000</td>\n",
       "                        <td id=\"T_9a998c0c_1612_11eb_af2a_eb0c972a2d18row1_col3\" class=\"data row1 col3\" >335.930000</td>\n",
       "                        <td id=\"T_9a998c0c_1612_11eb_af2a_eb0c972a2d18row1_col4\" class=\"data row1 col4\" >47.610000</td>\n",
       "                        <td id=\"T_9a998c0c_1612_11eb_af2a_eb0c972a2d18row1_col5\" class=\"data row1 col5\" >553.300000</td>\n",
       "            </tr>\n",
       "            <tr>\n",
       "                        <th id=\"T_9a998c0c_1612_11eb_af2a_eb0c972a2d18level0_row2\" class=\"row_heading level0 row2\" >5</th>\n",
       "                        <td id=\"T_9a998c0c_1612_11eb_af2a_eb0c972a2d18row2_col0\" class=\"data row2 col0\" >ps4</td>\n",
       "                        <td id=\"T_9a998c0c_1612_11eb_af2a_eb0c972a2d18row2_col1\" class=\"data row2 col1\" >141.090000</td>\n",
       "                        <td id=\"T_9a998c0c_1612_11eb_af2a_eb0c972a2d18row2_col2\" class=\"data row2 col2\" >15.960000</td>\n",
       "                        <td id=\"T_9a998c0c_1612_11eb_af2a_eb0c972a2d18row2_col3\" class=\"data row2 col3\" >108.740000</td>\n",
       "                        <td id=\"T_9a998c0c_1612_11eb_af2a_eb0c972a2d18row2_col4\" class=\"data row2 col4\" >48.350000</td>\n",
       "                        <td id=\"T_9a998c0c_1612_11eb_af2a_eb0c972a2d18row2_col5\" class=\"data row2 col5\" >314.140000</td>\n",
       "            </tr>\n",
       "            <tr>\n",
       "                        <th id=\"T_9a998c0c_1612_11eb_af2a_eb0c972a2d18level0_row3\" class=\"row_heading level0 row3\" >0</th>\n",
       "                        <td id=\"T_9a998c0c_1612_11eb_af2a_eb0c972a2d18row3_col0\" class=\"data row3 col0\" >3ds</td>\n",
       "                        <td id=\"T_9a998c0c_1612_11eb_af2a_eb0c972a2d18row3_col1\" class=\"data row3 col1\" >61.460000</td>\n",
       "                        <td id=\"T_9a998c0c_1612_11eb_af2a_eb0c972a2d18row3_col2\" class=\"data row3 col2\" >100.620000</td>\n",
       "                        <td id=\"T_9a998c0c_1612_11eb_af2a_eb0c972a2d18row3_col3\" class=\"data row3 col3\" >83.110000</td>\n",
       "                        <td id=\"T_9a998c0c_1612_11eb_af2a_eb0c972a2d18row3_col4\" class=\"data row3 col4\" >13.320000</td>\n",
       "                        <td id=\"T_9a998c0c_1612_11eb_af2a_eb0c972a2d18row3_col5\" class=\"data row3 col5\" >258.510000</td>\n",
       "            </tr>\n",
       "            <tr>\n",
       "                        <th id=\"T_9a998c0c_1612_11eb_af2a_eb0c972a2d18level0_row4\" class=\"row_heading level0 row4\" >8</th>\n",
       "                        <td id=\"T_9a998c0c_1612_11eb_af2a_eb0c972a2d18row4_col0\" class=\"data row4 col0\" >wii</td>\n",
       "                        <td id=\"T_9a998c0c_1612_11eb_af2a_eb0c972a2d18row4_col1\" class=\"data row4 col1\" >66.350000</td>\n",
       "                        <td id=\"T_9a998c0c_1612_11eb_af2a_eb0c972a2d18row4_col2\" class=\"data row4 col2\" >17.750000</td>\n",
       "                        <td id=\"T_9a998c0c_1612_11eb_af2a_eb0c972a2d18row4_col3\" class=\"data row4 col3\" >122.680000</td>\n",
       "                        <td id=\"T_9a998c0c_1612_11eb_af2a_eb0c972a2d18row4_col4\" class=\"data row4 col4\" >18.280000</td>\n",
       "                        <td id=\"T_9a998c0c_1612_11eb_af2a_eb0c972a2d18row4_col5\" class=\"data row4 col5\" >225.060000</td>\n",
       "            </tr>\n",
       "            <tr>\n",
       "                        <th id=\"T_9a998c0c_1612_11eb_af2a_eb0c972a2d18level0_row5\" class=\"row_heading level0 row5\" >11</th>\n",
       "                        <td id=\"T_9a998c0c_1612_11eb_af2a_eb0c972a2d18row5_col0\" class=\"data row5 col0\" >xone</td>\n",
       "                        <td id=\"T_9a998c0c_1612_11eb_af2a_eb0c972a2d18row5_col1\" class=\"data row5 col1\" >51.590000</td>\n",
       "                        <td id=\"T_9a998c0c_1612_11eb_af2a_eb0c972a2d18row5_col2\" class=\"data row5 col2\" >0.340000</td>\n",
       "                        <td id=\"T_9a998c0c_1612_11eb_af2a_eb0c972a2d18row5_col3\" class=\"data row5 col3\" >93.120000</td>\n",
       "                        <td id=\"T_9a998c0c_1612_11eb_af2a_eb0c972a2d18row5_col4\" class=\"data row5 col4\" >14.270000</td>\n",
       "                        <td id=\"T_9a998c0c_1612_11eb_af2a_eb0c972a2d18row5_col5\" class=\"data row5 col5\" >159.320000</td>\n",
       "            </tr>\n",
       "            <tr>\n",
       "                        <th id=\"T_9a998c0c_1612_11eb_af2a_eb0c972a2d18level0_row6\" class=\"row_heading level0 row6\" >1</th>\n",
       "                        <td id=\"T_9a998c0c_1612_11eb_af2a_eb0c972a2d18row6_col0\" class=\"data row6 col0\" >ds</td>\n",
       "                        <td id=\"T_9a998c0c_1612_11eb_af2a_eb0c972a2d18row6_col1\" class=\"data row6 col1\" >28.340000</td>\n",
       "                        <td id=\"T_9a998c0c_1612_11eb_af2a_eb0c972a2d18row6_col2\" class=\"data row6 col2\" >27.900000</td>\n",
       "                        <td id=\"T_9a998c0c_1612_11eb_af2a_eb0c972a2d18row6_col3\" class=\"data row6 col3\" >60.420000</td>\n",
       "                        <td id=\"T_9a998c0c_1612_11eb_af2a_eb0c972a2d18row6_col4\" class=\"data row6 col4\" >8.230000</td>\n",
       "                        <td id=\"T_9a998c0c_1612_11eb_af2a_eb0c972a2d18row6_col5\" class=\"data row6 col5\" >124.890000</td>\n",
       "            </tr>\n",
       "            <tr>\n",
       "                        <th id=\"T_9a998c0c_1612_11eb_af2a_eb0c972a2d18level0_row7\" class=\"row_heading level0 row7\" >2</th>\n",
       "                        <td id=\"T_9a998c0c_1612_11eb_af2a_eb0c972a2d18row7_col0\" class=\"data row7 col0\" >pc</td>\n",
       "                        <td id=\"T_9a998c0c_1612_11eb_af2a_eb0c972a2d18row7_col1\" class=\"data row7 col1\" >70.500000</td>\n",
       "                        <td id=\"T_9a998c0c_1612_11eb_af2a_eb0c972a2d18row7_col2\" class=\"data row7 col2\" >0.000000</td>\n",
       "                        <td id=\"T_9a998c0c_1612_11eb_af2a_eb0c972a2d18row7_col3\" class=\"data row7 col3\" >39.870000</td>\n",
       "                        <td id=\"T_9a998c0c_1612_11eb_af2a_eb0c972a2d18row7_col4\" class=\"data row7 col4\" >14.450000</td>\n",
       "                        <td id=\"T_9a998c0c_1612_11eb_af2a_eb0c972a2d18row7_col5\" class=\"data row7 col5\" >124.820000</td>\n",
       "            </tr>\n",
       "            <tr>\n",
       "                        <th id=\"T_9a998c0c_1612_11eb_af2a_eb0c972a2d18level0_row8\" class=\"row_heading level0 row8\" >9</th>\n",
       "                        <td id=\"T_9a998c0c_1612_11eb_af2a_eb0c972a2d18row8_col0\" class=\"data row8 col0\" >wiiu</td>\n",
       "                        <td id=\"T_9a998c0c_1612_11eb_af2a_eb0c972a2d18row8_col1\" class=\"data row8 col1\" >25.130000</td>\n",
       "                        <td id=\"T_9a998c0c_1612_11eb_af2a_eb0c972a2d18row8_col2\" class=\"data row8 col2\" >13.010000</td>\n",
       "                        <td id=\"T_9a998c0c_1612_11eb_af2a_eb0c972a2d18row8_col3\" class=\"data row8 col3\" >38.100000</td>\n",
       "                        <td id=\"T_9a998c0c_1612_11eb_af2a_eb0c972a2d18row8_col4\" class=\"data row8 col4\" >5.950000</td>\n",
       "                        <td id=\"T_9a998c0c_1612_11eb_af2a_eb0c972a2d18row8_col5\" class=\"data row8 col5\" >82.190000</td>\n",
       "            </tr>\n",
       "            <tr>\n",
       "                        <th id=\"T_9a998c0c_1612_11eb_af2a_eb0c972a2d18level0_row9\" class=\"row_heading level0 row9\" >6</th>\n",
       "                        <td id=\"T_9a998c0c_1612_11eb_af2a_eb0c972a2d18row9_col0\" class=\"data row9 col0\" >psp</td>\n",
       "                        <td id=\"T_9a998c0c_1612_11eb_af2a_eb0c972a2d18row9_col1\" class=\"data row9 col1\" >7.690000</td>\n",
       "                        <td id=\"T_9a998c0c_1612_11eb_af2a_eb0c972a2d18row9_col2\" class=\"data row9 col2\" >42.440000</td>\n",
       "                        <td id=\"T_9a998c0c_1612_11eb_af2a_eb0c972a2d18row9_col3\" class=\"data row9 col3\" >9.750000</td>\n",
       "                        <td id=\"T_9a998c0c_1612_11eb_af2a_eb0c972a2d18row9_col4\" class=\"data row9 col4\" >4.670000</td>\n",
       "                        <td id=\"T_9a998c0c_1612_11eb_af2a_eb0c972a2d18row9_col5\" class=\"data row9 col5\" >64.550000</td>\n",
       "            </tr>\n",
       "            <tr>\n",
       "                        <th id=\"T_9a998c0c_1612_11eb_af2a_eb0c972a2d18level0_row10\" class=\"row_heading level0 row10\" >7</th>\n",
       "                        <td id=\"T_9a998c0c_1612_11eb_af2a_eb0c972a2d18row10_col0\" class=\"data row10 col0\" >psv</td>\n",
       "                        <td id=\"T_9a998c0c_1612_11eb_af2a_eb0c972a2d18row10_col1\" class=\"data row10 col1\" >13.070000</td>\n",
       "                        <td id=\"T_9a998c0c_1612_11eb_af2a_eb0c972a2d18row10_col2\" class=\"data row10 col2\" >21.840000</td>\n",
       "                        <td id=\"T_9a998c0c_1612_11eb_af2a_eb0c972a2d18row10_col3\" class=\"data row10 col3\" >12.470000</td>\n",
       "                        <td id=\"T_9a998c0c_1612_11eb_af2a_eb0c972a2d18row10_col4\" class=\"data row10 col4\" >6.430000</td>\n",
       "                        <td id=\"T_9a998c0c_1612_11eb_af2a_eb0c972a2d18row10_col5\" class=\"data row10 col5\" >53.810000</td>\n",
       "            </tr>\n",
       "            <tr>\n",
       "                        <th id=\"T_9a998c0c_1612_11eb_af2a_eb0c972a2d18level0_row11\" class=\"row_heading level0 row11\" >3</th>\n",
       "                        <td id=\"T_9a998c0c_1612_11eb_af2a_eb0c972a2d18row11_col0\" class=\"data row11 col0\" >ps2</td>\n",
       "                        <td id=\"T_9a998c0c_1612_11eb_af2a_eb0c972a2d18row11_col1\" class=\"data row11 col1\" >1.670000</td>\n",
       "                        <td id=\"T_9a998c0c_1612_11eb_af2a_eb0c972a2d18row11_col2\" class=\"data row11 col2\" >0.800000</td>\n",
       "                        <td id=\"T_9a998c0c_1612_11eb_af2a_eb0c972a2d18row11_col3\" class=\"data row11 col3\" >2.320000</td>\n",
       "                        <td id=\"T_9a998c0c_1612_11eb_af2a_eb0c972a2d18row11_col4\" class=\"data row11 col4\" >1.300000</td>\n",
       "                        <td id=\"T_9a998c0c_1612_11eb_af2a_eb0c972a2d18row11_col5\" class=\"data row11 col5\" >6.090000</td>\n",
       "            </tr>\n",
       "    </tbody></table>"
      ],
      "text/plain": [
       "<pandas.io.formats.style.Styler at 0x7f0aec1e5880>"
      ]
     },
     "execution_count": 69,
     "metadata": {},
     "output_type": "execute_result"
    }
   ],
   "source": [
    "(df_regions_platforms.style\n",
    "                           .apply(lambda row: np.repeat('background-color: yellow' if row['platform'] in relevant_platforms else '',\n",
    "                                                   row.shape[0]), axis=1)\n",
    "                           .background_gradient(cmap='coolwarm'))"
   ]
  },
  {
   "cell_type": "markdown",
   "metadata": {},
   "source": [
    "It is immediately noticeable that the Japanese market differs from other regions in terms of platform popularity. 3ds is number one in sales here, while ps3 is number one in Europe, America and other regions. We can say that the distribution of platform popularity in Europe, America and other regions is very similar, but in Japan they differ markedly, except perhaps for the ps3, where in Japan this console is in second place in popularity. For example, copies of games on the x360 console were sold 50 times !!! less in Japan than in the states. Meanwhile, the difference in sales for the most popular Japanese platform 3ds was only 20% higher in Japan than in America.\n",
    "\n",
    "Let's look at the TOP5 platforms for each region and calculate the share of sales from the total amount:"
   ]
  },
  {
   "cell_type": "code",
   "execution_count": 70,
   "metadata": {},
   "outputs": [],
   "source": [
    "df_eu_platforms = (df_regions_platforms[['platform','eu_sales','total_sales']]\n",
    "                                                                              .sort_values(by='eu_sales',\n",
    "                                                                                           ascending=False)\n",
    "                                                                              .nlargest(5, ['eu_sales']))\n",
    "df_eu_platforms['eu_sales_share'] = df_eu_platforms['eu_sales'] / df_eu_platforms['total_sales']"
   ]
  },
  {
   "cell_type": "code",
   "execution_count": 71,
   "metadata": {},
   "outputs": [
    {
     "name": "stdout",
     "output_type": "stream",
     "text": [
      "Top platforms for Europe:\n"
     ]
    },
    {
     "data": {
      "text/html": [
       "<style  type=\"text/css\" >\n",
       "#T_9a9f57ea_1612_11eb_af2a_eb0c972a2d18row0_col1,#T_9a9f57ea_1612_11eb_af2a_eb0c972a2d18row0_col2{\n",
       "            background-color:  #b40426;\n",
       "            color:  #f1f1f1;\n",
       "        }#T_9a9f57ea_1612_11eb_af2a_eb0c972a2d18row0_col3{\n",
       "            background-color:  #8fb1fe;\n",
       "            color:  #000000;\n",
       "        }#T_9a9f57ea_1612_11eb_af2a_eb0c972a2d18row1_col1{\n",
       "            background-color:  #f7ba9f;\n",
       "            color:  #000000;\n",
       "        }#T_9a9f57ea_1612_11eb_af2a_eb0c972a2d18row1_col2{\n",
       "            background-color:  #d0473d;\n",
       "            color:  #f1f1f1;\n",
       "        }#T_9a9f57ea_1612_11eb_af2a_eb0c972a2d18row1_col3{\n",
       "            background-color:  #3d50c3;\n",
       "            color:  #f1f1f1;\n",
       "        }#T_9a9f57ea_1612_11eb_af2a_eb0c972a2d18row2_col0,#T_9a9f57ea_1612_11eb_af2a_eb0c972a2d18row3_col0{\n",
       "            background-color:  yellow;\n",
       "        }#T_9a9f57ea_1612_11eb_af2a_eb0c972a2d18row2_col1{\n",
       "            background-color:  yellow;\n",
       "            background-color:  #dddcdc;\n",
       "            color:  #000000;\n",
       "        }#T_9a9f57ea_1612_11eb_af2a_eb0c972a2d18row2_col2{\n",
       "            background-color:  yellow;\n",
       "            background-color:  #c3d5f4;\n",
       "            color:  #000000;\n",
       "        }#T_9a9f57ea_1612_11eb_af2a_eb0c972a2d18row2_col3{\n",
       "            background-color:  yellow;\n",
       "            background-color:  #edd1c2;\n",
       "            color:  #000000;\n",
       "        }#T_9a9f57ea_1612_11eb_af2a_eb0c972a2d18row3_col1{\n",
       "            background-color:  yellow;\n",
       "            background-color:  #4358cb;\n",
       "            color:  #f1f1f1;\n",
       "        }#T_9a9f57ea_1612_11eb_af2a_eb0c972a2d18row3_col2{\n",
       "            background-color:  yellow;\n",
       "            background-color:  #3b4cc0;\n",
       "            color:  #f1f1f1;\n",
       "        }#T_9a9f57ea_1612_11eb_af2a_eb0c972a2d18row3_col3{\n",
       "            background-color:  yellow;\n",
       "            background-color:  #b40426;\n",
       "            color:  #f1f1f1;\n",
       "        }#T_9a9f57ea_1612_11eb_af2a_eb0c972a2d18row4_col1,#T_9a9f57ea_1612_11eb_af2a_eb0c972a2d18row4_col3{\n",
       "            background-color:  #3b4cc0;\n",
       "            color:  #f1f1f1;\n",
       "        }#T_9a9f57ea_1612_11eb_af2a_eb0c972a2d18row4_col2{\n",
       "            background-color:  #81a4fb;\n",
       "            color:  #000000;\n",
       "        }</style><table id=\"T_9a9f57ea_1612_11eb_af2a_eb0c972a2d18\" ><thead>    <tr>        <th class=\"blank level0\" ></th>        <th class=\"col_heading level0 col0\" >platform</th>        <th class=\"col_heading level0 col1\" >eu_sales</th>        <th class=\"col_heading level0 col2\" >total_sales</th>        <th class=\"col_heading level0 col3\" >eu_sales_share</th>    </tr></thead><tbody>\n",
       "                <tr>\n",
       "                        <th id=\"T_9a9f57ea_1612_11eb_af2a_eb0c972a2d18level0_row0\" class=\"row_heading level0 row0\" >4</th>\n",
       "                        <td id=\"T_9a9f57ea_1612_11eb_af2a_eb0c972a2d18row0_col0\" class=\"data row0 col0\" >ps3</td>\n",
       "                        <td id=\"T_9a9f57ea_1612_11eb_af2a_eb0c972a2d18row0_col1\" class=\"data row0 col1\" >214.740000</td>\n",
       "                        <td id=\"T_9a9f57ea_1612_11eb_af2a_eb0c972a2d18row0_col2\" class=\"data row0 col2\" >590.650000</td>\n",
       "                        <td id=\"T_9a9f57ea_1612_11eb_af2a_eb0c972a2d18row0_col3\" class=\"data row0 col3\" >36%</td>\n",
       "            </tr>\n",
       "            <tr>\n",
       "                        <th id=\"T_9a9f57ea_1612_11eb_af2a_eb0c972a2d18level0_row1\" class=\"row_heading level0 row1\" >10</th>\n",
       "                        <td id=\"T_9a9f57ea_1612_11eb_af2a_eb0c972a2d18row1_col0\" class=\"data row1 col0\" >x360</td>\n",
       "                        <td id=\"T_9a9f57ea_1612_11eb_af2a_eb0c972a2d18row1_col1\" class=\"data row1 col1\" >164.290000</td>\n",
       "                        <td id=\"T_9a9f57ea_1612_11eb_af2a_eb0c972a2d18row1_col2\" class=\"data row1 col2\" >553.300000</td>\n",
       "                        <td id=\"T_9a9f57ea_1612_11eb_af2a_eb0c972a2d18row1_col3\" class=\"data row1 col3\" >30%</td>\n",
       "            </tr>\n",
       "            <tr>\n",
       "                        <th id=\"T_9a9f57ea_1612_11eb_af2a_eb0c972a2d18level0_row2\" class=\"row_heading level0 row2\" >5</th>\n",
       "                        <td id=\"T_9a9f57ea_1612_11eb_af2a_eb0c972a2d18row2_col0\" class=\"data row2 col0\" >ps4</td>\n",
       "                        <td id=\"T_9a9f57ea_1612_11eb_af2a_eb0c972a2d18row2_col1\" class=\"data row2 col1\" >141.090000</td>\n",
       "                        <td id=\"T_9a9f57ea_1612_11eb_af2a_eb0c972a2d18row2_col2\" class=\"data row2 col2\" >314.140000</td>\n",
       "                        <td id=\"T_9a9f57ea_1612_11eb_af2a_eb0c972a2d18row2_col3\" class=\"data row2 col3\" >45%</td>\n",
       "            </tr>\n",
       "            <tr>\n",
       "                        <th id=\"T_9a9f57ea_1612_11eb_af2a_eb0c972a2d18level0_row3\" class=\"row_heading level0 row3\" >2</th>\n",
       "                        <td id=\"T_9a9f57ea_1612_11eb_af2a_eb0c972a2d18row3_col0\" class=\"data row3 col0\" >pc</td>\n",
       "                        <td id=\"T_9a9f57ea_1612_11eb_af2a_eb0c972a2d18row3_col1\" class=\"data row3 col1\" >70.500000</td>\n",
       "                        <td id=\"T_9a9f57ea_1612_11eb_af2a_eb0c972a2d18row3_col2\" class=\"data row3 col2\" >124.820000</td>\n",
       "                        <td id=\"T_9a9f57ea_1612_11eb_af2a_eb0c972a2d18row3_col3\" class=\"data row3 col3\" >56%</td>\n",
       "            </tr>\n",
       "            <tr>\n",
       "                        <th id=\"T_9a9f57ea_1612_11eb_af2a_eb0c972a2d18level0_row4\" class=\"row_heading level0 row4\" >8</th>\n",
       "                        <td id=\"T_9a9f57ea_1612_11eb_af2a_eb0c972a2d18row4_col0\" class=\"data row4 col0\" >wii</td>\n",
       "                        <td id=\"T_9a9f57ea_1612_11eb_af2a_eb0c972a2d18row4_col1\" class=\"data row4 col1\" >66.350000</td>\n",
       "                        <td id=\"T_9a9f57ea_1612_11eb_af2a_eb0c972a2d18row4_col2\" class=\"data row4 col2\" >225.060000</td>\n",
       "                        <td id=\"T_9a9f57ea_1612_11eb_af2a_eb0c972a2d18row4_col3\" class=\"data row4 col3\" >29%</td>\n",
       "            </tr>\n",
       "    </tbody></table>"
      ],
      "text/plain": [
       "<pandas.io.formats.style.Styler at 0x7f0aec1eeee0>"
      ]
     },
     "execution_count": 71,
     "metadata": {},
     "output_type": "execute_result"
    }
   ],
   "source": [
    "print('Top platforms for Europe:')\n",
    "(df_eu_platforms.style\n",
    "                      .apply(lambda row: np.repeat('background-color: yellow' if row['platform'] in relevant_platforms else '',\n",
    "                                                   row.shape[0]), axis=1)\n",
    "                      .background_gradient(cmap='coolwarm')\n",
    "                      .format({'eu_sales_share': '{:,.0%}'.format})\n",
    ")"
   ]
  },
  {
   "cell_type": "code",
   "execution_count": 72,
   "metadata": {},
   "outputs": [],
   "source": [
    "df_jp_platforms = (df_regions_platforms[['platform','jp_sales','total_sales']]\n",
    "                                                                              .sort_values(by='jp_sales',\n",
    "                                                                                           ascending=False)\n",
    "                                                                              .nlargest(5, ['jp_sales']))\n",
    "df_jp_platforms['jp_sales_share'] = df_jp_platforms['jp_sales'] / df_jp_platforms['total_sales']"
   ]
  },
  {
   "cell_type": "code",
   "execution_count": 73,
   "metadata": {},
   "outputs": [
    {
     "name": "stdout",
     "output_type": "stream",
     "text": [
      "Top platforms for Japan:\n"
     ]
    },
    {
     "data": {
      "text/html": [
       "<style  type=\"text/css\" >\n",
       "#T_9aa4e19c_1612_11eb_af2a_eb0c972a2d18row0_col0,#T_9aa4e19c_1612_11eb_af2a_eb0c972a2d18row4_col0{\n",
       "            background-color:  yellow;\n",
       "        }#T_9aa4e19c_1612_11eb_af2a_eb0c972a2d18row0_col1{\n",
       "            background-color:  yellow;\n",
       "            background-color:  #b40426;\n",
       "            color:  #f1f1f1;\n",
       "        }#T_9aa4e19c_1612_11eb_af2a_eb0c972a2d18row0_col2{\n",
       "            background-color:  yellow;\n",
       "            background-color:  #bad0f8;\n",
       "            color:  #000000;\n",
       "        }#T_9aa4e19c_1612_11eb_af2a_eb0c972a2d18row0_col3{\n",
       "            background-color:  yellow;\n",
       "            background-color:  #e1dad6;\n",
       "            color:  #000000;\n",
       "        }#T_9aa4e19c_1612_11eb_af2a_eb0c972a2d18row1_col1{\n",
       "            background-color:  #d6dce4;\n",
       "            color:  #000000;\n",
       "        }#T_9aa4e19c_1612_11eb_af2a_eb0c972a2d18row1_col2,#T_9aa4e19c_1612_11eb_af2a_eb0c972a2d18row2_col3{\n",
       "            background-color:  #b40426;\n",
       "            color:  #f1f1f1;\n",
       "        }#T_9aa4e19c_1612_11eb_af2a_eb0c972a2d18row1_col3{\n",
       "            background-color:  #3b4cc0;\n",
       "            color:  #f1f1f1;\n",
       "        }#T_9aa4e19c_1612_11eb_af2a_eb0c972a2d18row2_col1{\n",
       "            background-color:  #90b2fe;\n",
       "            color:  #000000;\n",
       "        }#T_9aa4e19c_1612_11eb_af2a_eb0c972a2d18row2_col2{\n",
       "            background-color:  #4055c8;\n",
       "            color:  #f1f1f1;\n",
       "        }#T_9aa4e19c_1612_11eb_af2a_eb0c972a2d18row3_col1{\n",
       "            background-color:  #516ddb;\n",
       "            color:  #000000;\n",
       "        }#T_9aa4e19c_1612_11eb_af2a_eb0c972a2d18row3_col2{\n",
       "            background-color:  #6384eb;\n",
       "            color:  #000000;\n",
       "        }#T_9aa4e19c_1612_11eb_af2a_eb0c972a2d18row3_col3{\n",
       "            background-color:  #82a6fb;\n",
       "            color:  #000000;\n",
       "        }#T_9aa4e19c_1612_11eb_af2a_eb0c972a2d18row4_col1,#T_9aa4e19c_1612_11eb_af2a_eb0c972a2d18row4_col2{\n",
       "            background-color:  yellow;\n",
       "            background-color:  #3b4cc0;\n",
       "            color:  #f1f1f1;\n",
       "        }#T_9aa4e19c_1612_11eb_af2a_eb0c972a2d18row4_col3{\n",
       "            background-color:  yellow;\n",
       "            background-color:  #e9d5cb;\n",
       "            color:  #000000;\n",
       "        }</style><table id=\"T_9aa4e19c_1612_11eb_af2a_eb0c972a2d18\" ><thead>    <tr>        <th class=\"blank level0\" ></th>        <th class=\"col_heading level0 col0\" >platform</th>        <th class=\"col_heading level0 col1\" >jp_sales</th>        <th class=\"col_heading level0 col2\" >total_sales</th>        <th class=\"col_heading level0 col3\" >jp_sales_share</th>    </tr></thead><tbody>\n",
       "                <tr>\n",
       "                        <th id=\"T_9aa4e19c_1612_11eb_af2a_eb0c972a2d18level0_row0\" class=\"row_heading level0 row0\" >0</th>\n",
       "                        <td id=\"T_9aa4e19c_1612_11eb_af2a_eb0c972a2d18row0_col0\" class=\"data row0 col0\" >3ds</td>\n",
       "                        <td id=\"T_9aa4e19c_1612_11eb_af2a_eb0c972a2d18row0_col1\" class=\"data row0 col1\" >100.620000</td>\n",
       "                        <td id=\"T_9aa4e19c_1612_11eb_af2a_eb0c972a2d18row0_col2\" class=\"data row0 col2\" >258.510000</td>\n",
       "                        <td id=\"T_9aa4e19c_1612_11eb_af2a_eb0c972a2d18row0_col3\" class=\"data row0 col3\" >39%</td>\n",
       "            </tr>\n",
       "            <tr>\n",
       "                        <th id=\"T_9aa4e19c_1612_11eb_af2a_eb0c972a2d18level0_row1\" class=\"row_heading level0 row1\" >4</th>\n",
       "                        <td id=\"T_9aa4e19c_1612_11eb_af2a_eb0c972a2d18row1_col0\" class=\"data row1 col0\" >ps3</td>\n",
       "                        <td id=\"T_9aa4e19c_1612_11eb_af2a_eb0c972a2d18row1_col1\" class=\"data row1 col1\" >59.360000</td>\n",
       "                        <td id=\"T_9aa4e19c_1612_11eb_af2a_eb0c972a2d18row1_col2\" class=\"data row1 col2\" >590.650000</td>\n",
       "                        <td id=\"T_9aa4e19c_1612_11eb_af2a_eb0c972a2d18row1_col3\" class=\"data row1 col3\" >10%</td>\n",
       "            </tr>\n",
       "            <tr>\n",
       "                        <th id=\"T_9aa4e19c_1612_11eb_af2a_eb0c972a2d18level0_row2\" class=\"row_heading level0 row2\" >6</th>\n",
       "                        <td id=\"T_9aa4e19c_1612_11eb_af2a_eb0c972a2d18row2_col0\" class=\"data row2 col0\" >psp</td>\n",
       "                        <td id=\"T_9aa4e19c_1612_11eb_af2a_eb0c972a2d18row2_col1\" class=\"data row2 col1\" >42.440000</td>\n",
       "                        <td id=\"T_9aa4e19c_1612_11eb_af2a_eb0c972a2d18row2_col2\" class=\"data row2 col2\" >64.550000</td>\n",
       "                        <td id=\"T_9aa4e19c_1612_11eb_af2a_eb0c972a2d18row2_col3\" class=\"data row2 col3\" >66%</td>\n",
       "            </tr>\n",
       "            <tr>\n",
       "                        <th id=\"T_9aa4e19c_1612_11eb_af2a_eb0c972a2d18level0_row3\" class=\"row_heading level0 row3\" >1</th>\n",
       "                        <td id=\"T_9aa4e19c_1612_11eb_af2a_eb0c972a2d18row3_col0\" class=\"data row3 col0\" >ds</td>\n",
       "                        <td id=\"T_9aa4e19c_1612_11eb_af2a_eb0c972a2d18row3_col1\" class=\"data row3 col1\" >27.900000</td>\n",
       "                        <td id=\"T_9aa4e19c_1612_11eb_af2a_eb0c972a2d18row3_col2\" class=\"data row3 col2\" >124.890000</td>\n",
       "                        <td id=\"T_9aa4e19c_1612_11eb_af2a_eb0c972a2d18row3_col3\" class=\"data row3 col3\" >22%</td>\n",
       "            </tr>\n",
       "            <tr>\n",
       "                        <th id=\"T_9aa4e19c_1612_11eb_af2a_eb0c972a2d18level0_row4\" class=\"row_heading level0 row4\" >7</th>\n",
       "                        <td id=\"T_9aa4e19c_1612_11eb_af2a_eb0c972a2d18row4_col0\" class=\"data row4 col0\" >psv</td>\n",
       "                        <td id=\"T_9aa4e19c_1612_11eb_af2a_eb0c972a2d18row4_col1\" class=\"data row4 col1\" >21.840000</td>\n",
       "                        <td id=\"T_9aa4e19c_1612_11eb_af2a_eb0c972a2d18row4_col2\" class=\"data row4 col2\" >53.810000</td>\n",
       "                        <td id=\"T_9aa4e19c_1612_11eb_af2a_eb0c972a2d18row4_col3\" class=\"data row4 col3\" >41%</td>\n",
       "            </tr>\n",
       "    </tbody></table>"
      ],
      "text/plain": [
       "<pandas.io.formats.style.Styler at 0x7f0aec1ee400>"
      ]
     },
     "execution_count": 73,
     "metadata": {},
     "output_type": "execute_result"
    }
   ],
   "source": [
    "print('Top platforms for Japan:')\n",
    "(df_jp_platforms.style\n",
    "                      .apply(lambda row: np.repeat('background-color: yellow' if row['platform'] in relevant_platforms else '',\n",
    "                                                   row.shape[0]), axis=1)\n",
    "                      .background_gradient(cmap='coolwarm')\n",
    "                      .format({'jp_sales_share': '{:,.0%}'.format})\n",
    ")"
   ]
  },
  {
   "cell_type": "code",
   "execution_count": 74,
   "metadata": {},
   "outputs": [],
   "source": [
    "df_na_platforms = (df_regions_platforms[['platform','na_sales','total_sales']]\n",
    "                                                                              .sort_values(by='na_sales',\n",
    "                                                                                           ascending=False)\n",
    "                                                                              .nlargest(5, ['na_sales']))\n",
    "df_na_platforms['na_sales_share'] = df_na_platforms['na_sales'] / df_na_platforms['total_sales']"
   ]
  },
  {
   "cell_type": "code",
   "execution_count": 75,
   "metadata": {
    "scrolled": true
   },
   "outputs": [
    {
     "name": "stdout",
     "output_type": "stream",
     "text": [
      "Top platforms for North America:\n"
     ]
    },
    {
     "data": {
      "text/html": [
       "<style  type=\"text/css\" >\n",
       "#T_9aaaaab4_1612_11eb_af2a_eb0c972a2d18row0_col1,#T_9aaaaab4_1612_11eb_af2a_eb0c972a2d18row0_col3,#T_9aaaaab4_1612_11eb_af2a_eb0c972a2d18row1_col2{\n",
       "            background-color:  #b40426;\n",
       "            color:  #f1f1f1;\n",
       "        }#T_9aaaaab4_1612_11eb_af2a_eb0c972a2d18row0_col2{\n",
       "            background-color:  #d24b40;\n",
       "            color:  #f1f1f1;\n",
       "        }#T_9aaaaab4_1612_11eb_af2a_eb0c972a2d18row1_col1{\n",
       "            background-color:  #ecd3c5;\n",
       "            color:  #000000;\n",
       "        }#T_9aaaaab4_1612_11eb_af2a_eb0c972a2d18row1_col3{\n",
       "            background-color:  #7093f3;\n",
       "            color:  #000000;\n",
       "        }#T_9aaaaab4_1612_11eb_af2a_eb0c972a2d18row2_col1{\n",
       "            background-color:  #6180e9;\n",
       "            color:  #000000;\n",
       "        }#T_9aaaaab4_1612_11eb_af2a_eb0c972a2d18row2_col2{\n",
       "            background-color:  #6b8df0;\n",
       "            color:  #000000;\n",
       "        }#T_9aaaaab4_1612_11eb_af2a_eb0c972a2d18row2_col3{\n",
       "            background-color:  #f39475;\n",
       "            color:  #000000;\n",
       "        }#T_9aaaaab4_1612_11eb_af2a_eb0c972a2d18row3_col0,#T_9aaaaab4_1612_11eb_af2a_eb0c972a2d18row4_col0{\n",
       "            background-color:  yellow;\n",
       "        }#T_9aaaaab4_1612_11eb_af2a_eb0c972a2d18row3_col1{\n",
       "            background-color:  yellow;\n",
       "            background-color:  #4e68d8;\n",
       "            color:  #000000;\n",
       "        }#T_9aaaaab4_1612_11eb_af2a_eb0c972a2d18row3_col2{\n",
       "            background-color:  yellow;\n",
       "            background-color:  #b2ccfb;\n",
       "            color:  #000000;\n",
       "        }#T_9aaaaab4_1612_11eb_af2a_eb0c972a2d18row3_col3,#T_9aaaaab4_1612_11eb_af2a_eb0c972a2d18row4_col1,#T_9aaaaab4_1612_11eb_af2a_eb0c972a2d18row4_col2{\n",
       "            background-color:  yellow;\n",
       "            background-color:  #3b4cc0;\n",
       "            color:  #f1f1f1;\n",
       "        }#T_9aaaaab4_1612_11eb_af2a_eb0c972a2d18row4_col3{\n",
       "            background-color:  yellow;\n",
       "            background-color:  #d24b40;\n",
       "            color:  #f1f1f1;\n",
       "        }</style><table id=\"T_9aaaaab4_1612_11eb_af2a_eb0c972a2d18\" ><thead>    <tr>        <th class=\"blank level0\" ></th>        <th class=\"col_heading level0 col0\" >platform</th>        <th class=\"col_heading level0 col1\" >na_sales</th>        <th class=\"col_heading level0 col2\" >total_sales</th>        <th class=\"col_heading level0 col3\" >na_sales_share</th>    </tr></thead><tbody>\n",
       "                <tr>\n",
       "                        <th id=\"T_9aaaaab4_1612_11eb_af2a_eb0c972a2d18level0_row0\" class=\"row_heading level0 row0\" >10</th>\n",
       "                        <td id=\"T_9aaaaab4_1612_11eb_af2a_eb0c972a2d18row0_col0\" class=\"data row0 col0\" >x360</td>\n",
       "                        <td id=\"T_9aaaaab4_1612_11eb_af2a_eb0c972a2d18row0_col1\" class=\"data row0 col1\" >335.930000</td>\n",
       "                        <td id=\"T_9aaaaab4_1612_11eb_af2a_eb0c972a2d18row0_col2\" class=\"data row0 col2\" >553.300000</td>\n",
       "                        <td id=\"T_9aaaaab4_1612_11eb_af2a_eb0c972a2d18row0_col3\" class=\"data row0 col3\" >61%</td>\n",
       "            </tr>\n",
       "            <tr>\n",
       "                        <th id=\"T_9aaaaab4_1612_11eb_af2a_eb0c972a2d18level0_row1\" class=\"row_heading level0 row1\" >4</th>\n",
       "                        <td id=\"T_9aaaaab4_1612_11eb_af2a_eb0c972a2d18row1_col0\" class=\"data row1 col0\" >ps3</td>\n",
       "                        <td id=\"T_9aaaaab4_1612_11eb_af2a_eb0c972a2d18row1_col1\" class=\"data row1 col1\" >230.470000</td>\n",
       "                        <td id=\"T_9aaaaab4_1612_11eb_af2a_eb0c972a2d18row1_col2\" class=\"data row1 col2\" >590.650000</td>\n",
       "                        <td id=\"T_9aaaaab4_1612_11eb_af2a_eb0c972a2d18row1_col3\" class=\"data row1 col3\" >39%</td>\n",
       "            </tr>\n",
       "            <tr>\n",
       "                        <th id=\"T_9aaaaab4_1612_11eb_af2a_eb0c972a2d18level0_row2\" class=\"row_heading level0 row2\" >8</th>\n",
       "                        <td id=\"T_9aaaaab4_1612_11eb_af2a_eb0c972a2d18row2_col0\" class=\"data row2 col0\" >wii</td>\n",
       "                        <td id=\"T_9aaaaab4_1612_11eb_af2a_eb0c972a2d18row2_col1\" class=\"data row2 col1\" >122.680000</td>\n",
       "                        <td id=\"T_9aaaaab4_1612_11eb_af2a_eb0c972a2d18row2_col2\" class=\"data row2 col2\" >225.060000</td>\n",
       "                        <td id=\"T_9aaaaab4_1612_11eb_af2a_eb0c972a2d18row2_col3\" class=\"data row2 col3\" >55%</td>\n",
       "            </tr>\n",
       "            <tr>\n",
       "                        <th id=\"T_9aaaaab4_1612_11eb_af2a_eb0c972a2d18level0_row3\" class=\"row_heading level0 row3\" >5</th>\n",
       "                        <td id=\"T_9aaaaab4_1612_11eb_af2a_eb0c972a2d18row3_col0\" class=\"data row3 col0\" >ps4</td>\n",
       "                        <td id=\"T_9aaaaab4_1612_11eb_af2a_eb0c972a2d18row3_col1\" class=\"data row3 col1\" >108.740000</td>\n",
       "                        <td id=\"T_9aaaaab4_1612_11eb_af2a_eb0c972a2d18row3_col2\" class=\"data row3 col2\" >314.140000</td>\n",
       "                        <td id=\"T_9aaaaab4_1612_11eb_af2a_eb0c972a2d18row3_col3\" class=\"data row3 col3\" >35%</td>\n",
       "            </tr>\n",
       "            <tr>\n",
       "                        <th id=\"T_9aaaaab4_1612_11eb_af2a_eb0c972a2d18level0_row4\" class=\"row_heading level0 row4\" >11</th>\n",
       "                        <td id=\"T_9aaaaab4_1612_11eb_af2a_eb0c972a2d18row4_col0\" class=\"data row4 col0\" >xone</td>\n",
       "                        <td id=\"T_9aaaaab4_1612_11eb_af2a_eb0c972a2d18row4_col1\" class=\"data row4 col1\" >93.120000</td>\n",
       "                        <td id=\"T_9aaaaab4_1612_11eb_af2a_eb0c972a2d18row4_col2\" class=\"data row4 col2\" >159.320000</td>\n",
       "                        <td id=\"T_9aaaaab4_1612_11eb_af2a_eb0c972a2d18row4_col3\" class=\"data row4 col3\" >58%</td>\n",
       "            </tr>\n",
       "    </tbody></table>"
      ],
      "text/plain": [
       "<pandas.io.formats.style.Styler at 0x7f0aec1eeca0>"
      ]
     },
     "execution_count": 75,
     "metadata": {},
     "output_type": "execute_result"
    }
   ],
   "source": [
    "print('Top platforms for North America:')\n",
    "(df_na_platforms.style\n",
    "                      .apply(lambda row: np.repeat('background-color: yellow' if row['platform'] in relevant_platforms else '',\n",
    "                                                   row.shape[0]), axis=1)\n",
    "                      .background_gradient(cmap='coolwarm')\n",
    "                      .format({'na_sales_share': '{:,.0%}'.format})\n",
    ")"
   ]
  },
  {
   "cell_type": "markdown",
   "metadata": {},
   "source": [
    "It can be seen that the tops in Europe and America are similar, but in Japan they are different. It is noteworthy that the pc platform is present only in the European list and with a solid 56% share of total sales. That is, PC games are much more relevant in Europe than in other regions.\n",
    "\n",
    "The picture is similar with the Japanese tops: here the most popular platforms are generally absent among the tops of other regions. That is, we can say that these are platforms purely for the Japanese market, where their share of sales is high - for example, 39% for 3ds and 66% for psp.\n",
    "\n",
    "Portable consoles that can be carried around like a smartphone are very popular in Japan. They can be played everywhere: on the subway, during lunch breaks. The peculiarities of the Japanese market may have a number of reasons that are beyond the scope of this work:\n",
    "* a special culture, very different from Western civilization, and as a result - special preferences in games\n",
    "* the market is completely occupied by 'locals' and it is difficult for foreigners to get there\n",
    "* due to their historical isolationism (Sakoku), the Japanese are inherent in a great distrust and caution about everything from the outside world, so the popular Western platforms could simply not take root here"
   ]
  },
  {
   "cell_type": "markdown",
   "metadata": {},
   "source": [
    "#### TOP5 genres"
   ]
  },
  {
   "cell_type": "markdown",
   "metadata": {},
   "source": [
    "Let's look at the general picture of the popularity of genres by region, the top genres in world sales are highlighted in yellow:"
   ]
  },
  {
   "cell_type": "code",
   "execution_count": 76,
   "metadata": {},
   "outputs": [
    {
     "data": {
      "text/html": [
       "<style  type=\"text/css\" >\n",
       "#T_9aaf01cc_1612_11eb_af2a_eb0c972a2d18row0_col0,#T_9aaf01cc_1612_11eb_af2a_eb0c972a2d18row1_col0,#T_9aaf01cc_1612_11eb_af2a_eb0c972a2d18row2_col0,#T_9aaf01cc_1612_11eb_af2a_eb0c972a2d18row3_col0,#T_9aaf01cc_1612_11eb_af2a_eb0c972a2d18row4_col0{\n",
       "            background-color:  yellow;\n",
       "        }#T_9aaf01cc_1612_11eb_af2a_eb0c972a2d18row0_col1,#T_9aaf01cc_1612_11eb_af2a_eb0c972a2d18row0_col3,#T_9aaf01cc_1612_11eb_af2a_eb0c972a2d18row0_col4,#T_9aaf01cc_1612_11eb_af2a_eb0c972a2d18row0_col5,#T_9aaf01cc_1612_11eb_af2a_eb0c972a2d18row3_col2{\n",
       "            background-color:  yellow;\n",
       "            background-color:  #b40426;\n",
       "            color:  #f1f1f1;\n",
       "        }#T_9aaf01cc_1612_11eb_af2a_eb0c972a2d18row0_col2{\n",
       "            background-color:  yellow;\n",
       "            background-color:  #f7b194;\n",
       "            color:  #000000;\n",
       "        }#T_9aaf01cc_1612_11eb_af2a_eb0c972a2d18row1_col1{\n",
       "            background-color:  yellow;\n",
       "            background-color:  #f6a586;\n",
       "            color:  #000000;\n",
       "        }#T_9aaf01cc_1612_11eb_af2a_eb0c972a2d18row1_col2{\n",
       "            background-color:  yellow;\n",
       "            background-color:  #5b7ae5;\n",
       "            color:  #000000;\n",
       "        }#T_9aaf01cc_1612_11eb_af2a_eb0c972a2d18row1_col3{\n",
       "            background-color:  yellow;\n",
       "            background-color:  #ed8366;\n",
       "            color:  #000000;\n",
       "        }#T_9aaf01cc_1612_11eb_af2a_eb0c972a2d18row1_col4{\n",
       "            background-color:  yellow;\n",
       "            background-color:  #f5a081;\n",
       "            color:  #000000;\n",
       "        }#T_9aaf01cc_1612_11eb_af2a_eb0c972a2d18row1_col5{\n",
       "            background-color:  yellow;\n",
       "            background-color:  #f7ad90;\n",
       "            color:  #000000;\n",
       "        }#T_9aaf01cc_1612_11eb_af2a_eb0c972a2d18row2_col1{\n",
       "            background-color:  yellow;\n",
       "            background-color:  #d7dce3;\n",
       "            color:  #000000;\n",
       "        }#T_9aaf01cc_1612_11eb_af2a_eb0c972a2d18row2_col2{\n",
       "            background-color:  yellow;\n",
       "            background-color:  #5f7fe8;\n",
       "            color:  #000000;\n",
       "        }#T_9aaf01cc_1612_11eb_af2a_eb0c972a2d18row2_col3{\n",
       "            background-color:  yellow;\n",
       "            background-color:  #e1dad6;\n",
       "            color:  #000000;\n",
       "        }#T_9aaf01cc_1612_11eb_af2a_eb0c972a2d18row2_col4{\n",
       "            background-color:  yellow;\n",
       "            background-color:  #dcdddd;\n",
       "            color:  #000000;\n",
       "        }#T_9aaf01cc_1612_11eb_af2a_eb0c972a2d18row2_col5{\n",
       "            background-color:  yellow;\n",
       "            background-color:  #d4dbe6;\n",
       "            color:  #000000;\n",
       "        }#T_9aaf01cc_1612_11eb_af2a_eb0c972a2d18row3_col1,#T_9aaf01cc_1612_11eb_af2a_eb0c972a2d18row3_col4{\n",
       "            background-color:  yellow;\n",
       "            background-color:  #9ebeff;\n",
       "            color:  #000000;\n",
       "        }#T_9aaf01cc_1612_11eb_af2a_eb0c972a2d18row3_col3{\n",
       "            background-color:  yellow;\n",
       "            background-color:  #b3cdfb;\n",
       "            color:  #000000;\n",
       "        }#T_9aaf01cc_1612_11eb_af2a_eb0c972a2d18row3_col5{\n",
       "            background-color:  yellow;\n",
       "            background-color:  #cedaeb;\n",
       "            color:  #000000;\n",
       "        }#T_9aaf01cc_1612_11eb_af2a_eb0c972a2d18row4_col1{\n",
       "            background-color:  yellow;\n",
       "            background-color:  #90b2fe;\n",
       "            color:  #000000;\n",
       "        }#T_9aaf01cc_1612_11eb_af2a_eb0c972a2d18row4_col2{\n",
       "            background-color:  yellow;\n",
       "            background-color:  #80a3fa;\n",
       "            color:  #000000;\n",
       "        }#T_9aaf01cc_1612_11eb_af2a_eb0c972a2d18row4_col3{\n",
       "            background-color:  yellow;\n",
       "            background-color:  #c0d4f5;\n",
       "            color:  #000000;\n",
       "        }#T_9aaf01cc_1612_11eb_af2a_eb0c972a2d18row4_col4{\n",
       "            background-color:  yellow;\n",
       "            background-color:  #8caffe;\n",
       "            color:  #000000;\n",
       "        }#T_9aaf01cc_1612_11eb_af2a_eb0c972a2d18row4_col5{\n",
       "            background-color:  yellow;\n",
       "            background-color:  #a7c5fe;\n",
       "            color:  #000000;\n",
       "        }#T_9aaf01cc_1612_11eb_af2a_eb0c972a2d18row5_col1{\n",
       "            background-color:  #7ea1fa;\n",
       "            color:  #000000;\n",
       "        }#T_9aaf01cc_1612_11eb_af2a_eb0c972a2d18row5_col2,#T_9aaf01cc_1612_11eb_af2a_eb0c972a2d18row10_col2{\n",
       "            background-color:  #445acc;\n",
       "            color:  #f1f1f1;\n",
       "        }#T_9aaf01cc_1612_11eb_af2a_eb0c972a2d18row5_col3{\n",
       "            background-color:  #6282ea;\n",
       "            color:  #000000;\n",
       "        }#T_9aaf01cc_1612_11eb_af2a_eb0c972a2d18row5_col4{\n",
       "            background-color:  #7396f5;\n",
       "            color:  #000000;\n",
       "        }#T_9aaf01cc_1612_11eb_af2a_eb0c972a2d18row5_col5{\n",
       "            background-color:  #6b8df0;\n",
       "            color:  #000000;\n",
       "        }#T_9aaf01cc_1612_11eb_af2a_eb0c972a2d18row6_col1{\n",
       "            background-color:  #6687ed;\n",
       "            color:  #000000;\n",
       "        }#T_9aaf01cc_1612_11eb_af2a_eb0c972a2d18row6_col2,#T_9aaf01cc_1612_11eb_af2a_eb0c972a2d18row9_col2{\n",
       "            background-color:  #6180e9;\n",
       "            color:  #000000;\n",
       "        }#T_9aaf01cc_1612_11eb_af2a_eb0c972a2d18row6_col3{\n",
       "            background-color:  #6c8ff1;\n",
       "            color:  #000000;\n",
       "        }#T_9aaf01cc_1612_11eb_af2a_eb0c972a2d18row6_col4{\n",
       "            background-color:  #5f7fe8;\n",
       "            color:  #000000;\n",
       "        }#T_9aaf01cc_1612_11eb_af2a_eb0c972a2d18row6_col5{\n",
       "            background-color:  #6a8bef;\n",
       "            color:  #000000;\n",
       "        }#T_9aaf01cc_1612_11eb_af2a_eb0c972a2d18row7_col1,#T_9aaf01cc_1612_11eb_af2a_eb0c972a2d18row8_col3,#T_9aaf01cc_1612_11eb_af2a_eb0c972a2d18row9_col5{\n",
       "            background-color:  #4c66d6;\n",
       "            color:  #000000;\n",
       "        }#T_9aaf01cc_1612_11eb_af2a_eb0c972a2d18row7_col2,#T_9aaf01cc_1612_11eb_af2a_eb0c972a2d18row7_col3{\n",
       "            background-color:  #5a78e4;\n",
       "            color:  #000000;\n",
       "        }#T_9aaf01cc_1612_11eb_af2a_eb0c972a2d18row7_col4,#T_9aaf01cc_1612_11eb_af2a_eb0c972a2d18row8_col1{\n",
       "            background-color:  #5572df;\n",
       "            color:  #000000;\n",
       "        }#T_9aaf01cc_1612_11eb_af2a_eb0c972a2d18row7_col5{\n",
       "            background-color:  #5673e0;\n",
       "            color:  #000000;\n",
       "        }#T_9aaf01cc_1612_11eb_af2a_eb0c972a2d18row8_col2{\n",
       "            background-color:  #5977e3;\n",
       "            color:  #000000;\n",
       "        }#T_9aaf01cc_1612_11eb_af2a_eb0c972a2d18row8_col4,#T_9aaf01cc_1612_11eb_af2a_eb0c972a2d18row9_col1,#T_9aaf01cc_1612_11eb_af2a_eb0c972a2d18row9_col4{\n",
       "            background-color:  #4a63d3;\n",
       "            color:  #f1f1f1;\n",
       "        }#T_9aaf01cc_1612_11eb_af2a_eb0c972a2d18row8_col5{\n",
       "            background-color:  #516ddb;\n",
       "            color:  #000000;\n",
       "        }#T_9aaf01cc_1612_11eb_af2a_eb0c972a2d18row9_col3{\n",
       "            background-color:  #465ecf;\n",
       "            color:  #f1f1f1;\n",
       "        }#T_9aaf01cc_1612_11eb_af2a_eb0c972a2d18row10_col1,#T_9aaf01cc_1612_11eb_af2a_eb0c972a2d18row10_col4{\n",
       "            background-color:  #4257c9;\n",
       "            color:  #f1f1f1;\n",
       "        }#T_9aaf01cc_1612_11eb_af2a_eb0c972a2d18row10_col3{\n",
       "            background-color:  #3e51c5;\n",
       "            color:  #f1f1f1;\n",
       "        }#T_9aaf01cc_1612_11eb_af2a_eb0c972a2d18row10_col5{\n",
       "            background-color:  #4055c8;\n",
       "            color:  #f1f1f1;\n",
       "        }#T_9aaf01cc_1612_11eb_af2a_eb0c972a2d18row11_col1,#T_9aaf01cc_1612_11eb_af2a_eb0c972a2d18row11_col2,#T_9aaf01cc_1612_11eb_af2a_eb0c972a2d18row11_col3,#T_9aaf01cc_1612_11eb_af2a_eb0c972a2d18row11_col4,#T_9aaf01cc_1612_11eb_af2a_eb0c972a2d18row11_col5{\n",
       "            background-color:  #3b4cc0;\n",
       "            color:  #f1f1f1;\n",
       "        }</style><table id=\"T_9aaf01cc_1612_11eb_af2a_eb0c972a2d18\" ><thead>    <tr>        <th class=\"blank level0\" ></th>        <th class=\"col_heading level0 col0\" >genre</th>        <th class=\"col_heading level0 col1\" >eu_sales</th>        <th class=\"col_heading level0 col2\" >jp_sales</th>        <th class=\"col_heading level0 col3\" >na_sales</th>        <th class=\"col_heading level0 col4\" >other_sales</th>        <th class=\"col_heading level0 col5\" >total_sales</th>    </tr></thead><tbody>\n",
       "                <tr>\n",
       "                        <th id=\"T_9aaf01cc_1612_11eb_af2a_eb0c972a2d18level0_row0\" class=\"row_heading level0 row0\" >0</th>\n",
       "                        <td id=\"T_9aaf01cc_1612_11eb_af2a_eb0c972a2d18row0_col0\" class=\"data row0 col0\" >action</td>\n",
       "                        <td id=\"T_9aaf01cc_1612_11eb_af2a_eb0c972a2d18row0_col1\" class=\"data row0 col1\" >236.700000</td>\n",
       "                        <td id=\"T_9aaf01cc_1612_11eb_af2a_eb0c972a2d18row0_col2\" class=\"data row0 col2\" >72.210000</td>\n",
       "                        <td id=\"T_9aaf01cc_1612_11eb_af2a_eb0c972a2d18row0_col3\" class=\"data row0 col3\" >294.260000</td>\n",
       "                        <td id=\"T_9aaf01cc_1612_11eb_af2a_eb0c972a2d18row0_col4\" class=\"data row0 col4\" >77.510000</td>\n",
       "                        <td id=\"T_9aaf01cc_1612_11eb_af2a_eb0c972a2d18row0_col5\" class=\"data row0 col5\" >680.680000</td>\n",
       "            </tr>\n",
       "            <tr>\n",
       "                        <th id=\"T_9aaf01cc_1612_11eb_af2a_eb0c972a2d18level0_row1\" class=\"row_heading level0 row1\" >8</th>\n",
       "                        <td id=\"T_9aaf01cc_1612_11eb_af2a_eb0c972a2d18row1_col0\" class=\"data row1 col0\" >shooter</td>\n",
       "                        <td id=\"T_9aaf01cc_1612_11eb_af2a_eb0c972a2d18row1_col1\" class=\"data row1 col1\" >172.570000</td>\n",
       "                        <td id=\"T_9aaf01cc_1612_11eb_af2a_eb0c972a2d18row1_col2\" class=\"data row1 col2\" >14.050000</td>\n",
       "                        <td id=\"T_9aaf01cc_1612_11eb_af2a_eb0c972a2d18row1_col3\" class=\"data row1 col3\" >238.500000</td>\n",
       "                        <td id=\"T_9aaf01cc_1612_11eb_af2a_eb0c972a2d18row1_col4\" class=\"data row1 col4\" >57.100000</td>\n",
       "                        <td id=\"T_9aaf01cc_1612_11eb_af2a_eb0c972a2d18row1_col5\" class=\"data row1 col5\" >482.220000</td>\n",
       "            </tr>\n",
       "            <tr>\n",
       "                        <th id=\"T_9aaf01cc_1612_11eb_af2a_eb0c972a2d18level0_row2\" class=\"row_heading level0 row2\" >10</th>\n",
       "                        <td id=\"T_9aaf01cc_1612_11eb_af2a_eb0c972a2d18row2_col0\" class=\"data row2 col0\" >sports</td>\n",
       "                        <td id=\"T_9aaf01cc_1612_11eb_af2a_eb0c972a2d18row2_col1\" class=\"data row2 col1\" >117.090000</td>\n",
       "                        <td id=\"T_9aaf01cc_1612_11eb_af2a_eb0c972a2d18row2_col2\" class=\"data row2 col2\" >15.510000</td>\n",
       "                        <td id=\"T_9aaf01cc_1612_11eb_af2a_eb0c972a2d18row2_col3\" class=\"data row2 col3\" >157.490000</td>\n",
       "                        <td id=\"T_9aaf01cc_1612_11eb_af2a_eb0c972a2d18row2_col4\" class=\"data row2 col4\" >39.340000</td>\n",
       "                        <td id=\"T_9aaf01cc_1612_11eb_af2a_eb0c972a2d18row2_col5\" class=\"data row2 col5\" >329.430000</td>\n",
       "            </tr>\n",
       "            <tr>\n",
       "                        <th id=\"T_9aaf01cc_1612_11eb_af2a_eb0c972a2d18level0_row3\" class=\"row_heading level0 row3\" >7</th>\n",
       "                        <td id=\"T_9aaf01cc_1612_11eb_af2a_eb0c972a2d18row3_col0\" class=\"data row3 col0\" >role-playing</td>\n",
       "                        <td id=\"T_9aaf01cc_1612_11eb_af2a_eb0c972a2d18row3_col1\" class=\"data row3 col1\" >75.480000</td>\n",
       "                        <td id=\"T_9aaf01cc_1612_11eb_af2a_eb0c972a2d18row3_col2\" class=\"data row3 col2\" >103.590000</td>\n",
       "                        <td id=\"T_9aaf01cc_1612_11eb_af2a_eb0c972a2d18row3_col3\" class=\"data row3 col3\" >112.050000</td>\n",
       "                        <td id=\"T_9aaf01cc_1612_11eb_af2a_eb0c972a2d18row3_col4\" class=\"data row3 col4\" >24.210000</td>\n",
       "                        <td id=\"T_9aaf01cc_1612_11eb_af2a_eb0c972a2d18row3_col5\" class=\"data row3 col5\" >315.330000</td>\n",
       "            </tr>\n",
       "            <tr>\n",
       "                        <th id=\"T_9aaf01cc_1612_11eb_af2a_eb0c972a2d18level0_row4\" class=\"row_heading level0 row4\" >3</th>\n",
       "                        <td id=\"T_9aaf01cc_1612_11eb_af2a_eb0c972a2d18row4_col0\" class=\"data row4 col0\" >misc</td>\n",
       "                        <td id=\"T_9aaf01cc_1612_11eb_af2a_eb0c972a2d18row4_col1\" class=\"data row4 col1\" >66.190000</td>\n",
       "                        <td id=\"T_9aaf01cc_1612_11eb_af2a_eb0c972a2d18row4_col2\" class=\"data row4 col2\" >24.540000</td>\n",
       "                        <td id=\"T_9aaf01cc_1612_11eb_af2a_eb0c972a2d18row4_col3\" class=\"data row4 col3\" >123.920000</td>\n",
       "                        <td id=\"T_9aaf01cc_1612_11eb_af2a_eb0c972a2d18row4_col4\" class=\"data row4 col4\" >20.400000</td>\n",
       "                        <td id=\"T_9aaf01cc_1612_11eb_af2a_eb0c972a2d18row4_col5\" class=\"data row4 col5\" >235.050000</td>\n",
       "            </tr>\n",
       "            <tr>\n",
       "                        <th id=\"T_9aaf01cc_1612_11eb_af2a_eb0c972a2d18level0_row5\" class=\"row_heading level0 row5\" >6</th>\n",
       "                        <td id=\"T_9aaf01cc_1612_11eb_af2a_eb0c972a2d18row5_col0\" class=\"data row5 col0\" >racing</td>\n",
       "                        <td id=\"T_9aaf01cc_1612_11eb_af2a_eb0c972a2d18row5_col1\" class=\"data row5 col1\" >54.750000</td>\n",
       "                        <td id=\"T_9aaf01cc_1612_11eb_af2a_eb0c972a2d18row5_col2\" class=\"data row5 col2\" >6.680000</td>\n",
       "                        <td id=\"T_9aaf01cc_1612_11eb_af2a_eb0c972a2d18row5_col3\" class=\"data row5 col3\" >46.110000</td>\n",
       "                        <td id=\"T_9aaf01cc_1612_11eb_af2a_eb0c972a2d18row5_col4\" class=\"data row5 col4\" >15.140000</td>\n",
       "                        <td id=\"T_9aaf01cc_1612_11eb_af2a_eb0c972a2d18row5_col5\" class=\"data row5 col5\" >122.680000</td>\n",
       "            </tr>\n",
       "            <tr>\n",
       "                        <th id=\"T_9aaf01cc_1612_11eb_af2a_eb0c972a2d18level0_row6\" class=\"row_heading level0 row6\" >4</th>\n",
       "                        <td id=\"T_9aaf01cc_1612_11eb_af2a_eb0c972a2d18row6_col0\" class=\"data row6 col0\" >platform</td>\n",
       "                        <td id=\"T_9aaf01cc_1612_11eb_af2a_eb0c972a2d18row6_col1\" class=\"data row6 col1\" >38.300000</td>\n",
       "                        <td id=\"T_9aaf01cc_1612_11eb_af2a_eb0c972a2d18row6_col2\" class=\"data row6 col2\" >15.810000</td>\n",
       "                        <td id=\"T_9aaf01cc_1612_11eb_af2a_eb0c972a2d18row6_col3\" class=\"data row6 col3\" >54.900000</td>\n",
       "                        <td id=\"T_9aaf01cc_1612_11eb_af2a_eb0c972a2d18row6_col4\" class=\"data row6 col4\" >10.710000</td>\n",
       "                        <td id=\"T_9aaf01cc_1612_11eb_af2a_eb0c972a2d18row6_col5\" class=\"data row6 col5\" >119.720000</td>\n",
       "            </tr>\n",
       "            <tr>\n",
       "                        <th id=\"T_9aaf01cc_1612_11eb_af2a_eb0c972a2d18level0_row7\" class=\"row_heading level0 row7\" >2</th>\n",
       "                        <td id=\"T_9aaf01cc_1612_11eb_af2a_eb0c972a2d18row7_col0\" class=\"data row7 col0\" >fighting</td>\n",
       "                        <td id=\"T_9aaf01cc_1612_11eb_af2a_eb0c972a2d18row7_col1\" class=\"data row7 col1\" >20.330000</td>\n",
       "                        <td id=\"T_9aaf01cc_1612_11eb_af2a_eb0c972a2d18row7_col2\" class=\"data row7 col2\" >13.900000</td>\n",
       "                        <td id=\"T_9aaf01cc_1612_11eb_af2a_eb0c972a2d18row7_col3\" class=\"data row7 col3\" >39.050000</td>\n",
       "                        <td id=\"T_9aaf01cc_1612_11eb_af2a_eb0c972a2d18row7_col4\" class=\"data row7 col4\" >8.310000</td>\n",
       "                        <td id=\"T_9aaf01cc_1612_11eb_af2a_eb0c972a2d18row7_col5\" class=\"data row7 col5\" >81.590000</td>\n",
       "            </tr>\n",
       "            <tr>\n",
       "                        <th id=\"T_9aaf01cc_1612_11eb_af2a_eb0c972a2d18level0_row8\" class=\"row_heading level0 row8\" >9</th>\n",
       "                        <td id=\"T_9aaf01cc_1612_11eb_af2a_eb0c972a2d18row8_col0\" class=\"data row8 col0\" >simulation</td>\n",
       "                        <td id=\"T_9aaf01cc_1612_11eb_af2a_eb0c972a2d18row8_col1\" class=\"data row8 col1\" >26.390000</td>\n",
       "                        <td id=\"T_9aaf01cc_1612_11eb_af2a_eb0c972a2d18row8_col2\" class=\"data row8 col2\" >13.300000</td>\n",
       "                        <td id=\"T_9aaf01cc_1612_11eb_af2a_eb0c972a2d18row8_col3\" class=\"data row8 col3\" >26.670000</td>\n",
       "                        <td id=\"T_9aaf01cc_1612_11eb_af2a_eb0c972a2d18row8_col4\" class=\"data row8 col4\" >5.690000</td>\n",
       "                        <td id=\"T_9aaf01cc_1612_11eb_af2a_eb0c972a2d18row8_col5\" class=\"data row8 col5\" >72.050000</td>\n",
       "            </tr>\n",
       "            <tr>\n",
       "                        <th id=\"T_9aaf01cc_1612_11eb_af2a_eb0c972a2d18level0_row9\" class=\"row_heading level0 row9\" >1</th>\n",
       "                        <td id=\"T_9aaf01cc_1612_11eb_af2a_eb0c972a2d18row9_col0\" class=\"data row9 col0\" >adventure</td>\n",
       "                        <td id=\"T_9aaf01cc_1612_11eb_af2a_eb0c972a2d18row9_col1\" class=\"data row9 col1\" >18.880000</td>\n",
       "                        <td id=\"T_9aaf01cc_1612_11eb_af2a_eb0c972a2d18row9_col2\" class=\"data row9 col2\" >15.670000</td>\n",
       "                        <td id=\"T_9aaf01cc_1612_11eb_af2a_eb0c972a2d18row9_col3\" class=\"data row9 col3\" >20.840000</td>\n",
       "                        <td id=\"T_9aaf01cc_1612_11eb_af2a_eb0c972a2d18row9_col4\" class=\"data row9 col4\" >5.610000</td>\n",
       "                        <td id=\"T_9aaf01cc_1612_11eb_af2a_eb0c972a2d18row9_col5\" class=\"data row9 col5\" >61.000000</td>\n",
       "            </tr>\n",
       "            <tr>\n",
       "                        <th id=\"T_9aaf01cc_1612_11eb_af2a_eb0c972a2d18level0_row10\" class=\"row_heading level0 row10\" >11</th>\n",
       "                        <td id=\"T_9aaf01cc_1612_11eb_af2a_eb0c972a2d18row10_col0\" class=\"data row10 col0\" >strategy</td>\n",
       "                        <td id=\"T_9aaf01cc_1612_11eb_af2a_eb0c972a2d18row10_col1\" class=\"data row10 col1\" >12.640000</td>\n",
       "                        <td id=\"T_9aaf01cc_1612_11eb_af2a_eb0c972a2d18row10_col2\" class=\"data row10 col2\" >6.830000</td>\n",
       "                        <td id=\"T_9aaf01cc_1612_11eb_af2a_eb0c972a2d18row10_col3\" class=\"data row10 col3\" >13.540000</td>\n",
       "                        <td id=\"T_9aaf01cc_1612_11eb_af2a_eb0c972a2d18row10_col4\" class=\"data row10 col4\" >3.350000</td>\n",
       "                        <td id=\"T_9aaf01cc_1612_11eb_af2a_eb0c972a2d18row10_col5\" class=\"data row10 col5\" >36.360000</td>\n",
       "            </tr>\n",
       "            <tr>\n",
       "                        <th id=\"T_9aaf01cc_1612_11eb_af2a_eb0c972a2d18level0_row11\" class=\"row_heading level0 row11\" >5</th>\n",
       "                        <td id=\"T_9aaf01cc_1612_11eb_af2a_eb0c972a2d18row11_col0\" class=\"data row11 col0\" >puzzle</td>\n",
       "                        <td id=\"T_9aaf01cc_1612_11eb_af2a_eb0c972a2d18row11_col1\" class=\"data row11 col1\" >6.600000</td>\n",
       "                        <td id=\"T_9aaf01cc_1612_11eb_af2a_eb0c972a2d18row11_col2\" class=\"data row11 col2\" >3.400000</td>\n",
       "                        <td id=\"T_9aaf01cc_1612_11eb_af2a_eb0c972a2d18row11_col3\" class=\"data row11 col3\" >9.650000</td>\n",
       "                        <td id=\"T_9aaf01cc_1612_11eb_af2a_eb0c972a2d18row11_col4\" class=\"data row11 col4\" >1.570000</td>\n",
       "                        <td id=\"T_9aaf01cc_1612_11eb_af2a_eb0c972a2d18row11_col5\" class=\"data row11 col5\" >21.220000</td>\n",
       "            </tr>\n",
       "    </tbody></table>"
      ],
      "text/plain": [
       "<pandas.io.formats.style.Styler at 0x7f0aec1f4e50>"
      ]
     },
     "execution_count": 76,
     "metadata": {},
     "output_type": "execute_result"
    }
   ],
   "source": [
    "(df_regions_genres.style\n",
    "                        .apply(lambda row: np.repeat('background-color: yellow' if row['genre'] in top_genres else '',\n",
    "                                                   row.shape[0]), axis=1)\n",
    "                        .background_gradient(cmap='coolwarm'))"
   ]
  },
  {
   "cell_type": "markdown",
   "metadata": {},
   "source": [
    "As well as across platforms, we see the difference in popular genres in the regions. Again, Europe and America are very similar, but Japan is different: here role-playing games are in the first place (in the fourth place in the world), but only in the second is the action genre. Of the world TOP5 genres in the Japanese top, only 3: action, role-playing and misc.\n",
    "\n",
    "Here again the features of Japanese culture and market:\n",
    "* this is a whole mass culture of their 'Anime' comics and manga\n",
    "* Japan released the first role-playing game, and basically all games in this genre are released for the domestic market"
   ]
  },
  {
   "cell_type": "markdown",
   "metadata": {},
   "source": [
    "#### Impact of ESRB rating on sales"
   ]
  },
  {
   "cell_type": "markdown",
   "metadata": {},
   "source": [
    "Let's see if rating affects sales in a particular region. Let's see only the data where the rating is present:"
   ]
  },
  {
   "cell_type": "code",
   "execution_count": 77,
   "metadata": {},
   "outputs": [
    {
     "data": {
      "text/html": [
       "<style  type=\"text/css\" >\n",
       "#T_9ab312da_1612_11eb_af2a_eb0c972a2d18row0_col1,#T_9ab312da_1612_11eb_af2a_eb0c972a2d18row0_col3,#T_9ab312da_1612_11eb_af2a_eb0c972a2d18row0_col4,#T_9ab312da_1612_11eb_af2a_eb0c972a2d18row0_col5,#T_9ab312da_1612_11eb_af2a_eb0c972a2d18row1_col2{\n",
       "            background-color:  #b40426;\n",
       "            color:  #f1f1f1;\n",
       "        }#T_9ab312da_1612_11eb_af2a_eb0c972a2d18row0_col2{\n",
       "            background-color:  #f7b99e;\n",
       "            color:  #000000;\n",
       "        }#T_9ab312da_1612_11eb_af2a_eb0c972a2d18row1_col1{\n",
       "            background-color:  #f7bca1;\n",
       "            color:  #000000;\n",
       "        }#T_9ab312da_1612_11eb_af2a_eb0c972a2d18row1_col3,#T_9ab312da_1612_11eb_af2a_eb0c972a2d18row1_col5{\n",
       "            background-color:  #f7ac8e;\n",
       "            color:  #000000;\n",
       "        }#T_9ab312da_1612_11eb_af2a_eb0c972a2d18row1_col4{\n",
       "            background-color:  #f2cbb7;\n",
       "            color:  #000000;\n",
       "        }#T_9ab312da_1612_11eb_af2a_eb0c972a2d18row2_col1{\n",
       "            background-color:  #bcd2f7;\n",
       "            color:  #000000;\n",
       "        }#T_9ab312da_1612_11eb_af2a_eb0c972a2d18row2_col2{\n",
       "            background-color:  #ba162b;\n",
       "            color:  #f1f1f1;\n",
       "        }#T_9ab312da_1612_11eb_af2a_eb0c972a2d18row2_col3{\n",
       "            background-color:  #c7d7f0;\n",
       "            color:  #000000;\n",
       "        }#T_9ab312da_1612_11eb_af2a_eb0c972a2d18row2_col4{\n",
       "            background-color:  #c0d4f5;\n",
       "            color:  #000000;\n",
       "        }#T_9ab312da_1612_11eb_af2a_eb0c972a2d18row2_col5{\n",
       "            background-color:  #cedaeb;\n",
       "            color:  #000000;\n",
       "        }#T_9ab312da_1612_11eb_af2a_eb0c972a2d18row3_col1{\n",
       "            background-color:  #adc9fd;\n",
       "            color:  #000000;\n",
       "        }#T_9ab312da_1612_11eb_af2a_eb0c972a2d18row3_col2{\n",
       "            background-color:  #97b8ff;\n",
       "            color:  #000000;\n",
       "        }#T_9ab312da_1612_11eb_af2a_eb0c972a2d18row3_col3{\n",
       "            background-color:  #c5d6f2;\n",
       "            color:  #000000;\n",
       "        }#T_9ab312da_1612_11eb_af2a_eb0c972a2d18row3_col4{\n",
       "            background-color:  #a6c4fe;\n",
       "            color:  #000000;\n",
       "        }#T_9ab312da_1612_11eb_af2a_eb0c972a2d18row3_col5{\n",
       "            background-color:  #b9d0f9;\n",
       "            color:  #000000;\n",
       "        }#T_9ab312da_1612_11eb_af2a_eb0c972a2d18row4_col1,#T_9ab312da_1612_11eb_af2a_eb0c972a2d18row4_col2,#T_9ab312da_1612_11eb_af2a_eb0c972a2d18row4_col4,#T_9ab312da_1612_11eb_af2a_eb0c972a2d18row4_col5,#T_9ab312da_1612_11eb_af2a_eb0c972a2d18row5_col1,#T_9ab312da_1612_11eb_af2a_eb0c972a2d18row5_col2,#T_9ab312da_1612_11eb_af2a_eb0c972a2d18row5_col3,#T_9ab312da_1612_11eb_af2a_eb0c972a2d18row5_col4,#T_9ab312da_1612_11eb_af2a_eb0c972a2d18row5_col5{\n",
       "            background-color:  #3b4cc0;\n",
       "            color:  #f1f1f1;\n",
       "        }#T_9ab312da_1612_11eb_af2a_eb0c972a2d18row4_col3{\n",
       "            background-color:  #3c4ec2;\n",
       "            color:  #f1f1f1;\n",
       "        }</style><table id=\"T_9ab312da_1612_11eb_af2a_eb0c972a2d18\" ><thead>    <tr>        <th class=\"blank level0\" ></th>        <th class=\"col_heading level0 col0\" >rating_description</th>        <th class=\"col_heading level0 col1\" >eu_sales</th>        <th class=\"col_heading level0 col2\" >jp_sales</th>        <th class=\"col_heading level0 col3\" >na_sales</th>        <th class=\"col_heading level0 col4\" >other_sales</th>        <th class=\"col_heading level0 col5\" >total_sales</th>    </tr></thead><tbody>\n",
       "                <tr>\n",
       "                        <th id=\"T_9ab312da_1612_11eb_af2a_eb0c972a2d18level0_row0\" class=\"row_heading level0 row0\" >0</th>\n",
       "                        <td id=\"T_9ab312da_1612_11eb_af2a_eb0c972a2d18row0_col0\" class=\"data row0 col0\" >for adults</td>\n",
       "                        <td id=\"T_9ab312da_1612_11eb_af2a_eb0c972a2d18row0_col1\" class=\"data row0 col1\" >307.000000</td>\n",
       "                        <td id=\"T_9ab312da_1612_11eb_af2a_eb0c972a2d18row0_col2\" class=\"data row0 col2\" >32.300000</td>\n",
       "                        <td id=\"T_9ab312da_1612_11eb_af2a_eb0c972a2d18row0_col3\" class=\"data row0 col3\" >396.190000</td>\n",
       "                        <td id=\"T_9ab312da_1612_11eb_af2a_eb0c972a2d18row0_col4\" class=\"data row0 col4\" >101.640000</td>\n",
       "                        <td id=\"T_9ab312da_1612_11eb_af2a_eb0c972a2d18row0_col5\" class=\"data row0 col5\" >837.130000</td>\n",
       "            </tr>\n",
       "            <tr>\n",
       "                        <th id=\"T_9ab312da_1612_11eb_af2a_eb0c972a2d18level0_row1\" class=\"row_heading level0 row1\" >1</th>\n",
       "                        <td id=\"T_9ab312da_1612_11eb_af2a_eb0c972a2d18row1_col0\" class=\"data row1 col0\" >for all</td>\n",
       "                        <td id=\"T_9ab312da_1612_11eb_af2a_eb0c972a2d18row1_col1\" class=\"data row1 col1\" >200.680000</td>\n",
       "                        <td id=\"T_9ab312da_1612_11eb_af2a_eb0c972a2d18row1_col2\" class=\"data row1 col2\" >48.810000</td>\n",
       "                        <td id=\"T_9ab312da_1612_11eb_af2a_eb0c972a2d18row1_col3\" class=\"data row1 col3\" >277.260000</td>\n",
       "                        <td id=\"T_9ab312da_1612_11eb_af2a_eb0c972a2d18row1_col4\" class=\"data row1 col4\" >61.110000</td>\n",
       "                        <td id=\"T_9ab312da_1612_11eb_af2a_eb0c972a2d18row1_col5\" class=\"data row1 col5\" >587.860000</td>\n",
       "            </tr>\n",
       "            <tr>\n",
       "                        <th id=\"T_9ab312da_1612_11eb_af2a_eb0c972a2d18level0_row2\" class=\"row_heading level0 row2\" >2</th>\n",
       "                        <td id=\"T_9ab312da_1612_11eb_af2a_eb0c972a2d18row2_col0\" class=\"data row2 col0\" >for teenagers</td>\n",
       "                        <td id=\"T_9ab312da_1612_11eb_af2a_eb0c972a2d18row2_col1\" class=\"data row2 col1\" >118.830000</td>\n",
       "                        <td id=\"T_9ab312da_1612_11eb_af2a_eb0c972a2d18row2_col2\" class=\"data row2 col2\" >47.960000</td>\n",
       "                        <td id=\"T_9ab312da_1612_11eb_af2a_eb0c972a2d18row2_col3\" class=\"data row2 col3\" >167.860000</td>\n",
       "                        <td id=\"T_9ab312da_1612_11eb_af2a_eb0c972a2d18row2_col4\" class=\"data row2 col4\" >40.800000</td>\n",
       "                        <td id=\"T_9ab312da_1612_11eb_af2a_eb0c972a2d18row2_col5\" class=\"data row2 col5\" >375.450000</td>\n",
       "            </tr>\n",
       "            <tr>\n",
       "                        <th id=\"T_9ab312da_1612_11eb_af2a_eb0c972a2d18level0_row3\" class=\"row_heading level0 row3\" >4</th>\n",
       "                        <td id=\"T_9ab312da_1612_11eb_af2a_eb0c972a2d18row3_col0\" class=\"data row3 col0\" >from 10 years and older</td>\n",
       "                        <td id=\"T_9ab312da_1612_11eb_af2a_eb0c972a2d18row3_col1\" class=\"data row3 col1\" >104.560000</td>\n",
       "                        <td id=\"T_9ab312da_1612_11eb_af2a_eb0c972a2d18row3_col2\" class=\"data row3 col2\" >13.610000</td>\n",
       "                        <td id=\"T_9ab312da_1612_11eb_af2a_eb0c972a2d18row3_col3\" class=\"data row3 col3\" >165.290000</td>\n",
       "                        <td id=\"T_9ab312da_1612_11eb_af2a_eb0c972a2d18row3_col4\" class=\"data row3 col4\" >32.610000</td>\n",
       "                        <td id=\"T_9ab312da_1612_11eb_af2a_eb0c972a2d18row3_col5\" class=\"data row3 col5\" >316.070000</td>\n",
       "            </tr>\n",
       "            <tr>\n",
       "                        <th id=\"T_9ab312da_1612_11eb_af2a_eb0c972a2d18level0_row4\" class=\"row_heading level0 row4\" >3</th>\n",
       "                        <td id=\"T_9ab312da_1612_11eb_af2a_eb0c972a2d18row4_col0\" class=\"data row4 col0\" >for young children</td>\n",
       "                        <td id=\"T_9ab312da_1612_11eb_af2a_eb0c972a2d18row4_col1\" class=\"data row4 col1\" >0.000000</td>\n",
       "                        <td id=\"T_9ab312da_1612_11eb_af2a_eb0c972a2d18row4_col2\" class=\"data row4 col2\" >0.000000</td>\n",
       "                        <td id=\"T_9ab312da_1612_11eb_af2a_eb0c972a2d18row4_col3\" class=\"data row4 col3\" >1.640000</td>\n",
       "                        <td id=\"T_9ab312da_1612_11eb_af2a_eb0c972a2d18row4_col4\" class=\"data row4 col4\" >0.110000</td>\n",
       "                        <td id=\"T_9ab312da_1612_11eb_af2a_eb0c972a2d18row4_col5\" class=\"data row4 col5\" >1.750000</td>\n",
       "            </tr>\n",
       "            <tr>\n",
       "                        <th id=\"T_9ab312da_1612_11eb_af2a_eb0c972a2d18level0_row5\" class=\"row_heading level0 row5\" >5</th>\n",
       "                        <td id=\"T_9ab312da_1612_11eb_af2a_eb0c972a2d18row5_col0\" class=\"data row5 col0\" >rating expected</td>\n",
       "                        <td id=\"T_9ab312da_1612_11eb_af2a_eb0c972a2d18row5_col1\" class=\"data row5 col1\" >0.030000</td>\n",
       "                        <td id=\"T_9ab312da_1612_11eb_af2a_eb0c972a2d18row5_col2\" class=\"data row5 col2\" >0.000000</td>\n",
       "                        <td id=\"T_9ab312da_1612_11eb_af2a_eb0c972a2d18row5_col3\" class=\"data row5 col3\" >0.000000</td>\n",
       "                        <td id=\"T_9ab312da_1612_11eb_af2a_eb0c972a2d18row5_col4\" class=\"data row5 col4\" >0.010000</td>\n",
       "                        <td id=\"T_9ab312da_1612_11eb_af2a_eb0c972a2d18row5_col5\" class=\"data row5 col5\" >0.040000</td>\n",
       "            </tr>\n",
       "    </tbody></table>"
      ],
      "text/plain": [
       "<pandas.io.formats.style.Styler at 0x7f0aec1ee370>"
      ]
     },
     "execution_count": 77,
     "metadata": {},
     "output_type": "execute_result"
    }
   ],
   "source": [
    "df_regions_rating.query('rating_description != \"unknown\"').style.background_gradient(cmap='coolwarm')"
   ]
  },
  {
   "cell_type": "markdown",
   "metadata": {},
   "source": [
    "In America and Europe, games *for adults* are noticeably leading, and in Japan *for teenagers* and *for all*.\n",
    "The *games for adults* category includes *action* and *shooter*, which top the list by genre in Europe and America. There is a lot of violence and gore. In Japan, in the first place in the genre of role-playing games, which are allowed for adolescents or without restrictions, since there is no realistic violence.\n",
    "\n",
    "Most likely it is not the rating that affects the sales, but the genre of the game."
   ]
  },
  {
   "cell_type": "markdown",
   "metadata": {},
   "source": [
    "#### 4.2 Conclusion.  <a class=\"anchor\" id=\"step4.2\"></a>\n",
    "[back to table of content](#content)"
   ]
  },
  {
   "cell_type": "markdown",
   "metadata": {},
   "source": [
    "General:\n",
    "* North American and European markets are very similar in platform preference and game genres\n",
    "* The Japanese market is very different from the rest, with handheld consoles more popular than stationary ones\n",
    "* popular genres in America and Europe are very similar, but in Japan they are different\n",
    "* North America leads in terms of sales shares in top platforms, the least share in Japan\n",
    "* PC games sell well only in Europe\n",
    "\n",
    "You can create the following user profile by region:\n",
    "* North America NA:\n",
    "    * TOP genres: action, shooters, sports games\n",
    "    * TOP platforms: stationary platforms - ps4, xone\n",
    "    \n",
    "* Europe EU:\n",
    "    * TOP genres: action, shooters, sports games\n",
    "    * TOP platforms: stationary platforms - ps4, pc\n",
    "    \n",
    "* Japan JP:\n",
    "    * TOP genres: RPG, action, mixed genre (misc)\n",
    "    * TOP platforms: portable platforms - 3ds, psv"
   ]
  },
  {
   "cell_type": "markdown",
   "metadata": {},
   "source": [
    "### 5. Hypothesis testing. <a class=\"anchor\" id=\"step5\"></a>\n",
    "[back to table of content](#content)"
   ]
  },
  {
   "cell_type": "code",
   "execution_count": 78,
   "metadata": {},
   "outputs": [],
   "source": [
    "# copy of dataframe for further work\n",
    "df_games_hypothesis = df_games_regions[['platform', 'genre', 'user_score']].copy()"
   ]
  },
  {
   "cell_type": "markdown",
   "metadata": {},
   "source": [
    "Before starting stat tests, let's remove the gaps in the relevant columns:"
   ]
  },
  {
   "cell_type": "code",
   "execution_count": 79,
   "metadata": {},
   "outputs": [
    {
     "data": {
      "text/html": [
       "<div>\n",
       "<style scoped>\n",
       "    .dataframe tbody tr th:only-of-type {\n",
       "        vertical-align: middle;\n",
       "    }\n",
       "\n",
       "    .dataframe tbody tr th {\n",
       "        vertical-align: top;\n",
       "    }\n",
       "\n",
       "    .dataframe thead th {\n",
       "        text-align: right;\n",
       "    }\n",
       "</style>\n",
       "<table border=\"1\" class=\"dataframe\">\n",
       "  <thead>\n",
       "    <tr style=\"text-align: right;\">\n",
       "      <th></th>\n",
       "      <th>index</th>\n",
       "      <th>Total</th>\n",
       "      <th>Percent</th>\n",
       "    </tr>\n",
       "  </thead>\n",
       "  <tbody>\n",
       "    <tr>\n",
       "      <th>0</th>\n",
       "      <td>user_score</td>\n",
       "      <td>0</td>\n",
       "      <td>0.0</td>\n",
       "    </tr>\n",
       "    <tr>\n",
       "      <th>1</th>\n",
       "      <td>genre</td>\n",
       "      <td>0</td>\n",
       "      <td>0.0</td>\n",
       "    </tr>\n",
       "    <tr>\n",
       "      <th>2</th>\n",
       "      <td>platform</td>\n",
       "      <td>0</td>\n",
       "      <td>0.0</td>\n",
       "    </tr>\n",
       "  </tbody>\n",
       "</table>\n",
       "</div>"
      ],
      "text/plain": [
       "        index  Total  Percent\n",
       "0  user_score      0      0.0\n",
       "1       genre      0      0.0\n",
       "2    platform      0      0.0"
      ]
     },
     "execution_count": 79,
     "metadata": {},
     "output_type": "execute_result"
    }
   ],
   "source": [
    "missing_data(df_games_hypothesis)"
   ]
  },
  {
   "cell_type": "markdown",
   "metadata": {},
   "source": [
    "The is no missing data."
   ]
  },
  {
   "cell_type": "markdown",
   "metadata": {},
   "source": [
    "#### 5.1 Hypothesis 1 - Average user ratings for Xbox One and PC platforms are the same.  <a class=\"anchor\" id=\"step5.1\"></a>\n",
    "[back to table of content](#content)"
   ]
  },
  {
   "cell_type": "markdown",
   "metadata": {},
   "source": [
    "When formulating two-sided hypotheses, the zero is always the one that claims the equality of two general populations with each other. The alternative one speaks of their difference. To test hypotheses, we use the nonparametric Mann-Whitney test."
   ]
  },
  {
   "cell_type": "code",
   "execution_count": 80,
   "metadata": {},
   "outputs": [],
   "source": [
    "#let's make a function to calculate the p-value\n",
    "#using the Mann-Whitney test to test hypotheses\n",
    "def u_test(sample1, sample2, alpha):\n",
    "    result = st.mannwhitneyu(sample1, sample2)\n",
    "    print('p-value: {:.4f}'.format(result.pvalue))\n",
    "    if result.pvalue > alpha:\n",
    "        print(\"It was not possible to reject the null hypothesis.\")\n",
    "    else:\n",
    "        print(\"We reject the null hypothesis.\")"
   ]
  },
  {
   "cell_type": "markdown",
   "metadata": {},
   "source": [
    "Let's formulate the hypotheses:\n",
    "* Null Hypothesis H0: Average user ratings for Xbox One and PC platforms are the same.\n",
    "* Alternative Hypothesis H1: Average user ratings for Xbox One and PC platforms differ."
   ]
  },
  {
   "cell_type": "code",
   "execution_count": 81,
   "metadata": {},
   "outputs": [],
   "source": [
    "#critical level of statistical significance 5%\n",
    "alpha = 0.05"
   ]
  },
  {
   "cell_type": "code",
   "execution_count": 82,
   "metadata": {},
   "outputs": [
    {
     "name": "stdout",
     "output_type": "stream",
     "text": [
      "p-value: 0.2000\n",
      "It was not possible to reject the null hypothesis.\n"
     ]
    }
   ],
   "source": [
    "u_test(df_games_hypothesis.query('platform == \"xone\"')['user_score'],\n",
    "       df_games_hypothesis.query('platform == \"pc\"')['user_score'],\n",
    "       alpha)"
   ]
  },
  {
   "cell_type": "markdown",
   "metadata": {},
   "source": [
    "#### 5.2 Hypothesis 2 - The average user ratings of the Action and Sports genres are different.  <a class=\"anchor\" id=\"step5.2\"></a>\n",
    "[back to table of content](#content)"
   ]
  },
  {
   "cell_type": "markdown",
   "metadata": {},
   "source": [
    "* Null Hypothesis H0: Average user ratings for Action and Sports genres are the same.\n",
    "* Alternative Hypothesis H1: Average user ratings for Action and Sports genres are different."
   ]
  },
  {
   "cell_type": "code",
   "execution_count": 83,
   "metadata": {},
   "outputs": [
    {
     "name": "stdout",
     "output_type": "stream",
     "text": [
      "p-value: 0.0040\n",
      "We reject the null hypothesis.\n"
     ]
    }
   ],
   "source": [
    "u_test(df_games_hypothesis.query('genre == \"action\"')['user_score'],\n",
    "       df_games_hypothesis.query('genre == \"sports\"')['user_score'],\n",
    "       alpha)"
   ]
  },
  {
   "cell_type": "markdown",
   "metadata": {},
   "source": [
    "#### 5.3 Conclusion.  <a class=\"anchor\" id=\"step5.3\"></a>\n",
    "[back to table of content](#content)"
   ]
  },
  {
   "cell_type": "markdown",
   "metadata": {},
   "source": [
    "* could not reject the hypothesis that the average user ratings for the Xbox One and PC platforms are the same. The statistical probability of randomness of 20% is too high.\n",
    "* reject the hypothesis that the average user ratings for the Action and Sports genres are the same. The p-value is an order of magnitude lower than the alpha threshold."
   ]
  },
  {
   "cell_type": "markdown",
   "metadata": {},
   "source": [
    "### 6. Summary.  <a class=\"anchor\" id=\"step6\"></a>\n",
    "[back to table of content](#content)"
   ]
  },
  {
   "cell_type": "markdown",
   "metadata": {},
   "source": [
    "**Data and their preparation**\n",
    "* the received data was in CSV format and their total volume was 16715 lines and 11 columns\n",
    "* the data was collected from open sources and contained many gaps in ratings and assessments\n",
    "* data with ratings and grades contained about 50% of gaps. Partially managed to recover about 10% of the passes using information on other platforms. The data with the absence of the name of the game was deleted, it was only 0.01%. The remaining gaps could not be filled intelligently without additional data automatically. Therefore, we left them.\n",
    "* numeric columns, except for sales and user ratings, were cast to int\n",
    "* Column names and string data have been converted to lower case. The abbreviation *tbd* in user ratings has been replaced with a blank to avoid mixed data types in the same column.\n",
    "* missing ESRB rating has been replaced with *'unknown'*\n",
    "* additional signs were added to the main table with data:\n",
    "    * total sales for all regions for each game\n",
    "    * transcript of the ESRB rating in English for clarity\n",
    "    \n",
    "**Data Exploration**\n",
    "* very few games were released until the mid-90s. Since about 1994, the number of games released has steadily increased to a peak in 2008. After 2011, there was a sharp decline in half and stabilization until 2016 with a slight negative trend. Most likely, the majority of the market was occupied by games on smartphones, which are not included in the data.\n",
    "* the analysis revealed that the average lifetime of gaming platforms is 9 years, and the appearance of new ones is 5 years. Based on this, the relevant time period for the study was adjusted for 2010 - 2016, although for current platforms this period will be the last 3-4 years.\n",
    "* according to distributions of sales, platforms were identified that will still be relevant in 2017: 'ps4', '3ds', 'xone', 'wiiu', 'psv', 'pc'\n",
    "* All platforms have had a negative sales trend since 2011. However, the most promising platforms in the future are *ps4*, *3ds*, *pc* and *xone*. Their sales until 2016 were high and are likely to be at a similar level in 2017.\n",
    "* Separately, the *pc* platform should be noted: the average life cycle is not applicable to this platform due to the peculiarity of the fact that the computer itself is not a game console, so there are no new generations or models. The hardware improves, but the platform itself remains. Therefore, despite the drop in sales after 2010, pc will still be a relevant platform in the future.\n",
    "\n",
    "**Impact of Critics' and User's Ratings on Sales**\n",
    "* The correlation between sales and ratings of critics / users is observed only for the ps platform, which is no longer relevant. Sales on other platforms are practically independent of estimates (Pearson coefficient 0.2).\n",
    "\n",
    "**Impact of ESRB rating on sales**\n",
    "* In America and Europe, games *for adults* are noticeably leading, and in Japan *for teenagers* and *for all*.\n",
    "* In the category of games *for adults* just the same fall *action* and *shooter*, which tops the top list by genre in Europe and America. There is a lot of violence and gore.\n",
    "* In Japan, in the first place in the genre of role-playing games, which are allowed for adolescents or without restrictions, since there is no realistic violence.\n",
    "* Most likely it is not the rating that affects the sales, but the genre of the game.\n",
    "\n",
    "**Impact of game genre on sales**\n",
    "* top selling genres of games: action, shooter, sports, role-playing, misc\n",
    "    * for America and Europe there is a common top\n",
    "    * for Japan: role-playing, action, misc, platform, adventure\n",
    "\n",
    "**Potentially profitable platform genres in the future by region**\n",
    "* North America NA:\n",
    "    * TOP genres: action, shooters, sports games\n",
    "    * TOP platforms: stationary platforms - ps4, xone\n",
    "    \n",
    "* Europe EU:\n",
    "    * TOP genres: action, shooters, sports games\n",
    "    * TOP platforms: stationary platforms - ps4, pc\n",
    "    \n",
    "* Japan JP:\n",
    "    * TOP genres: RPG, action, mixed genre (misc)\n",
    "    * TOP platforms: portable platforms - 3ds, psv\n",
    " \n",
    "* the lion's share of sales, about 86%, in America and Europe"
   ]
  }
 ],
 "metadata": {
  "kernelspec": {
   "display_name": "Python 3",
   "language": "python",
   "name": "python3"
  },
  "language_info": {
   "codemirror_mode": {
    "name": "ipython",
    "version": 3
   },
   "file_extension": ".py",
   "mimetype": "text/x-python",
   "name": "python",
   "nbconvert_exporter": "python",
   "pygments_lexer": "ipython3",
   "version": "3.8.3"
  }
 },
 "nbformat": 4,
 "nbformat_minor": 4
}

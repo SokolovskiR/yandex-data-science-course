{
 "cells": [
  {
   "cell_type": "markdown",
   "metadata": {},
   "source": [
    "# Project Description\n",
    "\n",
    "Prepare a prototype machine learning model for company \"Zifra\". The company develops solutions for the efficient operation of industrial enterprises.\n",
    "\n",
    "The model should predict the recovery rate of gold from a gold-bearing ore. At your disposal data with parameters of extraction and purification.\n",
    "\n",
    "The model will help to optimize production in order not to launch a company with unprofitable characteristics.\n",
    "\n",
    "Steps:\n",
    "\n",
    "1. Prepare data;\n",
    "2. Conduct exploratory data analysis;\n",
    "3. Build and train the model."
   ]
  },
  {
   "cell_type": "markdown",
   "metadata": {},
   "source": [
    "## Data Description"
   ]
  },
  {
   "cell_type": "markdown",
   "metadata": {},
   "source": [
    "**Technological process**\n",
    "* Rougher feed - raw material\n",
    "* Rougher additions (or reagent additions) - flotation reagents: Xanthate, Sulphate, Depressant\n",
    "    * Xanthate ** - xanthate (promoter, or activator of flotation);\n",
    "    * Sulphate - sulfate (sodium sulfide in this production);\n",
    "    * Depressant - depressant (sodium silicate).\n",
    "* Rougher process - flotation\n",
    "* Rougher tails - tailings\n",
    "* Float banks - flotation unit\n",
    "* Cleaner process - cleaning\n",
    "* Rougher Au - rough gold concentrate\n",
    "* Final Au - final gold concentrate\n",
    "\n",
    "**Stage parameters**\n",
    "* air amount - air volume\n",
    "* fluid levels - fluid level\n",
    "* feed size - raw material granule size\n",
    "* feed rate - feed rate\n",
    "\n",
    "**Naming**\n",
    "\n",
    "The name of the signs should be as follows:\n",
    "[stage]. [parameter_type]. [parameter_name]\n",
    "\n",
    "Example: rougher.input.feed_ag\n",
    "Possible values for the [stage] block:\n",
    "* rougher - flotation\n",
    "* primary_cleaner - primary cleanup\n",
    "* secondary_cleaner - secondary cleaning\n",
    "* final - final characteristics\n",
    "Possible values for the [parameter_type] block:\n",
    "* input - raw material parameters\n",
    "* output - product parameters\n",
    "* state - parameters characterizing the current state of the stage\n",
    "* calculation - calculated characteristics"
   ]
  },
  {
   "cell_type": "markdown",
   "metadata": {},
   "source": [
    "## Final metric of model quality"
   ]
  },
  {
   "cell_type": "markdown",
   "metadata": {},
   "source": [
    "**Symmetric mean absolute percentage error (sMAPE)**\n",
    "\n",
    "final sMAPE = 25% x sMAPE(rougher) + 75% x sMAPE(final)"
   ]
  },
  {
   "cell_type": "markdown",
   "metadata": {},
   "source": [
    "# Table of Content <a id='content'></a>\n",
    "\n",
    "[**1. Loading and preparing data**](#step1)\n",
    "   * [*1.1 Data import and overview of general information*](#step1.1)\n",
    "   * [*1.2 Checking the accuracy of the calculation of the enrichment efficiency*](#step1.2)\n",
    "   * [*1.3 Feature selection*](#step1.3)\n",
    "   * [*1.4 Missing values*](#step1.4)\n",
    "   * [*1.5 Duplicates*](#step1.5)\n",
    "\n",
    "[**2. Exploratory Data Analysis**](#step2)\n",
    "   * [*2.1 Preparation*](#step2.1)\n",
    "   * [*2.2 Compare metal concentration in the purification stages*](#step2.2)\n",
    "   * [*2.3 Comparison of size distributions of raw material granules*](#step2.3)\n",
    "   * [*2.4 Total concentration of substances in raw materials*](#step2.4)\n",
    "   * [*2.5 Multicollinearity check*](#step2.5)\n",
    "   \n",
    "[**3. Train and validate ML model**](#step3)\n",
    "   * [*3.1 Functions for calculation of final metric*](#step3.1)\n",
    "   * [*3.2 Train Test Split*](#step3.2)\n",
    "   * [*3.3 Model 1*](#step3.3)\n",
    "   * [*3.4 Model 2*](#step3.4)\n",
    "   * [*3.5 Model 3*](#step3.5)\n",
    "   * [*3.6 Model selection*](#step3.5)\n",
    "\n",
    "[**4. Test the model**](#step4)\n",
    "   * [*4.1 Model performance on test data*](#step4.1)\n",
    "   * [*4.2 Comparison with dummy model*](#step4.2)\n",
    "\n",
    "[**5. Summary**](#step5)"
   ]
  },
  {
   "cell_type": "markdown",
   "metadata": {},
   "source": [
    "Импорт библиотек:"
   ]
  },
  {
   "cell_type": "code",
   "execution_count": 96,
   "metadata": {},
   "outputs": [],
   "source": [
    "import pandas as pd\n",
    "import numpy as np\n",
    "from sklearn.linear_model import LinearRegression\n",
    "from sklearn.tree import DecisionTreeRegressor\n",
    "from sklearn.ensemble import RandomForestRegressor\n",
    "from sklearn.dummy import DummyRegressor\n",
    "from sklearn.model_selection import train_test_split, GridSearchCV, cross_validate\n",
    "from sklearn.preprocessing import StandardScaler\n",
    "from sklearn.metrics import mean_absolute_error, make_scorer\n",
    "import plotly.express as px\n",
    "import seaborn as sns\n",
    "import matplotlib.pyplot as plt\n",
    "import plotly.graph_objects as go\n",
    "import scipy.stats as st\n",
    "random_state = 666\n",
    "\n",
    "import warnings\n",
    "warnings.filterwarnings(\"ignore\")"
   ]
  },
  {
   "cell_type": "markdown",
   "metadata": {},
   "source": [
    "# 1. Loading and preparing data <a class=\"anchor\" id=\"step1\"></a>\n",
    "[back to content](#content)"
   ]
  },
  {
   "cell_type": "markdown",
   "metadata": {},
   "source": [
    "## 1.1 Data import and overview of general information <a class=\"anchor\" id=\"step1.1\"></a>\n",
    "[back to content](#content)"
   ]
  },
  {
   "cell_type": "markdown",
   "metadata": {},
   "source": [
    "Loading data:"
   ]
  },
  {
   "cell_type": "code",
   "execution_count": 2,
   "metadata": {},
   "outputs": [],
   "source": [
    "df_train = pd.read_csv('gold_recovery_train.csv', parse_dates=['date'])\n",
    "df_test = pd.read_csv('gold_recovery_test.csv', parse_dates=['date'])\n",
    "df_full = pd.read_csv('gold_recovery_full.csv', parse_dates=['date'])"
   ]
  },
  {
   "cell_type": "code",
   "execution_count": 3,
   "metadata": {},
   "outputs": [
    {
     "name": "stdout",
     "output_type": "stream",
     "text": [
      "Training dataset size: 16860 rows and 87 columns.\n",
      "Test dataset size: 5856 rows and 53 columns.\n",
      "Source dataset size: 22716 rows and 87 columns.\n"
     ]
    }
   ],
   "source": [
    "print('Training dataset size: {} rows and {} columns.'.format(df_train.shape[0], df_train.shape[1]))\n",
    "print('Test dataset size: {} rows and {} columns.'.format(df_test.shape[0], df_test.shape[1]))\n",
    "print('Source dataset size: {} rows and {} columns.'.format(df_full.shape[0], df_full.shape[1]))"
   ]
  },
  {
   "cell_type": "code",
   "execution_count": 4,
   "metadata": {},
   "outputs": [
    {
     "data": {
      "text/html": [
       "<div>\n",
       "<style scoped>\n",
       "    .dataframe tbody tr th:only-of-type {\n",
       "        vertical-align: middle;\n",
       "    }\n",
       "\n",
       "    .dataframe tbody tr th {\n",
       "        vertical-align: top;\n",
       "    }\n",
       "\n",
       "    .dataframe thead th {\n",
       "        text-align: right;\n",
       "    }\n",
       "</style>\n",
       "<table border=\"1\" class=\"dataframe\">\n",
       "  <thead>\n",
       "    <tr style=\"text-align: right;\">\n",
       "      <th></th>\n",
       "      <th>date</th>\n",
       "      <th>final.output.concentrate_ag</th>\n",
       "      <th>final.output.concentrate_pb</th>\n",
       "      <th>final.output.concentrate_sol</th>\n",
       "      <th>final.output.concentrate_au</th>\n",
       "      <th>final.output.recovery</th>\n",
       "      <th>final.output.tail_ag</th>\n",
       "      <th>final.output.tail_pb</th>\n",
       "      <th>final.output.tail_sol</th>\n",
       "      <th>final.output.tail_au</th>\n",
       "      <th>...</th>\n",
       "      <th>secondary_cleaner.state.floatbank4_a_air</th>\n",
       "      <th>secondary_cleaner.state.floatbank4_a_level</th>\n",
       "      <th>secondary_cleaner.state.floatbank4_b_air</th>\n",
       "      <th>secondary_cleaner.state.floatbank4_b_level</th>\n",
       "      <th>secondary_cleaner.state.floatbank5_a_air</th>\n",
       "      <th>secondary_cleaner.state.floatbank5_a_level</th>\n",
       "      <th>secondary_cleaner.state.floatbank5_b_air</th>\n",
       "      <th>secondary_cleaner.state.floatbank5_b_level</th>\n",
       "      <th>secondary_cleaner.state.floatbank6_a_air</th>\n",
       "      <th>secondary_cleaner.state.floatbank6_a_level</th>\n",
       "    </tr>\n",
       "  </thead>\n",
       "  <tbody>\n",
       "    <tr>\n",
       "      <th>7347</th>\n",
       "      <td>2016-11-16 02:59:59</td>\n",
       "      <td>5.480099</td>\n",
       "      <td>10.696814</td>\n",
       "      <td>8.951820</td>\n",
       "      <td>43.215607</td>\n",
       "      <td>73.591694</td>\n",
       "      <td>10.573597</td>\n",
       "      <td>3.313799</td>\n",
       "      <td>8.753174</td>\n",
       "      <td>3.208250</td>\n",
       "      <td>...</td>\n",
       "      <td>15.982897</td>\n",
       "      <td>-501.172568</td>\n",
       "      <td>14.021975</td>\n",
       "      <td>-502.004278</td>\n",
       "      <td>17.306005</td>\n",
       "      <td>-498.045576</td>\n",
       "      <td>13.970271</td>\n",
       "      <td>-498.906521</td>\n",
       "      <td>22.041210</td>\n",
       "      <td>-499.159502</td>\n",
       "    </tr>\n",
       "    <tr>\n",
       "      <th>7963</th>\n",
       "      <td>2016-12-11 18:59:59</td>\n",
       "      <td>3.748635</td>\n",
       "      <td>8.515292</td>\n",
       "      <td>12.181453</td>\n",
       "      <td>48.005691</td>\n",
       "      <td>65.120584</td>\n",
       "      <td>10.948171</td>\n",
       "      <td>3.159434</td>\n",
       "      <td>9.190712</td>\n",
       "      <td>3.414059</td>\n",
       "      <td>...</td>\n",
       "      <td>17.043020</td>\n",
       "      <td>-499.972434</td>\n",
       "      <td>15.033034</td>\n",
       "      <td>-499.508631</td>\n",
       "      <td>15.535564</td>\n",
       "      <td>-498.883225</td>\n",
       "      <td>11.996011</td>\n",
       "      <td>-499.415341</td>\n",
       "      <td>21.010029</td>\n",
       "      <td>-498.188086</td>\n",
       "    </tr>\n",
       "    <tr>\n",
       "      <th>17744</th>\n",
       "      <td>2018-01-23 07:59:59</td>\n",
       "      <td>5.483131</td>\n",
       "      <td>9.784353</td>\n",
       "      <td>8.493271</td>\n",
       "      <td>45.641835</td>\n",
       "      <td>73.148396</td>\n",
       "      <td>11.971316</td>\n",
       "      <td>2.360590</td>\n",
       "      <td>5.915336</td>\n",
       "      <td>3.393216</td>\n",
       "      <td>...</td>\n",
       "      <td>20.044873</td>\n",
       "      <td>-500.783159</td>\n",
       "      <td>15.016650</td>\n",
       "      <td>-499.842945</td>\n",
       "      <td>11.016677</td>\n",
       "      <td>-500.104252</td>\n",
       "      <td>8.941045</td>\n",
       "      <td>-500.009482</td>\n",
       "      <td>11.013032</td>\n",
       "      <td>-500.350565</td>\n",
       "    </tr>\n",
       "  </tbody>\n",
       "</table>\n",
       "<p>3 rows × 87 columns</p>\n",
       "</div>"
      ],
      "text/plain": [
       "                     date  final.output.concentrate_ag  \\\n",
       "7347  2016-11-16 02:59:59                     5.480099   \n",
       "7963  2016-12-11 18:59:59                     3.748635   \n",
       "17744 2018-01-23 07:59:59                     5.483131   \n",
       "\n",
       "       final.output.concentrate_pb  final.output.concentrate_sol  \\\n",
       "7347                     10.696814                      8.951820   \n",
       "7963                      8.515292                     12.181453   \n",
       "17744                     9.784353                      8.493271   \n",
       "\n",
       "       final.output.concentrate_au  final.output.recovery  \\\n",
       "7347                     43.215607              73.591694   \n",
       "7963                     48.005691              65.120584   \n",
       "17744                    45.641835              73.148396   \n",
       "\n",
       "       final.output.tail_ag  final.output.tail_pb  final.output.tail_sol  \\\n",
       "7347              10.573597              3.313799               8.753174   \n",
       "7963              10.948171              3.159434               9.190712   \n",
       "17744             11.971316              2.360590               5.915336   \n",
       "\n",
       "       final.output.tail_au  ...  secondary_cleaner.state.floatbank4_a_air  \\\n",
       "7347               3.208250  ...                                 15.982897   \n",
       "7963               3.414059  ...                                 17.043020   \n",
       "17744              3.393216  ...                                 20.044873   \n",
       "\n",
       "       secondary_cleaner.state.floatbank4_a_level  \\\n",
       "7347                                  -501.172568   \n",
       "7963                                  -499.972434   \n",
       "17744                                 -500.783159   \n",
       "\n",
       "       secondary_cleaner.state.floatbank4_b_air  \\\n",
       "7347                                  14.021975   \n",
       "7963                                  15.033034   \n",
       "17744                                 15.016650   \n",
       "\n",
       "       secondary_cleaner.state.floatbank4_b_level  \\\n",
       "7347                                  -502.004278   \n",
       "7963                                  -499.508631   \n",
       "17744                                 -499.842945   \n",
       "\n",
       "       secondary_cleaner.state.floatbank5_a_air  \\\n",
       "7347                                  17.306005   \n",
       "7963                                  15.535564   \n",
       "17744                                 11.016677   \n",
       "\n",
       "       secondary_cleaner.state.floatbank5_a_level  \\\n",
       "7347                                  -498.045576   \n",
       "7963                                  -498.883225   \n",
       "17744                                 -500.104252   \n",
       "\n",
       "       secondary_cleaner.state.floatbank5_b_air  \\\n",
       "7347                                  13.970271   \n",
       "7963                                  11.996011   \n",
       "17744                                  8.941045   \n",
       "\n",
       "       secondary_cleaner.state.floatbank5_b_level  \\\n",
       "7347                                  -498.906521   \n",
       "7963                                  -499.415341   \n",
       "17744                                 -500.009482   \n",
       "\n",
       "       secondary_cleaner.state.floatbank6_a_air  \\\n",
       "7347                                  22.041210   \n",
       "7963                                  21.010029   \n",
       "17744                                 11.013032   \n",
       "\n",
       "       secondary_cleaner.state.floatbank6_a_level  \n",
       "7347                                  -499.159502  \n",
       "7963                                  -498.188086  \n",
       "17744                                 -500.350565  \n",
       "\n",
       "[3 rows x 87 columns]"
      ]
     },
     "execution_count": 4,
     "metadata": {},
     "output_type": "execute_result"
    }
   ],
   "source": [
    "df_full.sample(3)"
   ]
  },
  {
   "cell_type": "markdown",
   "metadata": {},
   "source": [
    "Let's look at the general information of the initial data:"
   ]
  },
  {
   "cell_type": "code",
   "execution_count": 5,
   "metadata": {},
   "outputs": [
    {
     "name": "stdout",
     "output_type": "stream",
     "text": [
      "<class 'pandas.core.frame.DataFrame'>\n",
      "RangeIndex: 22716 entries, 0 to 22715\n",
      "Data columns (total 87 columns):\n",
      " #   Column                                              Non-Null Count  Dtype         \n",
      "---  ------                                              --------------  -----         \n",
      " 0   date                                                22716 non-null  datetime64[ns]\n",
      " 1   final.output.concentrate_ag                         22627 non-null  float64       \n",
      " 2   final.output.concentrate_pb                         22629 non-null  float64       \n",
      " 3   final.output.concentrate_sol                        22331 non-null  float64       \n",
      " 4   final.output.concentrate_au                         22630 non-null  float64       \n",
      " 5   final.output.recovery                               20753 non-null  float64       \n",
      " 6   final.output.tail_ag                                22633 non-null  float64       \n",
      " 7   final.output.tail_pb                                22516 non-null  float64       \n",
      " 8   final.output.tail_sol                               22445 non-null  float64       \n",
      " 9   final.output.tail_au                                22635 non-null  float64       \n",
      " 10  primary_cleaner.input.sulfate                       21107 non-null  float64       \n",
      " 11  primary_cleaner.input.depressant                    21170 non-null  float64       \n",
      " 12  primary_cleaner.input.feed_size                     22716 non-null  float64       \n",
      " 13  primary_cleaner.input.xanthate                      21565 non-null  float64       \n",
      " 14  primary_cleaner.output.concentrate_ag               22618 non-null  float64       \n",
      " 15  primary_cleaner.output.concentrate_pb               22268 non-null  float64       \n",
      " 16  primary_cleaner.output.concentrate_sol              21918 non-null  float64       \n",
      " 17  primary_cleaner.output.concentrate_au               22618 non-null  float64       \n",
      " 18  primary_cleaner.output.tail_ag                      22614 non-null  float64       \n",
      " 19  primary_cleaner.output.tail_pb                      22594 non-null  float64       \n",
      " 20  primary_cleaner.output.tail_sol                     22365 non-null  float64       \n",
      " 21  primary_cleaner.output.tail_au                      22617 non-null  float64       \n",
      " 22  primary_cleaner.state.floatbank8_a_air              22660 non-null  float64       \n",
      " 23  primary_cleaner.state.floatbank8_a_level            22667 non-null  float64       \n",
      " 24  primary_cleaner.state.floatbank8_b_air              22660 non-null  float64       \n",
      " 25  primary_cleaner.state.floatbank8_b_level            22673 non-null  float64       \n",
      " 26  primary_cleaner.state.floatbank8_c_air              22662 non-null  float64       \n",
      " 27  primary_cleaner.state.floatbank8_c_level            22673 non-null  float64       \n",
      " 28  primary_cleaner.state.floatbank8_d_air              22661 non-null  float64       \n",
      " 29  primary_cleaner.state.floatbank8_d_level            22673 non-null  float64       \n",
      " 30  rougher.calculation.sulfate_to_au_concentrate       22672 non-null  float64       \n",
      " 31  rougher.calculation.floatbank10_sulfate_to_au_feed  22672 non-null  float64       \n",
      " 32  rougher.calculation.floatbank11_sulfate_to_au_feed  22672 non-null  float64       \n",
      " 33  rougher.calculation.au_pb_ratio                     21089 non-null  float64       \n",
      " 34  rougher.input.feed_ag                               22618 non-null  float64       \n",
      " 35  rougher.input.feed_pb                               22472 non-null  float64       \n",
      " 36  rougher.input.feed_rate                             22163 non-null  float64       \n",
      " 37  rougher.input.feed_size                             22277 non-null  float64       \n",
      " 38  rougher.input.feed_sol                              22357 non-null  float64       \n",
      " 39  rougher.input.feed_au                               22617 non-null  float64       \n",
      " 40  rougher.input.floatbank10_sulfate                   21415 non-null  float64       \n",
      " 41  rougher.input.floatbank10_xanthate                  22247 non-null  float64       \n",
      " 42  rougher.input.floatbank11_sulfate                   22038 non-null  float64       \n",
      " 43  rougher.input.floatbank11_xanthate                  20459 non-null  float64       \n",
      " 44  rougher.output.concentrate_ag                       22618 non-null  float64       \n",
      " 45  rougher.output.concentrate_pb                       22618 non-null  float64       \n",
      " 46  rougher.output.concentrate_sol                      22526 non-null  float64       \n",
      " 47  rougher.output.concentrate_au                       22618 non-null  float64       \n",
      " 48  rougher.output.recovery                             19597 non-null  float64       \n",
      " 49  rougher.output.tail_ag                              19979 non-null  float64       \n",
      " 50  rougher.output.tail_pb                              22618 non-null  float64       \n",
      " 51  rougher.output.tail_sol                             19980 non-null  float64       \n",
      " 52  rougher.output.tail_au                              19980 non-null  float64       \n",
      " 53  rougher.state.floatbank10_a_air                     22646 non-null  float64       \n",
      " 54  rougher.state.floatbank10_a_level                   22647 non-null  float64       \n",
      " 55  rougher.state.floatbank10_b_air                     22646 non-null  float64       \n",
      " 56  rougher.state.floatbank10_b_level                   22647 non-null  float64       \n",
      " 57  rougher.state.floatbank10_c_air                     22646 non-null  float64       \n",
      " 58  rougher.state.floatbank10_c_level                   22654 non-null  float64       \n",
      " 59  rougher.state.floatbank10_d_air                     22641 non-null  float64       \n",
      " 60  rougher.state.floatbank10_d_level                   22649 non-null  float64       \n",
      " 61  rougher.state.floatbank10_e_air                     22096 non-null  float64       \n",
      " 62  rougher.state.floatbank10_e_level                   22649 non-null  float64       \n",
      " 63  rougher.state.floatbank10_f_air                     22641 non-null  float64       \n",
      " 64  rougher.state.floatbank10_f_level                   22642 non-null  float64       \n",
      " 65  secondary_cleaner.output.tail_ag                    22616 non-null  float64       \n",
      " 66  secondary_cleaner.output.tail_pb                    22600 non-null  float64       \n",
      " 67  secondary_cleaner.output.tail_sol                   20501 non-null  float64       \n",
      " 68  secondary_cleaner.output.tail_au                    22618 non-null  float64       \n",
      " 69  secondary_cleaner.state.floatbank2_a_air            22333 non-null  float64       \n",
      " 70  secondary_cleaner.state.floatbank2_a_level          22591 non-null  float64       \n",
      " 71  secondary_cleaner.state.floatbank2_b_air            22538 non-null  float64       \n",
      " 72  secondary_cleaner.state.floatbank2_b_level          22588 non-null  float64       \n",
      " 73  secondary_cleaner.state.floatbank3_a_air            22585 non-null  float64       \n",
      " 74  secondary_cleaner.state.floatbank3_a_level          22587 non-null  float64       \n",
      " 75  secondary_cleaner.state.floatbank3_b_air            22592 non-null  float64       \n",
      " 76  secondary_cleaner.state.floatbank3_b_level          22590 non-null  float64       \n",
      " 77  secondary_cleaner.state.floatbank4_a_air            22571 non-null  float64       \n",
      " 78  secondary_cleaner.state.floatbank4_a_level          22587 non-null  float64       \n",
      " 79  secondary_cleaner.state.floatbank4_b_air            22608 non-null  float64       \n",
      " 80  secondary_cleaner.state.floatbank4_b_level          22607 non-null  float64       \n",
      " 81  secondary_cleaner.state.floatbank5_a_air            22615 non-null  float64       \n",
      " 82  secondary_cleaner.state.floatbank5_a_level          22615 non-null  float64       \n",
      " 83  secondary_cleaner.state.floatbank5_b_air            22615 non-null  float64       \n",
      " 84  secondary_cleaner.state.floatbank5_b_level          22616 non-null  float64       \n",
      " 85  secondary_cleaner.state.floatbank6_a_air            22597 non-null  float64       \n",
      " 86  secondary_cleaner.state.floatbank6_a_level          22615 non-null  float64       \n",
      "dtypes: datetime64[ns](1), float64(86)\n",
      "memory usage: 15.1 MB\n"
     ]
    }
   ],
   "source": [
    "df_full.info()"
   ]
  },
  {
   "cell_type": "markdown",
   "metadata": {},
   "source": [
    "There are missing values in each column."
   ]
  },
  {
   "cell_type": "markdown",
   "metadata": {},
   "source": [
    "## 1.2 Checking the accuracy of the calculation of the enrichment efficiency <a class=\"anchor\" id=\"step1.2\"></a>\n",
    "[back to content](#content)"
   ]
  },
  {
   "cell_type": "markdown",
   "metadata": {},
   "source": [
    "Let's save the parameters for the calculation into variables:"
   ]
  },
  {
   "cell_type": "code",
   "execution_count": 6,
   "metadata": {},
   "outputs": [],
   "source": [
    "rougher_recovery = 'rougher.output.recovery'\n",
    "C_rougher = 'rougher.output.concentrate_au'\n",
    "F_rougher = 'rougher.input.feed_au'\n",
    "T_rougher = 'rougher.output.tail_au'"
   ]
  },
  {
   "cell_type": "markdown",
   "metadata": {},
   "source": [
    "Let's create functions to check the correctness of the calculation *rougher.output.recovery*:"
   ]
  },
  {
   "cell_type": "code",
   "execution_count": 7,
   "metadata": {},
   "outputs": [],
   "source": [
    "def calculate_recovery(C, F, T):\n",
    "    recovery = (((C * (F - T)) / (F * (C - T))) * 100)\n",
    "    return recovery\n",
    "\n",
    "def check_rougher_recovery(df):\n",
    "    df_calc = df.copy()\n",
    "    df_calc = df_calc.dropna(subset=[rougher_recovery,C_rougher,F_rougher,T_rougher])\n",
    "    \n",
    "    df_calc['check_rougher_recovery'] = calculate_recovery(df_calc[C_rougher],\n",
    "                                                          df_calc[F_rougher],\n",
    "                                                         df_calc[T_rougher])\n",
    "  \n",
    "    mae_rougher_recovery = mean_absolute_error(df_calc[rougher_recovery],\n",
    "                                               df_calc['check_rougher_recovery'])  \n",
    "    \n",
    "    return 'MAE for correct calculation rougher.output.recovery: {}'.format(\n",
    "        np.round(mae_rougher_recovery, 20))"
   ]
  },
  {
   "cell_type": "code",
   "execution_count": 8,
   "metadata": {},
   "outputs": [
    {
     "data": {
      "text/plain": [
       "'MAE for correct calculation rougher.output.recovery: 9.44489e-15'"
      ]
     },
     "execution_count": 8,
     "metadata": {},
     "output_type": "execute_result"
    }
   ],
   "source": [
    "check_rougher_recovery(df_train)"
   ]
  },
  {
   "cell_type": "markdown",
   "metadata": {},
   "source": [
    "MAE tends to zero, which means the calculation is correct."
   ]
  },
  {
   "cell_type": "markdown",
   "metadata": {},
   "source": [
    "## 1.3 Feature selection <a class=\"anchor\" id=\"step1.3\"></a>\n",
    "[back to content](#content)"
   ]
  },
  {
   "cell_type": "markdown",
   "metadata": {},
   "source": [
    "Let's save the names of the target features:"
   ]
  },
  {
   "cell_type": "code",
   "execution_count": 9,
   "metadata": {},
   "outputs": [],
   "source": [
    "target_cols = ['rougher.output.recovery', 'final.output.recovery']"
   ]
  },
  {
   "cell_type": "markdown",
   "metadata": {},
   "source": [
    "Let's see what features from the training sample are missing in the test:"
   ]
  },
  {
   "cell_type": "code",
   "execution_count": 10,
   "metadata": {},
   "outputs": [
    {
     "name": "stdout",
     "output_type": "stream",
     "text": [
      "There are 34 features missing in the test sample.\n"
     ]
    }
   ],
   "source": [
    "absent_cols = [col for col in df_train.columns if col not in df_test.columns]\n",
    "print('There are {} features missing in the test sample.'.format(len(absent_cols)))"
   ]
  },
  {
   "cell_type": "code",
   "execution_count": 11,
   "metadata": {},
   "outputs": [
    {
     "data": {
      "text/plain": [
       "['final.output.concentrate_ag',\n",
       " 'final.output.concentrate_pb',\n",
       " 'final.output.concentrate_sol',\n",
       " 'final.output.concentrate_au',\n",
       " 'final.output.recovery',\n",
       " 'final.output.tail_ag',\n",
       " 'final.output.tail_pb',\n",
       " 'final.output.tail_sol',\n",
       " 'final.output.tail_au',\n",
       " 'primary_cleaner.output.concentrate_ag',\n",
       " 'primary_cleaner.output.concentrate_pb',\n",
       " 'primary_cleaner.output.concentrate_sol',\n",
       " 'primary_cleaner.output.concentrate_au',\n",
       " 'primary_cleaner.output.tail_ag',\n",
       " 'primary_cleaner.output.tail_pb',\n",
       " 'primary_cleaner.output.tail_sol',\n",
       " 'primary_cleaner.output.tail_au',\n",
       " 'rougher.calculation.sulfate_to_au_concentrate',\n",
       " 'rougher.calculation.floatbank10_sulfate_to_au_feed',\n",
       " 'rougher.calculation.floatbank11_sulfate_to_au_feed',\n",
       " 'rougher.calculation.au_pb_ratio',\n",
       " 'rougher.output.concentrate_ag',\n",
       " 'rougher.output.concentrate_pb',\n",
       " 'rougher.output.concentrate_sol',\n",
       " 'rougher.output.concentrate_au',\n",
       " 'rougher.output.recovery',\n",
       " 'rougher.output.tail_ag',\n",
       " 'rougher.output.tail_pb',\n",
       " 'rougher.output.tail_sol',\n",
       " 'rougher.output.tail_au',\n",
       " 'secondary_cleaner.output.tail_ag',\n",
       " 'secondary_cleaner.output.tail_pb',\n",
       " 'secondary_cleaner.output.tail_sol',\n",
       " 'secondary_cleaner.output.tail_au']"
      ]
     },
     "execution_count": 11,
     "metadata": {},
     "output_type": "execute_result"
    }
   ],
   "source": [
    "absent_cols"
   ]
  },
  {
   "cell_type": "markdown",
   "metadata": {},
   "source": [
    "The missing columns are:\n",
    "* target features\n",
    "* calculated characteristics\n",
    "* product parameters by which the target attribute is calculated\n",
    "\n",
    "Let's remove these columns from the training set."
   ]
  },
  {
   "cell_type": "code",
   "execution_count": 12,
   "metadata": {},
   "outputs": [],
   "source": [
    "#backup\n",
    "df_train_prep = df_train.copy()"
   ]
  },
  {
   "cell_type": "code",
   "execution_count": 13,
   "metadata": {},
   "outputs": [],
   "source": [
    "#remove target features from missing columns\n",
    "drop_cols = [col for col in absent_cols if col not in target_cols]"
   ]
  },
  {
   "cell_type": "code",
   "execution_count": 14,
   "metadata": {},
   "outputs": [],
   "source": [
    "#remove columns from training set\n",
    "df_train_prep = df_train_prep.drop(labels=drop_cols, axis=1)"
   ]
  },
  {
   "cell_type": "code",
   "execution_count": 15,
   "metadata": {},
   "outputs": [
    {
     "data": {
      "text/plain": [
       "(16860, 55)"
      ]
     },
     "execution_count": 15,
     "metadata": {},
     "output_type": "execute_result"
    }
   ],
   "source": [
    "df_train_prep.shape"
   ]
  },
  {
   "cell_type": "markdown",
   "metadata": {},
   "source": [
    "## 1.4 Missing values <a class=\"anchor\" id=\"step1.4\"></a>\n",
    "[back to content](#content)"
   ]
  },
  {
   "cell_type": "markdown",
   "metadata": {},
   "source": [
    "Let's look at the number of gaps in the training dataset:"
   ]
  },
  {
   "cell_type": "code",
   "execution_count": 16,
   "metadata": {},
   "outputs": [],
   "source": [
    "#function to calculate the number of gaps in data\n",
    "def missing_data(data):\n",
    "    total = data.isnull().sum().sort_values(ascending = False)\n",
    "    percent = (data.isnull().sum()/data.isnull().count()*100).sort_values(ascending = False).round(1).astype(float)\n",
    "    return pd.concat([total, percent], axis=1, keys=['Total', 'Percent'])"
   ]
  },
  {
   "cell_type": "code",
   "execution_count": 17,
   "metadata": {},
   "outputs": [],
   "source": [
    "#backup\n",
    "df_train_skips = df_train_prep.copy()\n",
    "df_test_skips = df_test.copy()"
   ]
  },
  {
   "cell_type": "code",
   "execution_count": 18,
   "metadata": {},
   "outputs": [
    {
     "data": {
      "text/html": [
       "<style  type=\"text/css\" >\n",
       "#T_495f0b5c_6c7d_11eb_bd0c_d8cb8a5cd364row0_col0,#T_495f0b5c_6c7d_11eb_bd0c_d8cb8a5cd364row0_col1{\n",
       "            background-color:  #b40426;\n",
       "            color:  #f1f1f1;\n",
       "        }#T_495f0b5c_6c7d_11eb_bd0c_d8cb8a5cd364row1_col0,#T_495f0b5c_6c7d_11eb_bd0c_d8cb8a5cd364row1_col1{\n",
       "            background-color:  #f59d7e;\n",
       "            color:  #000000;\n",
       "        }#T_495f0b5c_6c7d_11eb_bd0c_d8cb8a5cd364row2_col0{\n",
       "            background-color:  #f1cdba;\n",
       "            color:  #000000;\n",
       "        }#T_495f0b5c_6c7d_11eb_bd0c_d8cb8a5cd364row2_col1{\n",
       "            background-color:  #f0cdbb;\n",
       "            color:  #000000;\n",
       "        }#T_495f0b5c_6c7d_11eb_bd0c_d8cb8a5cd364row3_col0,#T_495f0b5c_6c7d_11eb_bd0c_d8cb8a5cd364row3_col1{\n",
       "            background-color:  #dfdbd9;\n",
       "            color:  #000000;\n",
       "        }#T_495f0b5c_6c7d_11eb_bd0c_d8cb8a5cd364row4_col0,#T_495f0b5c_6c7d_11eb_bd0c_d8cb8a5cd364row4_col1{\n",
       "            background-color:  #dadce0;\n",
       "            color:  #000000;\n",
       "        }#T_495f0b5c_6c7d_11eb_bd0c_d8cb8a5cd364row5_col0,#T_495f0b5c_6c7d_11eb_bd0c_d8cb8a5cd364row5_col1{\n",
       "            background-color:  #c1d4f4;\n",
       "            color:  #000000;\n",
       "        }#T_495f0b5c_6c7d_11eb_bd0c_d8cb8a5cd364row6_col0{\n",
       "            background-color:  #bbd1f8;\n",
       "            color:  #000000;\n",
       "        }#T_495f0b5c_6c7d_11eb_bd0c_d8cb8a5cd364row6_col1{\n",
       "            background-color:  #bad0f8;\n",
       "            color:  #000000;\n",
       "        }#T_495f0b5c_6c7d_11eb_bd0c_d8cb8a5cd364row7_col0,#T_495f0b5c_6c7d_11eb_bd0c_d8cb8a5cd364row7_col1{\n",
       "            background-color:  #89acfd;\n",
       "            color:  #000000;\n",
       "        }#T_495f0b5c_6c7d_11eb_bd0c_d8cb8a5cd364row8_col0{\n",
       "            background-color:  #86a9fc;\n",
       "            color:  #000000;\n",
       "        }#T_495f0b5c_6c7d_11eb_bd0c_d8cb8a5cd364row8_col1{\n",
       "            background-color:  #88abfd;\n",
       "            color:  #000000;\n",
       "        }#T_495f0b5c_6c7d_11eb_bd0c_d8cb8a5cd364row9_col0{\n",
       "            background-color:  #7b9ff9;\n",
       "            color:  #000000;\n",
       "        }#T_495f0b5c_6c7d_11eb_bd0c_d8cb8a5cd364row9_col1{\n",
       "            background-color:  #7a9df8;\n",
       "            color:  #000000;\n",
       "        }#T_495f0b5c_6c7d_11eb_bd0c_d8cb8a5cd364row10_col0,#T_495f0b5c_6c7d_11eb_bd0c_d8cb8a5cd364row10_col1{\n",
       "            background-color:  #6e90f2;\n",
       "            color:  #000000;\n",
       "        }#T_495f0b5c_6c7d_11eb_bd0c_d8cb8a5cd364row11_col0,#T_495f0b5c_6c7d_11eb_bd0c_d8cb8a5cd364row11_col1{\n",
       "            background-color:  #6788ee;\n",
       "            color:  #000000;\n",
       "        }#T_495f0b5c_6c7d_11eb_bd0c_d8cb8a5cd364row12_col0{\n",
       "            background-color:  #6485ec;\n",
       "            color:  #000000;\n",
       "        }#T_495f0b5c_6c7d_11eb_bd0c_d8cb8a5cd364row12_col1{\n",
       "            background-color:  #6687ed;\n",
       "            color:  #000000;\n",
       "        }#T_495f0b5c_6c7d_11eb_bd0c_d8cb8a5cd364row13_col0{\n",
       "            background-color:  #5e7de7;\n",
       "            color:  #000000;\n",
       "        }#T_495f0b5c_6c7d_11eb_bd0c_d8cb8a5cd364row13_col1{\n",
       "            background-color:  #5d7ce6;\n",
       "            color:  #000000;\n",
       "        }#T_495f0b5c_6c7d_11eb_bd0c_d8cb8a5cd364row14_col0{\n",
       "            background-color:  #5572df;\n",
       "            color:  #000000;\n",
       "        }#T_495f0b5c_6c7d_11eb_bd0c_d8cb8a5cd364row14_col1{\n",
       "            background-color:  #5673e0;\n",
       "            color:  #000000;\n",
       "        }#T_495f0b5c_6c7d_11eb_bd0c_d8cb8a5cd364row15_col0,#T_495f0b5c_6c7d_11eb_bd0c_d8cb8a5cd364row15_col1{\n",
       "            background-color:  #4c66d6;\n",
       "            color:  #000000;\n",
       "        }#T_495f0b5c_6c7d_11eb_bd0c_d8cb8a5cd364row16_col0{\n",
       "            background-color:  #4961d2;\n",
       "            color:  #f1f1f1;\n",
       "        }#T_495f0b5c_6c7d_11eb_bd0c_d8cb8a5cd364row16_col1{\n",
       "            background-color:  #4a63d3;\n",
       "            color:  #f1f1f1;\n",
       "        }#T_495f0b5c_6c7d_11eb_bd0c_d8cb8a5cd364row17_col0,#T_495f0b5c_6c7d_11eb_bd0c_d8cb8a5cd364row17_col1,#T_495f0b5c_6c7d_11eb_bd0c_d8cb8a5cd364row18_col0,#T_495f0b5c_6c7d_11eb_bd0c_d8cb8a5cd364row18_col1,#T_495f0b5c_6c7d_11eb_bd0c_d8cb8a5cd364row19_col0,#T_495f0b5c_6c7d_11eb_bd0c_d8cb8a5cd364row19_col1,#T_495f0b5c_6c7d_11eb_bd0c_d8cb8a5cd364row20_col1{\n",
       "            background-color:  #485fd1;\n",
       "            color:  #f1f1f1;\n",
       "        }#T_495f0b5c_6c7d_11eb_bd0c_d8cb8a5cd364row20_col0,#T_495f0b5c_6c7d_11eb_bd0c_d8cb8a5cd364row21_col0,#T_495f0b5c_6c7d_11eb_bd0c_d8cb8a5cd364row21_col1,#T_495f0b5c_6c7d_11eb_bd0c_d8cb8a5cd364row22_col0,#T_495f0b5c_6c7d_11eb_bd0c_d8cb8a5cd364row22_col1,#T_495f0b5c_6c7d_11eb_bd0c_d8cb8a5cd364row23_col0,#T_495f0b5c_6c7d_11eb_bd0c_d8cb8a5cd364row23_col1,#T_495f0b5c_6c7d_11eb_bd0c_d8cb8a5cd364row24_col1,#T_495f0b5c_6c7d_11eb_bd0c_d8cb8a5cd364row25_col1{\n",
       "            background-color:  #465ecf;\n",
       "            color:  #f1f1f1;\n",
       "        }#T_495f0b5c_6c7d_11eb_bd0c_d8cb8a5cd364row24_col0,#T_495f0b5c_6c7d_11eb_bd0c_d8cb8a5cd364row25_col0,#T_495f0b5c_6c7d_11eb_bd0c_d8cb8a5cd364row26_col0{\n",
       "            background-color:  #455cce;\n",
       "            color:  #f1f1f1;\n",
       "        }#T_495f0b5c_6c7d_11eb_bd0c_d8cb8a5cd364row26_col1,#T_495f0b5c_6c7d_11eb_bd0c_d8cb8a5cd364row27_col0,#T_495f0b5c_6c7d_11eb_bd0c_d8cb8a5cd364row27_col1,#T_495f0b5c_6c7d_11eb_bd0c_d8cb8a5cd364row28_col0,#T_495f0b5c_6c7d_11eb_bd0c_d8cb8a5cd364row28_col1,#T_495f0b5c_6c7d_11eb_bd0c_d8cb8a5cd364row29_col0,#T_495f0b5c_6c7d_11eb_bd0c_d8cb8a5cd364row29_col1,#T_495f0b5c_6c7d_11eb_bd0c_d8cb8a5cd364row30_col0,#T_495f0b5c_6c7d_11eb_bd0c_d8cb8a5cd364row30_col1,#T_495f0b5c_6c7d_11eb_bd0c_d8cb8a5cd364row31_col0,#T_495f0b5c_6c7d_11eb_bd0c_d8cb8a5cd364row31_col1,#T_495f0b5c_6c7d_11eb_bd0c_d8cb8a5cd364row32_col0,#T_495f0b5c_6c7d_11eb_bd0c_d8cb8a5cd364row32_col1,#T_495f0b5c_6c7d_11eb_bd0c_d8cb8a5cd364row33_col0,#T_495f0b5c_6c7d_11eb_bd0c_d8cb8a5cd364row33_col1{\n",
       "            background-color:  #445acc;\n",
       "            color:  #f1f1f1;\n",
       "        }#T_495f0b5c_6c7d_11eb_bd0c_d8cb8a5cd364row34_col0,#T_495f0b5c_6c7d_11eb_bd0c_d8cb8a5cd364row34_col1,#T_495f0b5c_6c7d_11eb_bd0c_d8cb8a5cd364row35_col0,#T_495f0b5c_6c7d_11eb_bd0c_d8cb8a5cd364row35_col1,#T_495f0b5c_6c7d_11eb_bd0c_d8cb8a5cd364row36_col0,#T_495f0b5c_6c7d_11eb_bd0c_d8cb8a5cd364row36_col1,#T_495f0b5c_6c7d_11eb_bd0c_d8cb8a5cd364row37_col0,#T_495f0b5c_6c7d_11eb_bd0c_d8cb8a5cd364row37_col1,#T_495f0b5c_6c7d_11eb_bd0c_d8cb8a5cd364row38_col0,#T_495f0b5c_6c7d_11eb_bd0c_d8cb8a5cd364row38_col1,#T_495f0b5c_6c7d_11eb_bd0c_d8cb8a5cd364row39_col0,#T_495f0b5c_6c7d_11eb_bd0c_d8cb8a5cd364row39_col1,#T_495f0b5c_6c7d_11eb_bd0c_d8cb8a5cd364row40_col0,#T_495f0b5c_6c7d_11eb_bd0c_d8cb8a5cd364row40_col1,#T_495f0b5c_6c7d_11eb_bd0c_d8cb8a5cd364row41_col0,#T_495f0b5c_6c7d_11eb_bd0c_d8cb8a5cd364row41_col1,#T_495f0b5c_6c7d_11eb_bd0c_d8cb8a5cd364row42_col0,#T_495f0b5c_6c7d_11eb_bd0c_d8cb8a5cd364row42_col1,#T_495f0b5c_6c7d_11eb_bd0c_d8cb8a5cd364row43_col0,#T_495f0b5c_6c7d_11eb_bd0c_d8cb8a5cd364row43_col1,#T_495f0b5c_6c7d_11eb_bd0c_d8cb8a5cd364row44_col1{\n",
       "            background-color:  #4055c8;\n",
       "            color:  #f1f1f1;\n",
       "        }#T_495f0b5c_6c7d_11eb_bd0c_d8cb8a5cd364row44_col0{\n",
       "            background-color:  #3f53c6;\n",
       "            color:  #f1f1f1;\n",
       "        }#T_495f0b5c_6c7d_11eb_bd0c_d8cb8a5cd364row45_col0,#T_495f0b5c_6c7d_11eb_bd0c_d8cb8a5cd364row45_col1,#T_495f0b5c_6c7d_11eb_bd0c_d8cb8a5cd364row46_col0,#T_495f0b5c_6c7d_11eb_bd0c_d8cb8a5cd364row46_col1,#T_495f0b5c_6c7d_11eb_bd0c_d8cb8a5cd364row47_col0,#T_495f0b5c_6c7d_11eb_bd0c_d8cb8a5cd364row47_col1,#T_495f0b5c_6c7d_11eb_bd0c_d8cb8a5cd364row48_col0,#T_495f0b5c_6c7d_11eb_bd0c_d8cb8a5cd364row48_col1,#T_495f0b5c_6c7d_11eb_bd0c_d8cb8a5cd364row49_col0,#T_495f0b5c_6c7d_11eb_bd0c_d8cb8a5cd364row49_col1,#T_495f0b5c_6c7d_11eb_bd0c_d8cb8a5cd364row50_col1,#T_495f0b5c_6c7d_11eb_bd0c_d8cb8a5cd364row51_col1,#T_495f0b5c_6c7d_11eb_bd0c_d8cb8a5cd364row52_col1{\n",
       "            background-color:  #3e51c5;\n",
       "            color:  #f1f1f1;\n",
       "        }#T_495f0b5c_6c7d_11eb_bd0c_d8cb8a5cd364row50_col0,#T_495f0b5c_6c7d_11eb_bd0c_d8cb8a5cd364row51_col0,#T_495f0b5c_6c7d_11eb_bd0c_d8cb8a5cd364row52_col0{\n",
       "            background-color:  #3d50c3;\n",
       "            color:  #f1f1f1;\n",
       "        }#T_495f0b5c_6c7d_11eb_bd0c_d8cb8a5cd364row53_col0,#T_495f0b5c_6c7d_11eb_bd0c_d8cb8a5cd364row53_col1,#T_495f0b5c_6c7d_11eb_bd0c_d8cb8a5cd364row54_col0,#T_495f0b5c_6c7d_11eb_bd0c_d8cb8a5cd364row54_col1{\n",
       "            background-color:  #3b4cc0;\n",
       "            color:  #f1f1f1;\n",
       "        }</style><table id=\"T_495f0b5c_6c7d_11eb_bd0c_d8cb8a5cd364\" ><thead>    <tr>        <th class=\"blank level0\" ></th>        <th class=\"col_heading level0 col0\" >Total</th>        <th class=\"col_heading level0 col1\" >Percent</th>    </tr></thead><tbody>\n",
       "                <tr>\n",
       "                        <th id=\"T_495f0b5c_6c7d_11eb_bd0c_d8cb8a5cd364level0_row0\" class=\"row_heading level0 row0\" >rougher.output.recovery</th>\n",
       "                        <td id=\"T_495f0b5c_6c7d_11eb_bd0c_d8cb8a5cd364row0_col0\" class=\"data row0 col0\" >2573</td>\n",
       "                        <td id=\"T_495f0b5c_6c7d_11eb_bd0c_d8cb8a5cd364row0_col1\" class=\"data row0 col1\" >15.300000</td>\n",
       "            </tr>\n",
       "            <tr>\n",
       "                        <th id=\"T_495f0b5c_6c7d_11eb_bd0c_d8cb8a5cd364level0_row1\" class=\"row_heading level0 row1\" >rougher.input.floatbank11_xanthate</th>\n",
       "                        <td id=\"T_495f0b5c_6c7d_11eb_bd0c_d8cb8a5cd364row1_col0\" class=\"data row1 col0\" >1904</td>\n",
       "                        <td id=\"T_495f0b5c_6c7d_11eb_bd0c_d8cb8a5cd364row1_col1\" class=\"data row1 col1\" >11.300000</td>\n",
       "            </tr>\n",
       "            <tr>\n",
       "                        <th id=\"T_495f0b5c_6c7d_11eb_bd0c_d8cb8a5cd364level0_row2\" class=\"row_heading level0 row2\" >final.output.recovery</th>\n",
       "                        <td id=\"T_495f0b5c_6c7d_11eb_bd0c_d8cb8a5cd364row2_col0\" class=\"data row2 col0\" >1521</td>\n",
       "                        <td id=\"T_495f0b5c_6c7d_11eb_bd0c_d8cb8a5cd364row2_col1\" class=\"data row2 col1\" >9.000000</td>\n",
       "            </tr>\n",
       "            <tr>\n",
       "                        <th id=\"T_495f0b5c_6c7d_11eb_bd0c_d8cb8a5cd364level0_row3\" class=\"row_heading level0 row3\" >primary_cleaner.input.sulfate</th>\n",
       "                        <td id=\"T_495f0b5c_6c7d_11eb_bd0c_d8cb8a5cd364row3_col0\" class=\"data row3 col0\" >1307</td>\n",
       "                        <td id=\"T_495f0b5c_6c7d_11eb_bd0c_d8cb8a5cd364row3_col1\" class=\"data row3 col1\" >7.800000</td>\n",
       "            </tr>\n",
       "            <tr>\n",
       "                        <th id=\"T_495f0b5c_6c7d_11eb_bd0c_d8cb8a5cd364level0_row4\" class=\"row_heading level0 row4\" >primary_cleaner.input.depressant</th>\n",
       "                        <td id=\"T_495f0b5c_6c7d_11eb_bd0c_d8cb8a5cd364row4_col0\" class=\"data row4 col0\" >1262</td>\n",
       "                        <td id=\"T_495f0b5c_6c7d_11eb_bd0c_d8cb8a5cd364row4_col1\" class=\"data row4 col1\" >7.500000</td>\n",
       "            </tr>\n",
       "            <tr>\n",
       "                        <th id=\"T_495f0b5c_6c7d_11eb_bd0c_d8cb8a5cd364level0_row5\" class=\"row_heading level0 row5\" >rougher.input.floatbank10_sulfate</th>\n",
       "                        <td id=\"T_495f0b5c_6c7d_11eb_bd0c_d8cb8a5cd364row5_col0\" class=\"data row5 col0\" >1044</td>\n",
       "                        <td id=\"T_495f0b5c_6c7d_11eb_bd0c_d8cb8a5cd364row5_col1\" class=\"data row5 col1\" >6.200000</td>\n",
       "            </tr>\n",
       "            <tr>\n",
       "                        <th id=\"T_495f0b5c_6c7d_11eb_bd0c_d8cb8a5cd364level0_row6\" class=\"row_heading level0 row6\" >primary_cleaner.input.xanthate</th>\n",
       "                        <td id=\"T_495f0b5c_6c7d_11eb_bd0c_d8cb8a5cd364row6_col0\" class=\"data row6 col0\" >985</td>\n",
       "                        <td id=\"T_495f0b5c_6c7d_11eb_bd0c_d8cb8a5cd364row6_col1\" class=\"data row6 col1\" >5.800000</td>\n",
       "            </tr>\n",
       "            <tr>\n",
       "                        <th id=\"T_495f0b5c_6c7d_11eb_bd0c_d8cb8a5cd364level0_row7\" class=\"row_heading level0 row7\" >rougher.input.floatbank11_sulfate</th>\n",
       "                        <td id=\"T_495f0b5c_6c7d_11eb_bd0c_d8cb8a5cd364row7_col0\" class=\"data row7 col0\" >623</td>\n",
       "                        <td id=\"T_495f0b5c_6c7d_11eb_bd0c_d8cb8a5cd364row7_col1\" class=\"data row7 col1\" >3.700000</td>\n",
       "            </tr>\n",
       "            <tr>\n",
       "                        <th id=\"T_495f0b5c_6c7d_11eb_bd0c_d8cb8a5cd364level0_row8\" class=\"row_heading level0 row8\" >rougher.state.floatbank10_e_air</th>\n",
       "                        <td id=\"T_495f0b5c_6c7d_11eb_bd0c_d8cb8a5cd364row8_col0\" class=\"data row8 col0\" >603</td>\n",
       "                        <td id=\"T_495f0b5c_6c7d_11eb_bd0c_d8cb8a5cd364row8_col1\" class=\"data row8 col1\" >3.600000</td>\n",
       "            </tr>\n",
       "            <tr>\n",
       "                        <th id=\"T_495f0b5c_6c7d_11eb_bd0c_d8cb8a5cd364level0_row9\" class=\"row_heading level0 row9\" >rougher.input.feed_rate</th>\n",
       "                        <td id=\"T_495f0b5c_6c7d_11eb_bd0c_d8cb8a5cd364row9_col0\" class=\"data row9 col0\" >513</td>\n",
       "                        <td id=\"T_495f0b5c_6c7d_11eb_bd0c_d8cb8a5cd364row9_col1\" class=\"data row9 col1\" >3.000000</td>\n",
       "            </tr>\n",
       "            <tr>\n",
       "                        <th id=\"T_495f0b5c_6c7d_11eb_bd0c_d8cb8a5cd364level0_row10\" class=\"row_heading level0 row10\" >rougher.input.feed_size</th>\n",
       "                        <td id=\"T_495f0b5c_6c7d_11eb_bd0c_d8cb8a5cd364row10_col0\" class=\"data row10 col0\" >417</td>\n",
       "                        <td id=\"T_495f0b5c_6c7d_11eb_bd0c_d8cb8a5cd364row10_col1\" class=\"data row10 col1\" >2.500000</td>\n",
       "            </tr>\n",
       "            <tr>\n",
       "                        <th id=\"T_495f0b5c_6c7d_11eb_bd0c_d8cb8a5cd364level0_row11\" class=\"row_heading level0 row11\" >secondary_cleaner.state.floatbank2_a_air</th>\n",
       "                        <td id=\"T_495f0b5c_6c7d_11eb_bd0c_d8cb8a5cd364row11_col0\" class=\"data row11 col0\" >363</td>\n",
       "                        <td id=\"T_495f0b5c_6c7d_11eb_bd0c_d8cb8a5cd364row11_col1\" class=\"data row11 col1\" >2.200000</td>\n",
       "            </tr>\n",
       "            <tr>\n",
       "                        <th id=\"T_495f0b5c_6c7d_11eb_bd0c_d8cb8a5cd364level0_row12\" class=\"row_heading level0 row12\" >rougher.input.floatbank10_xanthate</th>\n",
       "                        <td id=\"T_495f0b5c_6c7d_11eb_bd0c_d8cb8a5cd364row12_col0\" class=\"data row12 col0\" >346</td>\n",
       "                        <td id=\"T_495f0b5c_6c7d_11eb_bd0c_d8cb8a5cd364row12_col1\" class=\"data row12 col1\" >2.100000</td>\n",
       "            </tr>\n",
       "            <tr>\n",
       "                        <th id=\"T_495f0b5c_6c7d_11eb_bd0c_d8cb8a5cd364level0_row13\" class=\"row_heading level0 row13\" >rougher.input.feed_sol</th>\n",
       "                        <td id=\"T_495f0b5c_6c7d_11eb_bd0c_d8cb8a5cd364row13_col0\" class=\"data row13 col0\" >292</td>\n",
       "                        <td id=\"T_495f0b5c_6c7d_11eb_bd0c_d8cb8a5cd364row13_col1\" class=\"data row13 col1\" >1.700000</td>\n",
       "            </tr>\n",
       "            <tr>\n",
       "                        <th id=\"T_495f0b5c_6c7d_11eb_bd0c_d8cb8a5cd364level0_row14\" class=\"row_heading level0 row14\" >rougher.input.feed_pb</th>\n",
       "                        <td id=\"T_495f0b5c_6c7d_11eb_bd0c_d8cb8a5cd364row14_col0\" class=\"data row14 col0\" >228</td>\n",
       "                        <td id=\"T_495f0b5c_6c7d_11eb_bd0c_d8cb8a5cd364row14_col1\" class=\"data row14 col1\" >1.400000</td>\n",
       "            </tr>\n",
       "            <tr>\n",
       "                        <th id=\"T_495f0b5c_6c7d_11eb_bd0c_d8cb8a5cd364level0_row15\" class=\"row_heading level0 row15\" >secondary_cleaner.state.floatbank2_b_air</th>\n",
       "                        <td id=\"T_495f0b5c_6c7d_11eb_bd0c_d8cb8a5cd364row15_col0\" class=\"data row15 col0\" >155</td>\n",
       "                        <td id=\"T_495f0b5c_6c7d_11eb_bd0c_d8cb8a5cd364row15_col1\" class=\"data row15 col1\" >0.900000</td>\n",
       "            </tr>\n",
       "            <tr>\n",
       "                        <th id=\"T_495f0b5c_6c7d_11eb_bd0c_d8cb8a5cd364level0_row16\" class=\"row_heading level0 row16\" >secondary_cleaner.state.floatbank4_a_air</th>\n",
       "                        <td id=\"T_495f0b5c_6c7d_11eb_bd0c_d8cb8a5cd364row16_col0\" class=\"data row16 col0\" >129</td>\n",
       "                        <td id=\"T_495f0b5c_6c7d_11eb_bd0c_d8cb8a5cd364row16_col1\" class=\"data row16 col1\" >0.800000</td>\n",
       "            </tr>\n",
       "            <tr>\n",
       "                        <th id=\"T_495f0b5c_6c7d_11eb_bd0c_d8cb8a5cd364level0_row17\" class=\"row_heading level0 row17\" >secondary_cleaner.state.floatbank3_a_level</th>\n",
       "                        <td id=\"T_495f0b5c_6c7d_11eb_bd0c_d8cb8a5cd364row17_col0\" class=\"data row17 col0\" >113</td>\n",
       "                        <td id=\"T_495f0b5c_6c7d_11eb_bd0c_d8cb8a5cd364row17_col1\" class=\"data row17 col1\" >0.700000</td>\n",
       "            </tr>\n",
       "            <tr>\n",
       "                        <th id=\"T_495f0b5c_6c7d_11eb_bd0c_d8cb8a5cd364level0_row18\" class=\"row_heading level0 row18\" >secondary_cleaner.state.floatbank4_a_level</th>\n",
       "                        <td id=\"T_495f0b5c_6c7d_11eb_bd0c_d8cb8a5cd364row18_col0\" class=\"data row18 col0\" >113</td>\n",
       "                        <td id=\"T_495f0b5c_6c7d_11eb_bd0c_d8cb8a5cd364row18_col1\" class=\"data row18 col1\" >0.700000</td>\n",
       "            </tr>\n",
       "            <tr>\n",
       "                        <th id=\"T_495f0b5c_6c7d_11eb_bd0c_d8cb8a5cd364level0_row19\" class=\"row_heading level0 row19\" >secondary_cleaner.state.floatbank2_b_level</th>\n",
       "                        <td id=\"T_495f0b5c_6c7d_11eb_bd0c_d8cb8a5cd364row19_col0\" class=\"data row19 col0\" >112</td>\n",
       "                        <td id=\"T_495f0b5c_6c7d_11eb_bd0c_d8cb8a5cd364row19_col1\" class=\"data row19 col1\" >0.700000</td>\n",
       "            </tr>\n",
       "            <tr>\n",
       "                        <th id=\"T_495f0b5c_6c7d_11eb_bd0c_d8cb8a5cd364level0_row20\" class=\"row_heading level0 row20\" >secondary_cleaner.state.floatbank3_b_level</th>\n",
       "                        <td id=\"T_495f0b5c_6c7d_11eb_bd0c_d8cb8a5cd364row20_col0\" class=\"data row20 col0\" >110</td>\n",
       "                        <td id=\"T_495f0b5c_6c7d_11eb_bd0c_d8cb8a5cd364row20_col1\" class=\"data row20 col1\" >0.700000</td>\n",
       "            </tr>\n",
       "            <tr>\n",
       "                        <th id=\"T_495f0b5c_6c7d_11eb_bd0c_d8cb8a5cd364level0_row21\" class=\"row_heading level0 row21\" >secondary_cleaner.state.floatbank2_a_level</th>\n",
       "                        <td id=\"T_495f0b5c_6c7d_11eb_bd0c_d8cb8a5cd364row21_col0\" class=\"data row21 col0\" >109</td>\n",
       "                        <td id=\"T_495f0b5c_6c7d_11eb_bd0c_d8cb8a5cd364row21_col1\" class=\"data row21 col1\" >0.600000</td>\n",
       "            </tr>\n",
       "            <tr>\n",
       "                        <th id=\"T_495f0b5c_6c7d_11eb_bd0c_d8cb8a5cd364level0_row22\" class=\"row_heading level0 row22\" >secondary_cleaner.state.floatbank3_b_air</th>\n",
       "                        <td id=\"T_495f0b5c_6c7d_11eb_bd0c_d8cb8a5cd364row22_col0\" class=\"data row22 col0\" >108</td>\n",
       "                        <td id=\"T_495f0b5c_6c7d_11eb_bd0c_d8cb8a5cd364row22_col1\" class=\"data row22 col1\" >0.600000</td>\n",
       "            </tr>\n",
       "            <tr>\n",
       "                        <th id=\"T_495f0b5c_6c7d_11eb_bd0c_d8cb8a5cd364level0_row23\" class=\"row_heading level0 row23\" >secondary_cleaner.state.floatbank6_a_air</th>\n",
       "                        <td id=\"T_495f0b5c_6c7d_11eb_bd0c_d8cb8a5cd364row23_col0\" class=\"data row23 col0\" >103</td>\n",
       "                        <td id=\"T_495f0b5c_6c7d_11eb_bd0c_d8cb8a5cd364row23_col1\" class=\"data row23 col1\" >0.600000</td>\n",
       "            </tr>\n",
       "            <tr>\n",
       "                        <th id=\"T_495f0b5c_6c7d_11eb_bd0c_d8cb8a5cd364level0_row24\" class=\"row_heading level0 row24\" >secondary_cleaner.state.floatbank3_a_air</th>\n",
       "                        <td id=\"T_495f0b5c_6c7d_11eb_bd0c_d8cb8a5cd364row24_col0\" class=\"data row24 col0\" >97</td>\n",
       "                        <td id=\"T_495f0b5c_6c7d_11eb_bd0c_d8cb8a5cd364row24_col1\" class=\"data row24 col1\" >0.600000</td>\n",
       "            </tr>\n",
       "            <tr>\n",
       "                        <th id=\"T_495f0b5c_6c7d_11eb_bd0c_d8cb8a5cd364level0_row25\" class=\"row_heading level0 row25\" >secondary_cleaner.state.floatbank4_b_level</th>\n",
       "                        <td id=\"T_495f0b5c_6c7d_11eb_bd0c_d8cb8a5cd364row25_col0\" class=\"data row25 col0\" >93</td>\n",
       "                        <td id=\"T_495f0b5c_6c7d_11eb_bd0c_d8cb8a5cd364row25_col1\" class=\"data row25 col1\" >0.600000</td>\n",
       "            </tr>\n",
       "            <tr>\n",
       "                        <th id=\"T_495f0b5c_6c7d_11eb_bd0c_d8cb8a5cd364level0_row26\" class=\"row_heading level0 row26\" >secondary_cleaner.state.floatbank4_b_air</th>\n",
       "                        <td id=\"T_495f0b5c_6c7d_11eb_bd0c_d8cb8a5cd364row26_col0\" class=\"data row26 col0\" >92</td>\n",
       "                        <td id=\"T_495f0b5c_6c7d_11eb_bd0c_d8cb8a5cd364row26_col1\" class=\"data row26 col1\" >0.500000</td>\n",
       "            </tr>\n",
       "            <tr>\n",
       "                        <th id=\"T_495f0b5c_6c7d_11eb_bd0c_d8cb8a5cd364level0_row27\" class=\"row_heading level0 row27\" >secondary_cleaner.state.floatbank6_a_level</th>\n",
       "                        <td id=\"T_495f0b5c_6c7d_11eb_bd0c_d8cb8a5cd364row27_col0\" class=\"data row27 col0\" >85</td>\n",
       "                        <td id=\"T_495f0b5c_6c7d_11eb_bd0c_d8cb8a5cd364row27_col1\" class=\"data row27 col1\" >0.500000</td>\n",
       "            </tr>\n",
       "            <tr>\n",
       "                        <th id=\"T_495f0b5c_6c7d_11eb_bd0c_d8cb8a5cd364level0_row28\" class=\"row_heading level0 row28\" >secondary_cleaner.state.floatbank5_a_air</th>\n",
       "                        <td id=\"T_495f0b5c_6c7d_11eb_bd0c_d8cb8a5cd364row28_col0\" class=\"data row28 col0\" >85</td>\n",
       "                        <td id=\"T_495f0b5c_6c7d_11eb_bd0c_d8cb8a5cd364row28_col1\" class=\"data row28 col1\" >0.500000</td>\n",
       "            </tr>\n",
       "            <tr>\n",
       "                        <th id=\"T_495f0b5c_6c7d_11eb_bd0c_d8cb8a5cd364level0_row29\" class=\"row_heading level0 row29\" >secondary_cleaner.state.floatbank5_a_level</th>\n",
       "                        <td id=\"T_495f0b5c_6c7d_11eb_bd0c_d8cb8a5cd364row29_col0\" class=\"data row29 col0\" >85</td>\n",
       "                        <td id=\"T_495f0b5c_6c7d_11eb_bd0c_d8cb8a5cd364row29_col1\" class=\"data row29 col1\" >0.500000</td>\n",
       "            </tr>\n",
       "            <tr>\n",
       "                        <th id=\"T_495f0b5c_6c7d_11eb_bd0c_d8cb8a5cd364level0_row30\" class=\"row_heading level0 row30\" >secondary_cleaner.state.floatbank5_b_air</th>\n",
       "                        <td id=\"T_495f0b5c_6c7d_11eb_bd0c_d8cb8a5cd364row30_col0\" class=\"data row30 col0\" >85</td>\n",
       "                        <td id=\"T_495f0b5c_6c7d_11eb_bd0c_d8cb8a5cd364row30_col1\" class=\"data row30 col1\" >0.500000</td>\n",
       "            </tr>\n",
       "            <tr>\n",
       "                        <th id=\"T_495f0b5c_6c7d_11eb_bd0c_d8cb8a5cd364level0_row31\" class=\"row_heading level0 row31\" >secondary_cleaner.state.floatbank5_b_level</th>\n",
       "                        <td id=\"T_495f0b5c_6c7d_11eb_bd0c_d8cb8a5cd364row31_col0\" class=\"data row31 col0\" >84</td>\n",
       "                        <td id=\"T_495f0b5c_6c7d_11eb_bd0c_d8cb8a5cd364row31_col1\" class=\"data row31 col1\" >0.500000</td>\n",
       "            </tr>\n",
       "            <tr>\n",
       "                        <th id=\"T_495f0b5c_6c7d_11eb_bd0c_d8cb8a5cd364level0_row32\" class=\"row_heading level0 row32\" >rougher.input.feed_au</th>\n",
       "                        <td id=\"T_495f0b5c_6c7d_11eb_bd0c_d8cb8a5cd364row32_col0\" class=\"data row32 col0\" >83</td>\n",
       "                        <td id=\"T_495f0b5c_6c7d_11eb_bd0c_d8cb8a5cd364row32_col1\" class=\"data row32 col1\" >0.500000</td>\n",
       "            </tr>\n",
       "            <tr>\n",
       "                        <th id=\"T_495f0b5c_6c7d_11eb_bd0c_d8cb8a5cd364level0_row33\" class=\"row_heading level0 row33\" >rougher.input.feed_ag</th>\n",
       "                        <td id=\"T_495f0b5c_6c7d_11eb_bd0c_d8cb8a5cd364row33_col0\" class=\"data row33 col0\" >82</td>\n",
       "                        <td id=\"T_495f0b5c_6c7d_11eb_bd0c_d8cb8a5cd364row33_col1\" class=\"data row33 col1\" >0.500000</td>\n",
       "            </tr>\n",
       "            <tr>\n",
       "                        <th id=\"T_495f0b5c_6c7d_11eb_bd0c_d8cb8a5cd364level0_row34\" class=\"row_heading level0 row34\" >rougher.state.floatbank10_d_air</th>\n",
       "                        <td id=\"T_495f0b5c_6c7d_11eb_bd0c_d8cb8a5cd364row34_col0\" class=\"data row34 col0\" >58</td>\n",
       "                        <td id=\"T_495f0b5c_6c7d_11eb_bd0c_d8cb8a5cd364row34_col1\" class=\"data row34 col1\" >0.300000</td>\n",
       "            </tr>\n",
       "            <tr>\n",
       "                        <th id=\"T_495f0b5c_6c7d_11eb_bd0c_d8cb8a5cd364level0_row35\" class=\"row_heading level0 row35\" >rougher.state.floatbank10_f_air</th>\n",
       "                        <td id=\"T_495f0b5c_6c7d_11eb_bd0c_d8cb8a5cd364row35_col0\" class=\"data row35 col0\" >58</td>\n",
       "                        <td id=\"T_495f0b5c_6c7d_11eb_bd0c_d8cb8a5cd364row35_col1\" class=\"data row35 col1\" >0.300000</td>\n",
       "            </tr>\n",
       "            <tr>\n",
       "                        <th id=\"T_495f0b5c_6c7d_11eb_bd0c_d8cb8a5cd364level0_row36\" class=\"row_heading level0 row36\" >rougher.state.floatbank10_f_level</th>\n",
       "                        <td id=\"T_495f0b5c_6c7d_11eb_bd0c_d8cb8a5cd364row36_col0\" class=\"data row36 col0\" >58</td>\n",
       "                        <td id=\"T_495f0b5c_6c7d_11eb_bd0c_d8cb8a5cd364row36_col1\" class=\"data row36 col1\" >0.300000</td>\n",
       "            </tr>\n",
       "            <tr>\n",
       "                        <th id=\"T_495f0b5c_6c7d_11eb_bd0c_d8cb8a5cd364level0_row37\" class=\"row_heading level0 row37\" >rougher.state.floatbank10_b_air</th>\n",
       "                        <td id=\"T_495f0b5c_6c7d_11eb_bd0c_d8cb8a5cd364row37_col0\" class=\"data row37 col0\" >53</td>\n",
       "                        <td id=\"T_495f0b5c_6c7d_11eb_bd0c_d8cb8a5cd364row37_col1\" class=\"data row37 col1\" >0.300000</td>\n",
       "            </tr>\n",
       "            <tr>\n",
       "                        <th id=\"T_495f0b5c_6c7d_11eb_bd0c_d8cb8a5cd364level0_row38\" class=\"row_heading level0 row38\" >rougher.state.floatbank10_a_air</th>\n",
       "                        <td id=\"T_495f0b5c_6c7d_11eb_bd0c_d8cb8a5cd364row38_col0\" class=\"data row38 col0\" >53</td>\n",
       "                        <td id=\"T_495f0b5c_6c7d_11eb_bd0c_d8cb8a5cd364row38_col1\" class=\"data row38 col1\" >0.300000</td>\n",
       "            </tr>\n",
       "            <tr>\n",
       "                        <th id=\"T_495f0b5c_6c7d_11eb_bd0c_d8cb8a5cd364level0_row39\" class=\"row_heading level0 row39\" >rougher.state.floatbank10_a_level</th>\n",
       "                        <td id=\"T_495f0b5c_6c7d_11eb_bd0c_d8cb8a5cd364row39_col0\" class=\"data row39 col0\" >53</td>\n",
       "                        <td id=\"T_495f0b5c_6c7d_11eb_bd0c_d8cb8a5cd364row39_col1\" class=\"data row39 col1\" >0.300000</td>\n",
       "            </tr>\n",
       "            <tr>\n",
       "                        <th id=\"T_495f0b5c_6c7d_11eb_bd0c_d8cb8a5cd364level0_row40\" class=\"row_heading level0 row40\" >rougher.state.floatbank10_b_level</th>\n",
       "                        <td id=\"T_495f0b5c_6c7d_11eb_bd0c_d8cb8a5cd364row40_col0\" class=\"data row40 col0\" >53</td>\n",
       "                        <td id=\"T_495f0b5c_6c7d_11eb_bd0c_d8cb8a5cd364row40_col1\" class=\"data row40 col1\" >0.300000</td>\n",
       "            </tr>\n",
       "            <tr>\n",
       "                        <th id=\"T_495f0b5c_6c7d_11eb_bd0c_d8cb8a5cd364level0_row41\" class=\"row_heading level0 row41\" >rougher.state.floatbank10_c_air</th>\n",
       "                        <td id=\"T_495f0b5c_6c7d_11eb_bd0c_d8cb8a5cd364row41_col0\" class=\"data row41 col0\" >53</td>\n",
       "                        <td id=\"T_495f0b5c_6c7d_11eb_bd0c_d8cb8a5cd364row41_col1\" class=\"data row41 col1\" >0.300000</td>\n",
       "            </tr>\n",
       "            <tr>\n",
       "                        <th id=\"T_495f0b5c_6c7d_11eb_bd0c_d8cb8a5cd364level0_row42\" class=\"row_heading level0 row42\" >rougher.state.floatbank10_e_level</th>\n",
       "                        <td id=\"T_495f0b5c_6c7d_11eb_bd0c_d8cb8a5cd364row42_col0\" class=\"data row42 col0\" >51</td>\n",
       "                        <td id=\"T_495f0b5c_6c7d_11eb_bd0c_d8cb8a5cd364row42_col1\" class=\"data row42 col1\" >0.300000</td>\n",
       "            </tr>\n",
       "            <tr>\n",
       "                        <th id=\"T_495f0b5c_6c7d_11eb_bd0c_d8cb8a5cd364level0_row43\" class=\"row_heading level0 row43\" >rougher.state.floatbank10_d_level</th>\n",
       "                        <td id=\"T_495f0b5c_6c7d_11eb_bd0c_d8cb8a5cd364row43_col0\" class=\"data row43 col0\" >51</td>\n",
       "                        <td id=\"T_495f0b5c_6c7d_11eb_bd0c_d8cb8a5cd364row43_col1\" class=\"data row43 col1\" >0.300000</td>\n",
       "            </tr>\n",
       "            <tr>\n",
       "                        <th id=\"T_495f0b5c_6c7d_11eb_bd0c_d8cb8a5cd364level0_row44\" class=\"row_heading level0 row44\" >rougher.state.floatbank10_c_level</th>\n",
       "                        <td id=\"T_495f0b5c_6c7d_11eb_bd0c_d8cb8a5cd364row44_col0\" class=\"data row44 col0\" >46</td>\n",
       "                        <td id=\"T_495f0b5c_6c7d_11eb_bd0c_d8cb8a5cd364row44_col1\" class=\"data row44 col1\" >0.300000</td>\n",
       "            </tr>\n",
       "            <tr>\n",
       "                        <th id=\"T_495f0b5c_6c7d_11eb_bd0c_d8cb8a5cd364level0_row45\" class=\"row_heading level0 row45\" >primary_cleaner.state.floatbank8_a_air</th>\n",
       "                        <td id=\"T_495f0b5c_6c7d_11eb_bd0c_d8cb8a5cd364row45_col0\" class=\"data row45 col0\" >40</td>\n",
       "                        <td id=\"T_495f0b5c_6c7d_11eb_bd0c_d8cb8a5cd364row45_col1\" class=\"data row45 col1\" >0.200000</td>\n",
       "            </tr>\n",
       "            <tr>\n",
       "                        <th id=\"T_495f0b5c_6c7d_11eb_bd0c_d8cb8a5cd364level0_row46\" class=\"row_heading level0 row46\" >primary_cleaner.state.floatbank8_b_air</th>\n",
       "                        <td id=\"T_495f0b5c_6c7d_11eb_bd0c_d8cb8a5cd364row46_col0\" class=\"data row46 col0\" >40</td>\n",
       "                        <td id=\"T_495f0b5c_6c7d_11eb_bd0c_d8cb8a5cd364row46_col1\" class=\"data row46 col1\" >0.200000</td>\n",
       "            </tr>\n",
       "            <tr>\n",
       "                        <th id=\"T_495f0b5c_6c7d_11eb_bd0c_d8cb8a5cd364level0_row47\" class=\"row_heading level0 row47\" >primary_cleaner.state.floatbank8_d_air</th>\n",
       "                        <td id=\"T_495f0b5c_6c7d_11eb_bd0c_d8cb8a5cd364row47_col0\" class=\"data row47 col0\" >39</td>\n",
       "                        <td id=\"T_495f0b5c_6c7d_11eb_bd0c_d8cb8a5cd364row47_col1\" class=\"data row47 col1\" >0.200000</td>\n",
       "            </tr>\n",
       "            <tr>\n",
       "                        <th id=\"T_495f0b5c_6c7d_11eb_bd0c_d8cb8a5cd364level0_row48\" class=\"row_heading level0 row48\" >primary_cleaner.state.floatbank8_c_air</th>\n",
       "                        <td id=\"T_495f0b5c_6c7d_11eb_bd0c_d8cb8a5cd364row48_col0\" class=\"data row48 col0\" >38</td>\n",
       "                        <td id=\"T_495f0b5c_6c7d_11eb_bd0c_d8cb8a5cd364row48_col1\" class=\"data row48 col1\" >0.200000</td>\n",
       "            </tr>\n",
       "            <tr>\n",
       "                        <th id=\"T_495f0b5c_6c7d_11eb_bd0c_d8cb8a5cd364level0_row49\" class=\"row_heading level0 row49\" >primary_cleaner.state.floatbank8_a_level</th>\n",
       "                        <td id=\"T_495f0b5c_6c7d_11eb_bd0c_d8cb8a5cd364row49_col0\" class=\"data row49 col0\" >33</td>\n",
       "                        <td id=\"T_495f0b5c_6c7d_11eb_bd0c_d8cb8a5cd364row49_col1\" class=\"data row49 col1\" >0.200000</td>\n",
       "            </tr>\n",
       "            <tr>\n",
       "                        <th id=\"T_495f0b5c_6c7d_11eb_bd0c_d8cb8a5cd364level0_row50\" class=\"row_heading level0 row50\" >primary_cleaner.state.floatbank8_b_level</th>\n",
       "                        <td id=\"T_495f0b5c_6c7d_11eb_bd0c_d8cb8a5cd364row50_col0\" class=\"data row50 col0\" >27</td>\n",
       "                        <td id=\"T_495f0b5c_6c7d_11eb_bd0c_d8cb8a5cd364row50_col1\" class=\"data row50 col1\" >0.200000</td>\n",
       "            </tr>\n",
       "            <tr>\n",
       "                        <th id=\"T_495f0b5c_6c7d_11eb_bd0c_d8cb8a5cd364level0_row51\" class=\"row_heading level0 row51\" >primary_cleaner.state.floatbank8_c_level</th>\n",
       "                        <td id=\"T_495f0b5c_6c7d_11eb_bd0c_d8cb8a5cd364row51_col0\" class=\"data row51 col0\" >27</td>\n",
       "                        <td id=\"T_495f0b5c_6c7d_11eb_bd0c_d8cb8a5cd364row51_col1\" class=\"data row51 col1\" >0.200000</td>\n",
       "            </tr>\n",
       "            <tr>\n",
       "                        <th id=\"T_495f0b5c_6c7d_11eb_bd0c_d8cb8a5cd364level0_row52\" class=\"row_heading level0 row52\" >primary_cleaner.state.floatbank8_d_level</th>\n",
       "                        <td id=\"T_495f0b5c_6c7d_11eb_bd0c_d8cb8a5cd364row52_col0\" class=\"data row52 col0\" >27</td>\n",
       "                        <td id=\"T_495f0b5c_6c7d_11eb_bd0c_d8cb8a5cd364row52_col1\" class=\"data row52 col1\" >0.200000</td>\n",
       "            </tr>\n",
       "            <tr>\n",
       "                        <th id=\"T_495f0b5c_6c7d_11eb_bd0c_d8cb8a5cd364level0_row53\" class=\"row_heading level0 row53\" >primary_cleaner.input.feed_size</th>\n",
       "                        <td id=\"T_495f0b5c_6c7d_11eb_bd0c_d8cb8a5cd364row53_col0\" class=\"data row53 col0\" >0</td>\n",
       "                        <td id=\"T_495f0b5c_6c7d_11eb_bd0c_d8cb8a5cd364row53_col1\" class=\"data row53 col1\" >0.000000</td>\n",
       "            </tr>\n",
       "            <tr>\n",
       "                        <th id=\"T_495f0b5c_6c7d_11eb_bd0c_d8cb8a5cd364level0_row54\" class=\"row_heading level0 row54\" >date</th>\n",
       "                        <td id=\"T_495f0b5c_6c7d_11eb_bd0c_d8cb8a5cd364row54_col0\" class=\"data row54 col0\" >0</td>\n",
       "                        <td id=\"T_495f0b5c_6c7d_11eb_bd0c_d8cb8a5cd364row54_col1\" class=\"data row54 col1\" >0.000000</td>\n",
       "            </tr>\n",
       "    </tbody></table>"
      ],
      "text/plain": [
       "<pandas.io.formats.style.Styler at 0x7fbe6a076810>"
      ]
     },
     "execution_count": 18,
     "metadata": {},
     "output_type": "execute_result"
    }
   ],
   "source": [
    "missing_data(df_train_skips).style.background_gradient(cmap='coolwarm')"
   ]
  },
  {
   "cell_type": "code",
   "execution_count": 19,
   "metadata": {},
   "outputs": [
    {
     "data": {
      "text/html": [
       "<style  type=\"text/css\" >\n",
       "#T_4963de98_6c7d_11eb_bd0c_d8cb8a5cd364row0_col0,#T_4963de98_6c7d_11eb_bd0c_d8cb8a5cd364row0_col1{\n",
       "            background-color:  #b40426;\n",
       "            color:  #f1f1f1;\n",
       "        }#T_4963de98_6c7d_11eb_bd0c_d8cb8a5cd364row1_col0{\n",
       "            background-color:  #e26952;\n",
       "            color:  #000000;\n",
       "        }#T_4963de98_6c7d_11eb_bd0c_d8cb8a5cd364row1_col1{\n",
       "            background-color:  #e0654f;\n",
       "            color:  #000000;\n",
       "        }#T_4963de98_6c7d_11eb_bd0c_d8cb8a5cd364row2_col0{\n",
       "            background-color:  #ed8366;\n",
       "            color:  #000000;\n",
       "        }#T_4963de98_6c7d_11eb_bd0c_d8cb8a5cd364row2_col1{\n",
       "            background-color:  #ee8468;\n",
       "            color:  #000000;\n",
       "        }#T_4963de98_6c7d_11eb_bd0c_d8cb8a5cd364row3_col0{\n",
       "            background-color:  #f6a283;\n",
       "            color:  #000000;\n",
       "        }#T_4963de98_6c7d_11eb_bd0c_d8cb8a5cd364row3_col1{\n",
       "            background-color:  #f5a081;\n",
       "            color:  #000000;\n",
       "        }#T_4963de98_6c7d_11eb_bd0c_d8cb8a5cd364row4_col0{\n",
       "            background-color:  #d5dbe5;\n",
       "            color:  #000000;\n",
       "        }#T_4963de98_6c7d_11eb_bd0c_d8cb8a5cd364row4_col1{\n",
       "            background-color:  #d4dbe6;\n",
       "            color:  #000000;\n",
       "        }#T_4963de98_6c7d_11eb_bd0c_d8cb8a5cd364row5_col0,#T_4963de98_6c7d_11eb_bd0c_d8cb8a5cd364row5_col1{\n",
       "            background-color:  #afcafc;\n",
       "            color:  #000000;\n",
       "        }#T_4963de98_6c7d_11eb_bd0c_d8cb8a5cd364row6_col0{\n",
       "            background-color:  #779af7;\n",
       "            color:  #000000;\n",
       "        }#T_4963de98_6c7d_11eb_bd0c_d8cb8a5cd364row6_col1{\n",
       "            background-color:  #7597f6;\n",
       "            color:  #000000;\n",
       "        }#T_4963de98_6c7d_11eb_bd0c_d8cb8a5cd364row7_col0{\n",
       "            background-color:  #6b8df0;\n",
       "            color:  #000000;\n",
       "        }#T_4963de98_6c7d_11eb_bd0c_d8cb8a5cd364row7_col1{\n",
       "            background-color:  #6a8bef;\n",
       "            color:  #000000;\n",
       "        }#T_4963de98_6c7d_11eb_bd0c_d8cb8a5cd364row8_col0,#T_4963de98_6c7d_11eb_bd0c_d8cb8a5cd364row8_col1{\n",
       "            background-color:  #5e7de7;\n",
       "            color:  #000000;\n",
       "        }#T_4963de98_6c7d_11eb_bd0c_d8cb8a5cd364row9_col0{\n",
       "            background-color:  #5875e1;\n",
       "            color:  #000000;\n",
       "        }#T_4963de98_6c7d_11eb_bd0c_d8cb8a5cd364row9_col1{\n",
       "            background-color:  #5977e3;\n",
       "            color:  #000000;\n",
       "        }#T_4963de98_6c7d_11eb_bd0c_d8cb8a5cd364row10_col0{\n",
       "            background-color:  #4e68d8;\n",
       "            color:  #000000;\n",
       "        }#T_4963de98_6c7d_11eb_bd0c_d8cb8a5cd364row10_col1,#T_4963de98_6c7d_11eb_bd0c_d8cb8a5cd364row11_col1{\n",
       "            background-color:  #4f69d9;\n",
       "            color:  #000000;\n",
       "        }#T_4963de98_6c7d_11eb_bd0c_d8cb8a5cd364row11_col0{\n",
       "            background-color:  #4c66d6;\n",
       "            color:  #000000;\n",
       "        }#T_4963de98_6c7d_11eb_bd0c_d8cb8a5cd364row12_col0{\n",
       "            background-color:  #4b64d5;\n",
       "            color:  #f1f1f1;\n",
       "        }#T_4963de98_6c7d_11eb_bd0c_d8cb8a5cd364row12_col1,#T_4963de98_6c7d_11eb_bd0c_d8cb8a5cd364row13_col0,#T_4963de98_6c7d_11eb_bd0c_d8cb8a5cd364row13_col1,#T_4963de98_6c7d_11eb_bd0c_d8cb8a5cd364row14_col0,#T_4963de98_6c7d_11eb_bd0c_d8cb8a5cd364row14_col1,#T_4963de98_6c7d_11eb_bd0c_d8cb8a5cd364row15_col0,#T_4963de98_6c7d_11eb_bd0c_d8cb8a5cd364row15_col1,#T_4963de98_6c7d_11eb_bd0c_d8cb8a5cd364row16_col0,#T_4963de98_6c7d_11eb_bd0c_d8cb8a5cd364row16_col1,#T_4963de98_6c7d_11eb_bd0c_d8cb8a5cd364row17_col0,#T_4963de98_6c7d_11eb_bd0c_d8cb8a5cd364row17_col1,#T_4963de98_6c7d_11eb_bd0c_d8cb8a5cd364row18_col0,#T_4963de98_6c7d_11eb_bd0c_d8cb8a5cd364row18_col1,#T_4963de98_6c7d_11eb_bd0c_d8cb8a5cd364row19_col1,#T_4963de98_6c7d_11eb_bd0c_d8cb8a5cd364row20_col1,#T_4963de98_6c7d_11eb_bd0c_d8cb8a5cd364row21_col1,#T_4963de98_6c7d_11eb_bd0c_d8cb8a5cd364row22_col1,#T_4963de98_6c7d_11eb_bd0c_d8cb8a5cd364row23_col1,#T_4963de98_6c7d_11eb_bd0c_d8cb8a5cd364row24_col1,#T_4963de98_6c7d_11eb_bd0c_d8cb8a5cd364row25_col1,#T_4963de98_6c7d_11eb_bd0c_d8cb8a5cd364row26_col1,#T_4963de98_6c7d_11eb_bd0c_d8cb8a5cd364row27_col1,#T_4963de98_6c7d_11eb_bd0c_d8cb8a5cd364row28_col1,#T_4963de98_6c7d_11eb_bd0c_d8cb8a5cd364row29_col1,#T_4963de98_6c7d_11eb_bd0c_d8cb8a5cd364row30_col1,#T_4963de98_6c7d_11eb_bd0c_d8cb8a5cd364row31_col1,#T_4963de98_6c7d_11eb_bd0c_d8cb8a5cd364row32_col1,#T_4963de98_6c7d_11eb_bd0c_d8cb8a5cd364row33_col1,#T_4963de98_6c7d_11eb_bd0c_d8cb8a5cd364row34_col1,#T_4963de98_6c7d_11eb_bd0c_d8cb8a5cd364row35_col1,#T_4963de98_6c7d_11eb_bd0c_d8cb8a5cd364row36_col1,#T_4963de98_6c7d_11eb_bd0c_d8cb8a5cd364row37_col1,#T_4963de98_6c7d_11eb_bd0c_d8cb8a5cd364row38_col1,#T_4963de98_6c7d_11eb_bd0c_d8cb8a5cd364row39_col1,#T_4963de98_6c7d_11eb_bd0c_d8cb8a5cd364row40_col1,#T_4963de98_6c7d_11eb_bd0c_d8cb8a5cd364row41_col1,#T_4963de98_6c7d_11eb_bd0c_d8cb8a5cd364row42_col1,#T_4963de98_6c7d_11eb_bd0c_d8cb8a5cd364row43_col1,#T_4963de98_6c7d_11eb_bd0c_d8cb8a5cd364row44_col1,#T_4963de98_6c7d_11eb_bd0c_d8cb8a5cd364row45_col1,#T_4963de98_6c7d_11eb_bd0c_d8cb8a5cd364row46_col1,#T_4963de98_6c7d_11eb_bd0c_d8cb8a5cd364row47_col1,#T_4963de98_6c7d_11eb_bd0c_d8cb8a5cd364row48_col1,#T_4963de98_6c7d_11eb_bd0c_d8cb8a5cd364row49_col1,#T_4963de98_6c7d_11eb_bd0c_d8cb8a5cd364row50_col1{\n",
       "            background-color:  #4961d2;\n",
       "            color:  #f1f1f1;\n",
       "        }#T_4963de98_6c7d_11eb_bd0c_d8cb8a5cd364row19_col0,#T_4963de98_6c7d_11eb_bd0c_d8cb8a5cd364row20_col0,#T_4963de98_6c7d_11eb_bd0c_d8cb8a5cd364row21_col0,#T_4963de98_6c7d_11eb_bd0c_d8cb8a5cd364row22_col0,#T_4963de98_6c7d_11eb_bd0c_d8cb8a5cd364row23_col0,#T_4963de98_6c7d_11eb_bd0c_d8cb8a5cd364row24_col0,#T_4963de98_6c7d_11eb_bd0c_d8cb8a5cd364row25_col0,#T_4963de98_6c7d_11eb_bd0c_d8cb8a5cd364row26_col0,#T_4963de98_6c7d_11eb_bd0c_d8cb8a5cd364row27_col0,#T_4963de98_6c7d_11eb_bd0c_d8cb8a5cd364row28_col0,#T_4963de98_6c7d_11eb_bd0c_d8cb8a5cd364row29_col0,#T_4963de98_6c7d_11eb_bd0c_d8cb8a5cd364row30_col0,#T_4963de98_6c7d_11eb_bd0c_d8cb8a5cd364row31_col0,#T_4963de98_6c7d_11eb_bd0c_d8cb8a5cd364row32_col0,#T_4963de98_6c7d_11eb_bd0c_d8cb8a5cd364row33_col0,#T_4963de98_6c7d_11eb_bd0c_d8cb8a5cd364row34_col0,#T_4963de98_6c7d_11eb_bd0c_d8cb8a5cd364row35_col0,#T_4963de98_6c7d_11eb_bd0c_d8cb8a5cd364row36_col0,#T_4963de98_6c7d_11eb_bd0c_d8cb8a5cd364row37_col0,#T_4963de98_6c7d_11eb_bd0c_d8cb8a5cd364row38_col0,#T_4963de98_6c7d_11eb_bd0c_d8cb8a5cd364row39_col0,#T_4963de98_6c7d_11eb_bd0c_d8cb8a5cd364row40_col0,#T_4963de98_6c7d_11eb_bd0c_d8cb8a5cd364row41_col0,#T_4963de98_6c7d_11eb_bd0c_d8cb8a5cd364row42_col0,#T_4963de98_6c7d_11eb_bd0c_d8cb8a5cd364row43_col0,#T_4963de98_6c7d_11eb_bd0c_d8cb8a5cd364row44_col0,#T_4963de98_6c7d_11eb_bd0c_d8cb8a5cd364row45_col0,#T_4963de98_6c7d_11eb_bd0c_d8cb8a5cd364row46_col0,#T_4963de98_6c7d_11eb_bd0c_d8cb8a5cd364row47_col0,#T_4963de98_6c7d_11eb_bd0c_d8cb8a5cd364row48_col0,#T_4963de98_6c7d_11eb_bd0c_d8cb8a5cd364row49_col0,#T_4963de98_6c7d_11eb_bd0c_d8cb8a5cd364row50_col0{\n",
       "            background-color:  #485fd1;\n",
       "            color:  #f1f1f1;\n",
       "        }#T_4963de98_6c7d_11eb_bd0c_d8cb8a5cd364row51_col0,#T_4963de98_6c7d_11eb_bd0c_d8cb8a5cd364row51_col1,#T_4963de98_6c7d_11eb_bd0c_d8cb8a5cd364row52_col0,#T_4963de98_6c7d_11eb_bd0c_d8cb8a5cd364row52_col1{\n",
       "            background-color:  #3b4cc0;\n",
       "            color:  #f1f1f1;\n",
       "        }</style><table id=\"T_4963de98_6c7d_11eb_bd0c_d8cb8a5cd364\" ><thead>    <tr>        <th class=\"blank level0\" ></th>        <th class=\"col_heading level0 col0\" >Total</th>        <th class=\"col_heading level0 col1\" >Percent</th>    </tr></thead><tbody>\n",
       "                <tr>\n",
       "                        <th id=\"T_4963de98_6c7d_11eb_bd0c_d8cb8a5cd364level0_row0\" class=\"row_heading level0 row0\" >rougher.input.floatbank11_xanthate</th>\n",
       "                        <td id=\"T_4963de98_6c7d_11eb_bd0c_d8cb8a5cd364row0_col0\" class=\"data row0 col0\" >353</td>\n",
       "                        <td id=\"T_4963de98_6c7d_11eb_bd0c_d8cb8a5cd364row0_col1\" class=\"data row0 col1\" >6.000000</td>\n",
       "            </tr>\n",
       "            <tr>\n",
       "                        <th id=\"T_4963de98_6c7d_11eb_bd0c_d8cb8a5cd364level0_row1\" class=\"row_heading level0 row1\" >primary_cleaner.input.sulfate</th>\n",
       "                        <td id=\"T_4963de98_6c7d_11eb_bd0c_d8cb8a5cd364row1_col0\" class=\"data row1 col0\" >302</td>\n",
       "                        <td id=\"T_4963de98_6c7d_11eb_bd0c_d8cb8a5cd364row1_col1\" class=\"data row1 col1\" >5.200000</td>\n",
       "            </tr>\n",
       "            <tr>\n",
       "                        <th id=\"T_4963de98_6c7d_11eb_bd0c_d8cb8a5cd364level0_row2\" class=\"row_heading level0 row2\" >primary_cleaner.input.depressant</th>\n",
       "                        <td id=\"T_4963de98_6c7d_11eb_bd0c_d8cb8a5cd364row2_col0\" class=\"data row2 col0\" >284</td>\n",
       "                        <td id=\"T_4963de98_6c7d_11eb_bd0c_d8cb8a5cd364row2_col1\" class=\"data row2 col1\" >4.800000</td>\n",
       "            </tr>\n",
       "            <tr>\n",
       "                        <th id=\"T_4963de98_6c7d_11eb_bd0c_d8cb8a5cd364level0_row3\" class=\"row_heading level0 row3\" >rougher.input.floatbank10_sulfate</th>\n",
       "                        <td id=\"T_4963de98_6c7d_11eb_bd0c_d8cb8a5cd364row3_col0\" class=\"data row3 col0\" >257</td>\n",
       "                        <td id=\"T_4963de98_6c7d_11eb_bd0c_d8cb8a5cd364row3_col1\" class=\"data row3 col1\" >4.400000</td>\n",
       "            </tr>\n",
       "            <tr>\n",
       "                        <th id=\"T_4963de98_6c7d_11eb_bd0c_d8cb8a5cd364level0_row4\" class=\"row_heading level0 row4\" >primary_cleaner.input.xanthate</th>\n",
       "                        <td id=\"T_4963de98_6c7d_11eb_bd0c_d8cb8a5cd364row4_col0\" class=\"data row4 col0\" >166</td>\n",
       "                        <td id=\"T_4963de98_6c7d_11eb_bd0c_d8cb8a5cd364row4_col1\" class=\"data row4 col1\" >2.800000</td>\n",
       "            </tr>\n",
       "            <tr>\n",
       "                        <th id=\"T_4963de98_6c7d_11eb_bd0c_d8cb8a5cd364level0_row5\" class=\"row_heading level0 row5\" >rougher.input.floatbank10_xanthate</th>\n",
       "                        <td id=\"T_4963de98_6c7d_11eb_bd0c_d8cb8a5cd364row5_col0\" class=\"data row5 col0\" >123</td>\n",
       "                        <td id=\"T_4963de98_6c7d_11eb_bd0c_d8cb8a5cd364row5_col1\" class=\"data row5 col1\" >2.100000</td>\n",
       "            </tr>\n",
       "            <tr>\n",
       "                        <th id=\"T_4963de98_6c7d_11eb_bd0c_d8cb8a5cd364level0_row6\" class=\"row_heading level0 row6\" >rougher.input.feed_sol</th>\n",
       "                        <td id=\"T_4963de98_6c7d_11eb_bd0c_d8cb8a5cd364row6_col0\" class=\"data row6 col0\" >67</td>\n",
       "                        <td id=\"T_4963de98_6c7d_11eb_bd0c_d8cb8a5cd364row6_col1\" class=\"data row6 col1\" >1.100000</td>\n",
       "            </tr>\n",
       "            <tr>\n",
       "                        <th id=\"T_4963de98_6c7d_11eb_bd0c_d8cb8a5cd364level0_row7\" class=\"row_heading level0 row7\" >rougher.input.floatbank11_sulfate</th>\n",
       "                        <td id=\"T_4963de98_6c7d_11eb_bd0c_d8cb8a5cd364row7_col0\" class=\"data row7 col0\" >55</td>\n",
       "                        <td id=\"T_4963de98_6c7d_11eb_bd0c_d8cb8a5cd364row7_col1\" class=\"data row7 col1\" >0.900000</td>\n",
       "            </tr>\n",
       "            <tr>\n",
       "                        <th id=\"T_4963de98_6c7d_11eb_bd0c_d8cb8a5cd364level0_row8\" class=\"row_heading level0 row8\" >rougher.input.feed_rate</th>\n",
       "                        <td id=\"T_4963de98_6c7d_11eb_bd0c_d8cb8a5cd364row8_col0\" class=\"data row8 col0\" >40</td>\n",
       "                        <td id=\"T_4963de98_6c7d_11eb_bd0c_d8cb8a5cd364row8_col1\" class=\"data row8 col1\" >0.700000</td>\n",
       "            </tr>\n",
       "            <tr>\n",
       "                        <th id=\"T_4963de98_6c7d_11eb_bd0c_d8cb8a5cd364level0_row9\" class=\"row_heading level0 row9\" >secondary_cleaner.state.floatbank3_a_air</th>\n",
       "                        <td id=\"T_4963de98_6c7d_11eb_bd0c_d8cb8a5cd364row9_col0\" class=\"data row9 col0\" >34</td>\n",
       "                        <td id=\"T_4963de98_6c7d_11eb_bd0c_d8cb8a5cd364row9_col1\" class=\"data row9 col1\" >0.600000</td>\n",
       "            </tr>\n",
       "            <tr>\n",
       "                        <th id=\"T_4963de98_6c7d_11eb_bd0c_d8cb8a5cd364level0_row10\" class=\"row_heading level0 row10\" >secondary_cleaner.state.floatbank2_b_air</th>\n",
       "                        <td id=\"T_4963de98_6c7d_11eb_bd0c_d8cb8a5cd364row10_col0\" class=\"data row10 col0\" >23</td>\n",
       "                        <td id=\"T_4963de98_6c7d_11eb_bd0c_d8cb8a5cd364row10_col1\" class=\"data row10 col1\" >0.400000</td>\n",
       "            </tr>\n",
       "            <tr>\n",
       "                        <th id=\"T_4963de98_6c7d_11eb_bd0c_d8cb8a5cd364level0_row11\" class=\"row_heading level0 row11\" >rougher.input.feed_size</th>\n",
       "                        <td id=\"T_4963de98_6c7d_11eb_bd0c_d8cb8a5cd364row11_col0\" class=\"data row11 col0\" >22</td>\n",
       "                        <td id=\"T_4963de98_6c7d_11eb_bd0c_d8cb8a5cd364row11_col1\" class=\"data row11 col1\" >0.400000</td>\n",
       "            </tr>\n",
       "            <tr>\n",
       "                        <th id=\"T_4963de98_6c7d_11eb_bd0c_d8cb8a5cd364level0_row12\" class=\"row_heading level0 row12\" >secondary_cleaner.state.floatbank2_a_air</th>\n",
       "                        <td id=\"T_4963de98_6c7d_11eb_bd0c_d8cb8a5cd364row12_col0\" class=\"data row12 col0\" >20</td>\n",
       "                        <td id=\"T_4963de98_6c7d_11eb_bd0c_d8cb8a5cd364row12_col1\" class=\"data row12 col1\" >0.300000</td>\n",
       "            </tr>\n",
       "            <tr>\n",
       "                        <th id=\"T_4963de98_6c7d_11eb_bd0c_d8cb8a5cd364level0_row13\" class=\"row_heading level0 row13\" >rougher.state.floatbank10_e_air</th>\n",
       "                        <td id=\"T_4963de98_6c7d_11eb_bd0c_d8cb8a5cd364row13_col0\" class=\"data row13 col0\" >17</td>\n",
       "                        <td id=\"T_4963de98_6c7d_11eb_bd0c_d8cb8a5cd364row13_col1\" class=\"data row13 col1\" >0.300000</td>\n",
       "            </tr>\n",
       "            <tr>\n",
       "                        <th id=\"T_4963de98_6c7d_11eb_bd0c_d8cb8a5cd364level0_row14\" class=\"row_heading level0 row14\" >rougher.state.floatbank10_d_air</th>\n",
       "                        <td id=\"T_4963de98_6c7d_11eb_bd0c_d8cb8a5cd364row14_col0\" class=\"data row14 col0\" >17</td>\n",
       "                        <td id=\"T_4963de98_6c7d_11eb_bd0c_d8cb8a5cd364row14_col1\" class=\"data row14 col1\" >0.300000</td>\n",
       "            </tr>\n",
       "            <tr>\n",
       "                        <th id=\"T_4963de98_6c7d_11eb_bd0c_d8cb8a5cd364level0_row15\" class=\"row_heading level0 row15\" >rougher.state.floatbank10_a_air</th>\n",
       "                        <td id=\"T_4963de98_6c7d_11eb_bd0c_d8cb8a5cd364row15_col0\" class=\"data row15 col0\" >17</td>\n",
       "                        <td id=\"T_4963de98_6c7d_11eb_bd0c_d8cb8a5cd364row15_col1\" class=\"data row15 col1\" >0.300000</td>\n",
       "            </tr>\n",
       "            <tr>\n",
       "                        <th id=\"T_4963de98_6c7d_11eb_bd0c_d8cb8a5cd364level0_row16\" class=\"row_heading level0 row16\" >rougher.state.floatbank10_b_air</th>\n",
       "                        <td id=\"T_4963de98_6c7d_11eb_bd0c_d8cb8a5cd364row16_col0\" class=\"data row16 col0\" >17</td>\n",
       "                        <td id=\"T_4963de98_6c7d_11eb_bd0c_d8cb8a5cd364row16_col1\" class=\"data row16 col1\" >0.300000</td>\n",
       "            </tr>\n",
       "            <tr>\n",
       "                        <th id=\"T_4963de98_6c7d_11eb_bd0c_d8cb8a5cd364level0_row17\" class=\"row_heading level0 row17\" >rougher.state.floatbank10_c_air</th>\n",
       "                        <td id=\"T_4963de98_6c7d_11eb_bd0c_d8cb8a5cd364row17_col0\" class=\"data row17 col0\" >17</td>\n",
       "                        <td id=\"T_4963de98_6c7d_11eb_bd0c_d8cb8a5cd364row17_col1\" class=\"data row17 col1\" >0.300000</td>\n",
       "            </tr>\n",
       "            <tr>\n",
       "                        <th id=\"T_4963de98_6c7d_11eb_bd0c_d8cb8a5cd364level0_row18\" class=\"row_heading level0 row18\" >rougher.state.floatbank10_f_air</th>\n",
       "                        <td id=\"T_4963de98_6c7d_11eb_bd0c_d8cb8a5cd364row18_col0\" class=\"data row18 col0\" >17</td>\n",
       "                        <td id=\"T_4963de98_6c7d_11eb_bd0c_d8cb8a5cd364row18_col1\" class=\"data row18 col1\" >0.300000</td>\n",
       "            </tr>\n",
       "            <tr>\n",
       "                        <th id=\"T_4963de98_6c7d_11eb_bd0c_d8cb8a5cd364level0_row19\" class=\"row_heading level0 row19\" >primary_cleaner.state.floatbank8_a_air</th>\n",
       "                        <td id=\"T_4963de98_6c7d_11eb_bd0c_d8cb8a5cd364row19_col0\" class=\"data row19 col0\" >16</td>\n",
       "                        <td id=\"T_4963de98_6c7d_11eb_bd0c_d8cb8a5cd364row19_col1\" class=\"data row19 col1\" >0.300000</td>\n",
       "            </tr>\n",
       "            <tr>\n",
       "                        <th id=\"T_4963de98_6c7d_11eb_bd0c_d8cb8a5cd364level0_row20\" class=\"row_heading level0 row20\" >primary_cleaner.state.floatbank8_a_level</th>\n",
       "                        <td id=\"T_4963de98_6c7d_11eb_bd0c_d8cb8a5cd364row20_col0\" class=\"data row20 col0\" >16</td>\n",
       "                        <td id=\"T_4963de98_6c7d_11eb_bd0c_d8cb8a5cd364row20_col1\" class=\"data row20 col1\" >0.300000</td>\n",
       "            </tr>\n",
       "            <tr>\n",
       "                        <th id=\"T_4963de98_6c7d_11eb_bd0c_d8cb8a5cd364level0_row21\" class=\"row_heading level0 row21\" >rougher.input.feed_au</th>\n",
       "                        <td id=\"T_4963de98_6c7d_11eb_bd0c_d8cb8a5cd364row21_col0\" class=\"data row21 col0\" >16</td>\n",
       "                        <td id=\"T_4963de98_6c7d_11eb_bd0c_d8cb8a5cd364row21_col1\" class=\"data row21 col1\" >0.300000</td>\n",
       "            </tr>\n",
       "            <tr>\n",
       "                        <th id=\"T_4963de98_6c7d_11eb_bd0c_d8cb8a5cd364level0_row22\" class=\"row_heading level0 row22\" >primary_cleaner.state.floatbank8_d_air</th>\n",
       "                        <td id=\"T_4963de98_6c7d_11eb_bd0c_d8cb8a5cd364row22_col0\" class=\"data row22 col0\" >16</td>\n",
       "                        <td id=\"T_4963de98_6c7d_11eb_bd0c_d8cb8a5cd364row22_col1\" class=\"data row22 col1\" >0.300000</td>\n",
       "            </tr>\n",
       "            <tr>\n",
       "                        <th id=\"T_4963de98_6c7d_11eb_bd0c_d8cb8a5cd364level0_row23\" class=\"row_heading level0 row23\" >primary_cleaner.state.floatbank8_b_air</th>\n",
       "                        <td id=\"T_4963de98_6c7d_11eb_bd0c_d8cb8a5cd364row23_col0\" class=\"data row23 col0\" >16</td>\n",
       "                        <td id=\"T_4963de98_6c7d_11eb_bd0c_d8cb8a5cd364row23_col1\" class=\"data row23 col1\" >0.300000</td>\n",
       "            </tr>\n",
       "            <tr>\n",
       "                        <th id=\"T_4963de98_6c7d_11eb_bd0c_d8cb8a5cd364level0_row24\" class=\"row_heading level0 row24\" >primary_cleaner.state.floatbank8_d_level</th>\n",
       "                        <td id=\"T_4963de98_6c7d_11eb_bd0c_d8cb8a5cd364row24_col0\" class=\"data row24 col0\" >16</td>\n",
       "                        <td id=\"T_4963de98_6c7d_11eb_bd0c_d8cb8a5cd364row24_col1\" class=\"data row24 col1\" >0.300000</td>\n",
       "            </tr>\n",
       "            <tr>\n",
       "                        <th id=\"T_4963de98_6c7d_11eb_bd0c_d8cb8a5cd364level0_row25\" class=\"row_heading level0 row25\" >primary_cleaner.state.floatbank8_b_level</th>\n",
       "                        <td id=\"T_4963de98_6c7d_11eb_bd0c_d8cb8a5cd364row25_col0\" class=\"data row25 col0\" >16</td>\n",
       "                        <td id=\"T_4963de98_6c7d_11eb_bd0c_d8cb8a5cd364row25_col1\" class=\"data row25 col1\" >0.300000</td>\n",
       "            </tr>\n",
       "            <tr>\n",
       "                        <th id=\"T_4963de98_6c7d_11eb_bd0c_d8cb8a5cd364level0_row26\" class=\"row_heading level0 row26\" >rougher.input.feed_pb</th>\n",
       "                        <td id=\"T_4963de98_6c7d_11eb_bd0c_d8cb8a5cd364row26_col0\" class=\"data row26 col0\" >16</td>\n",
       "                        <td id=\"T_4963de98_6c7d_11eb_bd0c_d8cb8a5cd364row26_col1\" class=\"data row26 col1\" >0.300000</td>\n",
       "            </tr>\n",
       "            <tr>\n",
       "                        <th id=\"T_4963de98_6c7d_11eb_bd0c_d8cb8a5cd364level0_row27\" class=\"row_heading level0 row27\" >primary_cleaner.state.floatbank8_c_air</th>\n",
       "                        <td id=\"T_4963de98_6c7d_11eb_bd0c_d8cb8a5cd364row27_col0\" class=\"data row27 col0\" >16</td>\n",
       "                        <td id=\"T_4963de98_6c7d_11eb_bd0c_d8cb8a5cd364row27_col1\" class=\"data row27 col1\" >0.300000</td>\n",
       "            </tr>\n",
       "            <tr>\n",
       "                        <th id=\"T_4963de98_6c7d_11eb_bd0c_d8cb8a5cd364level0_row28\" class=\"row_heading level0 row28\" >rougher.input.feed_ag</th>\n",
       "                        <td id=\"T_4963de98_6c7d_11eb_bd0c_d8cb8a5cd364row28_col0\" class=\"data row28 col0\" >16</td>\n",
       "                        <td id=\"T_4963de98_6c7d_11eb_bd0c_d8cb8a5cd364row28_col1\" class=\"data row28 col1\" >0.300000</td>\n",
       "            </tr>\n",
       "            <tr>\n",
       "                        <th id=\"T_4963de98_6c7d_11eb_bd0c_d8cb8a5cd364level0_row29\" class=\"row_heading level0 row29\" >primary_cleaner.state.floatbank8_c_level</th>\n",
       "                        <td id=\"T_4963de98_6c7d_11eb_bd0c_d8cb8a5cd364row29_col0\" class=\"data row29 col0\" >16</td>\n",
       "                        <td id=\"T_4963de98_6c7d_11eb_bd0c_d8cb8a5cd364row29_col1\" class=\"data row29 col1\" >0.300000</td>\n",
       "            </tr>\n",
       "            <tr>\n",
       "                        <th id=\"T_4963de98_6c7d_11eb_bd0c_d8cb8a5cd364level0_row30\" class=\"row_heading level0 row30\" >secondary_cleaner.state.floatbank6_a_level</th>\n",
       "                        <td id=\"T_4963de98_6c7d_11eb_bd0c_d8cb8a5cd364row30_col0\" class=\"data row30 col0\" >16</td>\n",
       "                        <td id=\"T_4963de98_6c7d_11eb_bd0c_d8cb8a5cd364row30_col1\" class=\"data row30 col1\" >0.300000</td>\n",
       "            </tr>\n",
       "            <tr>\n",
       "                        <th id=\"T_4963de98_6c7d_11eb_bd0c_d8cb8a5cd364level0_row31\" class=\"row_heading level0 row31\" >rougher.state.floatbank10_b_level</th>\n",
       "                        <td id=\"T_4963de98_6c7d_11eb_bd0c_d8cb8a5cd364row31_col0\" class=\"data row31 col0\" >16</td>\n",
       "                        <td id=\"T_4963de98_6c7d_11eb_bd0c_d8cb8a5cd364row31_col1\" class=\"data row31 col1\" >0.300000</td>\n",
       "            </tr>\n",
       "            <tr>\n",
       "                        <th id=\"T_4963de98_6c7d_11eb_bd0c_d8cb8a5cd364level0_row32\" class=\"row_heading level0 row32\" >rougher.state.floatbank10_a_level</th>\n",
       "                        <td id=\"T_4963de98_6c7d_11eb_bd0c_d8cb8a5cd364row32_col0\" class=\"data row32 col0\" >16</td>\n",
       "                        <td id=\"T_4963de98_6c7d_11eb_bd0c_d8cb8a5cd364row32_col1\" class=\"data row32 col1\" >0.300000</td>\n",
       "            </tr>\n",
       "            <tr>\n",
       "                        <th id=\"T_4963de98_6c7d_11eb_bd0c_d8cb8a5cd364level0_row33\" class=\"row_heading level0 row33\" >secondary_cleaner.state.floatbank6_a_air</th>\n",
       "                        <td id=\"T_4963de98_6c7d_11eb_bd0c_d8cb8a5cd364row33_col0\" class=\"data row33 col0\" >16</td>\n",
       "                        <td id=\"T_4963de98_6c7d_11eb_bd0c_d8cb8a5cd364row33_col1\" class=\"data row33 col1\" >0.300000</td>\n",
       "            </tr>\n",
       "            <tr>\n",
       "                        <th id=\"T_4963de98_6c7d_11eb_bd0c_d8cb8a5cd364level0_row34\" class=\"row_heading level0 row34\" >secondary_cleaner.state.floatbank5_b_level</th>\n",
       "                        <td id=\"T_4963de98_6c7d_11eb_bd0c_d8cb8a5cd364row34_col0\" class=\"data row34 col0\" >16</td>\n",
       "                        <td id=\"T_4963de98_6c7d_11eb_bd0c_d8cb8a5cd364row34_col1\" class=\"data row34 col1\" >0.300000</td>\n",
       "            </tr>\n",
       "            <tr>\n",
       "                        <th id=\"T_4963de98_6c7d_11eb_bd0c_d8cb8a5cd364level0_row35\" class=\"row_heading level0 row35\" >secondary_cleaner.state.floatbank5_b_air</th>\n",
       "                        <td id=\"T_4963de98_6c7d_11eb_bd0c_d8cb8a5cd364row35_col0\" class=\"data row35 col0\" >16</td>\n",
       "                        <td id=\"T_4963de98_6c7d_11eb_bd0c_d8cb8a5cd364row35_col1\" class=\"data row35 col1\" >0.300000</td>\n",
       "            </tr>\n",
       "            <tr>\n",
       "                        <th id=\"T_4963de98_6c7d_11eb_bd0c_d8cb8a5cd364level0_row36\" class=\"row_heading level0 row36\" >secondary_cleaner.state.floatbank5_a_level</th>\n",
       "                        <td id=\"T_4963de98_6c7d_11eb_bd0c_d8cb8a5cd364row36_col0\" class=\"data row36 col0\" >16</td>\n",
       "                        <td id=\"T_4963de98_6c7d_11eb_bd0c_d8cb8a5cd364row36_col1\" class=\"data row36 col1\" >0.300000</td>\n",
       "            </tr>\n",
       "            <tr>\n",
       "                        <th id=\"T_4963de98_6c7d_11eb_bd0c_d8cb8a5cd364level0_row37\" class=\"row_heading level0 row37\" >secondary_cleaner.state.floatbank5_a_air</th>\n",
       "                        <td id=\"T_4963de98_6c7d_11eb_bd0c_d8cb8a5cd364row37_col0\" class=\"data row37 col0\" >16</td>\n",
       "                        <td id=\"T_4963de98_6c7d_11eb_bd0c_d8cb8a5cd364row37_col1\" class=\"data row37 col1\" >0.300000</td>\n",
       "            </tr>\n",
       "            <tr>\n",
       "                        <th id=\"T_4963de98_6c7d_11eb_bd0c_d8cb8a5cd364level0_row38\" class=\"row_heading level0 row38\" >secondary_cleaner.state.floatbank4_b_level</th>\n",
       "                        <td id=\"T_4963de98_6c7d_11eb_bd0c_d8cb8a5cd364row38_col0\" class=\"data row38 col0\" >16</td>\n",
       "                        <td id=\"T_4963de98_6c7d_11eb_bd0c_d8cb8a5cd364row38_col1\" class=\"data row38 col1\" >0.300000</td>\n",
       "            </tr>\n",
       "            <tr>\n",
       "                        <th id=\"T_4963de98_6c7d_11eb_bd0c_d8cb8a5cd364level0_row39\" class=\"row_heading level0 row39\" >secondary_cleaner.state.floatbank4_b_air</th>\n",
       "                        <td id=\"T_4963de98_6c7d_11eb_bd0c_d8cb8a5cd364row39_col0\" class=\"data row39 col0\" >16</td>\n",
       "                        <td id=\"T_4963de98_6c7d_11eb_bd0c_d8cb8a5cd364row39_col1\" class=\"data row39 col1\" >0.300000</td>\n",
       "            </tr>\n",
       "            <tr>\n",
       "                        <th id=\"T_4963de98_6c7d_11eb_bd0c_d8cb8a5cd364level0_row40\" class=\"row_heading level0 row40\" >secondary_cleaner.state.floatbank4_a_level</th>\n",
       "                        <td id=\"T_4963de98_6c7d_11eb_bd0c_d8cb8a5cd364row40_col0\" class=\"data row40 col0\" >16</td>\n",
       "                        <td id=\"T_4963de98_6c7d_11eb_bd0c_d8cb8a5cd364row40_col1\" class=\"data row40 col1\" >0.300000</td>\n",
       "            </tr>\n",
       "            <tr>\n",
       "                        <th id=\"T_4963de98_6c7d_11eb_bd0c_d8cb8a5cd364level0_row41\" class=\"row_heading level0 row41\" >secondary_cleaner.state.floatbank4_a_air</th>\n",
       "                        <td id=\"T_4963de98_6c7d_11eb_bd0c_d8cb8a5cd364row41_col0\" class=\"data row41 col0\" >16</td>\n",
       "                        <td id=\"T_4963de98_6c7d_11eb_bd0c_d8cb8a5cd364row41_col1\" class=\"data row41 col1\" >0.300000</td>\n",
       "            </tr>\n",
       "            <tr>\n",
       "                        <th id=\"T_4963de98_6c7d_11eb_bd0c_d8cb8a5cd364level0_row42\" class=\"row_heading level0 row42\" >secondary_cleaner.state.floatbank3_b_level</th>\n",
       "                        <td id=\"T_4963de98_6c7d_11eb_bd0c_d8cb8a5cd364row42_col0\" class=\"data row42 col0\" >16</td>\n",
       "                        <td id=\"T_4963de98_6c7d_11eb_bd0c_d8cb8a5cd364row42_col1\" class=\"data row42 col1\" >0.300000</td>\n",
       "            </tr>\n",
       "            <tr>\n",
       "                        <th id=\"T_4963de98_6c7d_11eb_bd0c_d8cb8a5cd364level0_row43\" class=\"row_heading level0 row43\" >secondary_cleaner.state.floatbank3_b_air</th>\n",
       "                        <td id=\"T_4963de98_6c7d_11eb_bd0c_d8cb8a5cd364row43_col0\" class=\"data row43 col0\" >16</td>\n",
       "                        <td id=\"T_4963de98_6c7d_11eb_bd0c_d8cb8a5cd364row43_col1\" class=\"data row43 col1\" >0.300000</td>\n",
       "            </tr>\n",
       "            <tr>\n",
       "                        <th id=\"T_4963de98_6c7d_11eb_bd0c_d8cb8a5cd364level0_row44\" class=\"row_heading level0 row44\" >secondary_cleaner.state.floatbank3_a_level</th>\n",
       "                        <td id=\"T_4963de98_6c7d_11eb_bd0c_d8cb8a5cd364row44_col0\" class=\"data row44 col0\" >16</td>\n",
       "                        <td id=\"T_4963de98_6c7d_11eb_bd0c_d8cb8a5cd364row44_col1\" class=\"data row44 col1\" >0.300000</td>\n",
       "            </tr>\n",
       "            <tr>\n",
       "                        <th id=\"T_4963de98_6c7d_11eb_bd0c_d8cb8a5cd364level0_row45\" class=\"row_heading level0 row45\" >secondary_cleaner.state.floatbank2_b_level</th>\n",
       "                        <td id=\"T_4963de98_6c7d_11eb_bd0c_d8cb8a5cd364row45_col0\" class=\"data row45 col0\" >16</td>\n",
       "                        <td id=\"T_4963de98_6c7d_11eb_bd0c_d8cb8a5cd364row45_col1\" class=\"data row45 col1\" >0.300000</td>\n",
       "            </tr>\n",
       "            <tr>\n",
       "                        <th id=\"T_4963de98_6c7d_11eb_bd0c_d8cb8a5cd364level0_row46\" class=\"row_heading level0 row46\" >secondary_cleaner.state.floatbank2_a_level</th>\n",
       "                        <td id=\"T_4963de98_6c7d_11eb_bd0c_d8cb8a5cd364row46_col0\" class=\"data row46 col0\" >16</td>\n",
       "                        <td id=\"T_4963de98_6c7d_11eb_bd0c_d8cb8a5cd364row46_col1\" class=\"data row46 col1\" >0.300000</td>\n",
       "            </tr>\n",
       "            <tr>\n",
       "                        <th id=\"T_4963de98_6c7d_11eb_bd0c_d8cb8a5cd364level0_row47\" class=\"row_heading level0 row47\" >rougher.state.floatbank10_f_level</th>\n",
       "                        <td id=\"T_4963de98_6c7d_11eb_bd0c_d8cb8a5cd364row47_col0\" class=\"data row47 col0\" >16</td>\n",
       "                        <td id=\"T_4963de98_6c7d_11eb_bd0c_d8cb8a5cd364row47_col1\" class=\"data row47 col1\" >0.300000</td>\n",
       "            </tr>\n",
       "            <tr>\n",
       "                        <th id=\"T_4963de98_6c7d_11eb_bd0c_d8cb8a5cd364level0_row48\" class=\"row_heading level0 row48\" >rougher.state.floatbank10_e_level</th>\n",
       "                        <td id=\"T_4963de98_6c7d_11eb_bd0c_d8cb8a5cd364row48_col0\" class=\"data row48 col0\" >16</td>\n",
       "                        <td id=\"T_4963de98_6c7d_11eb_bd0c_d8cb8a5cd364row48_col1\" class=\"data row48 col1\" >0.300000</td>\n",
       "            </tr>\n",
       "            <tr>\n",
       "                        <th id=\"T_4963de98_6c7d_11eb_bd0c_d8cb8a5cd364level0_row49\" class=\"row_heading level0 row49\" >rougher.state.floatbank10_d_level</th>\n",
       "                        <td id=\"T_4963de98_6c7d_11eb_bd0c_d8cb8a5cd364row49_col0\" class=\"data row49 col0\" >16</td>\n",
       "                        <td id=\"T_4963de98_6c7d_11eb_bd0c_d8cb8a5cd364row49_col1\" class=\"data row49 col1\" >0.300000</td>\n",
       "            </tr>\n",
       "            <tr>\n",
       "                        <th id=\"T_4963de98_6c7d_11eb_bd0c_d8cb8a5cd364level0_row50\" class=\"row_heading level0 row50\" >rougher.state.floatbank10_c_level</th>\n",
       "                        <td id=\"T_4963de98_6c7d_11eb_bd0c_d8cb8a5cd364row50_col0\" class=\"data row50 col0\" >16</td>\n",
       "                        <td id=\"T_4963de98_6c7d_11eb_bd0c_d8cb8a5cd364row50_col1\" class=\"data row50 col1\" >0.300000</td>\n",
       "            </tr>\n",
       "            <tr>\n",
       "                        <th id=\"T_4963de98_6c7d_11eb_bd0c_d8cb8a5cd364level0_row51\" class=\"row_heading level0 row51\" >primary_cleaner.input.feed_size</th>\n",
       "                        <td id=\"T_4963de98_6c7d_11eb_bd0c_d8cb8a5cd364row51_col0\" class=\"data row51 col0\" >0</td>\n",
       "                        <td id=\"T_4963de98_6c7d_11eb_bd0c_d8cb8a5cd364row51_col1\" class=\"data row51 col1\" >0.000000</td>\n",
       "            </tr>\n",
       "            <tr>\n",
       "                        <th id=\"T_4963de98_6c7d_11eb_bd0c_d8cb8a5cd364level0_row52\" class=\"row_heading level0 row52\" >date</th>\n",
       "                        <td id=\"T_4963de98_6c7d_11eb_bd0c_d8cb8a5cd364row52_col0\" class=\"data row52 col0\" >0</td>\n",
       "                        <td id=\"T_4963de98_6c7d_11eb_bd0c_d8cb8a5cd364row52_col1\" class=\"data row52 col1\" >0.000000</td>\n",
       "            </tr>\n",
       "    </tbody></table>"
      ],
      "text/plain": [
       "<pandas.io.formats.style.Styler at 0x7fbe67a5cc90>"
      ]
     },
     "execution_count": 19,
     "metadata": {},
     "output_type": "execute_result"
    }
   ],
   "source": [
    "missing_data(df_test_skips).style.background_gradient(cmap='coolwarm')"
   ]
  },
  {
   "cell_type": "markdown",
   "metadata": {},
   "source": [
    "Since the indicators are close in time most often the same, you can try to fill in the gaps with neighboring values using the argument of the *method* parameter in the *fillna ()* method. After training the models, you can return to this step and change how the gaps are filled to improve the predictions."
   ]
  },
  {
   "cell_type": "code",
   "execution_count": 20,
   "metadata": {},
   "outputs": [],
   "source": [
    "df_train_skips = df_train_skips.fillna(method='ffill')\n",
    "df_test_skips = df_test_skips.fillna(method='ffill')"
   ]
  },
  {
   "cell_type": "markdown",
   "metadata": {},
   "source": [
    "## 1.5 Duplicates <a class=\"anchor\" id=\"step1.5\"></a>\n",
    "[back to content](#content)"
   ]
  },
  {
   "cell_type": "code",
   "execution_count": 21,
   "metadata": {},
   "outputs": [
    {
     "data": {
      "text/plain": [
       "0"
      ]
     },
     "execution_count": 21,
     "metadata": {},
     "output_type": "execute_result"
    }
   ],
   "source": [
    "df_train_skips.duplicated().sum()"
   ]
  },
  {
   "cell_type": "markdown",
   "metadata": {},
   "source": [
    "There are no duplicates."
   ]
  },
  {
   "cell_type": "markdown",
   "metadata": {},
   "source": [
    "Посмотрим, сколько данных удалили:"
   ]
  },
  {
   "cell_type": "code",
   "execution_count": 22,
   "metadata": {},
   "outputs": [],
   "source": [
    "#function for calculating the proportion of deleted data during processing\n",
    "def check_removed_data(data_start, data_end):\n",
    "    rows_removed = (data_start.shape[0] - data_end.shape[0]) / data_start.shape[0]\n",
    "    cols_removed = (data_start.shape[1] - data_end.shape[1]) / data_start.shape[1]\n",
    "    \n",
    "    result = 'At this stage we removed {: .2%} rows and {: .2%} columns from initial dataset.'.format(rows_removed,\n",
    "                                                                                                     cols_removed)\n",
    "    return result"
   ]
  },
  {
   "cell_type": "code",
   "execution_count": 23,
   "metadata": {},
   "outputs": [
    {
     "data": {
      "text/plain": [
       "'At this stage we removed  0.00% rows and  36.78% columns from initial dataset.'"
      ]
     },
     "execution_count": 23,
     "metadata": {},
     "output_type": "execute_result"
    }
   ],
   "source": [
    "check_removed_data(df_train, df_train_skips)"
   ]
  },
  {
   "cell_type": "markdown",
   "metadata": {},
   "source": [
    "# 2. Exploratory Data Analysis <a class=\"anchor\" id=\"step2\"></a>\n",
    "[back to content](#content)"
   ]
  },
  {
   "cell_type": "markdown",
   "metadata": {},
   "source": [
    "## 2.1 Preparation <a class=\"anchor\" id=\"step2.1\"></a>\n",
    "[back to content](#content)"
   ]
  },
  {
   "cell_type": "markdown",
   "metadata": {},
   "source": [
    "There are quite a few signs in the data and it is difficult to work with all of them at the same time. We will divide the features into groups according to the technological process."
   ]
  },
  {
   "cell_type": "code",
   "execution_count": 24,
   "metadata": {},
   "outputs": [],
   "source": [
    "def group_feature_cols(df):\n",
    "    df_new = df.drop(labels=target_cols, axis=1)\n",
    "    rougher_features = []\n",
    "    cleaner_features = []\n",
    "    \n",
    "    for column in df_new.columns:\n",
    "        if 'rougher' in column:\n",
    "            rougher_features.append(column)\n",
    "        elif 'primary_cleaner' or 'secondary_cleaner' in column:\n",
    "            cleaner_features.append(column)\n",
    "            \n",
    "    return rougher_features, cleaner_features"
   ]
  },
  {
   "cell_type": "code",
   "execution_count": 25,
   "metadata": {},
   "outputs": [],
   "source": [
    "#lists of grouped feature names\n",
    "rougher_features, cleaner_features = group_feature_cols(df_train_skips)"
   ]
  },
  {
   "cell_type": "code",
   "execution_count": 26,
   "metadata": {},
   "outputs": [],
   "source": [
    "#full list of signs except target and date\n",
    "feature_cols_all = [col for col in df_train_skips.columns if col not in ['date','final.output.recovery','rougher.output.recovery']]"
   ]
  },
  {
   "cell_type": "markdown",
   "metadata": {},
   "source": [
    "## 2.2 Comparison of size distributions of raw material granules <a class=\"anchor\" id=\"step2.2\"></a>\n",
    "[back to content](#content)"
   ]
  },
  {
   "cell_type": "markdown",
   "metadata": {},
   "source": [
    "Let's take the original training dataset `df_train`, where there are indicators of the concentration of metals at different stages of processing."
   ]
  },
  {
   "cell_type": "code",
   "execution_count": 27,
   "metadata": {},
   "outputs": [],
   "source": [
    "#name of the required features\n",
    "ag_concentrate = [name for name in df_train.columns if 'concentrate_ag' in name]\n",
    "pb_concentrate = [name for name in df_train.columns if 'concentrate_pb' in name]\n",
    "au_concentrate = [name for name in df_train.columns if 'concentrate_au' in name]\n",
    "all_concentrate = ag_concentrate + pb_concentrate + au_concentrate"
   ]
  },
  {
   "cell_type": "code",
   "execution_count": 28,
   "metadata": {},
   "outputs": [],
   "source": [
    "#backup\n",
    "df_train_concentrate = df_train.copy()"
   ]
  },
  {
   "cell_type": "markdown",
   "metadata": {},
   "source": [
    "Let's remove the missing values:"
   ]
  },
  {
   "cell_type": "code",
   "execution_count": 29,
   "metadata": {},
   "outputs": [],
   "source": [
    "df_train_concentrate = df_train_concentrate.dropna(subset=all_concentrate)"
   ]
  },
  {
   "cell_type": "markdown",
   "metadata": {},
   "source": [
    "Let's look at the concentration distributions of each metal in each cleaning stage:"
   ]
  },
  {
   "cell_type": "code",
   "execution_count": 30,
   "metadata": {},
   "outputs": [],
   "source": [
    "#function for plotting 3 histograms\n",
    "def plot_hist_3(data, plot_cols_1, plot_cols_2, plot_cols_3, label_1, label_2, label_3,\n",
    "                title_1, title_2, title_3, xlabel, figsize=(15, 4)):\n",
    "    fig, axis = plt.subplots(ncols=3, nrows=1, figsize=figsize)\n",
    "    ax = axis.ravel()\n",
    "\n",
    "    for col in range(len(plot_cols_1)):\n",
    "        sns.distplot(data[plot_cols_1[col]], ax=ax[col], label=label_1)\n",
    "        sns.distplot(data[plot_cols_2[col]], ax=ax[col], label=label_2)\n",
    "        sns.distplot(data[plot_cols_3[col]], ax=ax[col], label=label_3, axlabel=xlabel)\n",
    "\n",
    "    plt.legend()\n",
    "\n",
    "    ax[0].set_title(title_1)\n",
    "    ax[1].set_title(title_2)\n",
    "    ax[2].set_title(title_3)"
   ]
  },
  {
   "cell_type": "code",
   "execution_count": 31,
   "metadata": {},
   "outputs": [
    {
     "data": {
      "image/png": "[encoded data removed]",
      "text/plain": [
       "<Figure size 1080x288 with 3 Axes>"
      ]
     },
     "metadata": {
      "needs_background": "light"
     },
     "output_type": "display_data"
    }
   ],
   "source": [
    "plot_hist_3(df_train_concentrate, ag_concentrate, pb_concentrate, au_concentrate, 'Ag', 'Pb', 'Au',\n",
    "                'Final Output', 'Cleaner Output', 'Rougher Output', 'concentration in %')"
   ]
  },
  {
   "cell_type": "markdown",
   "metadata": {},
   "source": [
    "As expected, the concentration of gold increases after each purification step. The final concentrate contains approximately twice as much gold as the original raw material. In the meantime, the silver concentration decreases during refining and the lead content increases slightly.\n",
    "\n",
    "Peaks at zero values are most likely anomalies in the data."
   ]
  },
  {
   "cell_type": "markdown",
   "metadata": {},
   "source": [
    "## 2.3 Comparison of size distributions of raw material granules <a class=\"anchor\" id=\"step2.3\"></a>\n",
    "[back to content](#content)"
   ]
  },
  {
   "cell_type": "code",
   "execution_count": 32,
   "metadata": {},
   "outputs": [],
   "source": [
    "#name of the required features\n",
    "size_cols = [name for name in df_train.columns if 'feed_size' in name]"
   ]
  },
  {
   "cell_type": "code",
   "execution_count": 33,
   "metadata": {},
   "outputs": [],
   "source": [
    "#lets remove missing values\n",
    "df_train_c = df_train.dropna(subset=size_cols).copy()\n",
    "df_test_c = df_test.dropna(subset=size_cols).copy()"
   ]
  },
  {
   "cell_type": "markdown",
   "metadata": {},
   "source": [
    "Let's look at the granule size distributions for two stages:"
   ]
  },
  {
   "cell_type": "code",
   "execution_count": 34,
   "metadata": {},
   "outputs": [],
   "source": [
    "#function for plotting 2 histograms\n",
    "def plot_hist_2(data_1, data_2, plot_cols, label_1, label_2, title_1, title_2,\n",
    "                xlabel, xlim_1=None, xlim_2=None, figsize=(15, 5)):\n",
    "    fig, axis = plt.subplots(ncols=2, nrows=1, figsize=figsize)\n",
    "    ax = axis.ravel()\n",
    "\n",
    "    for col in range(len(plot_cols)):\n",
    "        sns.distplot(data_1[plot_cols[col]], ax=ax[col], label=label_1)\n",
    "        sns.distplot(data_2[plot_cols[col]], ax=ax[col], label=label_2, axlabel=xlabel)\n",
    "\n",
    "    ax[0].set_title(title_1)\n",
    "    ax[1].set_title(title_2)\n",
    "    ax[0].set(xlim=xlim_1)\n",
    "    ax[1].set(xlim=xlim_2)\n",
    "    plt.legend()"
   ]
  },
  {
   "cell_type": "code",
   "execution_count": 35,
   "metadata": {},
   "outputs": [
    {
     "data": {
      "image/png": "[encoded data removed]",
      "text/plain": [
       "<Figure size 1080x360 with 2 Axes>"
      ]
     },
     "metadata": {
      "needs_background": "light"
     },
     "output_type": "display_data"
    }
   ],
   "source": [
    "plot_hist_2(df_train_c, df_test_c, size_cols, 'train data', 'test data', 'Cleaner', 'Rougher',\n",
    "                'granulate size', xlim_1=[4,10], xlim_2=[0,125])"
   ]
  },
  {
   "cell_type": "markdown",
   "metadata": {},
   "source": [
    "The grain size distribution is more different for the coarse process than for the cleaning process (more stable process). Also in the Rougher stage there are a lot of emissions in the area of the larger granule size. But in general, the distributions are similar to each other."
   ]
  },
  {
   "cell_type": "markdown",
   "metadata": {},
   "source": [
    "## 2.4 Total concentration of substances in raw materials <a class=\"anchor\" id=\"step2.4\"></a>\n",
    "[back to content](#content)"
   ]
  },
  {
   "cell_type": "code",
   "execution_count": 36,
   "metadata": {},
   "outputs": [],
   "source": [
    "#lets remove the missing values\n",
    "df_train_sum_c = df_train.dropna(subset=all_concentrate).copy()"
   ]
  },
  {
   "cell_type": "code",
   "execution_count": 37,
   "metadata": {},
   "outputs": [],
   "source": [
    "#we will collect the names of the columns for\n",
    "#concentration from different stages into lists\n",
    "rougher_concentrate = [name for name in all_concentrate if 'rougher' in name]\n",
    "cleaner_concentrate = [name for name in all_concentrate if 'cleaner' in name]\n",
    "final_concentrate = [name for name in all_concentrate if 'final' in name]"
   ]
  },
  {
   "cell_type": "code",
   "execution_count": 38,
   "metadata": {},
   "outputs": [],
   "source": [
    "#let's calculate the sum of concentrations in separate columns\n",
    "df_train_sum_c['rougher_total_concentrate'] = df_train_sum_c[rougher_concentrate].sum(axis=1)\n",
    "df_train_sum_c['cleaner_total_concentrate'] = df_train_sum_c[cleaner_concentrate].sum(axis=1)\n",
    "df_train_sum_c['final_total_concentrate'] = df_train_sum_c[final_concentrate].sum(axis=1)\n",
    "\n",
    "sum_con_cols = ['rougher_total_concentrate', 'cleaner_total_concentrate', 'final_total_concentrate']"
   ]
  },
  {
   "cell_type": "markdown",
   "metadata": {},
   "source": [
    "Let's look at the distributions of the total concentration of elements in the raw material at different stages of processing:"
   ]
  },
  {
   "cell_type": "code",
   "execution_count": 39,
   "metadata": {},
   "outputs": [],
   "source": [
    "#function for plotting 1 histogram\n",
    "def plot_hist_1(data, col_1, label_1, title, xlabel, col_2=None, label_2=None,\n",
    "                col_3=None, label_3=None, xlim=None, figsize=(8, 6)):\n",
    "\n",
    "    fig, axis = plt.subplots(ncols=1, nrows=1, figsize=figsize)\n",
    "    \n",
    "    sns.distplot(data[col_1], label=label_1, axlabel=xlabel, ax=axis)\n",
    "    if col_2 != None:\n",
    "        sns.distplot(data[col_2], label=label_2, axlabel=xlabel, ax=axis)\n",
    "    if col_3 != None:\n",
    "        sns.distplot(data[col_3], label=label_3, axlabel=xlabel, ax=axis)\n",
    "    plt.legend()\n",
    "    axis.set_title(title)\n",
    "    axis.set(xlim=xlim)"
   ]
  },
  {
   "cell_type": "code",
   "execution_count": 97,
   "metadata": {},
   "outputs": [
    {
     "data": {
      "image/png": "[encoded data removed]",
      "text/plain": [
       "<Figure size 576x432 with 1 Axes>"
      ]
     },
     "metadata": {
      "needs_background": "light"
     },
     "output_type": "display_data"
    }
   ],
   "source": [
    "plot_hist_1(df_train_sum_c, 'rougher_total_concentrate', 'Rougher',\n",
    "            'The total concentration of all elements in the raw material at different stages of processing',\n",
    "            'concentration in %', 'cleaner_total_concentrate', 'Cleaner',\n",
    "            'final_total_concentrate', 'Final')"
   ]
  },
  {
   "cell_type": "markdown",
   "metadata": {},
   "source": [
    "The total concentration of elements increases during purification, which corresponds to the concentration analysis in the previous step. Zero concentration values can be called anomalous here, because even if gold is absent in raw materials, at least accompanying elements must remain, that is, the total concentration must in any case be above zero. Values in the range from zero to the beginning of distributions are also suspicious.\n",
    "\n",
    "It is worth removing these anomalies in the training and test data."
   ]
  },
  {
   "cell_type": "code",
   "execution_count": 41,
   "metadata": {},
   "outputs": [],
   "source": [
    "#function to remove outliers, returns a filtered dataframe without outliers\n",
    "def remove_outliers(data_to_look, data_to_filter, cols, z_threshold):\n",
    "    outliers = data_to_look[~(np.abs(st.zscore(data_to_look[cols])) < z_threshold).all(axis=1)].copy()\n",
    "    filtered_data = data_to_filter.loc[~data_to_filter.index.isin(outliers.index)].copy()\n",
    "    return filtered_data "
   ]
  },
  {
   "cell_type": "markdown",
   "metadata": {},
   "source": [
    "Let's remove outliers in the data, leaving a 98% interval:"
   ]
  },
  {
   "cell_type": "code",
   "execution_count": 42,
   "metadata": {},
   "outputs": [],
   "source": [
    "#backup\n",
    "df_train_outliers = df_train_skips.copy()\n",
    "df_test_outliers = df_test_skips.copy()"
   ]
  },
  {
   "cell_type": "code",
   "execution_count": 43,
   "metadata": {},
   "outputs": [],
   "source": [
    "#remove outliers from training data\n",
    "df_train_outliers = remove_outliers(df_train_sum_c, df_train_outliers,\n",
    "                                    sum_con_cols, 2.1)\n",
    "df_train_outliers = df_train_outliers[df_train_outliers['rougher.output.recovery'] > 0]"
   ]
  },
  {
   "cell_type": "code",
   "execution_count": 44,
   "metadata": {},
   "outputs": [],
   "source": [
    "#remove outliers from test data\n",
    "df_test_outliers = remove_outliers(df_train_sum_c, df_test_outliers,\n",
    "                                    sum_con_cols, 2.1)"
   ]
  },
  {
   "cell_type": "code",
   "execution_count": 98,
   "metadata": {},
   "outputs": [
    {
     "name": "stdout",
     "output_type": "stream",
     "text": [
      "For training data:\n"
     ]
    },
    {
     "data": {
      "text/plain": [
       "'At this stage we removed  14.47% rows and  36.78% columns from initial dataset.'"
      ]
     },
     "execution_count": 98,
     "metadata": {},
     "output_type": "execute_result"
    }
   ],
   "source": [
    "print('For training data:')\n",
    "check_removed_data(df_train, df_train_outliers)"
   ]
  },
  {
   "cell_type": "code",
   "execution_count": 99,
   "metadata": {},
   "outputs": [
    {
     "name": "stdout",
     "output_type": "stream",
     "text": [
      "For test data:\n"
     ]
    },
    {
     "data": {
      "text/plain": [
       "'At this stage we removed  10.35% rows and  0.00% columns from initial dataset.'"
      ]
     },
     "execution_count": 99,
     "metadata": {},
     "output_type": "execute_result"
    }
   ],
   "source": [
    "print('For test data:')\n",
    "check_removed_data(df_test, df_test_outliers)"
   ]
  },
  {
   "cell_type": "markdown",
   "metadata": {},
   "source": [
    "## 2.5 Multicollinearity check <a class=\"anchor\" id=\"step2.5\"></a>\n",
    "[back to content](#content)"
   ]
  },
  {
   "cell_type": "code",
   "execution_count": 107,
   "metadata": {},
   "outputs": [],
   "source": [
    "#function to get columns with high correlation\n",
    "def get_high_corr_cols(corr_matrix, corr_threshold):\n",
    "    high_corr_features = set()\n",
    "    for i in range(len(corr_matrix .columns)):\n",
    "        for j in range(i):\n",
    "            if abs(corr_matrix.iloc[i, j]) > corr_threshold:\n",
    "                colname = corr_matrix.columns[i]\n",
    "                high_corr_features.add(colname)\n",
    "    return list(high_corr_features)"
   ]
  },
  {
   "cell_type": "code",
   "execution_count": 108,
   "metadata": {},
   "outputs": [],
   "source": [
    "#backup\n",
    "df_train_corr = df_train_outliers.copy()"
   ]
  },
  {
   "cell_type": "markdown",
   "metadata": {},
   "source": [
    "Let's first look at the correlation matrix with all the features that remained in the training data before this stage:"
   ]
  },
  {
   "cell_type": "code",
   "execution_count": 109,
   "metadata": {},
   "outputs": [
    {
     "data": {
      "text/html": [
       "<style  type=\"text/css\" >\n",
       "#T_79b97674_6c7e_11eb_bd0c_d8cb8a5cd364row0_col0,#T_79b97674_6c7e_11eb_bd0c_d8cb8a5cd364row0_col18,#T_79b97674_6c7e_11eb_bd0c_d8cb8a5cd364row0_col20,#T_79b97674_6c7e_11eb_bd0c_d8cb8a5cd364row1_col1,#T_79b97674_6c7e_11eb_bd0c_d8cb8a5cd364row2_col2,#T_79b97674_6c7e_11eb_bd0c_d8cb8a5cd364row3_col3,#T_79b97674_6c7e_11eb_bd0c_d8cb8a5cd364row4_col4,#T_79b97674_6c7e_11eb_bd0c_d8cb8a5cd364row4_col15,#T_79b97674_6c7e_11eb_bd0c_d8cb8a5cd364row4_col24,#T_79b97674_6c7e_11eb_bd0c_d8cb8a5cd364row4_col25,#T_79b97674_6c7e_11eb_bd0c_d8cb8a5cd364row4_col26,#T_79b97674_6c7e_11eb_bd0c_d8cb8a5cd364row4_col27,#T_79b97674_6c7e_11eb_bd0c_d8cb8a5cd364row4_col29,#T_79b97674_6c7e_11eb_bd0c_d8cb8a5cd364row4_col31,#T_79b97674_6c7e_11eb_bd0c_d8cb8a5cd364row4_col33,#T_79b97674_6c7e_11eb_bd0c_d8cb8a5cd364row4_col45,#T_79b97674_6c7e_11eb_bd0c_d8cb8a5cd364row4_col47,#T_79b97674_6c7e_11eb_bd0c_d8cb8a5cd364row4_col50,#T_79b97674_6c7e_11eb_bd0c_d8cb8a5cd364row5_col5,#T_79b97674_6c7e_11eb_bd0c_d8cb8a5cd364row6_col6,#T_79b97674_6c7e_11eb_bd0c_d8cb8a5cd364row6_col39,#T_79b97674_6c7e_11eb_bd0c_d8cb8a5cd364row6_col43,#T_79b97674_6c7e_11eb_bd0c_d8cb8a5cd364row6_col47,#T_79b97674_6c7e_11eb_bd0c_d8cb8a5cd364row6_col49,#T_79b97674_6c7e_11eb_bd0c_d8cb8a5cd364row6_col50,#T_79b97674_6c7e_11eb_bd0c_d8cb8a5cd364row7_col7,#T_79b97674_6c7e_11eb_bd0c_d8cb8a5cd364row7_col28,#T_79b97674_6c7e_11eb_bd0c_d8cb8a5cd364row7_col30,#T_79b97674_6c7e_11eb_bd0c_d8cb8a5cd364row7_col32,#T_79b97674_6c7e_11eb_bd0c_d8cb8a5cd364row7_col35,#T_79b97674_6c7e_11eb_bd0c_d8cb8a5cd364row7_col37,#T_79b97674_6c7e_11eb_bd0c_d8cb8a5cd364row7_col41,#T_79b97674_6c7e_11eb_bd0c_d8cb8a5cd364row7_col51,#T_79b97674_6c7e_11eb_bd0c_d8cb8a5cd364row8_col8,#T_79b97674_6c7e_11eb_bd0c_d8cb8a5cd364row8_col22,#T_79b97674_6c7e_11eb_bd0c_d8cb8a5cd364row8_col34,#T_79b97674_6c7e_11eb_bd0c_d8cb8a5cd364row8_col36,#T_79b97674_6c7e_11eb_bd0c_d8cb8a5cd364row8_col38,#T_79b97674_6c7e_11eb_bd0c_d8cb8a5cd364row8_col40,#T_79b97674_6c7e_11eb_bd0c_d8cb8a5cd364row8_col42,#T_79b97674_6c7e_11eb_bd0c_d8cb8a5cd364row8_col44,#T_79b97674_6c7e_11eb_bd0c_d8cb8a5cd364row8_col46,#T_79b97674_6c7e_11eb_bd0c_d8cb8a5cd364row8_col48,#T_79b97674_6c7e_11eb_bd0c_d8cb8a5cd364row9_col9,#T_79b97674_6c7e_11eb_bd0c_d8cb8a5cd364row10_col10,#T_79b97674_6c7e_11eb_bd0c_d8cb8a5cd364row10_col23,#T_79b97674_6c7e_11eb_bd0c_d8cb8a5cd364row11_col11,#T_79b97674_6c7e_11eb_bd0c_d8cb8a5cd364row12_col12,#T_79b97674_6c7e_11eb_bd0c_d8cb8a5cd364row12_col17,#T_79b97674_6c7e_11eb_bd0c_d8cb8a5cd364row13_col13,#T_79b97674_6c7e_11eb_bd0c_d8cb8a5cd364row14_col14,#T_79b97674_6c7e_11eb_bd0c_d8cb8a5cd364row14_col16,#T_79b97674_6c7e_11eb_bd0c_d8cb8a5cd364row14_col19,#T_79b97674_6c7e_11eb_bd0c_d8cb8a5cd364row14_col21{\n",
       "            background-color:  #b40426;\n",
       "            color:  #f1f1f1;\n",
       "        }#T_79b97674_6c7e_11eb_bd0c_d8cb8a5cd364row0_col1,#T_79b97674_6c7e_11eb_bd0c_d8cb8a5cd364row4_col7{\n",
       "            background-color:  #e8d6cc;\n",
       "            color:  #000000;\n",
       "        }#T_79b97674_6c7e_11eb_bd0c_d8cb8a5cd364row0_col2,#T_79b97674_6c7e_11eb_bd0c_d8cb8a5cd364row1_col5,#T_79b97674_6c7e_11eb_bd0c_d8cb8a5cd364row12_col26,#T_79b97674_6c7e_11eb_bd0c_d8cb8a5cd364row14_col5,#T_79b97674_6c7e_11eb_bd0c_d8cb8a5cd364row14_col7{\n",
       "            background-color:  #96b7ff;\n",
       "            color:  #000000;\n",
       "        }#T_79b97674_6c7e_11eb_bd0c_d8cb8a5cd364row0_col3,#T_79b97674_6c7e_11eb_bd0c_d8cb8a5cd364row2_col35,#T_79b97674_6c7e_11eb_bd0c_d8cb8a5cd364row3_col38,#T_79b97674_6c7e_11eb_bd0c_d8cb8a5cd364row9_col21,#T_79b97674_6c7e_11eb_bd0c_d8cb8a5cd364row12_col19{\n",
       "            background-color:  #adc9fd;\n",
       "            color:  #000000;\n",
       "        }#T_79b97674_6c7e_11eb_bd0c_d8cb8a5cd364row0_col4,#T_79b97674_6c7e_11eb_bd0c_d8cb8a5cd364row0_col50,#T_79b97674_6c7e_11eb_bd0c_d8cb8a5cd364row1_col26,#T_79b97674_6c7e_11eb_bd0c_d8cb8a5cd364row3_col4,#T_79b97674_6c7e_11eb_bd0c_d8cb8a5cd364row5_col14,#T_79b97674_6c7e_11eb_bd0c_d8cb8a5cd364row8_col13,#T_79b97674_6c7e_11eb_bd0c_d8cb8a5cd364row13_col8{\n",
       "            background-color:  #84a7fc;\n",
       "            color:  #000000;\n",
       "        }#T_79b97674_6c7e_11eb_bd0c_d8cb8a5cd364row0_col5,#T_79b97674_6c7e_11eb_bd0c_d8cb8a5cd364row0_col11,#T_79b97674_6c7e_11eb_bd0c_d8cb8a5cd364row0_col41,#T_79b97674_6c7e_11eb_bd0c_d8cb8a5cd364row2_col5,#T_79b97674_6c7e_11eb_bd0c_d8cb8a5cd364row2_col17,#T_79b97674_6c7e_11eb_bd0c_d8cb8a5cd364row2_col51,#T_79b97674_6c7e_11eb_bd0c_d8cb8a5cd364row7_col17,#T_79b97674_6c7e_11eb_bd0c_d8cb8a5cd364row8_col14,#T_79b97674_6c7e_11eb_bd0c_d8cb8a5cd364row10_col30,#T_79b97674_6c7e_11eb_bd0c_d8cb8a5cd364row13_col11{\n",
       "            background-color:  #7597f6;\n",
       "            color:  #000000;\n",
       "        }#T_79b97674_6c7e_11eb_bd0c_d8cb8a5cd364row0_col6,#T_79b97674_6c7e_11eb_bd0c_d8cb8a5cd364row3_col32,#T_79b97674_6c7e_11eb_bd0c_d8cb8a5cd364row6_col18,#T_79b97674_6c7e_11eb_bd0c_d8cb8a5cd364row14_col2,#T_79b97674_6c7e_11eb_bd0c_d8cb8a5cd364row14_col32{\n",
       "            background-color:  #88abfd;\n",
       "            color:  #000000;\n",
       "        }#T_79b97674_6c7e_11eb_bd0c_d8cb8a5cd364row0_col7,#T_79b97674_6c7e_11eb_bd0c_d8cb8a5cd364row2_col7,#T_79b97674_6c7e_11eb_bd0c_d8cb8a5cd364row3_col48,#T_79b97674_6c7e_11eb_bd0c_d8cb8a5cd364row6_col14,#T_79b97674_6c7e_11eb_bd0c_d8cb8a5cd364row11_col14,#T_79b97674_6c7e_11eb_bd0c_d8cb8a5cd364row14_col26{\n",
       "            background-color:  #779af7;\n",
       "            color:  #000000;\n",
       "        }#T_79b97674_6c7e_11eb_bd0c_d8cb8a5cd364row0_col8,#T_79b97674_6c7e_11eb_bd0c_d8cb8a5cd364row8_col18{\n",
       "            background-color:  #8caffe;\n",
       "            color:  #000000;\n",
       "        }#T_79b97674_6c7e_11eb_bd0c_d8cb8a5cd364row0_col9,#T_79b97674_6c7e_11eb_bd0c_d8cb8a5cd364row2_col9,#T_79b97674_6c7e_11eb_bd0c_d8cb8a5cd364row4_col14,#T_79b97674_6c7e_11eb_bd0c_d8cb8a5cd364row14_col41{\n",
       "            background-color:  #799cf8;\n",
       "            color:  #000000;\n",
       "        }#T_79b97674_6c7e_11eb_bd0c_d8cb8a5cd364row0_col10,#T_79b97674_6c7e_11eb_bd0c_d8cb8a5cd364row5_col21,#T_79b97674_6c7e_11eb_bd0c_d8cb8a5cd364row7_col21,#T_79b97674_6c7e_11eb_bd0c_d8cb8a5cd364row10_col17,#T_79b97674_6c7e_11eb_bd0c_d8cb8a5cd364row10_col41,#T_79b97674_6c7e_11eb_bd0c_d8cb8a5cd364row12_col6,#T_79b97674_6c7e_11eb_bd0c_d8cb8a5cd364row12_col20,#T_79b97674_6c7e_11eb_bd0c_d8cb8a5cd364row12_col25,#T_79b97674_6c7e_11eb_bd0c_d8cb8a5cd364row13_col40{\n",
       "            background-color:  #b1cbfc;\n",
       "            color:  #000000;\n",
       "        }#T_79b97674_6c7e_11eb_bd0c_d8cb8a5cd364row0_col12,#T_79b97674_6c7e_11eb_bd0c_d8cb8a5cd364row1_col17,#T_79b97674_6c7e_11eb_bd0c_d8cb8a5cd364row13_col12{\n",
       "            background-color:  #f0cdbb;\n",
       "            color:  #000000;\n",
       "        }#T_79b97674_6c7e_11eb_bd0c_d8cb8a5cd364row0_col13{\n",
       "            background-color:  #f5c2aa;\n",
       "            color:  #000000;\n",
       "        }#T_79b97674_6c7e_11eb_bd0c_d8cb8a5cd364row0_col14,#T_79b97674_6c7e_11eb_bd0c_d8cb8a5cd364row9_col42{\n",
       "            background-color:  #c7d7f0;\n",
       "            color:  #000000;\n",
       "        }#T_79b97674_6c7e_11eb_bd0c_d8cb8a5cd364row0_col15,#T_79b97674_6c7e_11eb_bd0c_d8cb8a5cd364row0_col30,#T_79b97674_6c7e_11eb_bd0c_d8cb8a5cd364row2_col0,#T_79b97674_6c7e_11eb_bd0c_d8cb8a5cd364row3_col40{\n",
       "            background-color:  #5b7ae5;\n",
       "            color:  #000000;\n",
       "        }#T_79b97674_6c7e_11eb_bd0c_d8cb8a5cd364row0_col16,#T_79b97674_6c7e_11eb_bd0c_d8cb8a5cd364row0_col21,#T_79b97674_6c7e_11eb_bd0c_d8cb8a5cd364row9_col39{\n",
       "            background-color:  #f7b194;\n",
       "            color:  #000000;\n",
       "        }#T_79b97674_6c7e_11eb_bd0c_d8cb8a5cd364row0_col17,#T_79b97674_6c7e_11eb_bd0c_d8cb8a5cd364row10_col25{\n",
       "            background-color:  #f4987a;\n",
       "            color:  #000000;\n",
       "        }#T_79b97674_6c7e_11eb_bd0c_d8cb8a5cd364row0_col19,#T_79b97674_6c7e_11eb_bd0c_d8cb8a5cd364row1_col37{\n",
       "            background-color:  #f7b093;\n",
       "            color:  #000000;\n",
       "        }#T_79b97674_6c7e_11eb_bd0c_d8cb8a5cd364row0_col22,#T_79b97674_6c7e_11eb_bd0c_d8cb8a5cd364row13_col0,#T_79b97674_6c7e_11eb_bd0c_d8cb8a5cd364row14_col23{\n",
       "            background-color:  #eed0c0;\n",
       "            color:  #000000;\n",
       "        }#T_79b97674_6c7e_11eb_bd0c_d8cb8a5cd364row0_col23,#T_79b97674_6c7e_11eb_bd0c_d8cb8a5cd364row11_col40{\n",
       "            background-color:  #f5c1a9;\n",
       "            color:  #000000;\n",
       "        }#T_79b97674_6c7e_11eb_bd0c_d8cb8a5cd364row0_col24,#T_79b97674_6c7e_11eb_bd0c_d8cb8a5cd364row7_col16{\n",
       "            background-color:  #536edd;\n",
       "            color:  #000000;\n",
       "        }#T_79b97674_6c7e_11eb_bd0c_d8cb8a5cd364row0_col25,#T_79b97674_6c7e_11eb_bd0c_d8cb8a5cd364row5_col1,#T_79b97674_6c7e_11eb_bd0c_d8cb8a5cd364row6_col21{\n",
       "            background-color:  #6f92f3;\n",
       "            color:  #000000;\n",
       "        }#T_79b97674_6c7e_11eb_bd0c_d8cb8a5cd364row0_col26,#T_79b97674_6c7e_11eb_bd0c_d8cb8a5cd364row0_col32,#T_79b97674_6c7e_11eb_bd0c_d8cb8a5cd364row1_col4,#T_79b97674_6c7e_11eb_bd0c_d8cb8a5cd364row1_col50,#T_79b97674_6c7e_11eb_bd0c_d8cb8a5cd364row9_col3,#T_79b97674_6c7e_11eb_bd0c_d8cb8a5cd364row11_col1{\n",
       "            background-color:  #5673e0;\n",
       "            color:  #000000;\n",
       "        }#T_79b97674_6c7e_11eb_bd0c_d8cb8a5cd364row0_col27,#T_79b97674_6c7e_11eb_bd0c_d8cb8a5cd364row1_col42,#T_79b97674_6c7e_11eb_bd0c_d8cb8a5cd364row2_col14{\n",
       "            background-color:  #6788ee;\n",
       "            color:  #000000;\n",
       "        }#T_79b97674_6c7e_11eb_bd0c_d8cb8a5cd364row0_col28,#T_79b97674_6c7e_11eb_bd0c_d8cb8a5cd364row1_col49,#T_79b97674_6c7e_11eb_bd0c_d8cb8a5cd364row8_col2,#T_79b97674_6c7e_11eb_bd0c_d8cb8a5cd364row9_col16,#T_79b97674_6c7e_11eb_bd0c_d8cb8a5cd364row14_col47{\n",
       "            background-color:  #4f69d9;\n",
       "            color:  #000000;\n",
       "        }#T_79b97674_6c7e_11eb_bd0c_d8cb8a5cd364row0_col29,#T_79b97674_6c7e_11eb_bd0c_d8cb8a5cd364row0_col33,#T_79b97674_6c7e_11eb_bd0c_d8cb8a5cd364row1_col44,#T_79b97674_6c7e_11eb_bd0c_d8cb8a5cd364row5_col17,#T_79b97674_6c7e_11eb_bd0c_d8cb8a5cd364row10_col28,#T_79b97674_6c7e_11eb_bd0c_d8cb8a5cd364row13_col7,#T_79b97674_6c7e_11eb_bd0c_d8cb8a5cd364row13_col37{\n",
       "            background-color:  #7093f3;\n",
       "            color:  #000000;\n",
       "        }#T_79b97674_6c7e_11eb_bd0c_d8cb8a5cd364row0_col31,#T_79b97674_6c7e_11eb_bd0c_d8cb8a5cd364row7_col12,#T_79b97674_6c7e_11eb_bd0c_d8cb8a5cd364row14_col48{\n",
       "            background-color:  #6c8ff1;\n",
       "            color:  #000000;\n",
       "        }#T_79b97674_6c7e_11eb_bd0c_d8cb8a5cd364row0_col34,#T_79b97674_6c7e_11eb_bd0c_d8cb8a5cd364row3_col21{\n",
       "            background-color:  #f3c8b2;\n",
       "            color:  #000000;\n",
       "        }#T_79b97674_6c7e_11eb_bd0c_d8cb8a5cd364row0_col35,#T_79b97674_6c7e_11eb_bd0c_d8cb8a5cd364row0_col42,#T_79b97674_6c7e_11eb_bd0c_d8cb8a5cd364row12_col36,#T_79b97674_6c7e_11eb_bd0c_d8cb8a5cd364row13_col36{\n",
       "            background-color:  #d8dce2;\n",
       "            color:  #000000;\n",
       "        }#T_79b97674_6c7e_11eb_bd0c_d8cb8a5cd364row0_col36,#T_79b97674_6c7e_11eb_bd0c_d8cb8a5cd364row4_col35,#T_79b97674_6c7e_11eb_bd0c_d8cb8a5cd364row13_col42,#T_79b97674_6c7e_11eb_bd0c_d8cb8a5cd364row14_col36{\n",
       "            background-color:  #f1ccb8;\n",
       "            color:  #000000;\n",
       "        }#T_79b97674_6c7e_11eb_bd0c_d8cb8a5cd364row0_col37,#T_79b97674_6c7e_11eb_bd0c_d8cb8a5cd364row2_col50{\n",
       "            background-color:  #edd2c3;\n",
       "            color:  #000000;\n",
       "        }#T_79b97674_6c7e_11eb_bd0c_d8cb8a5cd364row0_col38,#T_79b97674_6c7e_11eb_bd0c_d8cb8a5cd364row3_col23{\n",
       "            background-color:  #cbd8ee;\n",
       "            color:  #000000;\n",
       "        }#T_79b97674_6c7e_11eb_bd0c_d8cb8a5cd364row0_col39,#T_79b97674_6c7e_11eb_bd0c_d8cb8a5cd364row2_col49,#T_79b97674_6c7e_11eb_bd0c_d8cb8a5cd364row13_col29{\n",
       "            background-color:  #a7c5fe;\n",
       "            color:  #000000;\n",
       "        }#T_79b97674_6c7e_11eb_bd0c_d8cb8a5cd364row0_col40,#T_79b97674_6c7e_11eb_bd0c_d8cb8a5cd364row1_col2,#T_79b97674_6c7e_11eb_bd0c_d8cb8a5cd364row14_col9{\n",
       "            background-color:  #98b9ff;\n",
       "            color:  #000000;\n",
       "        }#T_79b97674_6c7e_11eb_bd0c_d8cb8a5cd364row0_col43,#T_79b97674_6c7e_11eb_bd0c_d8cb8a5cd364row7_col23,#T_79b97674_6c7e_11eb_bd0c_d8cb8a5cd364row11_col38,#T_79b97674_6c7e_11eb_bd0c_d8cb8a5cd364row12_col10,#T_79b97674_6c7e_11eb_bd0c_d8cb8a5cd364row13_col33{\n",
       "            background-color:  #b2ccfb;\n",
       "            color:  #000000;\n",
       "        }#T_79b97674_6c7e_11eb_bd0c_d8cb8a5cd364row0_col44,#T_79b97674_6c7e_11eb_bd0c_d8cb8a5cd364row5_col25,#T_79b97674_6c7e_11eb_bd0c_d8cb8a5cd364row9_col48,#T_79b97674_6c7e_11eb_bd0c_d8cb8a5cd364row12_col50{\n",
       "            background-color:  #d1dae9;\n",
       "            color:  #000000;\n",
       "        }#T_79b97674_6c7e_11eb_bd0c_d8cb8a5cd364row0_col45,#T_79b97674_6c7e_11eb_bd0c_d8cb8a5cd364row11_col23,#T_79b97674_6c7e_11eb_bd0c_d8cb8a5cd364row12_col16{\n",
       "            background-color:  #bcd2f7;\n",
       "            color:  #000000;\n",
       "        }#T_79b97674_6c7e_11eb_bd0c_d8cb8a5cd364row0_col46,#T_79b97674_6c7e_11eb_bd0c_d8cb8a5cd364row2_col41,#T_79b97674_6c7e_11eb_bd0c_d8cb8a5cd364row3_col36,#T_79b97674_6c7e_11eb_bd0c_d8cb8a5cd364row7_col19,#T_79b97674_6c7e_11eb_bd0c_d8cb8a5cd364row12_col48{\n",
       "            background-color:  #a6c4fe;\n",
       "            color:  #000000;\n",
       "        }#T_79b97674_6c7e_11eb_bd0c_d8cb8a5cd364row0_col47,#T_79b97674_6c7e_11eb_bd0c_d8cb8a5cd364row3_col34{\n",
       "            background-color:  #8db0fe;\n",
       "            color:  #000000;\n",
       "        }#T_79b97674_6c7e_11eb_bd0c_d8cb8a5cd364row0_col48,#T_79b97674_6c7e_11eb_bd0c_d8cb8a5cd364row10_col13,#T_79b97674_6c7e_11eb_bd0c_d8cb8a5cd364row13_col15{\n",
       "            background-color:  #a9c6fd;\n",
       "            color:  #000000;\n",
       "        }#T_79b97674_6c7e_11eb_bd0c_d8cb8a5cd364row0_col49,#T_79b97674_6c7e_11eb_bd0c_d8cb8a5cd364row12_col7,#T_79b97674_6c7e_11eb_bd0c_d8cb8a5cd364row12_col9{\n",
       "            background-color:  #8fb1fe;\n",
       "            color:  #000000;\n",
       "        }#T_79b97674_6c7e_11eb_bd0c_d8cb8a5cd364row0_col51,#T_79b97674_6c7e_11eb_bd0c_d8cb8a5cd364row1_col15,#T_79b97674_6c7e_11eb_bd0c_d8cb8a5cd364row1_col25,#T_79b97674_6c7e_11eb_bd0c_d8cb8a5cd364row1_col27,#T_79b97674_6c7e_11eb_bd0c_d8cb8a5cd364row1_col29,#T_79b97674_6c7e_11eb_bd0c_d8cb8a5cd364row1_col31,#T_79b97674_6c7e_11eb_bd0c_d8cb8a5cd364row1_col33,#T_79b97674_6c7e_11eb_bd0c_d8cb8a5cd364row1_col46,#T_79b97674_6c7e_11eb_bd0c_d8cb8a5cd364row2_col3,#T_79b97674_6c7e_11eb_bd0c_d8cb8a5cd364row2_col4,#T_79b97674_6c7e_11eb_bd0c_d8cb8a5cd364row2_col6,#T_79b97674_6c7e_11eb_bd0c_d8cb8a5cd364row2_col8,#T_79b97674_6c7e_11eb_bd0c_d8cb8a5cd364row2_col10,#T_79b97674_6c7e_11eb_bd0c_d8cb8a5cd364row2_col13,#T_79b97674_6c7e_11eb_bd0c_d8cb8a5cd364row2_col16,#T_79b97674_6c7e_11eb_bd0c_d8cb8a5cd364row2_col22,#T_79b97674_6c7e_11eb_bd0c_d8cb8a5cd364row2_col23,#T_79b97674_6c7e_11eb_bd0c_d8cb8a5cd364row2_col34,#T_79b97674_6c7e_11eb_bd0c_d8cb8a5cd364row2_col36,#T_79b97674_6c7e_11eb_bd0c_d8cb8a5cd364row2_col38,#T_79b97674_6c7e_11eb_bd0c_d8cb8a5cd364row2_col42,#T_79b97674_6c7e_11eb_bd0c_d8cb8a5cd364row2_col44,#T_79b97674_6c7e_11eb_bd0c_d8cb8a5cd364row2_col48,#T_79b97674_6c7e_11eb_bd0c_d8cb8a5cd364row3_col18,#T_79b97674_6c7e_11eb_bd0c_d8cb8a5cd364row3_col24,#T_79b97674_6c7e_11eb_bd0c_d8cb8a5cd364row3_col26,#T_79b97674_6c7e_11eb_bd0c_d8cb8a5cd364row3_col27,#T_79b97674_6c7e_11eb_bd0c_d8cb8a5cd364row3_col29,#T_79b97674_6c7e_11eb_bd0c_d8cb8a5cd364row3_col35,#T_79b97674_6c7e_11eb_bd0c_d8cb8a5cd364row3_col37,#T_79b97674_6c7e_11eb_bd0c_d8cb8a5cd364row3_col39,#T_79b97674_6c7e_11eb_bd0c_d8cb8a5cd364row3_col41,#T_79b97674_6c7e_11eb_bd0c_d8cb8a5cd364row3_col45,#T_79b97674_6c7e_11eb_bd0c_d8cb8a5cd364row3_col47,#T_79b97674_6c7e_11eb_bd0c_d8cb8a5cd364row3_col49,#T_79b97674_6c7e_11eb_bd0c_d8cb8a5cd364row3_col50,#T_79b97674_6c7e_11eb_bd0c_d8cb8a5cd364row4_col1,#T_79b97674_6c7e_11eb_bd0c_d8cb8a5cd364row5_col20,#T_79b97674_6c7e_11eb_bd0c_d8cb8a5cd364row10_col2,#T_79b97674_6c7e_11eb_bd0c_d8cb8a5cd364row10_col5,#T_79b97674_6c7e_11eb_bd0c_d8cb8a5cd364row10_col7,#T_79b97674_6c7e_11eb_bd0c_d8cb8a5cd364row10_col9,#T_79b97674_6c7e_11eb_bd0c_d8cb8a5cd364row10_col11,#T_79b97674_6c7e_11eb_bd0c_d8cb8a5cd364row10_col19,#T_79b97674_6c7e_11eb_bd0c_d8cb8a5cd364row10_col21,#T_79b97674_6c7e_11eb_bd0c_d8cb8a5cd364row11_col0,#T_79b97674_6c7e_11eb_bd0c_d8cb8a5cd364row13_col14,#T_79b97674_6c7e_11eb_bd0c_d8cb8a5cd364row13_col28,#T_79b97674_6c7e_11eb_bd0c_d8cb8a5cd364row13_col30,#T_79b97674_6c7e_11eb_bd0c_d8cb8a5cd364row13_col32,#T_79b97674_6c7e_11eb_bd0c_d8cb8a5cd364row14_col12,#T_79b97674_6c7e_11eb_bd0c_d8cb8a5cd364row14_col17,#T_79b97674_6c7e_11eb_bd0c_d8cb8a5cd364row14_col40,#T_79b97674_6c7e_11eb_bd0c_d8cb8a5cd364row14_col43{\n",
       "            background-color:  #3b4cc0;\n",
       "            color:  #f1f1f1;\n",
       "        }#T_79b97674_6c7e_11eb_bd0c_d8cb8a5cd364row1_col0,#T_79b97674_6c7e_11eb_bd0c_d8cb8a5cd364row12_col47,#T_79b97674_6c7e_11eb_bd0c_d8cb8a5cd364row13_col45{\n",
       "            background-color:  #e5d8d1;\n",
       "            color:  #000000;\n",
       "        }#T_79b97674_6c7e_11eb_bd0c_d8cb8a5cd364row1_col3,#T_79b97674_6c7e_11eb_bd0c_d8cb8a5cd364row11_col29,#T_79b97674_6c7e_11eb_bd0c_d8cb8a5cd364row11_col42,#T_79b97674_6c7e_11eb_bd0c_d8cb8a5cd364row12_col30,#T_79b97674_6c7e_11eb_bd0c_d8cb8a5cd364row14_col3{\n",
       "            background-color:  #abc8fd;\n",
       "            color:  #000000;\n",
       "        }#T_79b97674_6c7e_11eb_bd0c_d8cb8a5cd364row1_col6,#T_79b97674_6c7e_11eb_bd0c_d8cb8a5cd364row14_col33{\n",
       "            background-color:  #5d7ce6;\n",
       "            color:  #000000;\n",
       "        }#T_79b97674_6c7e_11eb_bd0c_d8cb8a5cd364row1_col7,#T_79b97674_6c7e_11eb_bd0c_d8cb8a5cd364row1_col32,#T_79b97674_6c7e_11eb_bd0c_d8cb8a5cd364row12_col24{\n",
       "            background-color:  #9bbcff;\n",
       "            color:  #000000;\n",
       "        }#T_79b97674_6c7e_11eb_bd0c_d8cb8a5cd364row1_col8{\n",
       "            background-color:  #5f7fe8;\n",
       "            color:  #000000;\n",
       "        }#T_79b97674_6c7e_11eb_bd0c_d8cb8a5cd364row1_col9{\n",
       "            background-color:  #9dbdff;\n",
       "            color:  #000000;\n",
       "        }#T_79b97674_6c7e_11eb_bd0c_d8cb8a5cd364row1_col10,#T_79b97674_6c7e_11eb_bd0c_d8cb8a5cd364row2_col11,#T_79b97674_6c7e_11eb_bd0c_d8cb8a5cd364row13_col6{\n",
       "            background-color:  #7da0f9;\n",
       "            color:  #000000;\n",
       "        }#T_79b97674_6c7e_11eb_bd0c_d8cb8a5cd364row1_col11,#T_79b97674_6c7e_11eb_bd0c_d8cb8a5cd364row1_col16,#T_79b97674_6c7e_11eb_bd0c_d8cb8a5cd364row3_col6,#T_79b97674_6c7e_11eb_bd0c_d8cb8a5cd364row12_col5,#T_79b97674_6c7e_11eb_bd0c_d8cb8a5cd364row14_col46{\n",
       "            background-color:  #89acfd;\n",
       "            color:  #000000;\n",
       "        }#T_79b97674_6c7e_11eb_bd0c_d8cb8a5cd364row1_col12,#T_79b97674_6c7e_11eb_bd0c_d8cb8a5cd364row2_col30,#T_79b97674_6c7e_11eb_bd0c_d8cb8a5cd364row5_col44,#T_79b97674_6c7e_11eb_bd0c_d8cb8a5cd364row6_col7,#T_79b97674_6c7e_11eb_bd0c_d8cb8a5cd364row8_col10{\n",
       "            background-color:  #e4d9d2;\n",
       "            color:  #000000;\n",
       "        }#T_79b97674_6c7e_11eb_bd0c_d8cb8a5cd364row1_col13,#T_79b97674_6c7e_11eb_bd0c_d8cb8a5cd364row7_col29,#T_79b97674_6c7e_11eb_bd0c_d8cb8a5cd364row11_col44{\n",
       "            background-color:  #c5d6f2;\n",
       "            color:  #000000;\n",
       "        }#T_79b97674_6c7e_11eb_bd0c_d8cb8a5cd364row1_col14,#T_79b97674_6c7e_11eb_bd0c_d8cb8a5cd364row11_col21,#T_79b97674_6c7e_11eb_bd0c_d8cb8a5cd364row14_col11,#T_79b97674_6c7e_11eb_bd0c_d8cb8a5cd364row14_col38{\n",
       "            background-color:  #93b5fe;\n",
       "            color:  #000000;\n",
       "        }#T_79b97674_6c7e_11eb_bd0c_d8cb8a5cd364row1_col18,#T_79b97674_6c7e_11eb_bd0c_d8cb8a5cd364row2_col24,#T_79b97674_6c7e_11eb_bd0c_d8cb8a5cd364row2_col25,#T_79b97674_6c7e_11eb_bd0c_d8cb8a5cd364row7_col22,#T_79b97674_6c7e_11eb_bd0c_d8cb8a5cd364row10_col49{\n",
       "            background-color:  #dcdddd;\n",
       "            color:  #000000;\n",
       "        }#T_79b97674_6c7e_11eb_bd0c_d8cb8a5cd364row1_col19,#T_79b97674_6c7e_11eb_bd0c_d8cb8a5cd364row12_col13,#T_79b97674_6c7e_11eb_bd0c_d8cb8a5cd364row13_col22,#T_79b97674_6c7e_11eb_bd0c_d8cb8a5cd364row13_col44{\n",
       "            background-color:  #f4c5ad;\n",
       "            color:  #000000;\n",
       "        }#T_79b97674_6c7e_11eb_bd0c_d8cb8a5cd364row1_col20,#T_79b97674_6c7e_11eb_bd0c_d8cb8a5cd364row2_col33,#T_79b97674_6c7e_11eb_bd0c_d8cb8a5cd364row10_col34,#T_79b97674_6c7e_11eb_bd0c_d8cb8a5cd364row12_col41{\n",
       "            background-color:  #ead5c9;\n",
       "            color:  #000000;\n",
       "        }#T_79b97674_6c7e_11eb_bd0c_d8cb8a5cd364row1_col21,#T_79b97674_6c7e_11eb_bd0c_d8cb8a5cd364row4_col37{\n",
       "            background-color:  #f7bca1;\n",
       "            color:  #000000;\n",
       "        }#T_79b97674_6c7e_11eb_bd0c_d8cb8a5cd364row1_col22,#T_79b97674_6c7e_11eb_bd0c_d8cb8a5cd364row1_col40,#T_79b97674_6c7e_11eb_bd0c_d8cb8a5cd364row2_col37,#T_79b97674_6c7e_11eb_bd0c_d8cb8a5cd364row13_col49{\n",
       "            background-color:  #9fbfff;\n",
       "            color:  #000000;\n",
       "        }#T_79b97674_6c7e_11eb_bd0c_d8cb8a5cd364row1_col23,#T_79b97674_6c7e_11eb_bd0c_d8cb8a5cd364row6_col19,#T_79b97674_6c7e_11eb_bd0c_d8cb8a5cd364row8_col19{\n",
       "            background-color:  #7b9ff9;\n",
       "            color:  #000000;\n",
       "        }#T_79b97674_6c7e_11eb_bd0c_d8cb8a5cd364row1_col24,#T_79b97674_6c7e_11eb_bd0c_d8cb8a5cd364row14_col6,#T_79b97674_6c7e_11eb_bd0c_d8cb8a5cd364row14_col28{\n",
       "            background-color:  #7ea1fa;\n",
       "            color:  #000000;\n",
       "        }#T_79b97674_6c7e_11eb_bd0c_d8cb8a5cd364row1_col28{\n",
       "            background-color:  #90b2fe;\n",
       "            color:  #000000;\n",
       "        }#T_79b97674_6c7e_11eb_bd0c_d8cb8a5cd364row1_col30,#T_79b97674_6c7e_11eb_bd0c_d8cb8a5cd364row11_col6,#T_79b97674_6c7e_11eb_bd0c_d8cb8a5cd364row11_col25,#T_79b97674_6c7e_11eb_bd0c_d8cb8a5cd364row11_col33{\n",
       "            background-color:  #b7cff9;\n",
       "            color:  #000000;\n",
       "        }#T_79b97674_6c7e_11eb_bd0c_d8cb8a5cd364row1_col34,#T_79b97674_6c7e_11eb_bd0c_d8cb8a5cd364row6_col12,#T_79b97674_6c7e_11eb_bd0c_d8cb8a5cd364row12_col32,#T_79b97674_6c7e_11eb_bd0c_d8cb8a5cd364row12_col46,#T_79b97674_6c7e_11eb_bd0c_d8cb8a5cd364row13_col27{\n",
       "            background-color:  #a1c0ff;\n",
       "            color:  #000000;\n",
       "        }#T_79b97674_6c7e_11eb_bd0c_d8cb8a5cd364row1_col35,#T_79b97674_6c7e_11eb_bd0c_d8cb8a5cd364row10_col46{\n",
       "            background-color:  #f7b99e;\n",
       "            color:  #000000;\n",
       "        }#T_79b97674_6c7e_11eb_bd0c_d8cb8a5cd364row1_col36,#T_79b97674_6c7e_11eb_bd0c_d8cb8a5cd364row5_col15,#T_79b97674_6c7e_11eb_bd0c_d8cb8a5cd364row9_col6,#T_79b97674_6c7e_11eb_bd0c_d8cb8a5cd364row9_col22,#T_79b97674_6c7e_11eb_bd0c_d8cb8a5cd364row12_col42{\n",
       "            background-color:  #dadce0;\n",
       "            color:  #000000;\n",
       "        }#T_79b97674_6c7e_11eb_bd0c_d8cb8a5cd364row1_col38,#T_79b97674_6c7e_11eb_bd0c_d8cb8a5cd364row5_col3{\n",
       "            background-color:  #5a78e4;\n",
       "            color:  #000000;\n",
       "        }#T_79b97674_6c7e_11eb_bd0c_d8cb8a5cd364row1_col39,#T_79b97674_6c7e_11eb_bd0c_d8cb8a5cd364row2_col20{\n",
       "            background-color:  #85a8fc;\n",
       "            color:  #000000;\n",
       "        }#T_79b97674_6c7e_11eb_bd0c_d8cb8a5cd364row1_col41,#T_79b97674_6c7e_11eb_bd0c_d8cb8a5cd364row3_col30,#T_79b97674_6c7e_11eb_bd0c_d8cb8a5cd364row4_col12,#T_79b97674_6c7e_11eb_bd0c_d8cb8a5cd364row8_col12,#T_79b97674_6c7e_11eb_bd0c_d8cb8a5cd364row13_col50{\n",
       "            background-color:  #9abbff;\n",
       "            color:  #000000;\n",
       "        }#T_79b97674_6c7e_11eb_bd0c_d8cb8a5cd364row1_col43,#T_79b97674_6c7e_11eb_bd0c_d8cb8a5cd364row2_col12,#T_79b97674_6c7e_11eb_bd0c_d8cb8a5cd364row10_col35,#T_79b97674_6c7e_11eb_bd0c_d8cb8a5cd364row11_col18{\n",
       "            background-color:  #5572df;\n",
       "            color:  #000000;\n",
       "        }#T_79b97674_6c7e_11eb_bd0c_d8cb8a5cd364row1_col45,#T_79b97674_6c7e_11eb_bd0c_d8cb8a5cd364row4_col20,#T_79b97674_6c7e_11eb_bd0c_d8cb8a5cd364row13_col41{\n",
       "            background-color:  #4e68d8;\n",
       "            color:  #000000;\n",
       "        }#T_79b97674_6c7e_11eb_bd0c_d8cb8a5cd364row1_col47{\n",
       "            background-color:  #4c66d6;\n",
       "            color:  #000000;\n",
       "        }#T_79b97674_6c7e_11eb_bd0c_d8cb8a5cd364row1_col48,#T_79b97674_6c7e_11eb_bd0c_d8cb8a5cd364row11_col3{\n",
       "            background-color:  #4257c9;\n",
       "            color:  #f1f1f1;\n",
       "        }#T_79b97674_6c7e_11eb_bd0c_d8cb8a5cd364row1_col51,#T_79b97674_6c7e_11eb_bd0c_d8cb8a5cd364row3_col25,#T_79b97674_6c7e_11eb_bd0c_d8cb8a5cd364row8_col1{\n",
       "            background-color:  #3e51c5;\n",
       "            color:  #f1f1f1;\n",
       "        }#T_79b97674_6c7e_11eb_bd0c_d8cb8a5cd364row2_col1,#T_79b97674_6c7e_11eb_bd0c_d8cb8a5cd364row4_col21,#T_79b97674_6c7e_11eb_bd0c_d8cb8a5cd364row6_col0,#T_79b97674_6c7e_11eb_bd0c_d8cb8a5cd364row10_col37{\n",
       "            background-color:  #6485ec;\n",
       "            color:  #000000;\n",
       "        }#T_79b97674_6c7e_11eb_bd0c_d8cb8a5cd364row2_col15,#T_79b97674_6c7e_11eb_bd0c_d8cb8a5cd364row9_col23{\n",
       "            background-color:  #b3cdfb;\n",
       "            color:  #000000;\n",
       "        }#T_79b97674_6c7e_11eb_bd0c_d8cb8a5cd364row2_col18,#T_79b97674_6c7e_11eb_bd0c_d8cb8a5cd364row3_col46,#T_79b97674_6c7e_11eb_bd0c_d8cb8a5cd364row5_col2,#T_79b97674_6c7e_11eb_bd0c_d8cb8a5cd364row6_col13,#T_79b97674_6c7e_11eb_bd0c_d8cb8a5cd364row7_col2,#T_79b97674_6c7e_11eb_bd0c_d8cb8a5cd364row7_col14,#T_79b97674_6c7e_11eb_bd0c_d8cb8a5cd364row9_col14,#T_79b97674_6c7e_11eb_bd0c_d8cb8a5cd364row11_col2,#T_79b97674_6c7e_11eb_bd0c_d8cb8a5cd364row14_col8{\n",
       "            background-color:  #81a4fb;\n",
       "            color:  #000000;\n",
       "        }#T_79b97674_6c7e_11eb_bd0c_d8cb8a5cd364row2_col19,#T_79b97674_6c7e_11eb_bd0c_d8cb8a5cd364row5_col10,#T_79b97674_6c7e_11eb_bd0c_d8cb8a5cd364row8_col20,#T_79b97674_6c7e_11eb_bd0c_d8cb8a5cd364row10_col1,#T_79b97674_6c7e_11eb_bd0c_d8cb8a5cd364row12_col14,#T_79b97674_6c7e_11eb_bd0c_d8cb8a5cd364row14_col13{\n",
       "            background-color:  #465ecf;\n",
       "            color:  #f1f1f1;\n",
       "        }#T_79b97674_6c7e_11eb_bd0c_d8cb8a5cd364row2_col21,#T_79b97674_6c7e_11eb_bd0c_d8cb8a5cd364row14_col31{\n",
       "            background-color:  #5e7de7;\n",
       "            color:  #000000;\n",
       "        }#T_79b97674_6c7e_11eb_bd0c_d8cb8a5cd364row2_col26{\n",
       "            background-color:  #f4c6af;\n",
       "            color:  #000000;\n",
       "        }#T_79b97674_6c7e_11eb_bd0c_d8cb8a5cd364row2_col27,#T_79b97674_6c7e_11eb_bd0c_d8cb8a5cd364row5_col8,#T_79b97674_6c7e_11eb_bd0c_d8cb8a5cd364row6_col5,#T_79b97674_6c7e_11eb_bd0c_d8cb8a5cd364row13_col20,#T_79b97674_6c7e_11eb_bd0c_d8cb8a5cd364row13_col48,#T_79b97674_6c7e_11eb_bd0c_d8cb8a5cd364row14_col18{\n",
       "            background-color:  #dddcdc;\n",
       "            color:  #000000;\n",
       "        }#T_79b97674_6c7e_11eb_bd0c_d8cb8a5cd364row2_col28{\n",
       "            background-color:  #f2cab5;\n",
       "            color:  #000000;\n",
       "        }#T_79b97674_6c7e_11eb_bd0c_d8cb8a5cd364row2_col29,#T_79b97674_6c7e_11eb_bd0c_d8cb8a5cd364row7_col15,#T_79b97674_6c7e_11eb_bd0c_d8cb8a5cd364row12_col18{\n",
       "            background-color:  #e0dbd8;\n",
       "            color:  #000000;\n",
       "        }#T_79b97674_6c7e_11eb_bd0c_d8cb8a5cd364row2_col31,#T_79b97674_6c7e_11eb_bd0c_d8cb8a5cd364row5_col38,#T_79b97674_6c7e_11eb_bd0c_d8cb8a5cd364row10_col8,#T_79b97674_6c7e_11eb_bd0c_d8cb8a5cd364row10_col36{\n",
       "            background-color:  #dbdcde;\n",
       "            color:  #000000;\n",
       "        }#T_79b97674_6c7e_11eb_bd0c_d8cb8a5cd364row2_col32,#T_79b97674_6c7e_11eb_bd0c_d8cb8a5cd364row5_col27,#T_79b97674_6c7e_11eb_bd0c_d8cb8a5cd364row10_col4,#T_79b97674_6c7e_11eb_bd0c_d8cb8a5cd364row11_col43{\n",
       "            background-color:  #d5dbe5;\n",
       "            color:  #000000;\n",
       "        }#T_79b97674_6c7e_11eb_bd0c_d8cb8a5cd364row2_col39,#T_79b97674_6c7e_11eb_bd0c_d8cb8a5cd364row3_col14,#T_79b97674_6c7e_11eb_bd0c_d8cb8a5cd364row5_col23,#T_79b97674_6c7e_11eb_bd0c_d8cb8a5cd364row13_col10{\n",
       "            background-color:  #b9d0f9;\n",
       "            color:  #000000;\n",
       "        }#T_79b97674_6c7e_11eb_bd0c_d8cb8a5cd364row2_col40,#T_79b97674_6c7e_11eb_bd0c_d8cb8a5cd364row8_col0,#T_79b97674_6c7e_11eb_bd0c_d8cb8a5cd364row14_col29{\n",
       "            background-color:  #6384eb;\n",
       "            color:  #000000;\n",
       "        }#T_79b97674_6c7e_11eb_bd0c_d8cb8a5cd364row2_col43,#T_79b97674_6c7e_11eb_bd0c_d8cb8a5cd364row3_col44,#T_79b97674_6c7e_11eb_bd0c_d8cb8a5cd364row12_col8{\n",
       "            background-color:  #afcafc;\n",
       "            color:  #000000;\n",
       "        }#T_79b97674_6c7e_11eb_bd0c_d8cb8a5cd364row2_col45,#T_79b97674_6c7e_11eb_bd0c_d8cb8a5cd364row12_col29{\n",
       "            background-color:  #b6cefa;\n",
       "            color:  #000000;\n",
       "        }#T_79b97674_6c7e_11eb_bd0c_d8cb8a5cd364row2_col46,#T_79b97674_6c7e_11eb_bd0c_d8cb8a5cd364row5_col18,#T_79b97674_6c7e_11eb_bd0c_d8cb8a5cd364row11_col10,#T_79b97674_6c7e_11eb_bd0c_d8cb8a5cd364row11_col16{\n",
       "            background-color:  #3d50c3;\n",
       "            color:  #f1f1f1;\n",
       "        }#T_79b97674_6c7e_11eb_bd0c_d8cb8a5cd364row2_col47,#T_79b97674_6c7e_11eb_bd0c_d8cb8a5cd364row3_col10,#T_79b97674_6c7e_11eb_bd0c_d8cb8a5cd364row8_col17,#T_79b97674_6c7e_11eb_bd0c_d8cb8a5cd364row9_col19,#T_79b97674_6c7e_11eb_bd0c_d8cb8a5cd364row13_col31{\n",
       "            background-color:  #a3c2fe;\n",
       "            color:  #000000;\n",
       "        }#T_79b97674_6c7e_11eb_bd0c_d8cb8a5cd364row3_col0,#T_79b97674_6c7e_11eb_bd0c_d8cb8a5cd364row4_col17,#T_79b97674_6c7e_11eb_bd0c_d8cb8a5cd364row12_col40{\n",
       "            background-color:  #a5c3fe;\n",
       "            color:  #000000;\n",
       "        }#T_79b97674_6c7e_11eb_bd0c_d8cb8a5cd364row3_col1,#T_79b97674_6c7e_11eb_bd0c_d8cb8a5cd364row5_col19,#T_79b97674_6c7e_11eb_bd0c_d8cb8a5cd364row6_col17,#T_79b97674_6c7e_11eb_bd0c_d8cb8a5cd364row11_col46,#T_79b97674_6c7e_11eb_bd0c_d8cb8a5cd364row12_col4{\n",
       "            background-color:  #aac7fd;\n",
       "            color:  #000000;\n",
       "        }#T_79b97674_6c7e_11eb_bd0c_d8cb8a5cd364row3_col2,#T_79b97674_6c7e_11eb_bd0c_d8cb8a5cd364row13_col5{\n",
       "            background-color:  #6e90f2;\n",
       "            color:  #000000;\n",
       "        }#T_79b97674_6c7e_11eb_bd0c_d8cb8a5cd364row3_col5,#T_79b97674_6c7e_11eb_bd0c_d8cb8a5cd364row3_col7,#T_79b97674_6c7e_11eb_bd0c_d8cb8a5cd364row3_col9,#T_79b97674_6c7e_11eb_bd0c_d8cb8a5cd364row4_col13,#T_79b97674_6c7e_11eb_bd0c_d8cb8a5cd364row9_col2,#T_79b97674_6c7e_11eb_bd0c_d8cb8a5cd364row14_col1,#T_79b97674_6c7e_11eb_bd0c_d8cb8a5cd364row14_col4{\n",
       "            background-color:  #80a3fa;\n",
       "            color:  #000000;\n",
       "        }#T_79b97674_6c7e_11eb_bd0c_d8cb8a5cd364row3_col8,#T_79b97674_6c7e_11eb_bd0c_d8cb8a5cd364row11_col19,#T_79b97674_6c7e_11eb_bd0c_d8cb8a5cd364row12_col15,#T_79b97674_6c7e_11eb_bd0c_d8cb8a5cd364row14_col44{\n",
       "            background-color:  #86a9fc;\n",
       "            color:  #000000;\n",
       "        }#T_79b97674_6c7e_11eb_bd0c_d8cb8a5cd364row3_col11,#T_79b97674_6c7e_11eb_bd0c_d8cb8a5cd364row4_col19,#T_79b97674_6c7e_11eb_bd0c_d8cb8a5cd364row6_col3,#T_79b97674_6c7e_11eb_bd0c_d8cb8a5cd364row7_col1,#T_79b97674_6c7e_11eb_bd0c_d8cb8a5cd364row9_col1,#T_79b97674_6c7e_11eb_bd0c_d8cb8a5cd364row13_col9,#T_79b97674_6c7e_11eb_bd0c_d8cb8a5cd364row13_col19{\n",
       "            background-color:  #7295f4;\n",
       "            color:  #000000;\n",
       "        }#T_79b97674_6c7e_11eb_bd0c_d8cb8a5cd364row3_col12,#T_79b97674_6c7e_11eb_bd0c_d8cb8a5cd364row3_col17,#T_79b97674_6c7e_11eb_bd0c_d8cb8a5cd364row14_col30{\n",
       "            background-color:  #a2c1ff;\n",
       "            color:  #000000;\n",
       "        }#T_79b97674_6c7e_11eb_bd0c_d8cb8a5cd364row3_col13,#T_79b97674_6c7e_11eb_bd0c_d8cb8a5cd364row8_col3,#T_79b97674_6c7e_11eb_bd0c_d8cb8a5cd364row11_col17,#T_79b97674_6c7e_11eb_bd0c_d8cb8a5cd364row12_col51{\n",
       "            background-color:  #688aef;\n",
       "            color:  #000000;\n",
       "        }#T_79b97674_6c7e_11eb_bd0c_d8cb8a5cd364row3_col15,#T_79b97674_6c7e_11eb_bd0c_d8cb8a5cd364row6_col41{\n",
       "            background-color:  #e9785d;\n",
       "            color:  #000000;\n",
       "        }#T_79b97674_6c7e_11eb_bd0c_d8cb8a5cd364row3_col16,#T_79b97674_6c7e_11eb_bd0c_d8cb8a5cd364row13_col1{\n",
       "            background-color:  #aec9fc;\n",
       "            color:  #000000;\n",
       "        }#T_79b97674_6c7e_11eb_bd0c_d8cb8a5cd364row3_col19,#T_79b97674_6c7e_11eb_bd0c_d8cb8a5cd364row10_col44{\n",
       "            background-color:  #f7b89c;\n",
       "            color:  #000000;\n",
       "        }#T_79b97674_6c7e_11eb_bd0c_d8cb8a5cd364row3_col20,#T_79b97674_6c7e_11eb_bd0c_d8cb8a5cd364row13_col3{\n",
       "            background-color:  #4a63d3;\n",
       "            color:  #f1f1f1;\n",
       "        }#T_79b97674_6c7e_11eb_bd0c_d8cb8a5cd364row3_col22,#T_79b97674_6c7e_11eb_bd0c_d8cb8a5cd364row9_col44,#T_79b97674_6c7e_11eb_bd0c_d8cb8a5cd364row12_col23{\n",
       "            background-color:  #dfdbd9;\n",
       "            color:  #000000;\n",
       "        }#T_79b97674_6c7e_11eb_bd0c_d8cb8a5cd364row3_col28,#T_79b97674_6c7e_11eb_bd0c_d8cb8a5cd364row5_col16,#T_79b97674_6c7e_11eb_bd0c_d8cb8a5cd364row11_col12{\n",
       "            background-color:  #5977e3;\n",
       "            color:  #000000;\n",
       "        }#T_79b97674_6c7e_11eb_bd0c_d8cb8a5cd364row3_col31{\n",
       "            background-color:  #3f53c6;\n",
       "            color:  #f1f1f1;\n",
       "        }#T_79b97674_6c7e_11eb_bd0c_d8cb8a5cd364row3_col33{\n",
       "            background-color:  #455cce;\n",
       "            color:  #f1f1f1;\n",
       "        }#T_79b97674_6c7e_11eb_bd0c_d8cb8a5cd364row3_col42,#T_79b97674_6c7e_11eb_bd0c_d8cb8a5cd364row6_col11,#T_79b97674_6c7e_11eb_bd0c_d8cb8a5cd364row14_col51{\n",
       "            background-color:  #c6d6f1;\n",
       "            color:  #000000;\n",
       "        }#T_79b97674_6c7e_11eb_bd0c_d8cb8a5cd364row3_col43,#T_79b97674_6c7e_11eb_bd0c_d8cb8a5cd364row6_col1,#T_79b97674_6c7e_11eb_bd0c_d8cb8a5cd364row7_col18,#T_79b97674_6c7e_11eb_bd0c_d8cb8a5cd364row9_col18,#T_79b97674_6c7e_11eb_bd0c_d8cb8a5cd364row13_col51{\n",
       "            background-color:  #4055c8;\n",
       "            color:  #f1f1f1;\n",
       "        }#T_79b97674_6c7e_11eb_bd0c_d8cb8a5cd364row3_col51,#T_79b97674_6c7e_11eb_bd0c_d8cb8a5cd364row4_col2,#T_79b97674_6c7e_11eb_bd0c_d8cb8a5cd364row6_col2,#T_79b97674_6c7e_11eb_bd0c_d8cb8a5cd364row10_col14,#T_79b97674_6c7e_11eb_bd0c_d8cb8a5cd364row13_col26{\n",
       "            background-color:  #5470de;\n",
       "            color:  #000000;\n",
       "        }#T_79b97674_6c7e_11eb_bd0c_d8cb8a5cd364row4_col0,#T_79b97674_6c7e_11eb_bd0c_d8cb8a5cd364row13_col21{\n",
       "            background-color:  #6180e9;\n",
       "            color:  #000000;\n",
       "        }#T_79b97674_6c7e_11eb_bd0c_d8cb8a5cd364row4_col3,#T_79b97674_6c7e_11eb_bd0c_d8cb8a5cd364row8_col21,#T_79b97674_6c7e_11eb_bd0c_d8cb8a5cd364row9_col12,#T_79b97674_6c7e_11eb_bd0c_d8cb8a5cd364row14_col45{\n",
       "            background-color:  #6b8df0;\n",
       "            color:  #000000;\n",
       "        }#T_79b97674_6c7e_11eb_bd0c_d8cb8a5cd364row4_col5,#T_79b97674_6c7e_11eb_bd0c_d8cb8a5cd364row8_col9,#T_79b97674_6c7e_11eb_bd0c_d8cb8a5cd364row8_col35,#T_79b97674_6c7e_11eb_bd0c_d8cb8a5cd364row10_col40,#T_79b97674_6c7e_11eb_bd0c_d8cb8a5cd364row10_col43,#T_79b97674_6c7e_11eb_bd0c_d8cb8a5cd364row11_col39,#T_79b97674_6c7e_11eb_bd0c_d8cb8a5cd364row11_col49{\n",
       "            background-color:  #e3d9d3;\n",
       "            color:  #000000;\n",
       "        }#T_79b97674_6c7e_11eb_bd0c_d8cb8a5cd364row4_col6,#T_79b97674_6c7e_11eb_bd0c_d8cb8a5cd364row6_col4,#T_79b97674_6c7e_11eb_bd0c_d8cb8a5cd364row6_col22,#T_79b97674_6c7e_11eb_bd0c_d8cb8a5cd364row6_col26,#T_79b97674_6c7e_11eb_bd0c_d8cb8a5cd364row7_col9,#T_79b97674_6c7e_11eb_bd0c_d8cb8a5cd364row9_col7{\n",
       "            background-color:  #bd1f2d;\n",
       "            color:  #f1f1f1;\n",
       "        }#T_79b97674_6c7e_11eb_bd0c_d8cb8a5cd364row4_col8,#T_79b97674_6c7e_11eb_bd0c_d8cb8a5cd364row5_col9,#T_79b97674_6c7e_11eb_bd0c_d8cb8a5cd364row6_col38,#T_79b97674_6c7e_11eb_bd0c_d8cb8a5cd364row6_col46,#T_79b97674_6c7e_11eb_bd0c_d8cb8a5cd364row7_col26,#T_79b97674_6c7e_11eb_bd0c_d8cb8a5cd364row8_col4,#T_79b97674_6c7e_11eb_bd0c_d8cb8a5cd364row9_col5,#T_79b97674_6c7e_11eb_bd0c_d8cb8a5cd364row9_col35{\n",
       "            background-color:  #c0282f;\n",
       "            color:  #f1f1f1;\n",
       "        }#T_79b97674_6c7e_11eb_bd0c_d8cb8a5cd364row4_col9,#T_79b97674_6c7e_11eb_bd0c_d8cb8a5cd364row8_col7,#T_79b97674_6c7e_11eb_bd0c_d8cb8a5cd364row12_col49{\n",
       "            background-color:  #e6d7cf;\n",
       "            color:  #000000;\n",
       "        }#T_79b97674_6c7e_11eb_bd0c_d8cb8a5cd364row4_col10,#T_79b97674_6c7e_11eb_bd0c_d8cb8a5cd364row6_col10,#T_79b97674_6c7e_11eb_bd0c_d8cb8a5cd364row7_col8,#T_79b97674_6c7e_11eb_bd0c_d8cb8a5cd364row7_col44,#T_79b97674_6c7e_11eb_bd0c_d8cb8a5cd364row8_col5,#T_79b97674_6c7e_11eb_bd0c_d8cb8a5cd364row12_col1{\n",
       "            background-color:  #e1dad6;\n",
       "            color:  #000000;\n",
       "        }#T_79b97674_6c7e_11eb_bd0c_d8cb8a5cd364row4_col11,#T_79b97674_6c7e_11eb_bd0c_d8cb8a5cd364row7_col33,#T_79b97674_6c7e_11eb_bd0c_d8cb8a5cd364row9_col33,#T_79b97674_6c7e_11eb_bd0c_d8cb8a5cd364row13_col43{\n",
       "            background-color:  #ccd9ed;\n",
       "            color:  #000000;\n",
       "        }#T_79b97674_6c7e_11eb_bd0c_d8cb8a5cd364row4_col16,#T_79b97674_6c7e_11eb_bd0c_d8cb8a5cd364row5_col29,#T_79b97674_6c7e_11eb_bd0c_d8cb8a5cd364row5_col33,#T_79b97674_6c7e_11eb_bd0c_d8cb8a5cd364row12_col33{\n",
       "            background-color:  #c0d4f5;\n",
       "            color:  #000000;\n",
       "        }#T_79b97674_6c7e_11eb_bd0c_d8cb8a5cd364row4_col18,#T_79b97674_6c7e_11eb_bd0c_d8cb8a5cd364row10_col26,#T_79b97674_6c7e_11eb_bd0c_d8cb8a5cd364row13_col16{\n",
       "            background-color:  #94b6ff;\n",
       "            color:  #000000;\n",
       "        }#T_79b97674_6c7e_11eb_bd0c_d8cb8a5cd364row4_col22,#T_79b97674_6c7e_11eb_bd0c_d8cb8a5cd364row4_col48,#T_79b97674_6c7e_11eb_bd0c_d8cb8a5cd364row8_col25,#T_79b97674_6c7e_11eb_bd0c_d8cb8a5cd364row8_col26,#T_79b97674_6c7e_11eb_bd0c_d8cb8a5cd364row8_col30,#T_79b97674_6c7e_11eb_bd0c_d8cb8a5cd364row9_col24{\n",
       "            background-color:  #ca3b37;\n",
       "            color:  #f1f1f1;\n",
       "        }#T_79b97674_6c7e_11eb_bd0c_d8cb8a5cd364row4_col23,#T_79b97674_6c7e_11eb_bd0c_d8cb8a5cd364row6_col51,#T_79b97674_6c7e_11eb_bd0c_d8cb8a5cd364row10_col15{\n",
       "            background-color:  #e36b54;\n",
       "            color:  #000000;\n",
       "        }#T_79b97674_6c7e_11eb_bd0c_d8cb8a5cd364row4_col28,#T_79b97674_6c7e_11eb_bd0c_d8cb8a5cd364row4_col44,#T_79b97674_6c7e_11eb_bd0c_d8cb8a5cd364row6_col44,#T_79b97674_6c7e_11eb_bd0c_d8cb8a5cd364row8_col27,#T_79b97674_6c7e_11eb_bd0c_d8cb8a5cd364row8_col31{\n",
       "            background-color:  #cb3e38;\n",
       "            color:  #f1f1f1;\n",
       "        }#T_79b97674_6c7e_11eb_bd0c_d8cb8a5cd364row4_col30,#T_79b97674_6c7e_11eb_bd0c_d8cb8a5cd364row8_col49{\n",
       "            background-color:  #c32e31;\n",
       "            color:  #f1f1f1;\n",
       "        }#T_79b97674_6c7e_11eb_bd0c_d8cb8a5cd364row4_col32,#T_79b97674_6c7e_11eb_bd0c_d8cb8a5cd364row6_col40,#T_79b97674_6c7e_11eb_bd0c_d8cb8a5cd364row6_col48,#T_79b97674_6c7e_11eb_bd0c_d8cb8a5cd364row8_col29,#T_79b97674_6c7e_11eb_bd0c_d8cb8a5cd364row8_col33{\n",
       "            background-color:  #cc403a;\n",
       "            color:  #f1f1f1;\n",
       "        }#T_79b97674_6c7e_11eb_bd0c_d8cb8a5cd364row4_col34,#T_79b97674_6c7e_11eb_bd0c_d8cb8a5cd364row5_col35,#T_79b97674_6c7e_11eb_bd0c_d8cb8a5cd364row5_col37,#T_79b97674_6c7e_11eb_bd0c_d8cb8a5cd364row5_col51,#T_79b97674_6c7e_11eb_bd0c_d8cb8a5cd364row6_col24{\n",
       "            background-color:  #ba162b;\n",
       "            color:  #f1f1f1;\n",
       "        }#T_79b97674_6c7e_11eb_bd0c_d8cb8a5cd364row4_col36{\n",
       "            background-color:  #c73635;\n",
       "            color:  #f1f1f1;\n",
       "        }#T_79b97674_6c7e_11eb_bd0c_d8cb8a5cd364row4_col38,#T_79b97674_6c7e_11eb_bd0c_d8cb8a5cd364row5_col28,#T_79b97674_6c7e_11eb_bd0c_d8cb8a5cd364row8_col45{\n",
       "            background-color:  #b8122a;\n",
       "            color:  #f1f1f1;\n",
       "        }#T_79b97674_6c7e_11eb_bd0c_d8cb8a5cd364row4_col39,#T_79b97674_6c7e_11eb_bd0c_d8cb8a5cd364row4_col43,#T_79b97674_6c7e_11eb_bd0c_d8cb8a5cd364row5_col30{\n",
       "            background-color:  #b70d28;\n",
       "            color:  #f1f1f1;\n",
       "        }#T_79b97674_6c7e_11eb_bd0c_d8cb8a5cd364row4_col40,#T_79b97674_6c7e_11eb_bd0c_d8cb8a5cd364row6_col8,#T_79b97674_6c7e_11eb_bd0c_d8cb8a5cd364row6_col27,#T_79b97674_6c7e_11eb_bd0c_d8cb8a5cd364row6_col29,#T_79b97674_6c7e_11eb_bd0c_d8cb8a5cd364row6_col31,#T_79b97674_6c7e_11eb_bd0c_d8cb8a5cd364row6_col45,#T_79b97674_6c7e_11eb_bd0c_d8cb8a5cd364row8_col6,#T_79b97674_6c7e_11eb_bd0c_d8cb8a5cd364row8_col39,#T_79b97674_6c7e_11eb_bd0c_d8cb8a5cd364row9_col51{\n",
       "            background-color:  #be242e;\n",
       "            color:  #f1f1f1;\n",
       "        }#T_79b97674_6c7e_11eb_bd0c_d8cb8a5cd364row4_col41{\n",
       "            background-color:  #e67259;\n",
       "            color:  #000000;\n",
       "        }#T_79b97674_6c7e_11eb_bd0c_d8cb8a5cd364row4_col42,#T_79b97674_6c7e_11eb_bd0c_d8cb8a5cd364row4_col46,#T_79b97674_6c7e_11eb_bd0c_d8cb8a5cd364row7_col24,#T_79b97674_6c7e_11eb_bd0c_d8cb8a5cd364row9_col37{\n",
       "            background-color:  #c12b30;\n",
       "            color:  #f1f1f1;\n",
       "        }#T_79b97674_6c7e_11eb_bd0c_d8cb8a5cd364row4_col49,#T_79b97674_6c7e_11eb_bd0c_d8cb8a5cd364row5_col32{\n",
       "            background-color:  #b50927;\n",
       "            color:  #f1f1f1;\n",
       "        }#T_79b97674_6c7e_11eb_bd0c_d8cb8a5cd364row4_col51,#T_79b97674_6c7e_11eb_bd0c_d8cb8a5cd364row11_col30{\n",
       "            background-color:  #d75445;\n",
       "            color:  #000000;\n",
       "        }#T_79b97674_6c7e_11eb_bd0c_d8cb8a5cd364row5_col0,#T_79b97674_6c7e_11eb_bd0c_d8cb8a5cd364row7_col0,#T_79b97674_6c7e_11eb_bd0c_d8cb8a5cd364row7_col10{\n",
       "            background-color:  #445acc;\n",
       "            color:  #f1f1f1;\n",
       "        }#T_79b97674_6c7e_11eb_bd0c_d8cb8a5cd364row5_col4,#T_79b97674_6c7e_11eb_bd0c_d8cb8a5cd364row5_col22,#T_79b97674_6c7e_11eb_bd0c_d8cb8a5cd364row7_col6,#T_79b97674_6c7e_11eb_bd0c_d8cb8a5cd364row9_col4,#T_79b97674_6c7e_11eb_bd0c_d8cb8a5cd364row9_col8{\n",
       "            background-color:  #dedcdb;\n",
       "            color:  #000000;\n",
       "        }#T_79b97674_6c7e_11eb_bd0c_d8cb8a5cd364row5_col6,#T_79b97674_6c7e_11eb_bd0c_d8cb8a5cd364row7_col27{\n",
       "            background-color:  #d7dce3;\n",
       "            color:  #000000;\n",
       "        }#T_79b97674_6c7e_11eb_bd0c_d8cb8a5cd364row5_col7,#T_79b97674_6c7e_11eb_bd0c_d8cb8a5cd364row5_col41,#T_79b97674_6c7e_11eb_bd0c_d8cb8a5cd364row6_col25,#T_79b97674_6c7e_11eb_bd0c_d8cb8a5cd364row6_col33,#T_79b97674_6c7e_11eb_bd0c_d8cb8a5cd364row7_col5,#T_79b97674_6c7e_11eb_bd0c_d8cb8a5cd364row8_col43,#T_79b97674_6c7e_11eb_bd0c_d8cb8a5cd364row9_col28,#T_79b97674_6c7e_11eb_bd0c_d8cb8a5cd364row9_col30,#T_79b97674_6c7e_11eb_bd0c_d8cb8a5cd364row9_col32{\n",
       "            background-color:  #bb1b2c;\n",
       "            color:  #f1f1f1;\n",
       "        }#T_79b97674_6c7e_11eb_bd0c_d8cb8a5cd364row5_col11,#T_79b97674_6c7e_11eb_bd0c_d8cb8a5cd364row7_col11,#T_79b97674_6c7e_11eb_bd0c_d8cb8a5cd364row9_col11{\n",
       "            background-color:  #ec8165;\n",
       "            color:  #000000;\n",
       "        }#T_79b97674_6c7e_11eb_bd0c_d8cb8a5cd364row5_col12,#T_79b97674_6c7e_11eb_bd0c_d8cb8a5cd364row10_col32{\n",
       "            background-color:  #6a8bef;\n",
       "            color:  #000000;\n",
       "        }#T_79b97674_6c7e_11eb_bd0c_d8cb8a5cd364row5_col13,#T_79b97674_6c7e_11eb_bd0c_d8cb8a5cd364row7_col13,#T_79b97674_6c7e_11eb_bd0c_d8cb8a5cd364row9_col13,#T_79b97674_6c7e_11eb_bd0c_d8cb8a5cd364row14_col25{\n",
       "            background-color:  #6687ed;\n",
       "            color:  #000000;\n",
       "        }#T_79b97674_6c7e_11eb_bd0c_d8cb8a5cd364row5_col24,#T_79b97674_6c7e_11eb_bd0c_d8cb8a5cd364row6_col42,#T_79b97674_6c7e_11eb_bd0c_d8cb8a5cd364row8_col47,#T_79b97674_6c7e_11eb_bd0c_d8cb8a5cd364row9_col41{\n",
       "            background-color:  #c53334;\n",
       "            color:  #f1f1f1;\n",
       "        }#T_79b97674_6c7e_11eb_bd0c_d8cb8a5cd364row5_col26,#T_79b97674_6c7e_11eb_bd0c_d8cb8a5cd364row8_col24,#T_79b97674_6c7e_11eb_bd0c_d8cb8a5cd364row8_col50{\n",
       "            background-color:  #c43032;\n",
       "            color:  #f1f1f1;\n",
       "        }#T_79b97674_6c7e_11eb_bd0c_d8cb8a5cd364row5_col31,#T_79b97674_6c7e_11eb_bd0c_d8cb8a5cd364row5_col46,#T_79b97674_6c7e_11eb_bd0c_d8cb8a5cd364row8_col11,#T_79b97674_6c7e_11eb_bd0c_d8cb8a5cd364row11_col15{\n",
       "            background-color:  #cad8ef;\n",
       "            color:  #000000;\n",
       "        }#T_79b97674_6c7e_11eb_bd0c_d8cb8a5cd364row5_col34,#T_79b97674_6c7e_11eb_bd0c_d8cb8a5cd364row14_col15{\n",
       "            background-color:  #ec7f63;\n",
       "            color:  #000000;\n",
       "        }#T_79b97674_6c7e_11eb_bd0c_d8cb8a5cd364row5_col36,#T_79b97674_6c7e_11eb_bd0c_d8cb8a5cd364row6_col36,#T_79b97674_6c7e_11eb_bd0c_d8cb8a5cd364row11_col28{\n",
       "            background-color:  #d65244;\n",
       "            color:  #000000;\n",
       "        }#T_79b97674_6c7e_11eb_bd0c_d8cb8a5cd364row5_col39,#T_79b97674_6c7e_11eb_bd0c_d8cb8a5cd364row11_col41{\n",
       "            background-color:  #f7ad90;\n",
       "            color:  #000000;\n",
       "        }#T_79b97674_6c7e_11eb_bd0c_d8cb8a5cd364row5_col40,#T_79b97674_6c7e_11eb_bd0c_d8cb8a5cd364row11_col35{\n",
       "            background-color:  #e97a5f;\n",
       "            color:  #000000;\n",
       "        }#T_79b97674_6c7e_11eb_bd0c_d8cb8a5cd364row5_col42,#T_79b97674_6c7e_11eb_bd0c_d8cb8a5cd364row7_col31,#T_79b97674_6c7e_11eb_bd0c_d8cb8a5cd364row14_col42{\n",
       "            background-color:  #cedaeb;\n",
       "            color:  #000000;\n",
       "        }#T_79b97674_6c7e_11eb_bd0c_d8cb8a5cd364row5_col43,#T_79b97674_6c7e_11eb_bd0c_d8cb8a5cd364row9_col43{\n",
       "            background-color:  #f5c4ac;\n",
       "            color:  #000000;\n",
       "        }#T_79b97674_6c7e_11eb_bd0c_d8cb8a5cd364row5_col45,#T_79b97674_6c7e_11eb_bd0c_d8cb8a5cd364row9_col45,#T_79b97674_6c7e_11eb_bd0c_d8cb8a5cd364row10_col38{\n",
       "            background-color:  #f5c0a7;\n",
       "            color:  #000000;\n",
       "        }#T_79b97674_6c7e_11eb_bd0c_d8cb8a5cd364row5_col47,#T_79b97674_6c7e_11eb_bd0c_d8cb8a5cd364row7_col49,#T_79b97674_6c7e_11eb_bd0c_d8cb8a5cd364row9_col47{\n",
       "            background-color:  #f59f80;\n",
       "            color:  #000000;\n",
       "        }#T_79b97674_6c7e_11eb_bd0c_d8cb8a5cd364row5_col48,#T_79b97674_6c7e_11eb_bd0c_d8cb8a5cd364row10_col18,#T_79b97674_6c7e_11eb_bd0c_d8cb8a5cd364row10_col47{\n",
       "            background-color:  #d9dce1;\n",
       "            color:  #000000;\n",
       "        }#T_79b97674_6c7e_11eb_bd0c_d8cb8a5cd364row5_col49,#T_79b97674_6c7e_11eb_bd0c_d8cb8a5cd364row10_col27,#T_79b97674_6c7e_11eb_bd0c_d8cb8a5cd364row11_col34,#T_79b97674_6c7e_11eb_bd0c_d8cb8a5cd364row13_col18{\n",
       "            background-color:  #f7a889;\n",
       "            color:  #000000;\n",
       "        }#T_79b97674_6c7e_11eb_bd0c_d8cb8a5cd364row5_col50,#T_79b97674_6c7e_11eb_bd0c_d8cb8a5cd364row7_col40,#T_79b97674_6c7e_11eb_bd0c_d8cb8a5cd364row11_col5{\n",
       "            background-color:  #ee8468;\n",
       "            color:  #000000;\n",
       "        }#T_79b97674_6c7e_11eb_bd0c_d8cb8a5cd364row6_col9,#T_79b97674_6c7e_11eb_bd0c_d8cb8a5cd364row7_col4,#T_79b97674_6c7e_11eb_bd0c_d8cb8a5cd364row9_col15,#T_79b97674_6c7e_11eb_bd0c_d8cb8a5cd364row13_col34{\n",
       "            background-color:  #e2dad5;\n",
       "            color:  #000000;\n",
       "        }#T_79b97674_6c7e_11eb_bd0c_d8cb8a5cd364row6_col15,#T_79b97674_6c7e_11eb_bd0c_d8cb8a5cd364row11_col32{\n",
       "            background-color:  #d1493f;\n",
       "            color:  #f1f1f1;\n",
       "        }#T_79b97674_6c7e_11eb_bd0c_d8cb8a5cd364row6_col16,#T_79b97674_6c7e_11eb_bd0c_d8cb8a5cd364row12_col37{\n",
       "            background-color:  #bad0f8;\n",
       "            color:  #000000;\n",
       "        }#T_79b97674_6c7e_11eb_bd0c_d8cb8a5cd364row6_col20,#T_79b97674_6c7e_11eb_bd0c_d8cb8a5cd364row11_col20{\n",
       "            background-color:  #4b64d5;\n",
       "            color:  #f1f1f1;\n",
       "        }#T_79b97674_6c7e_11eb_bd0c_d8cb8a5cd364row6_col23{\n",
       "            background-color:  #e36c55;\n",
       "            color:  #000000;\n",
       "        }#T_79b97674_6c7e_11eb_bd0c_d8cb8a5cd364row6_col28,#T_79b97674_6c7e_11eb_bd0c_d8cb8a5cd364row6_col32,#T_79b97674_6c7e_11eb_bd0c_d8cb8a5cd364row6_col34,#T_79b97674_6c7e_11eb_bd0c_d8cb8a5cd364row8_col15{\n",
       "            background-color:  #d24b40;\n",
       "            color:  #f1f1f1;\n",
       "        }#T_79b97674_6c7e_11eb_bd0c_d8cb8a5cd364row6_col30,#T_79b97674_6c7e_11eb_bd0c_d8cb8a5cd364row9_col26{\n",
       "            background-color:  #c83836;\n",
       "            color:  #f1f1f1;\n",
       "        }#T_79b97674_6c7e_11eb_bd0c_d8cb8a5cd364row6_col35{\n",
       "            background-color:  #e7d7ce;\n",
       "            color:  #000000;\n",
       "        }#T_79b97674_6c7e_11eb_bd0c_d8cb8a5cd364row6_col37{\n",
       "            background-color:  #f2c9b4;\n",
       "            color:  #000000;\n",
       "        }#T_79b97674_6c7e_11eb_bd0c_d8cb8a5cd364row7_col3,#T_79b97674_6c7e_11eb_bd0c_d8cb8a5cd364row14_col27{\n",
       "            background-color:  #5875e1;\n",
       "            color:  #000000;\n",
       "        }#T_79b97674_6c7e_11eb_bd0c_d8cb8a5cd364row7_col20,#T_79b97674_6c7e_11eb_bd0c_d8cb8a5cd364row9_col20,#T_79b97674_6c7e_11eb_bd0c_d8cb8a5cd364row14_col50{\n",
       "            background-color:  #3c4ec2;\n",
       "            color:  #f1f1f1;\n",
       "        }#T_79b97674_6c7e_11eb_bd0c_d8cb8a5cd364row7_col25,#T_79b97674_6c7e_11eb_bd0c_d8cb8a5cd364row7_col38{\n",
       "            background-color:  #d4dbe6;\n",
       "            color:  #000000;\n",
       "        }#T_79b97674_6c7e_11eb_bd0c_d8cb8a5cd364row7_col34,#T_79b97674_6c7e_11eb_bd0c_d8cb8a5cd364row11_col36{\n",
       "            background-color:  #f08a6c;\n",
       "            color:  #000000;\n",
       "        }#T_79b97674_6c7e_11eb_bd0c_d8cb8a5cd364row7_col36,#T_79b97674_6c7e_11eb_bd0c_d8cb8a5cd364row13_col23{\n",
       "            background-color:  #da5a49;\n",
       "            color:  #000000;\n",
       "        }#T_79b97674_6c7e_11eb_bd0c_d8cb8a5cd364row7_col39{\n",
       "            background-color:  #f7a98b;\n",
       "            color:  #000000;\n",
       "        }#T_79b97674_6c7e_11eb_bd0c_d8cb8a5cd364row7_col42{\n",
       "            background-color:  #c9d7f0;\n",
       "            color:  #000000;\n",
       "        }#T_79b97674_6c7e_11eb_bd0c_d8cb8a5cd364row7_col43{\n",
       "            background-color:  #f6bda2;\n",
       "            color:  #000000;\n",
       "        }#T_79b97674_6c7e_11eb_bd0c_d8cb8a5cd364row7_col45{\n",
       "            background-color:  #f7ba9f;\n",
       "            color:  #000000;\n",
       "        }#T_79b97674_6c7e_11eb_bd0c_d8cb8a5cd364row7_col46,#T_79b97674_6c7e_11eb_bd0c_d8cb8a5cd364row9_col29{\n",
       "            background-color:  #c4d5f3;\n",
       "            color:  #000000;\n",
       "        }#T_79b97674_6c7e_11eb_bd0c_d8cb8a5cd364row7_col47{\n",
       "            background-color:  #f39475;\n",
       "            color:  #000000;\n",
       "        }#T_79b97674_6c7e_11eb_bd0c_d8cb8a5cd364row7_col48,#T_79b97674_6c7e_11eb_bd0c_d8cb8a5cd364row10_col50,#T_79b97674_6c7e_11eb_bd0c_d8cb8a5cd364row12_col38{\n",
       "            background-color:  #d3dbe7;\n",
       "            color:  #000000;\n",
       "        }#T_79b97674_6c7e_11eb_bd0c_d8cb8a5cd364row7_col50{\n",
       "            background-color:  #ee8669;\n",
       "            color:  #000000;\n",
       "        }#T_79b97674_6c7e_11eb_bd0c_d8cb8a5cd364row8_col16,#T_79b97674_6c7e_11eb_bd0c_d8cb8a5cd364row11_col8,#T_79b97674_6c7e_11eb_bd0c_d8cb8a5cd364row13_col39{\n",
       "            background-color:  #bfd3f6;\n",
       "            color:  #000000;\n",
       "        }#T_79b97674_6c7e_11eb_bd0c_d8cb8a5cd364row8_col23,#T_79b97674_6c7e_11eb_bd0c_d8cb8a5cd364row8_col32{\n",
       "            background-color:  #cd423b;\n",
       "            color:  #f1f1f1;\n",
       "        }#T_79b97674_6c7e_11eb_bd0c_d8cb8a5cd364row8_col28{\n",
       "            background-color:  #dc5d4a;\n",
       "            color:  #000000;\n",
       "        }#T_79b97674_6c7e_11eb_bd0c_d8cb8a5cd364row8_col37{\n",
       "            background-color:  #efcebd;\n",
       "            color:  #000000;\n",
       "        }#T_79b97674_6c7e_11eb_bd0c_d8cb8a5cd364row8_col41{\n",
       "            background-color:  #f59c7d;\n",
       "            color:  #000000;\n",
       "        }#T_79b97674_6c7e_11eb_bd0c_d8cb8a5cd364row8_col51,#T_79b97674_6c7e_11eb_bd0c_d8cb8a5cd364row14_col37{\n",
       "            background-color:  #e26952;\n",
       "            color:  #000000;\n",
       "        }#T_79b97674_6c7e_11eb_bd0c_d8cb8a5cd364row9_col0,#T_79b97674_6c7e_11eb_bd0c_d8cb8a5cd364row9_col10,#T_79b97674_6c7e_11eb_bd0c_d8cb8a5cd364row13_col24{\n",
       "            background-color:  #4358cb;\n",
       "            color:  #f1f1f1;\n",
       "        }#T_79b97674_6c7e_11eb_bd0c_d8cb8a5cd364row9_col17,#T_79b97674_6c7e_11eb_bd0c_d8cb8a5cd364row14_col24{\n",
       "            background-color:  #7396f5;\n",
       "            color:  #000000;\n",
       "        }#T_79b97674_6c7e_11eb_bd0c_d8cb8a5cd364row9_col25,#T_79b97674_6c7e_11eb_bd0c_d8cb8a5cd364row9_col38,#T_79b97674_6c7e_11eb_bd0c_d8cb8a5cd364row13_col38{\n",
       "            background-color:  #d2dbe8;\n",
       "            color:  #000000;\n",
       "        }#T_79b97674_6c7e_11eb_bd0c_d8cb8a5cd364row9_col27,#T_79b97674_6c7e_11eb_bd0c_d8cb8a5cd364row10_col6,#T_79b97674_6c7e_11eb_bd0c_d8cb8a5cd364row12_col44,#T_79b97674_6c7e_11eb_bd0c_d8cb8a5cd364row13_col46{\n",
       "            background-color:  #d6dce4;\n",
       "            color:  #000000;\n",
       "        }#T_79b97674_6c7e_11eb_bd0c_d8cb8a5cd364row9_col31,#T_79b97674_6c7e_11eb_bd0c_d8cb8a5cd364row12_col45{\n",
       "            background-color:  #cdd9ec;\n",
       "            color:  #000000;\n",
       "        }#T_79b97674_6c7e_11eb_bd0c_d8cb8a5cd364row9_col34,#T_79b97674_6c7e_11eb_bd0c_d8cb8a5cd364row10_col42{\n",
       "            background-color:  #f29072;\n",
       "            color:  #000000;\n",
       "        }#T_79b97674_6c7e_11eb_bd0c_d8cb8a5cd364row9_col36{\n",
       "            background-color:  #e0654f;\n",
       "            color:  #000000;\n",
       "        }#T_79b97674_6c7e_11eb_bd0c_d8cb8a5cd364row9_col40{\n",
       "            background-color:  #f18d6f;\n",
       "            color:  #000000;\n",
       "        }#T_79b97674_6c7e_11eb_bd0c_d8cb8a5cd364row9_col46,#T_79b97674_6c7e_11eb_bd0c_d8cb8a5cd364row12_col34{\n",
       "            background-color:  #c3d5f4;\n",
       "            color:  #000000;\n",
       "        }#T_79b97674_6c7e_11eb_bd0c_d8cb8a5cd364row9_col49,#T_79b97674_6c7e_11eb_bd0c_d8cb8a5cd364row10_col45{\n",
       "            background-color:  #f7aa8c;\n",
       "            color:  #000000;\n",
       "        }#T_79b97674_6c7e_11eb_bd0c_d8cb8a5cd364row9_col50,#T_79b97674_6c7e_11eb_bd0c_d8cb8a5cd364row14_col35{\n",
       "            background-color:  #f18f71;\n",
       "            color:  #000000;\n",
       "        }#T_79b97674_6c7e_11eb_bd0c_d8cb8a5cd364row10_col0,#T_79b97674_6c7e_11eb_bd0c_d8cb8a5cd364row10_col24,#T_79b97674_6c7e_11eb_bd0c_d8cb8a5cd364row10_col51,#T_79b97674_6c7e_11eb_bd0c_d8cb8a5cd364row13_col4{\n",
       "            background-color:  #7a9df8;\n",
       "            color:  #000000;\n",
       "        }#T_79b97674_6c7e_11eb_bd0c_d8cb8a5cd364row10_col3,#T_79b97674_6c7e_11eb_bd0c_d8cb8a5cd364row14_col10{\n",
       "            background-color:  #7699f6;\n",
       "            color:  #000000;\n",
       "        }#T_79b97674_6c7e_11eb_bd0c_d8cb8a5cd364row10_col12{\n",
       "            background-color:  #8badfd;\n",
       "            color:  #000000;\n",
       "        }#T_79b97674_6c7e_11eb_bd0c_d8cb8a5cd364row10_col16,#T_79b97674_6c7e_11eb_bd0c_d8cb8a5cd364row12_col21,#T_79b97674_6c7e_11eb_bd0c_d8cb8a5cd364row12_col28{\n",
       "            background-color:  #97b8ff;\n",
       "            color:  #000000;\n",
       "        }#T_79b97674_6c7e_11eb_bd0c_d8cb8a5cd364row10_col20,#T_79b97674_6c7e_11eb_bd0c_d8cb8a5cd364row12_col2,#T_79b97674_6c7e_11eb_bd0c_d8cb8a5cd364row12_col11{\n",
       "            background-color:  #82a6fb;\n",
       "            color:  #000000;\n",
       "        }#T_79b97674_6c7e_11eb_bd0c_d8cb8a5cd364row10_col22{\n",
       "            background-color:  #f7af91;\n",
       "            color:  #000000;\n",
       "        }#T_79b97674_6c7e_11eb_bd0c_d8cb8a5cd364row10_col29,#T_79b97674_6c7e_11eb_bd0c_d8cb8a5cd364row10_col33{\n",
       "            background-color:  #f08b6e;\n",
       "            color:  #000000;\n",
       "        }#T_79b97674_6c7e_11eb_bd0c_d8cb8a5cd364row10_col31{\n",
       "            background-color:  #f39778;\n",
       "            color:  #000000;\n",
       "        }#T_79b97674_6c7e_11eb_bd0c_d8cb8a5cd364row10_col39{\n",
       "            background-color:  #e9d5cb;\n",
       "            color:  #000000;\n",
       "        }#T_79b97674_6c7e_11eb_bd0c_d8cb8a5cd364row10_col48{\n",
       "            background-color:  #f6bea4;\n",
       "            color:  #000000;\n",
       "        }#T_79b97674_6c7e_11eb_bd0c_d8cb8a5cd364row11_col4{\n",
       "            background-color:  #bed2f6;\n",
       "            color:  #000000;\n",
       "        }#T_79b97674_6c7e_11eb_bd0c_d8cb8a5cd364row11_col7,#T_79b97674_6c7e_11eb_bd0c_d8cb8a5cd364row11_col9,#T_79b97674_6c7e_11eb_bd0c_d8cb8a5cd364row11_col37{\n",
       "            background-color:  #ed8366;\n",
       "            color:  #000000;\n",
       "        }#T_79b97674_6c7e_11eb_bd0c_d8cb8a5cd364row11_col13,#T_79b97674_6c7e_11eb_bd0c_d8cb8a5cd364row13_col35{\n",
       "            background-color:  #6282ea;\n",
       "            color:  #000000;\n",
       "        }#T_79b97674_6c7e_11eb_bd0c_d8cb8a5cd364row11_col22,#T_79b97674_6c7e_11eb_bd0c_d8cb8a5cd364row11_col48{\n",
       "            background-color:  #c1d4f4;\n",
       "            color:  #000000;\n",
       "        }#T_79b97674_6c7e_11eb_bd0c_d8cb8a5cd364row11_col24{\n",
       "            background-color:  #e7745b;\n",
       "            color:  #000000;\n",
       "        }#T_79b97674_6c7e_11eb_bd0c_d8cb8a5cd364row11_col26{\n",
       "            background-color:  #e16751;\n",
       "            color:  #000000;\n",
       "        }#T_79b97674_6c7e_11eb_bd0c_d8cb8a5cd364row11_col27,#T_79b97674_6c7e_11eb_bd0c_d8cb8a5cd364row12_col35,#T_79b97674_6c7e_11eb_bd0c_d8cb8a5cd364row14_col22{\n",
       "            background-color:  #bbd1f8;\n",
       "            color:  #000000;\n",
       "        }#T_79b97674_6c7e_11eb_bd0c_d8cb8a5cd364row11_col31,#T_79b97674_6c7e_11eb_bd0c_d8cb8a5cd364row12_col27,#T_79b97674_6c7e_11eb_bd0c_d8cb8a5cd364row12_col31,#T_79b97674_6c7e_11eb_bd0c_d8cb8a5cd364row14_col0{\n",
       "            background-color:  #b5cdfa;\n",
       "            color:  #000000;\n",
       "        }#T_79b97674_6c7e_11eb_bd0c_d8cb8a5cd364row11_col45,#T_79b97674_6c7e_11eb_bd0c_d8cb8a5cd364row12_col39{\n",
       "            background-color:  #f3c7b1;\n",
       "            color:  #000000;\n",
       "        }#T_79b97674_6c7e_11eb_bd0c_d8cb8a5cd364row11_col47{\n",
       "            background-color:  #ead4c8;\n",
       "            color:  #000000;\n",
       "        }#T_79b97674_6c7e_11eb_bd0c_d8cb8a5cd364row11_col50{\n",
       "            background-color:  #f2cbb7;\n",
       "            color:  #000000;\n",
       "        }#T_79b97674_6c7e_11eb_bd0c_d8cb8a5cd364row11_col51{\n",
       "            background-color:  #e46e56;\n",
       "            color:  #000000;\n",
       "        }#T_79b97674_6c7e_11eb_bd0c_d8cb8a5cd364row12_col0{\n",
       "            background-color:  #ecd3c5;\n",
       "            color:  #000000;\n",
       "        }#T_79b97674_6c7e_11eb_bd0c_d8cb8a5cd364row12_col3,#T_79b97674_6c7e_11eb_bd0c_d8cb8a5cd364row13_col25,#T_79b97674_6c7e_11eb_bd0c_d8cb8a5cd364row13_col47{\n",
       "            background-color:  #9ebeff;\n",
       "            color:  #000000;\n",
       "        }#T_79b97674_6c7e_11eb_bd0c_d8cb8a5cd364row12_col22{\n",
       "            background-color:  #f7a688;\n",
       "            color:  #000000;\n",
       "        }#T_79b97674_6c7e_11eb_bd0c_d8cb8a5cd364row12_col43{\n",
       "            background-color:  #f1cdba;\n",
       "            color:  #000000;\n",
       "        }#T_79b97674_6c7e_11eb_bd0c_d8cb8a5cd364row13_col2,#T_79b97674_6c7e_11eb_bd0c_d8cb8a5cd364row14_col39{\n",
       "            background-color:  #506bda;\n",
       "            color:  #000000;\n",
       "        }#T_79b97674_6c7e_11eb_bd0c_d8cb8a5cd364row13_col17{\n",
       "            background-color:  #df634e;\n",
       "            color:  #000000;\n",
       "        }#T_79b97674_6c7e_11eb_bd0c_d8cb8a5cd364row14_col20{\n",
       "            background-color:  #f6a586;\n",
       "            color:  #000000;\n",
       "        }#T_79b97674_6c7e_11eb_bd0c_d8cb8a5cd364row14_col34{\n",
       "            background-color:  #ef886b;\n",
       "            color:  #000000;\n",
       "        }#T_79b97674_6c7e_11eb_bd0c_d8cb8a5cd364row14_col49{\n",
       "            background-color:  #4961d2;\n",
       "            color:  #f1f1f1;\n",
       "        }</style><table id=\"T_79b97674_6c7e_11eb_bd0c_d8cb8a5cd364\" ><thead>    <tr>        <th class=\"blank level0\" ></th>        <th class=\"col_heading level0 col0\" >primary_cleaner.input.sulfate</th>        <th class=\"col_heading level0 col1\" >primary_cleaner.input.depressant</th>        <th class=\"col_heading level0 col2\" >primary_cleaner.input.feed_size</th>        <th class=\"col_heading level0 col3\" >primary_cleaner.input.xanthate</th>        <th class=\"col_heading level0 col4\" >primary_cleaner.state.floatbank8_a_air</th>        <th class=\"col_heading level0 col5\" >primary_cleaner.state.floatbank8_a_level</th>        <th class=\"col_heading level0 col6\" >primary_cleaner.state.floatbank8_b_air</th>        <th class=\"col_heading level0 col7\" >primary_cleaner.state.floatbank8_b_level</th>        <th class=\"col_heading level0 col8\" >primary_cleaner.state.floatbank8_c_air</th>        <th class=\"col_heading level0 col9\" >primary_cleaner.state.floatbank8_c_level</th>        <th class=\"col_heading level0 col10\" >primary_cleaner.state.floatbank8_d_air</th>        <th class=\"col_heading level0 col11\" >primary_cleaner.state.floatbank8_d_level</th>        <th class=\"col_heading level0 col12\" >rougher.input.feed_ag</th>        <th class=\"col_heading level0 col13\" >rougher.input.feed_pb</th>        <th class=\"col_heading level0 col14\" >rougher.input.feed_rate</th>        <th class=\"col_heading level0 col15\" >rougher.input.feed_size</th>        <th class=\"col_heading level0 col16\" >rougher.input.feed_sol</th>        <th class=\"col_heading level0 col17\" >rougher.input.feed_au</th>        <th class=\"col_heading level0 col18\" >rougher.input.floatbank10_sulfate</th>        <th class=\"col_heading level0 col19\" >rougher.input.floatbank10_xanthate</th>        <th class=\"col_heading level0 col20\" >rougher.input.floatbank11_sulfate</th>        <th class=\"col_heading level0 col21\" >rougher.input.floatbank11_xanthate</th>        <th class=\"col_heading level0 col22\" >rougher.state.floatbank10_a_air</th>        <th class=\"col_heading level0 col23\" >rougher.state.floatbank10_a_level</th>        <th class=\"col_heading level0 col24\" >rougher.state.floatbank10_b_air</th>        <th class=\"col_heading level0 col25\" >rougher.state.floatbank10_b_level</th>        <th class=\"col_heading level0 col26\" >rougher.state.floatbank10_c_air</th>        <th class=\"col_heading level0 col27\" >rougher.state.floatbank10_c_level</th>        <th class=\"col_heading level0 col28\" >rougher.state.floatbank10_d_air</th>        <th class=\"col_heading level0 col29\" >rougher.state.floatbank10_d_level</th>        <th class=\"col_heading level0 col30\" >rougher.state.floatbank10_e_air</th>        <th class=\"col_heading level0 col31\" >rougher.state.floatbank10_e_level</th>        <th class=\"col_heading level0 col32\" >rougher.state.floatbank10_f_air</th>        <th class=\"col_heading level0 col33\" >rougher.state.floatbank10_f_level</th>        <th class=\"col_heading level0 col34\" >secondary_cleaner.state.floatbank2_a_air</th>        <th class=\"col_heading level0 col35\" >secondary_cleaner.state.floatbank2_a_level</th>        <th class=\"col_heading level0 col36\" >secondary_cleaner.state.floatbank2_b_air</th>        <th class=\"col_heading level0 col37\" >secondary_cleaner.state.floatbank2_b_level</th>        <th class=\"col_heading level0 col38\" >secondary_cleaner.state.floatbank3_a_air</th>        <th class=\"col_heading level0 col39\" >secondary_cleaner.state.floatbank3_a_level</th>        <th class=\"col_heading level0 col40\" >secondary_cleaner.state.floatbank3_b_air</th>        <th class=\"col_heading level0 col41\" >secondary_cleaner.state.floatbank3_b_level</th>        <th class=\"col_heading level0 col42\" >secondary_cleaner.state.floatbank4_a_air</th>        <th class=\"col_heading level0 col43\" >secondary_cleaner.state.floatbank4_a_level</th>        <th class=\"col_heading level0 col44\" >secondary_cleaner.state.floatbank4_b_air</th>        <th class=\"col_heading level0 col45\" >secondary_cleaner.state.floatbank4_b_level</th>        <th class=\"col_heading level0 col46\" >secondary_cleaner.state.floatbank5_a_air</th>        <th class=\"col_heading level0 col47\" >secondary_cleaner.state.floatbank5_a_level</th>        <th class=\"col_heading level0 col48\" >secondary_cleaner.state.floatbank5_b_air</th>        <th class=\"col_heading level0 col49\" >secondary_cleaner.state.floatbank5_b_level</th>        <th class=\"col_heading level0 col50\" >secondary_cleaner.state.floatbank6_a_air</th>        <th class=\"col_heading level0 col51\" >secondary_cleaner.state.floatbank6_a_level</th>    </tr></thead><tbody>\n",
       "                <tr>\n",
       "                        <th id=\"T_79b97674_6c7e_11eb_bd0c_d8cb8a5cd364level0_row0\" class=\"row_heading level0 row0\" >primary_cleaner.input.sulfate</th>\n",
       "                        <td id=\"T_79b97674_6c7e_11eb_bd0c_d8cb8a5cd364row0_col0\" class=\"data row0 col0\" >1.000000</td>\n",
       "                        <td id=\"T_79b97674_6c7e_11eb_bd0c_d8cb8a5cd364row0_col1\" class=\"data row0 col1\" >0.548407</td>\n",
       "                        <td id=\"T_79b97674_6c7e_11eb_bd0c_d8cb8a5cd364row0_col2\" class=\"data row0 col2\" >0.134133</td>\n",
       "                        <td id=\"T_79b97674_6c7e_11eb_bd0c_d8cb8a5cd364row0_col3\" class=\"data row0 col3\" >0.338903</td>\n",
       "                        <td id=\"T_79b97674_6c7e_11eb_bd0c_d8cb8a5cd364row0_col4\" class=\"data row0 col4\" >0.150567</td>\n",
       "                        <td id=\"T_79b97674_6c7e_11eb_bd0c_d8cb8a5cd364row0_col5\" class=\"data row0 col5\" >0.062565</td>\n",
       "                        <td id=\"T_79b97674_6c7e_11eb_bd0c_d8cb8a5cd364row0_col6\" class=\"data row0 col6\" >0.161893</td>\n",
       "                        <td id=\"T_79b97674_6c7e_11eb_bd0c_d8cb8a5cd364row0_col7\" class=\"data row0 col7\" >0.062722</td>\n",
       "                        <td id=\"T_79b97674_6c7e_11eb_bd0c_d8cb8a5cd364row0_col8\" class=\"data row0 col8\" >0.160093</td>\n",
       "                        <td id=\"T_79b97674_6c7e_11eb_bd0c_d8cb8a5cd364row0_col9\" class=\"data row0 col9\" >0.060387</td>\n",
       "                        <td id=\"T_79b97674_6c7e_11eb_bd0c_d8cb8a5cd364row0_col10\" class=\"data row0 col10\" >0.224181</td>\n",
       "                        <td id=\"T_79b97674_6c7e_11eb_bd0c_d8cb8a5cd364row0_col11\" class=\"data row0 col11\" >0.031790</td>\n",
       "                        <td id=\"T_79b97674_6c7e_11eb_bd0c_d8cb8a5cd364row0_col12\" class=\"data row0 col12\" >0.579803</td>\n",
       "                        <td id=\"T_79b97674_6c7e_11eb_bd0c_d8cb8a5cd364row0_col13\" class=\"data row0 col13\" >0.590872</td>\n",
       "                        <td id=\"T_79b97674_6c7e_11eb_bd0c_d8cb8a5cd364row0_col14\" class=\"data row0 col14\" >0.384161</td>\n",
       "                        <td id=\"T_79b97674_6c7e_11eb_bd0c_d8cb8a5cd364row0_col15\" class=\"data row0 col15\" >-0.107747</td>\n",
       "                        <td id=\"T_79b97674_6c7e_11eb_bd0c_d8cb8a5cd364row0_col16\" class=\"data row0 col16\" >0.458063</td>\n",
       "                        <td id=\"T_79b97674_6c7e_11eb_bd0c_d8cb8a5cd364row0_col17\" class=\"data row0 col17\" >0.634079</td>\n",
       "                        <td id=\"T_79b97674_6c7e_11eb_bd0c_d8cb8a5cd364row0_col18\" class=\"data row0 col18\" >0.473189</td>\n",
       "                        <td id=\"T_79b97674_6c7e_11eb_bd0c_d8cb8a5cd364row0_col19\" class=\"data row0 col19\" >0.406164</td>\n",
       "                        <td id=\"T_79b97674_6c7e_11eb_bd0c_d8cb8a5cd364row0_col20\" class=\"data row0 col20\" >0.553391</td>\n",
       "                        <td id=\"T_79b97674_6c7e_11eb_bd0c_d8cb8a5cd364row0_col21\" class=\"data row0 col21\" >0.482617</td>\n",
       "                        <td id=\"T_79b97674_6c7e_11eb_bd0c_d8cb8a5cd364row0_col22\" class=\"data row0 col22\" >0.255387</td>\n",
       "                        <td id=\"T_79b97674_6c7e_11eb_bd0c_d8cb8a5cd364row0_col23\" class=\"data row0 col23\" >0.134507</td>\n",
       "                        <td id=\"T_79b97674_6c7e_11eb_bd0c_d8cb8a5cd364row0_col24\" class=\"data row0 col24\" >-0.090453</td>\n",
       "                        <td id=\"T_79b97674_6c7e_11eb_bd0c_d8cb8a5cd364row0_col25\" class=\"data row0 col25\" >-0.147013</td>\n",
       "                        <td id=\"T_79b97674_6c7e_11eb_bd0c_d8cb8a5cd364row0_col26\" class=\"data row0 col26\" >-0.129682</td>\n",
       "                        <td id=\"T_79b97674_6c7e_11eb_bd0c_d8cb8a5cd364row0_col27\" class=\"data row0 col27\" >-0.173843</td>\n",
       "                        <td id=\"T_79b97674_6c7e_11eb_bd0c_d8cb8a5cd364row0_col28\" class=\"data row0 col28\" >-0.165954</td>\n",
       "                        <td id=\"T_79b97674_6c7e_11eb_bd0c_d8cb8a5cd364row0_col29\" class=\"data row0 col29\" >-0.157043</td>\n",
       "                        <td id=\"T_79b97674_6c7e_11eb_bd0c_d8cb8a5cd364row0_col30\" class=\"data row0 col30\" >-0.148608</td>\n",
       "                        <td id=\"T_79b97674_6c7e_11eb_bd0c_d8cb8a5cd364row0_col31\" class=\"data row0 col31\" >-0.162753</td>\n",
       "                        <td id=\"T_79b97674_6c7e_11eb_bd0c_d8cb8a5cd364row0_col32\" class=\"data row0 col32\" >-0.128780</td>\n",
       "                        <td id=\"T_79b97674_6c7e_11eb_bd0c_d8cb8a5cd364row0_col33\" class=\"data row0 col33\" >-0.185250</td>\n",
       "                        <td id=\"T_79b97674_6c7e_11eb_bd0c_d8cb8a5cd364row0_col34\" class=\"data row0 col34\" >0.176065</td>\n",
       "                        <td id=\"T_79b97674_6c7e_11eb_bd0c_d8cb8a5cd364row0_col35\" class=\"data row0 col35\" >0.149167</td>\n",
       "                        <td id=\"T_79b97674_6c7e_11eb_bd0c_d8cb8a5cd364row0_col36\" class=\"data row0 col36\" >0.177630</td>\n",
       "                        <td id=\"T_79b97674_6c7e_11eb_bd0c_d8cb8a5cd364row0_col37\" class=\"data row0 col37\" >0.166775</td>\n",
       "                        <td id=\"T_79b97674_6c7e_11eb_bd0c_d8cb8a5cd364row0_col38\" class=\"data row0 col38\" >0.158146</td>\n",
       "                        <td id=\"T_79b97674_6c7e_11eb_bd0c_d8cb8a5cd364row0_col39\" class=\"data row0 col39\" >0.052290</td>\n",
       "                        <td id=\"T_79b97674_6c7e_11eb_bd0c_d8cb8a5cd364row0_col40\" class=\"data row0 col40\" >0.079860</td>\n",
       "                        <td id=\"T_79b97674_6c7e_11eb_bd0c_d8cb8a5cd364row0_col41\" class=\"data row0 col41\" >0.049708</td>\n",
       "                        <td id=\"T_79b97674_6c7e_11eb_bd0c_d8cb8a5cd364row0_col42\" class=\"data row0 col42\" >0.122358</td>\n",
       "                        <td id=\"T_79b97674_6c7e_11eb_bd0c_d8cb8a5cd364row0_col43\" class=\"data row0 col43\" >0.100965</td>\n",
       "                        <td id=\"T_79b97674_6c7e_11eb_bd0c_d8cb8a5cd364row0_col44\" class=\"data row0 col44\" >0.128484</td>\n",
       "                        <td id=\"T_79b97674_6c7e_11eb_bd0c_d8cb8a5cd364row0_col45\" class=\"data row0 col45\" >0.029585</td>\n",
       "                        <td id=\"T_79b97674_6c7e_11eb_bd0c_d8cb8a5cd364row0_col46\" class=\"data row0 col46\" >0.029232</td>\n",
       "                        <td id=\"T_79b97674_6c7e_11eb_bd0c_d8cb8a5cd364row0_col47\" class=\"data row0 col47\" >0.062197</td>\n",
       "                        <td id=\"T_79b97674_6c7e_11eb_bd0c_d8cb8a5cd364row0_col48\" class=\"data row0 col48\" >0.030419</td>\n",
       "                        <td id=\"T_79b97674_6c7e_11eb_bd0c_d8cb8a5cd364row0_col49\" class=\"data row0 col49\" >0.062676</td>\n",
       "                        <td id=\"T_79b97674_6c7e_11eb_bd0c_d8cb8a5cd364row0_col50\" class=\"data row0 col50\" >-0.045450</td>\n",
       "                        <td id=\"T_79b97674_6c7e_11eb_bd0c_d8cb8a5cd364row0_col51\" class=\"data row0 col51\" >-0.025286</td>\n",
       "            </tr>\n",
       "            <tr>\n",
       "                        <th id=\"T_79b97674_6c7e_11eb_bd0c_d8cb8a5cd364level0_row1\" class=\"row_heading level0 row1\" >primary_cleaner.input.depressant</th>\n",
       "                        <td id=\"T_79b97674_6c7e_11eb_bd0c_d8cb8a5cd364row1_col0\" class=\"data row1 col0\" >0.548407</td>\n",
       "                        <td id=\"T_79b97674_6c7e_11eb_bd0c_d8cb8a5cd364row1_col1\" class=\"data row1 col1\" >1.000000</td>\n",
       "                        <td id=\"T_79b97674_6c7e_11eb_bd0c_d8cb8a5cd364row1_col2\" class=\"data row1 col2\" >0.140969</td>\n",
       "                        <td id=\"T_79b97674_6c7e_11eb_bd0c_d8cb8a5cd364row1_col3\" class=\"data row1 col3\" >0.336029</td>\n",
       "                        <td id=\"T_79b97674_6c7e_11eb_bd0c_d8cb8a5cd364row1_col4\" class=\"data row1 col4\" >0.005729</td>\n",
       "                        <td id=\"T_79b97674_6c7e_11eb_bd0c_d8cb8a5cd364row1_col5\" class=\"data row1 col5\" >0.171388</td>\n",
       "                        <td id=\"T_79b97674_6c7e_11eb_bd0c_d8cb8a5cd364row1_col6\" class=\"data row1 col6\" >0.027524</td>\n",
       "                        <td id=\"T_79b97674_6c7e_11eb_bd0c_d8cb8a5cd364row1_col7\" class=\"data row1 col7\" >0.178946</td>\n",
       "                        <td id=\"T_79b97674_6c7e_11eb_bd0c_d8cb8a5cd364row1_col8\" class=\"data row1 col8\" >0.017839</td>\n",
       "                        <td id=\"T_79b97674_6c7e_11eb_bd0c_d8cb8a5cd364row1_col9\" class=\"data row1 col9\" >0.177056</td>\n",
       "                        <td id=\"T_79b97674_6c7e_11eb_bd0c_d8cb8a5cd364row1_col10\" class=\"data row1 col10\" >0.046455</td>\n",
       "                        <td id=\"T_79b97674_6c7e_11eb_bd0c_d8cb8a5cd364row1_col11\" class=\"data row1 col11\" >0.098408</td>\n",
       "                        <td id=\"T_79b97674_6c7e_11eb_bd0c_d8cb8a5cd364row1_col12\" class=\"data row1 col12\" >0.520846</td>\n",
       "                        <td id=\"T_79b97674_6c7e_11eb_bd0c_d8cb8a5cd364row1_col13\" class=\"data row1 col13\" >0.348334</td>\n",
       "                        <td id=\"T_79b97674_6c7e_11eb_bd0c_d8cb8a5cd364row1_col14\" class=\"data row1 col14\" >0.217805</td>\n",
       "                        <td id=\"T_79b97674_6c7e_11eb_bd0c_d8cb8a5cd364row1_col15\" class=\"data row1 col15\" >-0.130408</td>\n",
       "                        <td id=\"T_79b97674_6c7e_11eb_bd0c_d8cb8a5cd364row1_col16\" class=\"data row1 col16\" >0.201683</td>\n",
       "                        <td id=\"T_79b97674_6c7e_11eb_bd0c_d8cb8a5cd364row1_col17\" class=\"data row1 col17\" >0.476836</td>\n",
       "                        <td id=\"T_79b97674_6c7e_11eb_bd0c_d8cb8a5cd364row1_col18\" class=\"data row1 col18\" >0.222504</td>\n",
       "                        <td id=\"T_79b97674_6c7e_11eb_bd0c_d8cb8a5cd364row1_col19\" class=\"data row1 col19\" >0.367503</td>\n",
       "                        <td id=\"T_79b97674_6c7e_11eb_bd0c_d8cb8a5cd364row1_col20\" class=\"data row1 col20\" >0.314359</td>\n",
       "                        <td id=\"T_79b97674_6c7e_11eb_bd0c_d8cb8a5cd364row1_col21\" class=\"data row1 col21\" >0.460049</td>\n",
       "                        <td id=\"T_79b97674_6c7e_11eb_bd0c_d8cb8a5cd364row1_col22\" class=\"data row1 col22\" >0.044200</td>\n",
       "                        <td id=\"T_79b97674_6c7e_11eb_bd0c_d8cb8a5cd364row1_col23\" class=\"data row1 col23\" >-0.192510</td>\n",
       "                        <td id=\"T_79b97674_6c7e_11eb_bd0c_d8cb8a5cd364row1_col24\" class=\"data row1 col24\" >-0.016805</td>\n",
       "                        <td id=\"T_79b97674_6c7e_11eb_bd0c_d8cb8a5cd364row1_col25\" class=\"data row1 col25\" >-0.254025</td>\n",
       "                        <td id=\"T_79b97674_6c7e_11eb_bd0c_d8cb8a5cd364row1_col26\" class=\"data row1 col26\" >-0.056641</td>\n",
       "                        <td id=\"T_79b97674_6c7e_11eb_bd0c_d8cb8a5cd364row1_col27\" class=\"data row1 col27\" >-0.268162</td>\n",
       "                        <td id=\"T_79b97674_6c7e_11eb_bd0c_d8cb8a5cd364row1_col28\" class=\"data row1 col28\" >-0.046623</td>\n",
       "                        <td id=\"T_79b97674_6c7e_11eb_bd0c_d8cb8a5cd364row1_col29\" class=\"data row1 col29\" >-0.262303</td>\n",
       "                        <td id=\"T_79b97674_6c7e_11eb_bd0c_d8cb8a5cd364row1_col30\" class=\"data row1 col30\" >0.025879</td>\n",
       "                        <td id=\"T_79b97674_6c7e_11eb_bd0c_d8cb8a5cd364row1_col31\" class=\"data row1 col31\" >-0.265594</td>\n",
       "                        <td id=\"T_79b97674_6c7e_11eb_bd0c_d8cb8a5cd364row1_col32\" class=\"data row1 col32\" >0.003273</td>\n",
       "                        <td id=\"T_79b97674_6c7e_11eb_bd0c_d8cb8a5cd364row1_col33\" class=\"data row1 col33\" >-0.288622</td>\n",
       "                        <td id=\"T_79b97674_6c7e_11eb_bd0c_d8cb8a5cd364row1_col34\" class=\"data row1 col34\" >0.004547</td>\n",
       "                        <td id=\"T_79b97674_6c7e_11eb_bd0c_d8cb8a5cd364row1_col35\" class=\"data row1 col35\" >0.216930</td>\n",
       "                        <td id=\"T_79b97674_6c7e_11eb_bd0c_d8cb8a5cd364row1_col36\" class=\"data row1 col36\" >0.123946</td>\n",
       "                        <td id=\"T_79b97674_6c7e_11eb_bd0c_d8cb8a5cd364row1_col37\" class=\"data row1 col37\" >0.209028</td>\n",
       "                        <td id=\"T_79b97674_6c7e_11eb_bd0c_d8cb8a5cd364row1_col38\" class=\"data row1 col38\" >-0.073570</td>\n",
       "                        <td id=\"T_79b97674_6c7e_11eb_bd0c_d8cb8a5cd364row1_col39\" class=\"data row1 col39\" >-0.010240</td>\n",
       "                        <td id=\"T_79b97674_6c7e_11eb_bd0c_d8cb8a5cd364row1_col40\" class=\"data row1 col40\" >0.089700</td>\n",
       "                        <td id=\"T_79b97674_6c7e_11eb_bd0c_d8cb8a5cd364row1_col41\" class=\"data row1 col41\" >0.092002</td>\n",
       "                        <td id=\"T_79b97674_6c7e_11eb_bd0c_d8cb8a5cd364row1_col42\" class=\"data row1 col42\" >-0.177487</td>\n",
       "                        <td id=\"T_79b97674_6c7e_11eb_bd0c_d8cb8a5cd364row1_col43\" class=\"data row1 col43\" >-0.070278</td>\n",
       "                        <td id=\"T_79b97674_6c7e_11eb_bd0c_d8cb8a5cd364row1_col44\" class=\"data row1 col44\" >-0.097606</td>\n",
       "                        <td id=\"T_79b97674_6c7e_11eb_bd0c_d8cb8a5cd364row1_col45\" class=\"data row1 col45\" >-0.176179</td>\n",
       "                        <td id=\"T_79b97674_6c7e_11eb_bd0c_d8cb8a5cd364row1_col46\" class=\"data row1 col46\" >-0.217508</td>\n",
       "                        <td id=\"T_79b97674_6c7e_11eb_bd0c_d8cb8a5cd364row1_col47\" class=\"data row1 col47\" >-0.052769</td>\n",
       "                        <td id=\"T_79b97674_6c7e_11eb_bd0c_d8cb8a5cd364row1_col48\" class=\"data row1 col48\" >-0.183815</td>\n",
       "                        <td id=\"T_79b97674_6c7e_11eb_bd0c_d8cb8a5cd364row1_col49\" class=\"data row1 col49\" >-0.049060</td>\n",
       "                        <td id=\"T_79b97674_6c7e_11eb_bd0c_d8cb8a5cd364row1_col50\" class=\"data row1 col50\" >-0.119158</td>\n",
       "                        <td id=\"T_79b97674_6c7e_11eb_bd0c_d8cb8a5cd364row1_col51\" class=\"data row1 col51\" >-0.018975</td>\n",
       "            </tr>\n",
       "            <tr>\n",
       "                        <th id=\"T_79b97674_6c7e_11eb_bd0c_d8cb8a5cd364level0_row2\" class=\"row_heading level0 row2\" >primary_cleaner.input.feed_size</th>\n",
       "                        <td id=\"T_79b97674_6c7e_11eb_bd0c_d8cb8a5cd364row2_col0\" class=\"data row2 col0\" >0.134133</td>\n",
       "                        <td id=\"T_79b97674_6c7e_11eb_bd0c_d8cb8a5cd364row2_col1\" class=\"data row2 col1\" >0.140969</td>\n",
       "                        <td id=\"T_79b97674_6c7e_11eb_bd0c_d8cb8a5cd364row2_col2\" class=\"data row2 col2\" >1.000000</td>\n",
       "                        <td id=\"T_79b97674_6c7e_11eb_bd0c_d8cb8a5cd364row2_col3\" class=\"data row2 col3\" >-0.005089</td>\n",
       "                        <td id=\"T_79b97674_6c7e_11eb_bd0c_d8cb8a5cd364row2_col4\" class=\"data row2 col4\" >-0.094749</td>\n",
       "                        <td id=\"T_79b97674_6c7e_11eb_bd0c_d8cb8a5cd364row2_col5\" class=\"data row2 col5\" >0.063085</td>\n",
       "                        <td id=\"T_79b97674_6c7e_11eb_bd0c_d8cb8a5cd364row2_col6\" class=\"data row2 col6\" >-0.095072</td>\n",
       "                        <td id=\"T_79b97674_6c7e_11eb_bd0c_d8cb8a5cd364row2_col7\" class=\"data row2 col7\" >0.063718</td>\n",
       "                        <td id=\"T_79b97674_6c7e_11eb_bd0c_d8cb8a5cd364row2_col8\" class=\"data row2 col8\" >-0.115094</td>\n",
       "                        <td id=\"T_79b97674_6c7e_11eb_bd0c_d8cb8a5cd364row2_col9\" class=\"data row2 col9\" >0.059517</td>\n",
       "                        <td id=\"T_79b97674_6c7e_11eb_bd0c_d8cb8a5cd364row2_col10\" class=\"data row2 col10\" >-0.197011</td>\n",
       "                        <td id=\"T_79b97674_6c7e_11eb_bd0c_d8cb8a5cd364row2_col11\" class=\"data row2 col11\" >0.060174</td>\n",
       "                        <td id=\"T_79b97674_6c7e_11eb_bd0c_d8cb8a5cd364row2_col12\" class=\"data row2 col12\" >0.068677</td>\n",
       "                        <td id=\"T_79b97674_6c7e_11eb_bd0c_d8cb8a5cd364row2_col13\" class=\"data row2 col13\" >-0.112423</td>\n",
       "                        <td id=\"T_79b97674_6c7e_11eb_bd0c_d8cb8a5cd364row2_col14\" class=\"data row2 col14\" >0.085372</td>\n",
       "                        <td id=\"T_79b97674_6c7e_11eb_bd0c_d8cb8a5cd364row2_col15\" class=\"data row2 col15\" >-0.054198</td>\n",
       "                        <td id=\"T_79b97674_6c7e_11eb_bd0c_d8cb8a5cd364row2_col16\" class=\"data row2 col16\" >0.063615</td>\n",
       "                        <td id=\"T_79b97674_6c7e_11eb_bd0c_d8cb8a5cd364row2_col17\" class=\"data row2 col17\" >0.079956</td>\n",
       "                        <td id=\"T_79b97674_6c7e_11eb_bd0c_d8cb8a5cd364row2_col18\" class=\"data row2 col18\" >0.082829</td>\n",
       "                        <td id=\"T_79b97674_6c7e_11eb_bd0c_d8cb8a5cd364row2_col19\" class=\"data row2 col19\" >0.020307</td>\n",
       "                        <td id=\"T_79b97674_6c7e_11eb_bd0c_d8cb8a5cd364row2_col20\" class=\"data row2 col20\" >0.140463</td>\n",
       "                        <td id=\"T_79b97674_6c7e_11eb_bd0c_d8cb8a5cd364row2_col21\" class=\"data row2 col21\" >0.072859</td>\n",
       "                        <td id=\"T_79b97674_6c7e_11eb_bd0c_d8cb8a5cd364row2_col22\" class=\"data row2 col22\" >-0.188186</td>\n",
       "                        <td id=\"T_79b97674_6c7e_11eb_bd0c_d8cb8a5cd364row2_col23\" class=\"data row2 col23\" >-0.341718</td>\n",
       "                        <td id=\"T_79b97674_6c7e_11eb_bd0c_d8cb8a5cd364row2_col24\" class=\"data row2 col24\" >0.150314</td>\n",
       "                        <td id=\"T_79b97674_6c7e_11eb_bd0c_d8cb8a5cd364row2_col25\" class=\"data row2 col25\" >0.066266</td>\n",
       "                        <td id=\"T_79b97674_6c7e_11eb_bd0c_d8cb8a5cd364row2_col26\" class=\"data row2 col26\" >0.165267</td>\n",
       "                        <td id=\"T_79b97674_6c7e_11eb_bd0c_d8cb8a5cd364row2_col27\" class=\"data row2 col27\" >0.062970</td>\n",
       "                        <td id=\"T_79b97674_6c7e_11eb_bd0c_d8cb8a5cd364row2_col28\" class=\"data row2 col28\" >0.167994</td>\n",
       "                        <td id=\"T_79b97674_6c7e_11eb_bd0c_d8cb8a5cd364row2_col29\" class=\"data row2 col29\" >0.057386</td>\n",
       "                        <td id=\"T_79b97674_6c7e_11eb_bd0c_d8cb8a5cd364row2_col30\" class=\"data row2 col30\" >0.129923</td>\n",
       "                        <td id=\"T_79b97674_6c7e_11eb_bd0c_d8cb8a5cd364row2_col31\" class=\"data row2 col31\" >0.053084</td>\n",
       "                        <td id=\"T_79b97674_6c7e_11eb_bd0c_d8cb8a5cd364row2_col32\" class=\"data row2 col32\" >0.121061</td>\n",
       "                        <td id=\"T_79b97674_6c7e_11eb_bd0c_d8cb8a5cd364row2_col33\" class=\"data row2 col33\" >0.047613</td>\n",
       "                        <td id=\"T_79b97674_6c7e_11eb_bd0c_d8cb8a5cd364row2_col34\" class=\"data row2 col34\" >-0.166369</td>\n",
       "                        <td id=\"T_79b97674_6c7e_11eb_bd0c_d8cb8a5cd364row2_col35\" class=\"data row2 col35\" >0.095541</td>\n",
       "                        <td id=\"T_79b97674_6c7e_11eb_bd0c_d8cb8a5cd364row2_col36\" class=\"data row2 col36\" >-0.131317</td>\n",
       "                        <td id=\"T_79b97674_6c7e_11eb_bd0c_d8cb8a5cd364row2_col37\" class=\"data row2 col37\" >0.076370</td>\n",
       "                        <td id=\"T_79b97674_6c7e_11eb_bd0c_d8cb8a5cd364row2_col38\" class=\"data row2 col38\" >-0.145103</td>\n",
       "                        <td id=\"T_79b97674_6c7e_11eb_bd0c_d8cb8a5cd364row2_col39\" class=\"data row2 col39\" >0.083894</td>\n",
       "                        <td id=\"T_79b97674_6c7e_11eb_bd0c_d8cb8a5cd364row2_col40\" class=\"data row2 col40\" >0.003797</td>\n",
       "                        <td id=\"T_79b97674_6c7e_11eb_bd0c_d8cb8a5cd364row2_col41\" class=\"data row2 col41\" >0.105102</td>\n",
       "                        <td id=\"T_79b97674_6c7e_11eb_bd0c_d8cb8a5cd364row2_col42\" class=\"data row2 col42\" >-0.303446</td>\n",
       "                        <td id=\"T_79b97674_6c7e_11eb_bd0c_d8cb8a5cd364row2_col43\" class=\"data row2 col43\" >0.094637</td>\n",
       "                        <td id=\"T_79b97674_6c7e_11eb_bd0c_d8cb8a5cd364row2_col44\" class=\"data row2 col44\" >-0.233416</td>\n",
       "                        <td id=\"T_79b97674_6c7e_11eb_bd0c_d8cb8a5cd364row2_col45\" class=\"data row2 col45\" >0.016765</td>\n",
       "                        <td id=\"T_79b97674_6c7e_11eb_bd0c_d8cb8a5cd364row2_col46\" class=\"data row2 col46\" >-0.210950</td>\n",
       "                        <td id=\"T_79b97674_6c7e_11eb_bd0c_d8cb8a5cd364row2_col47\" class=\"data row2 col47\" >0.099806</td>\n",
       "                        <td id=\"T_79b97674_6c7e_11eb_bd0c_d8cb8a5cd364row2_col48\" class=\"data row2 col48\" >-0.201769</td>\n",
       "                        <td id=\"T_79b97674_6c7e_11eb_bd0c_d8cb8a5cd364row2_col49\" class=\"data row2 col49\" >0.102457</td>\n",
       "                        <td id=\"T_79b97674_6c7e_11eb_bd0c_d8cb8a5cd364row2_col50\" class=\"data row2 col50\" >0.141281</td>\n",
       "                        <td id=\"T_79b97674_6c7e_11eb_bd0c_d8cb8a5cd364row2_col51\" class=\"data row2 col51\" >0.051859</td>\n",
       "            </tr>\n",
       "            <tr>\n",
       "                        <th id=\"T_79b97674_6c7e_11eb_bd0c_d8cb8a5cd364level0_row3\" class=\"row_heading level0 row3\" >primary_cleaner.input.xanthate</th>\n",
       "                        <td id=\"T_79b97674_6c7e_11eb_bd0c_d8cb8a5cd364row3_col0\" class=\"data row3 col0\" >0.338903</td>\n",
       "                        <td id=\"T_79b97674_6c7e_11eb_bd0c_d8cb8a5cd364row3_col1\" class=\"data row3 col1\" >0.336029</td>\n",
       "                        <td id=\"T_79b97674_6c7e_11eb_bd0c_d8cb8a5cd364row3_col2\" class=\"data row3 col2\" >-0.005089</td>\n",
       "                        <td id=\"T_79b97674_6c7e_11eb_bd0c_d8cb8a5cd364row3_col3\" class=\"data row3 col3\" >1.000000</td>\n",
       "                        <td id=\"T_79b97674_6c7e_11eb_bd0c_d8cb8a5cd364row3_col4\" class=\"data row3 col4\" >0.149831</td>\n",
       "                        <td id=\"T_79b97674_6c7e_11eb_bd0c_d8cb8a5cd364row3_col5\" class=\"data row3 col5\" >0.098359</td>\n",
       "                        <td id=\"T_79b97674_6c7e_11eb_bd0c_d8cb8a5cd364row3_col6\" class=\"data row3 col6\" >0.167846</td>\n",
       "                        <td id=\"T_79b97674_6c7e_11eb_bd0c_d8cb8a5cd364row3_col7\" class=\"data row3 col7\" >0.092100</td>\n",
       "                        <td id=\"T_79b97674_6c7e_11eb_bd0c_d8cb8a5cd364row3_col8\" class=\"data row3 col8\" >0.143882</td>\n",
       "                        <td id=\"T_79b97674_6c7e_11eb_bd0c_d8cb8a5cd364row3_col9\" class=\"data row3 col9\" >0.085791</td>\n",
       "                        <td id=\"T_79b97674_6c7e_11eb_bd0c_d8cb8a5cd364row3_col10\" class=\"data row3 col10\" >0.180908</td>\n",
       "                        <td id=\"T_79b97674_6c7e_11eb_bd0c_d8cb8a5cd364row3_col11\" class=\"data row3 col11\" >0.022145</td>\n",
       "                        <td id=\"T_79b97674_6c7e_11eb_bd0c_d8cb8a5cd364row3_col12\" class=\"data row3 col12\" >0.295234</td>\n",
       "                        <td id=\"T_79b97674_6c7e_11eb_bd0c_d8cb8a5cd364row3_col13\" class=\"data row3 col13\" >0.049056</td>\n",
       "                        <td id=\"T_79b97674_6c7e_11eb_bd0c_d8cb8a5cd364row3_col14\" class=\"data row3 col14\" >0.335329</td>\n",
       "                        <td id=\"T_79b97674_6c7e_11eb_bd0c_d8cb8a5cd364row3_col15\" class=\"data row3 col15\" >0.043826</td>\n",
       "                        <td id=\"T_79b97674_6c7e_11eb_bd0c_d8cb8a5cd364row3_col16\" class=\"data row3 col16\" >0.263918</td>\n",
       "                        <td id=\"T_79b97674_6c7e_11eb_bd0c_d8cb8a5cd364row3_col17\" class=\"data row3 col17\" >0.204112</td>\n",
       "                        <td id=\"T_79b97674_6c7e_11eb_bd0c_d8cb8a5cd364row3_col18\" class=\"data row3 col18\" >-0.025324</td>\n",
       "                        <td id=\"T_79b97674_6c7e_11eb_bd0c_d8cb8a5cd364row3_col19\" class=\"data row3 col19\" >0.391927</td>\n",
       "                        <td id=\"T_79b97674_6c7e_11eb_bd0c_d8cb8a5cd364row3_col20\" class=\"data row3 col20\" >0.046139</td>\n",
       "                        <td id=\"T_79b97674_6c7e_11eb_bd0c_d8cb8a5cd364row3_col21\" class=\"data row3 col21\" >0.428845</td>\n",
       "                        <td id=\"T_79b97674_6c7e_11eb_bd0c_d8cb8a5cd364row3_col22\" class=\"data row3 col22\" >0.204353</td>\n",
       "                        <td id=\"T_79b97674_6c7e_11eb_bd0c_d8cb8a5cd364row3_col23\" class=\"data row3 col23\" >-0.014479</td>\n",
       "                        <td id=\"T_79b97674_6c7e_11eb_bd0c_d8cb8a5cd364row3_col24\" class=\"data row3 col24\" >-0.137729</td>\n",
       "                        <td id=\"T_79b97674_6c7e_11eb_bd0c_d8cb8a5cd364row3_col25\" class=\"data row3 col25\" >-0.244789</td>\n",
       "                        <td id=\"T_79b97674_6c7e_11eb_bd0c_d8cb8a5cd364row3_col26\" class=\"data row3 col26\" >-0.182202</td>\n",
       "                        <td id=\"T_79b97674_6c7e_11eb_bd0c_d8cb8a5cd364row3_col27\" class=\"data row3 col27\" >-0.266464</td>\n",
       "                        <td id=\"T_79b97674_6c7e_11eb_bd0c_d8cb8a5cd364row3_col28\" class=\"data row3 col28\" >-0.145555</td>\n",
       "                        <td id=\"T_79b97674_6c7e_11eb_bd0c_d8cb8a5cd364row3_col29\" class=\"data row3 col29\" >-0.261009</td>\n",
       "                        <td id=\"T_79b97674_6c7e_11eb_bd0c_d8cb8a5cd364row3_col30\" class=\"data row3 col30\" >-0.030014</td>\n",
       "                        <td id=\"T_79b97674_6c7e_11eb_bd0c_d8cb8a5cd364row3_col31\" class=\"data row3 col31\" >-0.255056</td>\n",
       "                        <td id=\"T_79b97674_6c7e_11eb_bd0c_d8cb8a5cd364row3_col32\" class=\"data row3 col32\" >-0.033429</td>\n",
       "                        <td id=\"T_79b97674_6c7e_11eb_bd0c_d8cb8a5cd364row3_col33\" class=\"data row3 col33\" >-0.266508</td>\n",
       "                        <td id=\"T_79b97674_6c7e_11eb_bd0c_d8cb8a5cd364row3_col34\" class=\"data row3 col34\" >-0.024447</td>\n",
       "                        <td id=\"T_79b97674_6c7e_11eb_bd0c_d8cb8a5cd364row3_col35\" class=\"data row3 col35\" >-0.033271</td>\n",
       "                        <td id=\"T_79b97674_6c7e_11eb_bd0c_d8cb8a5cd364row3_col36\" class=\"data row3 col36\" >0.036566</td>\n",
       "                        <td id=\"T_79b97674_6c7e_11eb_bd0c_d8cb8a5cd364row3_col37\" class=\"data row3 col37\" >-0.027666</td>\n",
       "                        <td id=\"T_79b97674_6c7e_11eb_bd0c_d8cb8a5cd364row3_col38\" class=\"data row3 col38\" >0.091689</td>\n",
       "                        <td id=\"T_79b97674_6c7e_11eb_bd0c_d8cb8a5cd364row3_col39\" class=\"data row3 col39\" >-0.154872</td>\n",
       "                        <td id=\"T_79b97674_6c7e_11eb_bd0c_d8cb8a5cd364row3_col40\" class=\"data row3 col40\" >-0.007696</td>\n",
       "                        <td id=\"T_79b97674_6c7e_11eb_bd0c_d8cb8a5cd364row3_col41\" class=\"data row3 col41\" >-0.021197</td>\n",
       "                        <td id=\"T_79b97674_6c7e_11eb_bd0c_d8cb8a5cd364row3_col42\" class=\"data row3 col42\" >0.067148</td>\n",
       "                        <td id=\"T_79b97674_6c7e_11eb_bd0c_d8cb8a5cd364row3_col43\" class=\"data row3 col43\" >-0.111955</td>\n",
       "                        <td id=\"T_79b97674_6c7e_11eb_bd0c_d8cb8a5cd364row3_col44\" class=\"data row3 col44\" >0.042000</td>\n",
       "                        <td id=\"T_79b97674_6c7e_11eb_bd0c_d8cb8a5cd364row3_col45\" class=\"data row3 col45\" >-0.216575</td>\n",
       "                        <td id=\"T_79b97674_6c7e_11eb_bd0c_d8cb8a5cd364row3_col46\" class=\"data row3 col46\" >-0.051409</td>\n",
       "                        <td id=\"T_79b97674_6c7e_11eb_bd0c_d8cb8a5cd364row3_col47\" class=\"data row3 col47\" >-0.088248</td>\n",
       "                        <td id=\"T_79b97674_6c7e_11eb_bd0c_d8cb8a5cd364row3_col48\" class=\"data row3 col48\" >-0.068682</td>\n",
       "                        <td id=\"T_79b97674_6c7e_11eb_bd0c_d8cb8a5cd364row3_col49\" class=\"data row3 col49\" >-0.089551</td>\n",
       "                        <td id=\"T_79b97674_6c7e_11eb_bd0c_d8cb8a5cd364row3_col50\" class=\"data row3 col50\" >-0.168106</td>\n",
       "                        <td id=\"T_79b97674_6c7e_11eb_bd0c_d8cb8a5cd364row3_col51\" class=\"data row3 col51\" >0.009610</td>\n",
       "            </tr>\n",
       "            <tr>\n",
       "                        <th id=\"T_79b97674_6c7e_11eb_bd0c_d8cb8a5cd364level0_row4\" class=\"row_heading level0 row4\" >primary_cleaner.state.floatbank8_a_air</th>\n",
       "                        <td id=\"T_79b97674_6c7e_11eb_bd0c_d8cb8a5cd364row4_col0\" class=\"data row4 col0\" >0.150567</td>\n",
       "                        <td id=\"T_79b97674_6c7e_11eb_bd0c_d8cb8a5cd364row4_col1\" class=\"data row4 col1\" >0.005729</td>\n",
       "                        <td id=\"T_79b97674_6c7e_11eb_bd0c_d8cb8a5cd364row4_col2\" class=\"data row4 col2\" >-0.094749</td>\n",
       "                        <td id=\"T_79b97674_6c7e_11eb_bd0c_d8cb8a5cd364row4_col3\" class=\"data row4 col3\" >0.149831</td>\n",
       "                        <td id=\"T_79b97674_6c7e_11eb_bd0c_d8cb8a5cd364row4_col4\" class=\"data row4 col4\" >1.000000</td>\n",
       "                        <td id=\"T_79b97674_6c7e_11eb_bd0c_d8cb8a5cd364row4_col5\" class=\"data row4 col5\" >0.457018</td>\n",
       "                        <td id=\"T_79b97674_6c7e_11eb_bd0c_d8cb8a5cd364row4_col6\" class=\"data row4 col6\" >0.970376</td>\n",
       "                        <td id=\"T_79b97674_6c7e_11eb_bd0c_d8cb8a5cd364row4_col7\" class=\"data row4 col7\" >0.475049</td>\n",
       "                        <td id=\"T_79b97674_6c7e_11eb_bd0c_d8cb8a5cd364row4_col8\" class=\"data row4 col8\" >0.963575</td>\n",
       "                        <td id=\"T_79b97674_6c7e_11eb_bd0c_d8cb8a5cd364row4_col9\" class=\"data row4 col9\" >0.459785</td>\n",
       "                        <td id=\"T_79b97674_6c7e_11eb_bd0c_d8cb8a5cd364row4_col10\" class=\"data row4 col10\" >0.420521</td>\n",
       "                        <td id=\"T_79b97674_6c7e_11eb_bd0c_d8cb8a5cd364row4_col11\" class=\"data row4 col11\" >0.334719</td>\n",
       "                        <td id=\"T_79b97674_6c7e_11eb_bd0c_d8cb8a5cd364row4_col12\" class=\"data row4 col12\" >0.272197</td>\n",
       "                        <td id=\"T_79b97674_6c7e_11eb_bd0c_d8cb8a5cd364row4_col13\" class=\"data row4 col13\" >0.123054</td>\n",
       "                        <td id=\"T_79b97674_6c7e_11eb_bd0c_d8cb8a5cd364row4_col14\" class=\"data row4 col14\" >0.139258</td>\n",
       "                        <td id=\"T_79b97674_6c7e_11eb_bd0c_d8cb8a5cd364row4_col15\" class=\"data row4 col15\" >0.080848</td>\n",
       "                        <td id=\"T_79b97674_6c7e_11eb_bd0c_d8cb8a5cd364row4_col16\" class=\"data row4 col16\" >0.294172</td>\n",
       "                        <td id=\"T_79b97674_6c7e_11eb_bd0c_d8cb8a5cd364row4_col17\" class=\"data row4 col17\" >0.211045</td>\n",
       "                        <td id=\"T_79b97674_6c7e_11eb_bd0c_d8cb8a5cd364row4_col18\" class=\"data row4 col18\" >0.110751</td>\n",
       "                        <td id=\"T_79b97674_6c7e_11eb_bd0c_d8cb8a5cd364row4_col19\" class=\"data row4 col19\" >0.098420</td>\n",
       "                        <td id=\"T_79b97674_6c7e_11eb_bd0c_d8cb8a5cd364row4_col20\" class=\"data row4 col20\" >0.050946</td>\n",
       "                        <td id=\"T_79b97674_6c7e_11eb_bd0c_d8cb8a5cd364row4_col21\" class=\"data row4 col21\" >0.087794</td>\n",
       "                        <td id=\"T_79b97674_6c7e_11eb_bd0c_d8cb8a5cd364row4_col22\" class=\"data row4 col22\" >0.535948</td>\n",
       "                        <td id=\"T_79b97674_6c7e_11eb_bd0c_d8cb8a5cd364row4_col23\" class=\"data row4 col23\" >0.298498</td>\n",
       "                        <td id=\"T_79b97674_6c7e_11eb_bd0c_d8cb8a5cd364row4_col24\" class=\"data row4 col24\" >0.440202</td>\n",
       "                        <td id=\"T_79b97674_6c7e_11eb_bd0c_d8cb8a5cd364row4_col25\" class=\"data row4 col25\" >0.388817</td>\n",
       "                        <td id=\"T_79b97674_6c7e_11eb_bd0c_d8cb8a5cd364row4_col26\" class=\"data row4 col26\" >0.380451</td>\n",
       "                        <td id=\"T_79b97674_6c7e_11eb_bd0c_d8cb8a5cd364row4_col27\" class=\"data row4 col27\" >0.392400</td>\n",
       "                        <td id=\"T_79b97674_6c7e_11eb_bd0c_d8cb8a5cd364row4_col28\" class=\"data row4 col28\" >0.376963</td>\n",
       "                        <td id=\"T_79b97674_6c7e_11eb_bd0c_d8cb8a5cd364row4_col29\" class=\"data row4 col29\" >0.358534</td>\n",
       "                        <td id=\"T_79b97674_6c7e_11eb_bd0c_d8cb8a5cd364row4_col30\" class=\"data row4 col30\" >0.410582</td>\n",
       "                        <td id=\"T_79b97674_6c7e_11eb_bd0c_d8cb8a5cd364row4_col31\" class=\"data row4 col31\" >0.380874</td>\n",
       "                        <td id=\"T_79b97674_6c7e_11eb_bd0c_d8cb8a5cd364row4_col32\" class=\"data row4 col32\" >0.425558</td>\n",
       "                        <td id=\"T_79b97674_6c7e_11eb_bd0c_d8cb8a5cd364row4_col33\" class=\"data row4 col33\" >0.319808</td>\n",
       "                        <td id=\"T_79b97674_6c7e_11eb_bd0c_d8cb8a5cd364row4_col34\" class=\"data row4 col34\" >0.382744</td>\n",
       "                        <td id=\"T_79b97674_6c7e_11eb_bd0c_d8cb8a5cd364row4_col35\" class=\"data row4 col35\" >0.192181</td>\n",
       "                        <td id=\"T_79b97674_6c7e_11eb_bd0c_d8cb8a5cd364row4_col36\" class=\"data row4 col36\" >0.360335</td>\n",
       "                        <td id=\"T_79b97674_6c7e_11eb_bd0c_d8cb8a5cd364row4_col37\" class=\"data row4 col37\" >0.196203</td>\n",
       "                        <td id=\"T_79b97674_6c7e_11eb_bd0c_d8cb8a5cd364row4_col38\" class=\"data row4 col38\" >0.540513</td>\n",
       "                        <td id=\"T_79b97674_6c7e_11eb_bd0c_d8cb8a5cd364row4_col39\" class=\"data row4 col39\" >0.474467</td>\n",
       "                        <td id=\"T_79b97674_6c7e_11eb_bd0c_d8cb8a5cd364row4_col40\" class=\"data row4 col40\" >0.423692</td>\n",
       "                        <td id=\"T_79b97674_6c7e_11eb_bd0c_d8cb8a5cd364row4_col41\" class=\"data row4 col41\" >0.307257</td>\n",
       "                        <td id=\"T_79b97674_6c7e_11eb_bd0c_d8cb8a5cd364row4_col42\" class=\"data row4 col42\" >0.544981</td>\n",
       "                        <td id=\"T_79b97674_6c7e_11eb_bd0c_d8cb8a5cd364row4_col43\" class=\"data row4 col43\" >0.501125</td>\n",
       "                        <td id=\"T_79b97674_6c7e_11eb_bd0c_d8cb8a5cd364row4_col44\" class=\"data row4 col44\" >0.506807</td>\n",
       "                        <td id=\"T_79b97674_6c7e_11eb_bd0c_d8cb8a5cd364row4_col45\" class=\"data row4 col45\" >0.415173</td>\n",
       "                        <td id=\"T_79b97674_6c7e_11eb_bd0c_d8cb8a5cd364row4_col46\" class=\"data row4 col46\" >0.522180</td>\n",
       "                        <td id=\"T_79b97674_6c7e_11eb_bd0c_d8cb8a5cd364row4_col47\" class=\"data row4 col47\" >0.506028</td>\n",
       "                        <td id=\"T_79b97674_6c7e_11eb_bd0c_d8cb8a5cd364row4_col48\" class=\"data row4 col48\" >0.458833</td>\n",
       "                        <td id=\"T_79b97674_6c7e_11eb_bd0c_d8cb8a5cd364row4_col49\" class=\"data row4 col49\" >0.498532</td>\n",
       "                        <td id=\"T_79b97674_6c7e_11eb_bd0c_d8cb8a5cd364row4_col50\" class=\"data row4 col50\" >0.373611</td>\n",
       "                        <td id=\"T_79b97674_6c7e_11eb_bd0c_d8cb8a5cd364row4_col51\" class=\"data row4 col51\" >0.354642</td>\n",
       "            </tr>\n",
       "            <tr>\n",
       "                        <th id=\"T_79b97674_6c7e_11eb_bd0c_d8cb8a5cd364level0_row5\" class=\"row_heading level0 row5\" >primary_cleaner.state.floatbank8_a_level</th>\n",
       "                        <td id=\"T_79b97674_6c7e_11eb_bd0c_d8cb8a5cd364row5_col0\" class=\"data row5 col0\" >0.062565</td>\n",
       "                        <td id=\"T_79b97674_6c7e_11eb_bd0c_d8cb8a5cd364row5_col1\" class=\"data row5 col1\" >0.171388</td>\n",
       "                        <td id=\"T_79b97674_6c7e_11eb_bd0c_d8cb8a5cd364row5_col2\" class=\"data row5 col2\" >0.063085</td>\n",
       "                        <td id=\"T_79b97674_6c7e_11eb_bd0c_d8cb8a5cd364row5_col3\" class=\"data row5 col3\" >0.098359</td>\n",
       "                        <td id=\"T_79b97674_6c7e_11eb_bd0c_d8cb8a5cd364row5_col4\" class=\"data row5 col4\" >0.457018</td>\n",
       "                        <td id=\"T_79b97674_6c7e_11eb_bd0c_d8cb8a5cd364row5_col5\" class=\"data row5 col5\" >1.000000</td>\n",
       "                        <td id=\"T_79b97674_6c7e_11eb_bd0c_d8cb8a5cd364row5_col6\" class=\"data row5 col6\" >0.429891</td>\n",
       "                        <td id=\"T_79b97674_6c7e_11eb_bd0c_d8cb8a5cd364row5_col7\" class=\"data row5 col7\" >0.975734</td>\n",
       "                        <td id=\"T_79b97674_6c7e_11eb_bd0c_d8cb8a5cd364row5_col8\" class=\"data row5 col8\" >0.446198</td>\n",
       "                        <td id=\"T_79b97674_6c7e_11eb_bd0c_d8cb8a5cd364row5_col9\" class=\"data row5 col9\" >0.960490</td>\n",
       "                        <td id=\"T_79b97674_6c7e_11eb_bd0c_d8cb8a5cd364row5_col10\" class=\"data row5 col10\" >-0.145594</td>\n",
       "                        <td id=\"T_79b97674_6c7e_11eb_bd0c_d8cb8a5cd364row5_col11\" class=\"data row5 col11\" >0.771519</td>\n",
       "                        <td id=\"T_79b97674_6c7e_11eb_bd0c_d8cb8a5cd364row5_col12\" class=\"data row5 col12\" >0.130629</td>\n",
       "                        <td id=\"T_79b97674_6c7e_11eb_bd0c_d8cb8a5cd364row5_col13\" class=\"data row5 col13\" >0.040890</td>\n",
       "                        <td id=\"T_79b97674_6c7e_11eb_bd0c_d8cb8a5cd364row5_col14\" class=\"data row5 col14\" >0.171920</td>\n",
       "                        <td id=\"T_79b97674_6c7e_11eb_bd0c_d8cb8a5cd364row5_col15\" class=\"data row5 col15\" >-0.026547</td>\n",
       "                        <td id=\"T_79b97674_6c7e_11eb_bd0c_d8cb8a5cd364row5_col16\" class=\"data row5 col16\" >0.121036</td>\n",
       "                        <td id=\"T_79b97674_6c7e_11eb_bd0c_d8cb8a5cd364row5_col17\" class=\"data row5 col17\" >0.069317</td>\n",
       "                        <td id=\"T_79b97674_6c7e_11eb_bd0c_d8cb8a5cd364row5_col18\" class=\"data row5 col18\" >-0.019614</td>\n",
       "                        <td id=\"T_79b97674_6c7e_11eb_bd0c_d8cb8a5cd364row5_col19\" class=\"data row5 col19\" >0.193972</td>\n",
       "                        <td id=\"T_79b97674_6c7e_11eb_bd0c_d8cb8a5cd364row5_col20\" class=\"data row5 col20\" >0.017072</td>\n",
       "                        <td id=\"T_79b97674_6c7e_11eb_bd0c_d8cb8a5cd364row5_col21\" class=\"data row5 col21\" >0.243495</td>\n",
       "                        <td id=\"T_79b97674_6c7e_11eb_bd0c_d8cb8a5cd364row5_col22\" class=\"data row5 col22\" >0.202431</td>\n",
       "                        <td id=\"T_79b97674_6c7e_11eb_bd0c_d8cb8a5cd364row5_col23\" class=\"data row5 col23\" >-0.060773</td>\n",
       "                        <td id=\"T_79b97674_6c7e_11eb_bd0c_d8cb8a5cd364row5_col24\" class=\"data row5 col24\" >0.411489</td>\n",
       "                        <td id=\"T_79b97674_6c7e_11eb_bd0c_d8cb8a5cd364row5_col25\" class=\"data row5 col25\" >0.039350</td>\n",
       "                        <td id=\"T_79b97674_6c7e_11eb_bd0c_d8cb8a5cd364row5_col26\" class=\"data row5 col26\" >0.355479</td>\n",
       "                        <td id=\"T_79b97674_6c7e_11eb_bd0c_d8cb8a5cd364row5_col27\" class=\"data row5 col27\" >0.042191</td>\n",
       "                        <td id=\"T_79b97674_6c7e_11eb_bd0c_d8cb8a5cd364row5_col28\" class=\"data row5 col28\" >0.409112</td>\n",
       "                        <td id=\"T_79b97674_6c7e_11eb_bd0c_d8cb8a5cd364row5_col29\" class=\"data row5 col29\" >-0.013981</td>\n",
       "                        <td id=\"T_79b97674_6c7e_11eb_bd0c_d8cb8a5cd364row5_col30\" class=\"data row5 col30\" >0.430781</td>\n",
       "                        <td id=\"T_79b97674_6c7e_11eb_bd0c_d8cb8a5cd364row5_col31\" class=\"data row5 col31\" >0.013017</td>\n",
       "                        <td id=\"T_79b97674_6c7e_11eb_bd0c_d8cb8a5cd364row5_col32\" class=\"data row5 col32\" >0.466979</td>\n",
       "                        <td id=\"T_79b97674_6c7e_11eb_bd0c_d8cb8a5cd364row5_col33\" class=\"data row5 col33\" >-0.044984</td>\n",
       "                        <td id=\"T_79b97674_6c7e_11eb_bd0c_d8cb8a5cd364row5_col34\" class=\"data row5 col34\" >0.287927</td>\n",
       "                        <td id=\"T_79b97674_6c7e_11eb_bd0c_d8cb8a5cd364row5_col35\" class=\"data row5 col35\" >0.337956</td>\n",
       "                        <td id=\"T_79b97674_6c7e_11eb_bd0c_d8cb8a5cd364row5_col36\" class=\"data row5 col36\" >0.336905</td>\n",
       "                        <td id=\"T_79b97674_6c7e_11eb_bd0c_d8cb8a5cd364row5_col37\" class=\"data row5 col37\" >0.309064</td>\n",
       "                        <td id=\"T_79b97674_6c7e_11eb_bd0c_d8cb8a5cd364row5_col38\" class=\"data row5 col38\" >0.197706</td>\n",
       "                        <td id=\"T_79b97674_6c7e_11eb_bd0c_d8cb8a5cd364row5_col39\" class=\"data row5 col39\" >0.287899</td>\n",
       "                        <td id=\"T_79b97674_6c7e_11eb_bd0c_d8cb8a5cd364row5_col40\" class=\"data row5 col40\" >0.349231</td>\n",
       "                        <td id=\"T_79b97674_6c7e_11eb_bd0c_d8cb8a5cd364row5_col41\" class=\"data row5 col41\" >0.363889</td>\n",
       "                        <td id=\"T_79b97674_6c7e_11eb_bd0c_d8cb8a5cd364row5_col42\" class=\"data row5 col42\" >0.089110</td>\n",
       "                        <td id=\"T_79b97674_6c7e_11eb_bd0c_d8cb8a5cd364row5_col43\" class=\"data row5 col43\" >0.271031</td>\n",
       "                        <td id=\"T_79b97674_6c7e_11eb_bd0c_d8cb8a5cd364row5_col44\" class=\"data row5 col44\" >0.185476</td>\n",
       "                        <td id=\"T_79b97674_6c7e_11eb_bd0c_d8cb8a5cd364row5_col45\" class=\"data row5 col45\" >0.185850</td>\n",
       "                        <td id=\"T_79b97674_6c7e_11eb_bd0c_d8cb8a5cd364row5_col46\" class=\"data row5 col46\" >0.113620</td>\n",
       "                        <td id=\"T_79b97674_6c7e_11eb_bd0c_d8cb8a5cd364row5_col47\" class=\"data row5 col47\" >0.349202</td>\n",
       "                        <td id=\"T_79b97674_6c7e_11eb_bd0c_d8cb8a5cd364row5_col48\" class=\"data row5 col48\" >0.139689</td>\n",
       "                        <td id=\"T_79b97674_6c7e_11eb_bd0c_d8cb8a5cd364row5_col49\" class=\"data row5 col49\" >0.330565</td>\n",
       "                        <td id=\"T_79b97674_6c7e_11eb_bd0c_d8cb8a5cd364row5_col50\" class=\"data row5 col50\" >0.264868</td>\n",
       "                        <td id=\"T_79b97674_6c7e_11eb_bd0c_d8cb8a5cd364row5_col51\" class=\"data row5 col51\" >0.392130</td>\n",
       "            </tr>\n",
       "            <tr>\n",
       "                        <th id=\"T_79b97674_6c7e_11eb_bd0c_d8cb8a5cd364level0_row6\" class=\"row_heading level0 row6\" >primary_cleaner.state.floatbank8_b_air</th>\n",
       "                        <td id=\"T_79b97674_6c7e_11eb_bd0c_d8cb8a5cd364row6_col0\" class=\"data row6 col0\" >0.161893</td>\n",
       "                        <td id=\"T_79b97674_6c7e_11eb_bd0c_d8cb8a5cd364row6_col1\" class=\"data row6 col1\" >0.027524</td>\n",
       "                        <td id=\"T_79b97674_6c7e_11eb_bd0c_d8cb8a5cd364row6_col2\" class=\"data row6 col2\" >-0.095072</td>\n",
       "                        <td id=\"T_79b97674_6c7e_11eb_bd0c_d8cb8a5cd364row6_col3\" class=\"data row6 col3\" >0.167846</td>\n",
       "                        <td id=\"T_79b97674_6c7e_11eb_bd0c_d8cb8a5cd364row6_col4\" class=\"data row6 col4\" >0.970376</td>\n",
       "                        <td id=\"T_79b97674_6c7e_11eb_bd0c_d8cb8a5cd364row6_col5\" class=\"data row6 col5\" >0.429891</td>\n",
       "                        <td id=\"T_79b97674_6c7e_11eb_bd0c_d8cb8a5cd364row6_col6\" class=\"data row6 col6\" >1.000000</td>\n",
       "                        <td id=\"T_79b97674_6c7e_11eb_bd0c_d8cb8a5cd364row6_col7\" class=\"data row6 col7\" >0.456770</td>\n",
       "                        <td id=\"T_79b97674_6c7e_11eb_bd0c_d8cb8a5cd364row6_col8\" class=\"data row6 col8\" >0.965850</td>\n",
       "                        <td id=\"T_79b97674_6c7e_11eb_bd0c_d8cb8a5cd364row6_col9\" class=\"data row6 col9\" >0.441817</td>\n",
       "                        <td id=\"T_79b97674_6c7e_11eb_bd0c_d8cb8a5cd364row6_col10\" class=\"data row6 col10\" >0.424604</td>\n",
       "                        <td id=\"T_79b97674_6c7e_11eb_bd0c_d8cb8a5cd364row6_col11\" class=\"data row6 col11\" >0.314509</td>\n",
       "                        <td id=\"T_79b97674_6c7e_11eb_bd0c_d8cb8a5cd364row6_col12\" class=\"data row6 col12\" >0.292073</td>\n",
       "                        <td id=\"T_79b97674_6c7e_11eb_bd0c_d8cb8a5cd364row6_col13\" class=\"data row6 col13\" >0.128186</td>\n",
       "                        <td id=\"T_79b97674_6c7e_11eb_bd0c_d8cb8a5cd364row6_col14\" class=\"data row6 col14\" >0.134082</td>\n",
       "                        <td id=\"T_79b97674_6c7e_11eb_bd0c_d8cb8a5cd364row6_col15\" class=\"data row6 col15\" >0.062869</td>\n",
       "                        <td id=\"T_79b97674_6c7e_11eb_bd0c_d8cb8a5cd364row6_col16\" class=\"data row6 col16\" >0.283748</td>\n",
       "                        <td id=\"T_79b97674_6c7e_11eb_bd0c_d8cb8a5cd364row6_col17\" class=\"data row6 col17\" >0.229662</td>\n",
       "                        <td id=\"T_79b97674_6c7e_11eb_bd0c_d8cb8a5cd364row6_col18\" class=\"data row6 col18\" >0.092771</td>\n",
       "                        <td id=\"T_79b97674_6c7e_11eb_bd0c_d8cb8a5cd364row6_col19\" class=\"data row6 col19\" >0.115098</td>\n",
       "                        <td id=\"T_79b97674_6c7e_11eb_bd0c_d8cb8a5cd364row6_col20\" class=\"data row6 col20\" >0.046670</td>\n",
       "                        <td id=\"T_79b97674_6c7e_11eb_bd0c_d8cb8a5cd364row6_col21\" class=\"data row6 col21\" >0.110398</td>\n",
       "                        <td id=\"T_79b97674_6c7e_11eb_bd0c_d8cb8a5cd364row6_col22\" class=\"data row6 col22\" >0.562891</td>\n",
       "                        <td id=\"T_79b97674_6c7e_11eb_bd0c_d8cb8a5cd364row6_col23\" class=\"data row6 col23\" >0.293754</td>\n",
       "                        <td id=\"T_79b97674_6c7e_11eb_bd0c_d8cb8a5cd364row6_col24\" class=\"data row6 col24\" >0.430883</td>\n",
       "                        <td id=\"T_79b97674_6c7e_11eb_bd0c_d8cb8a5cd364row6_col25\" class=\"data row6 col25\" >0.374029</td>\n",
       "                        <td id=\"T_79b97674_6c7e_11eb_bd0c_d8cb8a5cd364row6_col26\" class=\"data row6 col26\" >0.366130</td>\n",
       "                        <td id=\"T_79b97674_6c7e_11eb_bd0c_d8cb8a5cd364row6_col27\" class=\"data row6 col27\" >0.374267</td>\n",
       "                        <td id=\"T_79b97674_6c7e_11eb_bd0c_d8cb8a5cd364row6_col28\" class=\"data row6 col28\" >0.361781</td>\n",
       "                        <td id=\"T_79b97674_6c7e_11eb_bd0c_d8cb8a5cd364row6_col29\" class=\"data row6 col29\" >0.340452</td>\n",
       "                        <td id=\"T_79b97674_6c7e_11eb_bd0c_d8cb8a5cd364row6_col30\" class=\"data row6 col30\" >0.400482</td>\n",
       "                        <td id=\"T_79b97674_6c7e_11eb_bd0c_d8cb8a5cd364row6_col31\" class=\"data row6 col31\" >0.363157</td>\n",
       "                        <td id=\"T_79b97674_6c7e_11eb_bd0c_d8cb8a5cd364row6_col32\" class=\"data row6 col32\" >0.415004</td>\n",
       "                        <td id=\"T_79b97674_6c7e_11eb_bd0c_d8cb8a5cd364row6_col33\" class=\"data row6 col33\" >0.305584</td>\n",
       "                        <td id=\"T_79b97674_6c7e_11eb_bd0c_d8cb8a5cd364row6_col34\" class=\"data row6 col34\" >0.344630</td>\n",
       "                        <td id=\"T_79b97674_6c7e_11eb_bd0c_d8cb8a5cd364row6_col35\" class=\"data row6 col35\" >0.171848</td>\n",
       "                        <td id=\"T_79b97674_6c7e_11eb_bd0c_d8cb8a5cd364row6_col36\" class=\"data row6 col36\" >0.336171</td>\n",
       "                        <td id=\"T_79b97674_6c7e_11eb_bd0c_d8cb8a5cd364row6_col37\" class=\"data row6 col37\" >0.180104</td>\n",
       "                        <td id=\"T_79b97674_6c7e_11eb_bd0c_d8cb8a5cd364row6_col38\" class=\"data row6 col38\" >0.526980</td>\n",
       "                        <td id=\"T_79b97674_6c7e_11eb_bd0c_d8cb8a5cd364row6_col39\" class=\"data row6 col39\" >0.480310</td>\n",
       "                        <td id=\"T_79b97674_6c7e_11eb_bd0c_d8cb8a5cd364row6_col40\" class=\"data row6 col40\" >0.404054</td>\n",
       "                        <td id=\"T_79b97674_6c7e_11eb_bd0c_d8cb8a5cd364row6_col41\" class=\"data row6 col41\" >0.303112</td>\n",
       "                        <td id=\"T_79b97674_6c7e_11eb_bd0c_d8cb8a5cd364row6_col42\" class=\"data row6 col42\" >0.534390</td>\n",
       "                        <td id=\"T_79b97674_6c7e_11eb_bd0c_d8cb8a5cd364row6_col43\" class=\"data row6 col43\" >0.506846</td>\n",
       "                        <td id=\"T_79b97674_6c7e_11eb_bd0c_d8cb8a5cd364row6_col44\" class=\"data row6 col44\" >0.507363</td>\n",
       "                        <td id=\"T_79b97674_6c7e_11eb_bd0c_d8cb8a5cd364row6_col45\" class=\"data row6 col45\" >0.396313</td>\n",
       "                        <td id=\"T_79b97674_6c7e_11eb_bd0c_d8cb8a5cd364row6_col46\" class=\"data row6 col46\" >0.525047</td>\n",
       "                        <td id=\"T_79b97674_6c7e_11eb_bd0c_d8cb8a5cd364row6_col47\" class=\"data row6 col47\" >0.507371</td>\n",
       "                        <td id=\"T_79b97674_6c7e_11eb_bd0c_d8cb8a5cd364row6_col48\" class=\"data row6 col48\" >0.452003</td>\n",
       "                        <td id=\"T_79b97674_6c7e_11eb_bd0c_d8cb8a5cd364row6_col49\" class=\"data row6 col49\" >0.501164</td>\n",
       "                        <td id=\"T_79b97674_6c7e_11eb_bd0c_d8cb8a5cd364row6_col50\" class=\"data row6 col50\" >0.374793</td>\n",
       "                        <td id=\"T_79b97674_6c7e_11eb_bd0c_d8cb8a5cd364row6_col51\" class=\"data row6 col51\" >0.337935</td>\n",
       "            </tr>\n",
       "            <tr>\n",
       "                        <th id=\"T_79b97674_6c7e_11eb_bd0c_d8cb8a5cd364level0_row7\" class=\"row_heading level0 row7\" >primary_cleaner.state.floatbank8_b_level</th>\n",
       "                        <td id=\"T_79b97674_6c7e_11eb_bd0c_d8cb8a5cd364row7_col0\" class=\"data row7 col0\" >0.062722</td>\n",
       "                        <td id=\"T_79b97674_6c7e_11eb_bd0c_d8cb8a5cd364row7_col1\" class=\"data row7 col1\" >0.178946</td>\n",
       "                        <td id=\"T_79b97674_6c7e_11eb_bd0c_d8cb8a5cd364row7_col2\" class=\"data row7 col2\" >0.063718</td>\n",
       "                        <td id=\"T_79b97674_6c7e_11eb_bd0c_d8cb8a5cd364row7_col3\" class=\"data row7 col3\" >0.092100</td>\n",
       "                        <td id=\"T_79b97674_6c7e_11eb_bd0c_d8cb8a5cd364row7_col4\" class=\"data row7 col4\" >0.475049</td>\n",
       "                        <td id=\"T_79b97674_6c7e_11eb_bd0c_d8cb8a5cd364row7_col5\" class=\"data row7 col5\" >0.975734</td>\n",
       "                        <td id=\"T_79b97674_6c7e_11eb_bd0c_d8cb8a5cd364row7_col6\" class=\"data row7 col6\" >0.456770</td>\n",
       "                        <td id=\"T_79b97674_6c7e_11eb_bd0c_d8cb8a5cd364row7_col7\" class=\"data row7 col7\" >1.000000</td>\n",
       "                        <td id=\"T_79b97674_6c7e_11eb_bd0c_d8cb8a5cd364row7_col8\" class=\"data row7 col8\" >0.463684</td>\n",
       "                        <td id=\"T_79b97674_6c7e_11eb_bd0c_d8cb8a5cd364row7_col9\" class=\"data row7 col9\" >0.969604</td>\n",
       "                        <td id=\"T_79b97674_6c7e_11eb_bd0c_d8cb8a5cd364row7_col10\" class=\"data row7 col10\" >-0.155141</td>\n",
       "                        <td id=\"T_79b97674_6c7e_11eb_bd0c_d8cb8a5cd364row7_col11\" class=\"data row7 col11\" >0.771960</td>\n",
       "                        <td id=\"T_79b97674_6c7e_11eb_bd0c_d8cb8a5cd364row7_col12\" class=\"data row7 col12\" >0.141295</td>\n",
       "                        <td id=\"T_79b97674_6c7e_11eb_bd0c_d8cb8a5cd364row7_col13\" class=\"data row7 col13\" >0.039789</td>\n",
       "                        <td id=\"T_79b97674_6c7e_11eb_bd0c_d8cb8a5cd364row7_col14\" class=\"data row7 col14\" >0.164751</td>\n",
       "                        <td id=\"T_79b97674_6c7e_11eb_bd0c_d8cb8a5cd364row7_col15\" class=\"data row7 col15\" >-0.021597</td>\n",
       "                        <td id=\"T_79b97674_6c7e_11eb_bd0c_d8cb8a5cd364row7_col16\" class=\"data row7 col16\" >0.109210</td>\n",
       "                        <td id=\"T_79b97674_6c7e_11eb_bd0c_d8cb8a5cd364row7_col17\" class=\"data row7 col17\" >0.077815</td>\n",
       "                        <td id=\"T_79b97674_6c7e_11eb_bd0c_d8cb8a5cd364row7_col18\" class=\"data row7 col18\" >-0.015372</td>\n",
       "                        <td id=\"T_79b97674_6c7e_11eb_bd0c_d8cb8a5cd364row7_col19\" class=\"data row7 col19\" >0.188453</td>\n",
       "                        <td id=\"T_79b97674_6c7e_11eb_bd0c_d8cb8a5cd364row7_col20\" class=\"data row7 col20\" >0.020097</td>\n",
       "                        <td id=\"T_79b97674_6c7e_11eb_bd0c_d8cb8a5cd364row7_col21\" class=\"data row7 col21\" >0.242954</td>\n",
       "                        <td id=\"T_79b97674_6c7e_11eb_bd0c_d8cb8a5cd364row7_col22\" class=\"data row7 col22\" >0.194066</td>\n",
       "                        <td id=\"T_79b97674_6c7e_11eb_bd0c_d8cb8a5cd364row7_col23\" class=\"data row7 col23\" >-0.075516</td>\n",
       "                        <td id=\"T_79b97674_6c7e_11eb_bd0c_d8cb8a5cd364row7_col24\" class=\"data row7 col24\" >0.419111</td>\n",
       "                        <td id=\"T_79b97674_6c7e_11eb_bd0c_d8cb8a5cd364row7_col25\" class=\"data row7 col25\" >0.045038</td>\n",
       "                        <td id=\"T_79b97674_6c7e_11eb_bd0c_d8cb8a5cd364row7_col26\" class=\"data row7 col26\" >0.361233</td>\n",
       "                        <td id=\"T_79b97674_6c7e_11eb_bd0c_d8cb8a5cd364row7_col27\" class=\"data row7 col27\" >0.048751</td>\n",
       "                        <td id=\"T_79b97674_6c7e_11eb_bd0c_d8cb8a5cd364row7_col28\" class=\"data row7 col28\" >0.417151</td>\n",
       "                        <td id=\"T_79b97674_6c7e_11eb_bd0c_d8cb8a5cd364row7_col29\" class=\"data row7 col29\" >-0.003657</td>\n",
       "                        <td id=\"T_79b97674_6c7e_11eb_bd0c_d8cb8a5cd364row7_col30\" class=\"data row7 col30\" >0.437633</td>\n",
       "                        <td id=\"T_79b97674_6c7e_11eb_bd0c_d8cb8a5cd364row7_col31\" class=\"data row7 col31\" >0.023906</td>\n",
       "                        <td id=\"T_79b97674_6c7e_11eb_bd0c_d8cb8a5cd364row7_col32\" class=\"data row7 col32\" >0.471995</td>\n",
       "                        <td id=\"T_79b97674_6c7e_11eb_bd0c_d8cb8a5cd364row7_col33\" class=\"data row7 col33\" >-0.020954</td>\n",
       "                        <td id=\"T_79b97674_6c7e_11eb_bd0c_d8cb8a5cd364row7_col34\" class=\"data row7 col34\" >0.273304</td>\n",
       "                        <td id=\"T_79b97674_6c7e_11eb_bd0c_d8cb8a5cd364row7_col35\" class=\"data row7 col35\" >0.344923</td>\n",
       "                        <td id=\"T_79b97674_6c7e_11eb_bd0c_d8cb8a5cd364row7_col36\" class=\"data row7 col36\" >0.328063</td>\n",
       "                        <td id=\"T_79b97674_6c7e_11eb_bd0c_d8cb8a5cd364row7_col37\" class=\"data row7 col37\" >0.315367</td>\n",
       "                        <td id=\"T_79b97674_6c7e_11eb_bd0c_d8cb8a5cd364row7_col38\" class=\"data row7 col38\" >0.181062</td>\n",
       "                        <td id=\"T_79b97674_6c7e_11eb_bd0c_d8cb8a5cd364row7_col39\" class=\"data row7 col39\" >0.295242</td>\n",
       "                        <td id=\"T_79b97674_6c7e_11eb_bd0c_d8cb8a5cd364row7_col40\" class=\"data row7 col40\" >0.338034</td>\n",
       "                        <td id=\"T_79b97674_6c7e_11eb_bd0c_d8cb8a5cd364row7_col41\" class=\"data row7 col41\" >0.371585</td>\n",
       "                        <td id=\"T_79b97674_6c7e_11eb_bd0c_d8cb8a5cd364row7_col42\" class=\"data row7 col42\" >0.074551</td>\n",
       "                        <td id=\"T_79b97674_6c7e_11eb_bd0c_d8cb8a5cd364row7_col43\" class=\"data row7 col43\" >0.285532</td>\n",
       "                        <td id=\"T_79b97674_6c7e_11eb_bd0c_d8cb8a5cd364row7_col44\" class=\"data row7 col44\" >0.176224</td>\n",
       "                        <td id=\"T_79b97674_6c7e_11eb_bd0c_d8cb8a5cd364row7_col45\" class=\"data row7 col45\" >0.198770</td>\n",
       "                        <td id=\"T_79b97674_6c7e_11eb_bd0c_d8cb8a5cd364row7_col46\" class=\"data row7 col46\" >0.100496</td>\n",
       "                        <td id=\"T_79b97674_6c7e_11eb_bd0c_d8cb8a5cd364row7_col47\" class=\"data row7 col47\" >0.365644</td>\n",
       "                        <td id=\"T_79b97674_6c7e_11eb_bd0c_d8cb8a5cd364row7_col48\" class=\"data row7 col48\" >0.122626</td>\n",
       "                        <td id=\"T_79b97674_6c7e_11eb_bd0c_d8cb8a5cd364row7_col49\" class=\"data row7 col49\" >0.345513</td>\n",
       "                        <td id=\"T_79b97674_6c7e_11eb_bd0c_d8cb8a5cd364row7_col50\" class=\"data row7 col50\" >0.264140</td>\n",
       "                        <td id=\"T_79b97674_6c7e_11eb_bd0c_d8cb8a5cd364row7_col51\" class=\"data row7 col51\" >0.399331</td>\n",
       "            </tr>\n",
       "            <tr>\n",
       "                        <th id=\"T_79b97674_6c7e_11eb_bd0c_d8cb8a5cd364level0_row8\" class=\"row_heading level0 row8\" >primary_cleaner.state.floatbank8_c_air</th>\n",
       "                        <td id=\"T_79b97674_6c7e_11eb_bd0c_d8cb8a5cd364row8_col0\" class=\"data row8 col0\" >0.160093</td>\n",
       "                        <td id=\"T_79b97674_6c7e_11eb_bd0c_d8cb8a5cd364row8_col1\" class=\"data row8 col1\" >0.017839</td>\n",
       "                        <td id=\"T_79b97674_6c7e_11eb_bd0c_d8cb8a5cd364row8_col2\" class=\"data row8 col2\" >-0.115094</td>\n",
       "                        <td id=\"T_79b97674_6c7e_11eb_bd0c_d8cb8a5cd364row8_col3\" class=\"data row8 col3\" >0.143882</td>\n",
       "                        <td id=\"T_79b97674_6c7e_11eb_bd0c_d8cb8a5cd364row8_col4\" class=\"data row8 col4\" >0.963575</td>\n",
       "                        <td id=\"T_79b97674_6c7e_11eb_bd0c_d8cb8a5cd364row8_col5\" class=\"data row8 col5\" >0.446198</td>\n",
       "                        <td id=\"T_79b97674_6c7e_11eb_bd0c_d8cb8a5cd364row8_col6\" class=\"data row8 col6\" >0.965850</td>\n",
       "                        <td id=\"T_79b97674_6c7e_11eb_bd0c_d8cb8a5cd364row8_col7\" class=\"data row8 col7\" >0.463684</td>\n",
       "                        <td id=\"T_79b97674_6c7e_11eb_bd0c_d8cb8a5cd364row8_col8\" class=\"data row8 col8\" >1.000000</td>\n",
       "                        <td id=\"T_79b97674_6c7e_11eb_bd0c_d8cb8a5cd364row8_col9\" class=\"data row8 col9\" >0.449486</td>\n",
       "                        <td id=\"T_79b97674_6c7e_11eb_bd0c_d8cb8a5cd364row8_col10\" class=\"data row8 col10\" >0.436699</td>\n",
       "                        <td id=\"T_79b97674_6c7e_11eb_bd0c_d8cb8a5cd364row8_col11\" class=\"data row8 col11\" >0.326656</td>\n",
       "                        <td id=\"T_79b97674_6c7e_11eb_bd0c_d8cb8a5cd364row8_col12\" class=\"data row8 col12\" >0.273545</td>\n",
       "                        <td id=\"T_79b97674_6c7e_11eb_bd0c_d8cb8a5cd364row8_col13\" class=\"data row8 col13\" >0.135977</td>\n",
       "                        <td id=\"T_79b97674_6c7e_11eb_bd0c_d8cb8a5cd364row8_col14\" class=\"data row8 col14\" >0.125703</td>\n",
       "                        <td id=\"T_79b97674_6c7e_11eb_bd0c_d8cb8a5cd364row8_col15\" class=\"data row8 col15\" >0.062585</td>\n",
       "                        <td id=\"T_79b97674_6c7e_11eb_bd0c_d8cb8a5cd364row8_col16\" class=\"data row8 col16\" >0.292690</td>\n",
       "                        <td id=\"T_79b97674_6c7e_11eb_bd0c_d8cb8a5cd364row8_col17\" class=\"data row8 col17\" >0.209662</td>\n",
       "                        <td id=\"T_79b97674_6c7e_11eb_bd0c_d8cb8a5cd364row8_col18\" class=\"data row8 col18\" >0.097455</td>\n",
       "                        <td id=\"T_79b97674_6c7e_11eb_bd0c_d8cb8a5cd364row8_col19\" class=\"data row8 col19\" >0.114861</td>\n",
       "                        <td id=\"T_79b97674_6c7e_11eb_bd0c_d8cb8a5cd364row8_col20\" class=\"data row8 col20\" >0.040103</td>\n",
       "                        <td id=\"T_79b97674_6c7e_11eb_bd0c_d8cb8a5cd364row8_col21\" class=\"data row8 col21\" >0.100849</td>\n",
       "                        <td id=\"T_79b97674_6c7e_11eb_bd0c_d8cb8a5cd364row8_col22\" class=\"data row8 col22\" >0.581836</td>\n",
       "                        <td id=\"T_79b97674_6c7e_11eb_bd0c_d8cb8a5cd364row8_col23\" class=\"data row8 col23\" >0.354087</td>\n",
       "                        <td id=\"T_79b97674_6c7e_11eb_bd0c_d8cb8a5cd364row8_col24\" class=\"data row8 col24\" >0.413168</td>\n",
       "                        <td id=\"T_79b97674_6c7e_11eb_bd0c_d8cb8a5cd364row8_col25\" class=\"data row8 col25\" >0.349333</td>\n",
       "                        <td id=\"T_79b97674_6c7e_11eb_bd0c_d8cb8a5cd364row8_col26\" class=\"data row8 col26\" >0.346043</td>\n",
       "                        <td id=\"T_79b97674_6c7e_11eb_bd0c_d8cb8a5cd364row8_col27\" class=\"data row8 col27\" >0.349015</td>\n",
       "                        <td id=\"T_79b97674_6c7e_11eb_bd0c_d8cb8a5cd364row8_col28\" class=\"data row8 col28\" >0.342034</td>\n",
       "                        <td id=\"T_79b97674_6c7e_11eb_bd0c_d8cb8a5cd364row8_col29\" class=\"data row8 col29\" >0.315621</td>\n",
       "                        <td id=\"T_79b97674_6c7e_11eb_bd0c_d8cb8a5cd364row8_col30\" class=\"data row8 col30\" >0.398252</td>\n",
       "                        <td id=\"T_79b97674_6c7e_11eb_bd0c_d8cb8a5cd364row8_col31\" class=\"data row8 col31\" >0.338005</td>\n",
       "                        <td id=\"T_79b97674_6c7e_11eb_bd0c_d8cb8a5cd364row8_col32\" class=\"data row8 col32\" >0.423141</td>\n",
       "                        <td id=\"T_79b97674_6c7e_11eb_bd0c_d8cb8a5cd364row8_col33\" class=\"data row8 col33\" >0.278795</td>\n",
       "                        <td id=\"T_79b97674_6c7e_11eb_bd0c_d8cb8a5cd364row8_col34\" class=\"data row8 col34\" >0.393339</td>\n",
       "                        <td id=\"T_79b97674_6c7e_11eb_bd0c_d8cb8a5cd364row8_col35\" class=\"data row8 col35\" >0.165415</td>\n",
       "                        <td id=\"T_79b97674_6c7e_11eb_bd0c_d8cb8a5cd364row8_col36\" class=\"data row8 col36\" >0.388765</td>\n",
       "                        <td id=\"T_79b97674_6c7e_11eb_bd0c_d8cb8a5cd364row8_col37\" class=\"data row8 col37\" >0.172674</td>\n",
       "                        <td id=\"T_79b97674_6c7e_11eb_bd0c_d8cb8a5cd364row8_col38\" class=\"data row8 col38\" >0.550737</td>\n",
       "                        <td id=\"T_79b97674_6c7e_11eb_bd0c_d8cb8a5cd364row8_col39\" class=\"data row8 col39\" >0.462032</td>\n",
       "                        <td id=\"T_79b97674_6c7e_11eb_bd0c_d8cb8a5cd364row8_col40\" class=\"data row8 col40\" >0.437704</td>\n",
       "                        <td id=\"T_79b97674_6c7e_11eb_bd0c_d8cb8a5cd364row8_col41\" class=\"data row8 col41\" >0.270351</td>\n",
       "                        <td id=\"T_79b97674_6c7e_11eb_bd0c_d8cb8a5cd364row8_col42\" class=\"data row8 col42\" >0.576567</td>\n",
       "                        <td id=\"T_79b97674_6c7e_11eb_bd0c_d8cb8a5cd364row8_col43\" class=\"data row8 col43\" >0.493956</td>\n",
       "                        <td id=\"T_79b97674_6c7e_11eb_bd0c_d8cb8a5cd364row8_col44\" class=\"data row8 col44\" >0.558726</td>\n",
       "                        <td id=\"T_79b97674_6c7e_11eb_bd0c_d8cb8a5cd364row8_col45\" class=\"data row8 col45\" >0.406962</td>\n",
       "                        <td id=\"T_79b97674_6c7e_11eb_bd0c_d8cb8a5cd364row8_col46\" class=\"data row8 col46\" >0.551050</td>\n",
       "                        <td id=\"T_79b97674_6c7e_11eb_bd0c_d8cb8a5cd364row8_col47\" class=\"data row8 col47\" >0.478576</td>\n",
       "                        <td id=\"T_79b97674_6c7e_11eb_bd0c_d8cb8a5cd364row8_col48\" class=\"data row8 col48\" >0.500764</td>\n",
       "                        <td id=\"T_79b97674_6c7e_11eb_bd0c_d8cb8a5cd364row8_col49\" class=\"data row8 col49\" >0.477219</td>\n",
       "                        <td id=\"T_79b97674_6c7e_11eb_bd0c_d8cb8a5cd364row8_col50\" class=\"data row8 col50\" >0.349635</td>\n",
       "                        <td id=\"T_79b97674_6c7e_11eb_bd0c_d8cb8a5cd364row8_col51\" class=\"data row8 col51\" >0.338735</td>\n",
       "            </tr>\n",
       "            <tr>\n",
       "                        <th id=\"T_79b97674_6c7e_11eb_bd0c_d8cb8a5cd364level0_row9\" class=\"row_heading level0 row9\" >primary_cleaner.state.floatbank8_c_level</th>\n",
       "                        <td id=\"T_79b97674_6c7e_11eb_bd0c_d8cb8a5cd364row9_col0\" class=\"data row9 col0\" >0.060387</td>\n",
       "                        <td id=\"T_79b97674_6c7e_11eb_bd0c_d8cb8a5cd364row9_col1\" class=\"data row9 col1\" >0.177056</td>\n",
       "                        <td id=\"T_79b97674_6c7e_11eb_bd0c_d8cb8a5cd364row9_col2\" class=\"data row9 col2\" >0.059517</td>\n",
       "                        <td id=\"T_79b97674_6c7e_11eb_bd0c_d8cb8a5cd364row9_col3\" class=\"data row9 col3\" >0.085791</td>\n",
       "                        <td id=\"T_79b97674_6c7e_11eb_bd0c_d8cb8a5cd364row9_col4\" class=\"data row9 col4\" >0.459785</td>\n",
       "                        <td id=\"T_79b97674_6c7e_11eb_bd0c_d8cb8a5cd364row9_col5\" class=\"data row9 col5\" >0.960490</td>\n",
       "                        <td id=\"T_79b97674_6c7e_11eb_bd0c_d8cb8a5cd364row9_col6\" class=\"data row9 col6\" >0.441817</td>\n",
       "                        <td id=\"T_79b97674_6c7e_11eb_bd0c_d8cb8a5cd364row9_col7\" class=\"data row9 col7\" >0.969604</td>\n",
       "                        <td id=\"T_79b97674_6c7e_11eb_bd0c_d8cb8a5cd364row9_col8\" class=\"data row9 col8\" >0.449486</td>\n",
       "                        <td id=\"T_79b97674_6c7e_11eb_bd0c_d8cb8a5cd364row9_col9\" class=\"data row9 col9\" >1.000000</td>\n",
       "                        <td id=\"T_79b97674_6c7e_11eb_bd0c_d8cb8a5cd364row9_col10\" class=\"data row9 col10\" >-0.163985</td>\n",
       "                        <td id=\"T_79b97674_6c7e_11eb_bd0c_d8cb8a5cd364row9_col11\" class=\"data row9 col11\" >0.771175</td>\n",
       "                        <td id=\"T_79b97674_6c7e_11eb_bd0c_d8cb8a5cd364row9_col12\" class=\"data row9 col12\" >0.135388</td>\n",
       "                        <td id=\"T_79b97674_6c7e_11eb_bd0c_d8cb8a5cd364row9_col13\" class=\"data row9 col13\" >0.039807</td>\n",
       "                        <td id=\"T_79b97674_6c7e_11eb_bd0c_d8cb8a5cd364row9_col14\" class=\"data row9 col14\" >0.164116</td>\n",
       "                        <td id=\"T_79b97674_6c7e_11eb_bd0c_d8cb8a5cd364row9_col15\" class=\"data row9 col15\" >-0.020653</td>\n",
       "                        <td id=\"T_79b97674_6c7e_11eb_bd0c_d8cb8a5cd364row9_col16\" class=\"data row9 col16\" >0.103281</td>\n",
       "                        <td id=\"T_79b97674_6c7e_11eb_bd0c_d8cb8a5cd364row9_col17\" class=\"data row9 col17\" >0.075457</td>\n",
       "                        <td id=\"T_79b97674_6c7e_11eb_bd0c_d8cb8a5cd364row9_col18\" class=\"data row9 col18\" >-0.014454</td>\n",
       "                        <td id=\"T_79b97674_6c7e_11eb_bd0c_d8cb8a5cd364row9_col19\" class=\"data row9 col19\" >0.182734</td>\n",
       "                        <td id=\"T_79b97674_6c7e_11eb_bd0c_d8cb8a5cd364row9_col20\" class=\"data row9 col20\" >0.020335</td>\n",
       "                        <td id=\"T_79b97674_6c7e_11eb_bd0c_d8cb8a5cd364row9_col21\" class=\"data row9 col21\" >0.236235</td>\n",
       "                        <td id=\"T_79b97674_6c7e_11eb_bd0c_d8cb8a5cd364row9_col22\" class=\"data row9 col22\" >0.190295</td>\n",
       "                        <td id=\"T_79b97674_6c7e_11eb_bd0c_d8cb8a5cd364row9_col23\" class=\"data row9 col23\" >-0.072215</td>\n",
       "                        <td id=\"T_79b97674_6c7e_11eb_bd0c_d8cb8a5cd364row9_col24\" class=\"data row9 col24\" >0.406337</td>\n",
       "                        <td id=\"T_79b97674_6c7e_11eb_bd0c_d8cb8a5cd364row9_col25\" class=\"data row9 col25\" >0.041387</td>\n",
       "                        <td id=\"T_79b97674_6c7e_11eb_bd0c_d8cb8a5cd364row9_col26\" class=\"data row9 col26\" >0.349137</td>\n",
       "                        <td id=\"T_79b97674_6c7e_11eb_bd0c_d8cb8a5cd364row9_col27\" class=\"data row9 col27\" >0.044846</td>\n",
       "                        <td id=\"T_79b97674_6c7e_11eb_bd0c_d8cb8a5cd364row9_col28\" class=\"data row9 col28\" >0.404115</td>\n",
       "                        <td id=\"T_79b97674_6c7e_11eb_bd0c_d8cb8a5cd364row9_col29\" class=\"data row9 col29\" >-0.005971</td>\n",
       "                        <td id=\"T_79b97674_6c7e_11eb_bd0c_d8cb8a5cd364row9_col30\" class=\"data row9 col30\" >0.424466</td>\n",
       "                        <td id=\"T_79b97674_6c7e_11eb_bd0c_d8cb8a5cd364row9_col31\" class=\"data row9 col31\" >0.020993</td>\n",
       "                        <td id=\"T_79b97674_6c7e_11eb_bd0c_d8cb8a5cd364row9_col32\" class=\"data row9 col32\" >0.458795</td>\n",
       "                        <td id=\"T_79b97674_6c7e_11eb_bd0c_d8cb8a5cd364row9_col33\" class=\"data row9 col33\" >-0.021399</td>\n",
       "                        <td id=\"T_79b97674_6c7e_11eb_bd0c_d8cb8a5cd364row9_col34\" class=\"data row9 col34\" >0.265966</td>\n",
       "                        <td id=\"T_79b97674_6c7e_11eb_bd0c_d8cb8a5cd364row9_col35\" class=\"data row9 col35\" >0.332598</td>\n",
       "                        <td id=\"T_79b97674_6c7e_11eb_bd0c_d8cb8a5cd364row9_col36\" class=\"data row9 col36\" >0.318980</td>\n",
       "                        <td id=\"T_79b97674_6c7e_11eb_bd0c_d8cb8a5cd364row9_col37\" class=\"data row9 col37\" >0.303157</td>\n",
       "                        <td id=\"T_79b97674_6c7e_11eb_bd0c_d8cb8a5cd364row9_col38\" class=\"data row9 col38\" >0.174814</td>\n",
       "                        <td id=\"T_79b97674_6c7e_11eb_bd0c_d8cb8a5cd364row9_col39\" class=\"data row9 col39\" >0.280764</td>\n",
       "                        <td id=\"T_79b97674_6c7e_11eb_bd0c_d8cb8a5cd364row9_col40\" class=\"data row9 col40\" >0.327307</td>\n",
       "                        <td id=\"T_79b97674_6c7e_11eb_bd0c_d8cb8a5cd364row9_col41\" class=\"data row9 col41\" >0.352832</td>\n",
       "                        <td id=\"T_79b97674_6c7e_11eb_bd0c_d8cb8a5cd364row9_col42\" class=\"data row9 col42\" >0.070743</td>\n",
       "                        <td id=\"T_79b97674_6c7e_11eb_bd0c_d8cb8a5cd364row9_col43\" class=\"data row9 col43\" >0.270300</td>\n",
       "                        <td id=\"T_79b97674_6c7e_11eb_bd0c_d8cb8a5cd364row9_col44\" class=\"data row9 col44\" >0.171556</td>\n",
       "                        <td id=\"T_79b97674_6c7e_11eb_bd0c_d8cb8a5cd364row9_col45\" class=\"data row9 col45\" >0.186105</td>\n",
       "                        <td id=\"T_79b97674_6c7e_11eb_bd0c_d8cb8a5cd364row9_col46\" class=\"data row9 col46\" >0.096216</td>\n",
       "                        <td id=\"T_79b97674_6c7e_11eb_bd0c_d8cb8a5cd364row9_col47\" class=\"data row9 col47\" >0.350009</td>\n",
       "                        <td id=\"T_79b97674_6c7e_11eb_bd0c_d8cb8a5cd364row9_col48\" class=\"data row9 col48\" >0.117462</td>\n",
       "                        <td id=\"T_79b97674_6c7e_11eb_bd0c_d8cb8a5cd364row9_col49\" class=\"data row9 col49\" >0.327564</td>\n",
       "                        <td id=\"T_79b97674_6c7e_11eb_bd0c_d8cb8a5cd364row9_col50\" class=\"data row9 col50\" >0.253691</td>\n",
       "                        <td id=\"T_79b97674_6c7e_11eb_bd0c_d8cb8a5cd364row9_col51\" class=\"data row9 col51\" >0.386100</td>\n",
       "            </tr>\n",
       "            <tr>\n",
       "                        <th id=\"T_79b97674_6c7e_11eb_bd0c_d8cb8a5cd364level0_row10\" class=\"row_heading level0 row10\" >primary_cleaner.state.floatbank8_d_air</th>\n",
       "                        <td id=\"T_79b97674_6c7e_11eb_bd0c_d8cb8a5cd364row10_col0\" class=\"data row10 col0\" >0.224181</td>\n",
       "                        <td id=\"T_79b97674_6c7e_11eb_bd0c_d8cb8a5cd364row10_col1\" class=\"data row10 col1\" >0.046455</td>\n",
       "                        <td id=\"T_79b97674_6c7e_11eb_bd0c_d8cb8a5cd364row10_col2\" class=\"data row10 col2\" >-0.197011</td>\n",
       "                        <td id=\"T_79b97674_6c7e_11eb_bd0c_d8cb8a5cd364row10_col3\" class=\"data row10 col3\" >0.180908</td>\n",
       "                        <td id=\"T_79b97674_6c7e_11eb_bd0c_d8cb8a5cd364row10_col4\" class=\"data row10 col4\" >0.420521</td>\n",
       "                        <td id=\"T_79b97674_6c7e_11eb_bd0c_d8cb8a5cd364row10_col5\" class=\"data row10 col5\" >-0.145594</td>\n",
       "                        <td id=\"T_79b97674_6c7e_11eb_bd0c_d8cb8a5cd364row10_col6\" class=\"data row10 col6\" >0.424604</td>\n",
       "                        <td id=\"T_79b97674_6c7e_11eb_bd0c_d8cb8a5cd364row10_col7\" class=\"data row10 col7\" >-0.155141</td>\n",
       "                        <td id=\"T_79b97674_6c7e_11eb_bd0c_d8cb8a5cd364row10_col8\" class=\"data row10 col8\" >0.436699</td>\n",
       "                        <td id=\"T_79b97674_6c7e_11eb_bd0c_d8cb8a5cd364row10_col9\" class=\"data row10 col9\" >-0.163985</td>\n",
       "                        <td id=\"T_79b97674_6c7e_11eb_bd0c_d8cb8a5cd364row10_col10\" class=\"data row10 col10\" >1.000000</td>\n",
       "                        <td id=\"T_79b97674_6c7e_11eb_bd0c_d8cb8a5cd364row10_col11\" class=\"data row10 col11\" >-0.184745</td>\n",
       "                        <td id=\"T_79b97674_6c7e_11eb_bd0c_d8cb8a5cd364row10_col12\" class=\"data row10 col12\" >0.229229</td>\n",
       "                        <td id=\"T_79b97674_6c7e_11eb_bd0c_d8cb8a5cd364row10_col13\" class=\"data row10 col13\" >0.255862</td>\n",
       "                        <td id=\"T_79b97674_6c7e_11eb_bd0c_d8cb8a5cd364row10_col14\" class=\"data row10 col14\" >0.024535</td>\n",
       "                        <td id=\"T_79b97674_6c7e_11eb_bd0c_d8cb8a5cd364row10_col15\" class=\"data row10 col15\" >0.050140</td>\n",
       "                        <td id=\"T_79b97674_6c7e_11eb_bd0c_d8cb8a5cd364row10_col16\" class=\"data row10 col16\" >0.223796</td>\n",
       "                        <td id=\"T_79b97674_6c7e_11eb_bd0c_d8cb8a5cd364row10_col17\" class=\"data row10 col17\" >0.247620</td>\n",
       "                        <td id=\"T_79b97674_6c7e_11eb_bd0c_d8cb8a5cd364row10_col18\" class=\"data row10 col18\" >0.217083</td>\n",
       "                        <td id=\"T_79b97674_6c7e_11eb_bd0c_d8cb8a5cd364row10_col19\" class=\"data row10 col19\" >-0.003803</td>\n",
       "                        <td id=\"T_79b97674_6c7e_11eb_bd0c_d8cb8a5cd364row10_col20\" class=\"data row10 col20\" >0.134909</td>\n",
       "                        <td id=\"T_79b97674_6c7e_11eb_bd0c_d8cb8a5cd364row10_col21\" class=\"data row10 col21\" >-0.008315</td>\n",
       "                        <td id=\"T_79b97674_6c7e_11eb_bd0c_d8cb8a5cd364row10_col22\" class=\"data row10 col22\" >0.344844</td>\n",
       "                        <td id=\"T_79b97674_6c7e_11eb_bd0c_d8cb8a5cd364row10_col23\" class=\"data row10 col23\" >0.406776</td>\n",
       "                        <td id=\"T_79b97674_6c7e_11eb_bd0c_d8cb8a5cd364row10_col24\" class=\"data row10 col24\" >-0.024844</td>\n",
       "                        <td id=\"T_79b97674_6c7e_11eb_bd0c_d8cb8a5cd364row10_col25\" class=\"data row10 col25\" >0.230396</td>\n",
       "                        <td id=\"T_79b97674_6c7e_11eb_bd0c_d8cb8a5cd364row10_col26\" class=\"data row10 col26\" >-0.029775</td>\n",
       "                        <td id=\"T_79b97674_6c7e_11eb_bd0c_d8cb8a5cd364row10_col27\" class=\"data row10 col27\" >0.203481</td>\n",
       "                        <td id=\"T_79b97674_6c7e_11eb_bd0c_d8cb8a5cd364row10_col28\" class=\"data row10 col28\" >-0.102790</td>\n",
       "                        <td id=\"T_79b97674_6c7e_11eb_bd0c_d8cb8a5cd364row10_col29\" class=\"data row10 col29\" >0.224192</td>\n",
       "                        <td id=\"T_79b97674_6c7e_11eb_bd0c_d8cb8a5cd364row10_col30\" class=\"data row10 col30\" >-0.099792</td>\n",
       "                        <td id=\"T_79b97674_6c7e_11eb_bd0c_d8cb8a5cd364row10_col31\" class=\"data row10 col31\" >0.221998</td>\n",
       "                        <td id=\"T_79b97674_6c7e_11eb_bd0c_d8cb8a5cd364row10_col32\" class=\"data row10 col32\" >-0.089534</td>\n",
       "                        <td id=\"T_79b97674_6c7e_11eb_bd0c_d8cb8a5cd364row10_col33\" class=\"data row10 col33\" >0.188859</td>\n",
       "                        <td id=\"T_79b97674_6c7e_11eb_bd0c_d8cb8a5cd364row10_col34\" class=\"data row10 col34\" >0.144086</td>\n",
       "                        <td id=\"T_79b97674_6c7e_11eb_bd0c_d8cb8a5cd364row10_col35\" class=\"data row10 col35\" >-0.000267</td>\n",
       "                        <td id=\"T_79b97674_6c7e_11eb_bd0c_d8cb8a5cd364row10_col36\" class=\"data row10 col36\" >0.125625</td>\n",
       "                        <td id=\"T_79b97674_6c7e_11eb_bd0c_d8cb8a5cd364row10_col37\" class=\"data row10 col37\" >0.019149</td>\n",
       "                        <td id=\"T_79b97674_6c7e_11eb_bd0c_d8cb8a5cd364row10_col38\" class=\"data row10 col38\" >0.300027</td>\n",
       "                        <td id=\"T_79b97674_6c7e_11eb_bd0c_d8cb8a5cd364row10_col39\" class=\"data row10 col39\" >0.193797</td>\n",
       "                        <td id=\"T_79b97674_6c7e_11eb_bd0c_d8cb8a5cd364row10_col40\" class=\"data row10 col40\" >0.201199</td>\n",
       "                        <td id=\"T_79b97674_6c7e_11eb_bd0c_d8cb8a5cd364row10_col41\" class=\"data row10 col41\" >0.117252</td>\n",
       "                        <td id=\"T_79b97674_6c7e_11eb_bd0c_d8cb8a5cd364row10_col42\" class=\"data row10 col42\" >0.375327</td>\n",
       "                        <td id=\"T_79b97674_6c7e_11eb_bd0c_d8cb8a5cd364row10_col43\" class=\"data row10 col43\" >0.205364</td>\n",
       "                        <td id=\"T_79b97674_6c7e_11eb_bd0c_d8cb8a5cd364row10_col44\" class=\"data row10 col44\" >0.294369</td>\n",
       "                        <td id=\"T_79b97674_6c7e_11eb_bd0c_d8cb8a5cd364row10_col45\" class=\"data row10 col45\" >0.227708</td>\n",
       "                        <td id=\"T_79b97674_6c7e_11eb_bd0c_d8cb8a5cd364row10_col46\" class=\"data row10 col46\" >0.290866</td>\n",
       "                        <td id=\"T_79b97674_6c7e_11eb_bd0c_d8cb8a5cd364row10_col47\" class=\"data row10 col47\" >0.200262</td>\n",
       "                        <td id=\"T_79b97674_6c7e_11eb_bd0c_d8cb8a5cd364row10_col48\" class=\"data row10 col48\" >0.252613</td>\n",
       "                        <td id=\"T_79b97674_6c7e_11eb_bd0c_d8cb8a5cd364row10_col49\" class=\"data row10 col49\" >0.203859</td>\n",
       "                        <td id=\"T_79b97674_6c7e_11eb_bd0c_d8cb8a5cd364row10_col50\" class=\"data row10 col50\" >0.084155</td>\n",
       "                        <td id=\"T_79b97674_6c7e_11eb_bd0c_d8cb8a5cd364row10_col51\" class=\"data row10 col51\" >0.058085</td>\n",
       "            </tr>\n",
       "            <tr>\n",
       "                        <th id=\"T_79b97674_6c7e_11eb_bd0c_d8cb8a5cd364level0_row11\" class=\"row_heading level0 row11\" >primary_cleaner.state.floatbank8_d_level</th>\n",
       "                        <td id=\"T_79b97674_6c7e_11eb_bd0c_d8cb8a5cd364row11_col0\" class=\"data row11 col0\" >0.031790</td>\n",
       "                        <td id=\"T_79b97674_6c7e_11eb_bd0c_d8cb8a5cd364row11_col1\" class=\"data row11 col1\" >0.098408</td>\n",
       "                        <td id=\"T_79b97674_6c7e_11eb_bd0c_d8cb8a5cd364row11_col2\" class=\"data row11 col2\" >0.060174</td>\n",
       "                        <td id=\"T_79b97674_6c7e_11eb_bd0c_d8cb8a5cd364row11_col3\" class=\"data row11 col3\" >0.022145</td>\n",
       "                        <td id=\"T_79b97674_6c7e_11eb_bd0c_d8cb8a5cd364row11_col4\" class=\"data row11 col4\" >0.334719</td>\n",
       "                        <td id=\"T_79b97674_6c7e_11eb_bd0c_d8cb8a5cd364row11_col5\" class=\"data row11 col5\" >0.771519</td>\n",
       "                        <td id=\"T_79b97674_6c7e_11eb_bd0c_d8cb8a5cd364row11_col6\" class=\"data row11 col6\" >0.314509</td>\n",
       "                        <td id=\"T_79b97674_6c7e_11eb_bd0c_d8cb8a5cd364row11_col7\" class=\"data row11 col7\" >0.771960</td>\n",
       "                        <td id=\"T_79b97674_6c7e_11eb_bd0c_d8cb8a5cd364row11_col8\" class=\"data row11 col8\" >0.326656</td>\n",
       "                        <td id=\"T_79b97674_6c7e_11eb_bd0c_d8cb8a5cd364row11_col9\" class=\"data row11 col9\" >0.771175</td>\n",
       "                        <td id=\"T_79b97674_6c7e_11eb_bd0c_d8cb8a5cd364row11_col10\" class=\"data row11 col10\" >-0.184745</td>\n",
       "                        <td id=\"T_79b97674_6c7e_11eb_bd0c_d8cb8a5cd364row11_col11\" class=\"data row11 col11\" >1.000000</td>\n",
       "                        <td id=\"T_79b97674_6c7e_11eb_bd0c_d8cb8a5cd364row11_col12\" class=\"data row11 col12\" >0.078981</td>\n",
       "                        <td id=\"T_79b97674_6c7e_11eb_bd0c_d8cb8a5cd364row11_col13\" class=\"data row11 col13\" >0.028447</td>\n",
       "                        <td id=\"T_79b97674_6c7e_11eb_bd0c_d8cb8a5cd364row11_col14\" class=\"data row11 col14\" >0.134463</td>\n",
       "                        <td id=\"T_79b97674_6c7e_11eb_bd0c_d8cb8a5cd364row11_col15\" class=\"data row11 col15\" >-0.038961</td>\n",
       "                        <td id=\"T_79b97674_6c7e_11eb_bd0c_d8cb8a5cd364row11_col16\" class=\"data row11 col16\" >0.069193</td>\n",
       "                        <td id=\"T_79b97674_6c7e_11eb_bd0c_d8cb8a5cd364row11_col17\" class=\"data row11 col17\" >0.043424</td>\n",
       "                        <td id=\"T_79b97674_6c7e_11eb_bd0c_d8cb8a5cd364row11_col18\" class=\"data row11 col18\" >0.018651</td>\n",
       "                        <td id=\"T_79b97674_6c7e_11eb_bd0c_d8cb8a5cd364row11_col19\" class=\"data row11 col19\" >0.134915</td>\n",
       "                        <td id=\"T_79b97674_6c7e_11eb_bd0c_d8cb8a5cd364row11_col20\" class=\"data row11 col20\" >0.048490</td>\n",
       "                        <td id=\"T_79b97674_6c7e_11eb_bd0c_d8cb8a5cd364row11_col21\" class=\"data row11 col21\" >0.181521</td>\n",
       "                        <td id=\"T_79b97674_6c7e_11eb_bd0c_d8cb8a5cd364row11_col22\" class=\"data row11 col22\" >0.123274</td>\n",
       "                        <td id=\"T_79b97674_6c7e_11eb_bd0c_d8cb8a5cd364row11_col23\" class=\"data row11 col23\" >-0.051127</td>\n",
       "                        <td id=\"T_79b97674_6c7e_11eb_bd0c_d8cb8a5cd364row11_col24\" class=\"data row11 col24\" >0.344606</td>\n",
       "                        <td id=\"T_79b97674_6c7e_11eb_bd0c_d8cb8a5cd364row11_col25\" class=\"data row11 col25\" >-0.014785</td>\n",
       "                        <td id=\"T_79b97674_6c7e_11eb_bd0c_d8cb8a5cd364row11_col26\" class=\"data row11 col26\" >0.301541</td>\n",
       "                        <td id=\"T_79b97674_6c7e_11eb_bd0c_d8cb8a5cd364row11_col27\" class=\"data row11 col27\" >-0.013097</td>\n",
       "                        <td id=\"T_79b97674_6c7e_11eb_bd0c_d8cb8a5cd364row11_col28\" class=\"data row11 col28\" >0.355099</td>\n",
       "                        <td id=\"T_79b97674_6c7e_11eb_bd0c_d8cb8a5cd364row11_col29\" class=\"data row11 col29\" >-0.052499</td>\n",
       "                        <td id=\"T_79b97674_6c7e_11eb_bd0c_d8cb8a5cd364row11_col30\" class=\"data row11 col30\" >0.370419</td>\n",
       "                        <td id=\"T_79b97674_6c7e_11eb_bd0c_d8cb8a5cd364row11_col31\" class=\"data row11 col31\" >-0.030527</td>\n",
       "                        <td id=\"T_79b97674_6c7e_11eb_bd0c_d8cb8a5cd364row11_col32\" class=\"data row11 col32\" >0.417266</td>\n",
       "                        <td id=\"T_79b97674_6c7e_11eb_bd0c_d8cb8a5cd364row11_col33\" class=\"data row11 col33\" >-0.062700</td>\n",
       "                        <td id=\"T_79b97674_6c7e_11eb_bd0c_d8cb8a5cd364row11_col34\" class=\"data row11 col34\" >0.231817</td>\n",
       "                        <td id=\"T_79b97674_6c7e_11eb_bd0c_d8cb8a5cd364row11_col35\" class=\"data row11 col35\" >0.277399</td>\n",
       "                        <td id=\"T_79b97674_6c7e_11eb_bd0c_d8cb8a5cd364row11_col36\" class=\"data row11 col36\" >0.278104</td>\n",
       "                        <td id=\"T_79b97674_6c7e_11eb_bd0c_d8cb8a5cd364row11_col37\" class=\"data row11 col37\" >0.248110</td>\n",
       "                        <td id=\"T_79b97674_6c7e_11eb_bd0c_d8cb8a5cd364row11_col38\" class=\"data row11 col38\" >0.102498</td>\n",
       "                        <td id=\"T_79b97674_6c7e_11eb_bd0c_d8cb8a5cd364row11_col39\" class=\"data row11 col39\" >0.179445</td>\n",
       "                        <td id=\"T_79b97674_6c7e_11eb_bd0c_d8cb8a5cd364row11_col40\" class=\"data row11 col40\" >0.255050</td>\n",
       "                        <td id=\"T_79b97674_6c7e_11eb_bd0c_d8cb8a5cd364row11_col41\" class=\"data row11 col41\" >0.251993</td>\n",
       "                        <td id=\"T_79b97674_6c7e_11eb_bd0c_d8cb8a5cd364row11_col42\" class=\"data row11 col42\" >-0.007745</td>\n",
       "                        <td id=\"T_79b97674_6c7e_11eb_bd0c_d8cb8a5cd364row11_col43\" class=\"data row11 col43\" >0.171457</td>\n",
       "                        <td id=\"T_79b97674_6c7e_11eb_bd0c_d8cb8a5cd364row11_col44\" class=\"data row11 col44\" >0.095265</td>\n",
       "                        <td id=\"T_79b97674_6c7e_11eb_bd0c_d8cb8a5cd364row11_col45\" class=\"data row11 col45\" >0.173124</td>\n",
       "                        <td id=\"T_79b97674_6c7e_11eb_bd0c_d8cb8a5cd364row11_col46\" class=\"data row11 col46\" >0.039228</td>\n",
       "                        <td id=\"T_79b97674_6c7e_11eb_bd0c_d8cb8a5cd364row11_col47\" class=\"data row11 col47\" >0.242177</td>\n",
       "                        <td id=\"T_79b97674_6c7e_11eb_bd0c_d8cb8a5cd364row11_col48\" class=\"data row11 col48\" >0.081161</td>\n",
       "                        <td id=\"T_79b97674_6c7e_11eb_bd0c_d8cb8a5cd364row11_col49\" class=\"data row11 col49\" >0.220379</td>\n",
       "                        <td id=\"T_79b97674_6c7e_11eb_bd0c_d8cb8a5cd364row11_col50\" class=\"data row11 col50\" >0.157253</td>\n",
       "                        <td id=\"T_79b97674_6c7e_11eb_bd0c_d8cb8a5cd364row11_col51\" class=\"data row11 col51\" >0.333471</td>\n",
       "            </tr>\n",
       "            <tr>\n",
       "                        <th id=\"T_79b97674_6c7e_11eb_bd0c_d8cb8a5cd364level0_row12\" class=\"row_heading level0 row12\" >rougher.input.feed_ag</th>\n",
       "                        <td id=\"T_79b97674_6c7e_11eb_bd0c_d8cb8a5cd364row12_col0\" class=\"data row12 col0\" >0.579803</td>\n",
       "                        <td id=\"T_79b97674_6c7e_11eb_bd0c_d8cb8a5cd364row12_col1\" class=\"data row12 col1\" >0.520846</td>\n",
       "                        <td id=\"T_79b97674_6c7e_11eb_bd0c_d8cb8a5cd364row12_col2\" class=\"data row12 col2\" >0.068677</td>\n",
       "                        <td id=\"T_79b97674_6c7e_11eb_bd0c_d8cb8a5cd364row12_col3\" class=\"data row12 col3\" >0.295234</td>\n",
       "                        <td id=\"T_79b97674_6c7e_11eb_bd0c_d8cb8a5cd364row12_col4\" class=\"data row12 col4\" >0.272197</td>\n",
       "                        <td id=\"T_79b97674_6c7e_11eb_bd0c_d8cb8a5cd364row12_col5\" class=\"data row12 col5\" >0.130629</td>\n",
       "                        <td id=\"T_79b97674_6c7e_11eb_bd0c_d8cb8a5cd364row12_col6\" class=\"data row12 col6\" >0.292073</td>\n",
       "                        <td id=\"T_79b97674_6c7e_11eb_bd0c_d8cb8a5cd364row12_col7\" class=\"data row12 col7\" >0.141295</td>\n",
       "                        <td id=\"T_79b97674_6c7e_11eb_bd0c_d8cb8a5cd364row12_col8\" class=\"data row12 col8\" >0.273545</td>\n",
       "                        <td id=\"T_79b97674_6c7e_11eb_bd0c_d8cb8a5cd364row12_col9\" class=\"data row12 col9\" >0.135388</td>\n",
       "                        <td id=\"T_79b97674_6c7e_11eb_bd0c_d8cb8a5cd364row12_col10\" class=\"data row12 col10\" >0.229229</td>\n",
       "                        <td id=\"T_79b97674_6c7e_11eb_bd0c_d8cb8a5cd364row12_col11\" class=\"data row12 col11\" >0.078981</td>\n",
       "                        <td id=\"T_79b97674_6c7e_11eb_bd0c_d8cb8a5cd364row12_col12\" class=\"data row12 col12\" >1.000000</td>\n",
       "                        <td id=\"T_79b97674_6c7e_11eb_bd0c_d8cb8a5cd364row12_col13\" class=\"data row12 col13\" >0.580595</td>\n",
       "                        <td id=\"T_79b97674_6c7e_11eb_bd0c_d8cb8a5cd364row12_col14\" class=\"data row12 col14\" >-0.021554</td>\n",
       "                        <td id=\"T_79b97674_6c7e_11eb_bd0c_d8cb8a5cd364row12_col15\" class=\"data row12 col15\" >-0.080922</td>\n",
       "                        <td id=\"T_79b97674_6c7e_11eb_bd0c_d8cb8a5cd364row12_col16\" class=\"data row12 col16\" >0.286940</td>\n",
       "                        <td id=\"T_79b97674_6c7e_11eb_bd0c_d8cb8a5cd364row12_col17\" class=\"data row12 col17\" >0.876904</td>\n",
       "                        <td id=\"T_79b97674_6c7e_11eb_bd0c_d8cb8a5cd364row12_col18\" class=\"data row12 col18\" >0.230158</td>\n",
       "                        <td id=\"T_79b97674_6c7e_11eb_bd0c_d8cb8a5cd364row12_col19\" class=\"data row12 col19\" >0.200106</td>\n",
       "                        <td id=\"T_79b97674_6c7e_11eb_bd0c_d8cb8a5cd364row12_col20\" class=\"data row12 col20\" >0.205890</td>\n",
       "                        <td id=\"T_79b97674_6c7e_11eb_bd0c_d8cb8a5cd364row12_col21\" class=\"data row12 col21\" >0.192400</td>\n",
       "                        <td id=\"T_79b97674_6c7e_11eb_bd0c_d8cb8a5cd364row12_col22\" class=\"data row12 col22\" >0.364556</td>\n",
       "                        <td id=\"T_79b97674_6c7e_11eb_bd0c_d8cb8a5cd364row12_col23\" class=\"data row12 col23\" >0.041164</td>\n",
       "                        <td id=\"T_79b97674_6c7e_11eb_bd0c_d8cb8a5cd364row12_col24\" class=\"data row12 col24\" >0.029339</td>\n",
       "                        <td id=\"T_79b97674_6c7e_11eb_bd0c_d8cb8a5cd364row12_col25\" class=\"data row12 col25\" >-0.026485</td>\n",
       "                        <td id=\"T_79b97674_6c7e_11eb_bd0c_d8cb8a5cd364row12_col26\" class=\"data row12 col26\" >-0.027918</td>\n",
       "                        <td id=\"T_79b97674_6c7e_11eb_bd0c_d8cb8a5cd364row12_col27\" class=\"data row12 col27\" >-0.027362</td>\n",
       "                        <td id=\"T_79b97674_6c7e_11eb_bd0c_d8cb8a5cd364row12_col28\" class=\"data row12 col28\" >-0.034616</td>\n",
       "                        <td id=\"T_79b97674_6c7e_11eb_bd0c_d8cb8a5cd364row12_col29\" class=\"data row12 col29\" >-0.033301</td>\n",
       "                        <td id=\"T_79b97674_6c7e_11eb_bd0c_d8cb8a5cd364row12_col30\" class=\"data row12 col30\" >0.002267</td>\n",
       "                        <td id=\"T_79b97674_6c7e_11eb_bd0c_d8cb8a5cd364row12_col31\" class=\"data row12 col31\" >-0.028245</td>\n",
       "                        <td id=\"T_79b97674_6c7e_11eb_bd0c_d8cb8a5cd364row12_col32\" class=\"data row12 col32\" >0.012655</td>\n",
       "                        <td id=\"T_79b97674_6c7e_11eb_bd0c_d8cb8a5cd364row12_col33\" class=\"data row12 col33\" >-0.045736</td>\n",
       "                        <td id=\"T_79b97674_6c7e_11eb_bd0c_d8cb8a5cd364row12_col34\" class=\"data row12 col34\" >0.062746</td>\n",
       "                        <td id=\"T_79b97674_6c7e_11eb_bd0c_d8cb8a5cd364row12_col35\" class=\"data row12 col35\" >0.112624</td>\n",
       "                        <td id=\"T_79b97674_6c7e_11eb_bd0c_d8cb8a5cd364row12_col36\" class=\"data row12 col36\" >0.119840</td>\n",
       "                        <td id=\"T_79b97674_6c7e_11eb_bd0c_d8cb8a5cd364row12_col37\" class=\"data row12 col37\" >0.103324</td>\n",
       "                        <td id=\"T_79b97674_6c7e_11eb_bd0c_d8cb8a5cd364row12_col38\" class=\"data row12 col38\" >0.176931</td>\n",
       "                        <td id=\"T_79b97674_6c7e_11eb_bd0c_d8cb8a5cd364row12_col39\" class=\"data row12 col39\" >0.234922</td>\n",
       "                        <td id=\"T_79b97674_6c7e_11eb_bd0c_d8cb8a5cd364row12_col40\" class=\"data row12 col40\" >0.098248</td>\n",
       "                        <td id=\"T_79b97674_6c7e_11eb_bd0c_d8cb8a5cd364row12_col41\" class=\"data row12 col41\" >0.195280</td>\n",
       "                        <td id=\"T_79b97674_6c7e_11eb_bd0c_d8cb8a5cd364row12_col42\" class=\"data row12 col42\" >0.128682</td>\n",
       "                        <td id=\"T_79b97674_6c7e_11eb_bd0c_d8cb8a5cd364row12_col43\" class=\"data row12 col43\" >0.249076</td>\n",
       "                        <td id=\"T_79b97674_6c7e_11eb_bd0c_d8cb8a5cd364row12_col44\" class=\"data row12 col44\" >0.142218</td>\n",
       "                        <td id=\"T_79b97674_6c7e_11eb_bd0c_d8cb8a5cd364row12_col45\" class=\"data row12 col45\" >0.064425</td>\n",
       "                        <td id=\"T_79b97674_6c7e_11eb_bd0c_d8cb8a5cd364row12_col46\" class=\"data row12 col46\" >0.018465</td>\n",
       "                        <td id=\"T_79b97674_6c7e_11eb_bd0c_d8cb8a5cd364row12_col47\" class=\"data row12 col47\" >0.230213</td>\n",
       "                        <td id=\"T_79b97674_6c7e_11eb_bd0c_d8cb8a5cd364row12_col48\" class=\"data row12 col48\" >0.025255</td>\n",
       "                        <td id=\"T_79b97674_6c7e_11eb_bd0c_d8cb8a5cd364row12_col49\" class=\"data row12 col49\" >0.228860</td>\n",
       "                        <td id=\"T_79b97674_6c7e_11eb_bd0c_d8cb8a5cd364row12_col50\" class=\"data row12 col50\" >0.077932</td>\n",
       "                        <td id=\"T_79b97674_6c7e_11eb_bd0c_d8cb8a5cd364row12_col51\" class=\"data row12 col51\" >0.036836</td>\n",
       "            </tr>\n",
       "            <tr>\n",
       "                        <th id=\"T_79b97674_6c7e_11eb_bd0c_d8cb8a5cd364level0_row13\" class=\"row_heading level0 row13\" >rougher.input.feed_pb</th>\n",
       "                        <td id=\"T_79b97674_6c7e_11eb_bd0c_d8cb8a5cd364row13_col0\" class=\"data row13 col0\" >0.590872</td>\n",
       "                        <td id=\"T_79b97674_6c7e_11eb_bd0c_d8cb8a5cd364row13_col1\" class=\"data row13 col1\" >0.348334</td>\n",
       "                        <td id=\"T_79b97674_6c7e_11eb_bd0c_d8cb8a5cd364row13_col2\" class=\"data row13 col2\" >-0.112423</td>\n",
       "                        <td id=\"T_79b97674_6c7e_11eb_bd0c_d8cb8a5cd364row13_col3\" class=\"data row13 col3\" >0.049056</td>\n",
       "                        <td id=\"T_79b97674_6c7e_11eb_bd0c_d8cb8a5cd364row13_col4\" class=\"data row13 col4\" >0.123054</td>\n",
       "                        <td id=\"T_79b97674_6c7e_11eb_bd0c_d8cb8a5cd364row13_col5\" class=\"data row13 col5\" >0.040890</td>\n",
       "                        <td id=\"T_79b97674_6c7e_11eb_bd0c_d8cb8a5cd364row13_col6\" class=\"data row13 col6\" >0.128186</td>\n",
       "                        <td id=\"T_79b97674_6c7e_11eb_bd0c_d8cb8a5cd364row13_col7\" class=\"data row13 col7\" >0.039789</td>\n",
       "                        <td id=\"T_79b97674_6c7e_11eb_bd0c_d8cb8a5cd364row13_col8\" class=\"data row13 col8\" >0.135977</td>\n",
       "                        <td id=\"T_79b97674_6c7e_11eb_bd0c_d8cb8a5cd364row13_col9\" class=\"data row13 col9\" >0.039807</td>\n",
       "                        <td id=\"T_79b97674_6c7e_11eb_bd0c_d8cb8a5cd364row13_col10\" class=\"data row13 col10\" >0.255862</td>\n",
       "                        <td id=\"T_79b97674_6c7e_11eb_bd0c_d8cb8a5cd364row13_col11\" class=\"data row13 col11\" >0.028447</td>\n",
       "                        <td id=\"T_79b97674_6c7e_11eb_bd0c_d8cb8a5cd364row13_col12\" class=\"data row13 col12\" >0.580595</td>\n",
       "                        <td id=\"T_79b97674_6c7e_11eb_bd0c_d8cb8a5cd364row13_col13\" class=\"data row13 col13\" >1.000000</td>\n",
       "                        <td id=\"T_79b97674_6c7e_11eb_bd0c_d8cb8a5cd364row13_col14\" class=\"data row13 col14\" >-0.066139</td>\n",
       "                        <td id=\"T_79b97674_6c7e_11eb_bd0c_d8cb8a5cd364row13_col15\" class=\"data row13 col15\" >-0.060269</td>\n",
       "                        <td id=\"T_79b97674_6c7e_11eb_bd0c_d8cb8a5cd364row13_col16\" class=\"data row13 col16\" >0.219879</td>\n",
       "                        <td id=\"T_79b97674_6c7e_11eb_bd0c_d8cb8a5cd364row13_col17\" class=\"data row13 col17\" >0.748199</td>\n",
       "                        <td id=\"T_79b97674_6c7e_11eb_bd0c_d8cb8a5cd364row13_col18\" class=\"data row13 col18\" >0.330712</td>\n",
       "                        <td id=\"T_79b97674_6c7e_11eb_bd0c_d8cb8a5cd364row13_col19\" class=\"data row13 col19\" >0.098619</td>\n",
       "                        <td id=\"T_79b97674_6c7e_11eb_bd0c_d8cb8a5cd364row13_col20\" class=\"data row13 col20\" >0.286394</td>\n",
       "                        <td id=\"T_79b97674_6c7e_11eb_bd0c_d8cb8a5cd364row13_col21\" class=\"data row13 col21\" >0.080529</td>\n",
       "                        <td id=\"T_79b97674_6c7e_11eb_bd0c_d8cb8a5cd364row13_col22\" class=\"data row13 col22\" >0.292803</td>\n",
       "                        <td id=\"T_79b97674_6c7e_11eb_bd0c_d8cb8a5cd364row13_col23\" class=\"data row13 col23\" >0.321721</td>\n",
       "                        <td id=\"T_79b97674_6c7e_11eb_bd0c_d8cb8a5cd364row13_col24\" class=\"data row13 col24\" >-0.121470</td>\n",
       "                        <td id=\"T_79b97674_6c7e_11eb_bd0c_d8cb8a5cd364row13_col25\" class=\"data row13 col25\" >-0.062528</td>\n",
       "                        <td id=\"T_79b97674_6c7e_11eb_bd0c_d8cb8a5cd364row13_col26\" class=\"data row13 col26\" >-0.133897</td>\n",
       "                        <td id=\"T_79b97674_6c7e_11eb_bd0c_d8cb8a5cd364row13_col27\" class=\"data row13 col27\" >-0.065875</td>\n",
       "                        <td id=\"T_79b97674_6c7e_11eb_bd0c_d8cb8a5cd364row13_col28\" class=\"data row13 col28\" >-0.208999</td>\n",
       "                        <td id=\"T_79b97674_6c7e_11eb_bd0c_d8cb8a5cd364row13_col29\" class=\"data row13 col29\" >-0.058805</td>\n",
       "                        <td id=\"T_79b97674_6c7e_11eb_bd0c_d8cb8a5cd364row13_col30\" class=\"data row13 col30\" >-0.218775</td>\n",
       "                        <td id=\"T_79b97674_6c7e_11eb_bd0c_d8cb8a5cd364row13_col31\" class=\"data row13 col31\" >-0.063409</td>\n",
       "                        <td id=\"T_79b97674_6c7e_11eb_bd0c_d8cb8a5cd364row13_col32\" class=\"data row13 col32\" >-0.190348</td>\n",
       "                        <td id=\"T_79b97674_6c7e_11eb_bd0c_d8cb8a5cd364row13_col33\" class=\"data row13 col33\" >-0.070678</td>\n",
       "                        <td id=\"T_79b97674_6c7e_11eb_bd0c_d8cb8a5cd364row13_col34\" class=\"data row13 col34\" >0.124531</td>\n",
       "                        <td id=\"T_79b97674_6c7e_11eb_bd0c_d8cb8a5cd364row13_col35\" class=\"data row13 col35\" >0.014589</td>\n",
       "                        <td id=\"T_79b97674_6c7e_11eb_bd0c_d8cb8a5cd364row13_col36\" class=\"data row13 col36\" >0.119353</td>\n",
       "                        <td id=\"T_79b97674_6c7e_11eb_bd0c_d8cb8a5cd364row13_col37\" class=\"data row13 col37\" >0.030442</td>\n",
       "                        <td id=\"T_79b97674_6c7e_11eb_bd0c_d8cb8a5cd364row13_col38\" class=\"data row13 col38\" >0.174941</td>\n",
       "                        <td id=\"T_79b97674_6c7e_11eb_bd0c_d8cb8a5cd364row13_col39\" class=\"data row13 col39\" >0.097356</td>\n",
       "                        <td id=\"T_79b97674_6c7e_11eb_bd0c_d8cb8a5cd364row13_col40\" class=\"data row13 col40\" >0.115953</td>\n",
       "                        <td id=\"T_79b97674_6c7e_11eb_bd0c_d8cb8a5cd364row13_col41\" class=\"data row13 col41\" >0.003644</td>\n",
       "                        <td id=\"T_79b97674_6c7e_11eb_bd0c_d8cb8a5cd364row13_col42\" class=\"data row13 col42\" >0.220988</td>\n",
       "                        <td id=\"T_79b97674_6c7e_11eb_bd0c_d8cb8a5cd364row13_col43\" class=\"data row13 col43\" >0.151519</td>\n",
       "                        <td id=\"T_79b97674_6c7e_11eb_bd0c_d8cb8a5cd364row13_col44\" class=\"data row13 col44\" >0.261100</td>\n",
       "                        <td id=\"T_79b97674_6c7e_11eb_bd0c_d8cb8a5cd364row13_col45\" class=\"data row13 col45\" >0.120264</td>\n",
       "                        <td id=\"T_79b97674_6c7e_11eb_bd0c_d8cb8a5cd364row13_col46\" class=\"data row13 col46\" >0.146546</td>\n",
       "                        <td id=\"T_79b97674_6c7e_11eb_bd0c_d8cb8a5cd364row13_col47\" class=\"data row13 col47\" >0.088761</td>\n",
       "                        <td id=\"T_79b97674_6c7e_11eb_bd0c_d8cb8a5cd364row13_col48\" class=\"data row13 col48\" >0.151490</td>\n",
       "                        <td id=\"T_79b97674_6c7e_11eb_bd0c_d8cb8a5cd364row13_col49\" class=\"data row13 col49\" >0.088946</td>\n",
       "                        <td id=\"T_79b97674_6c7e_11eb_bd0c_d8cb8a5cd364row13_col50\" class=\"data row13 col50\" >-0.011527</td>\n",
       "                        <td id=\"T_79b97674_6c7e_11eb_bd0c_d8cb8a5cd364row13_col51\" class=\"data row13 col51\" >-0.016373</td>\n",
       "            </tr>\n",
       "            <tr>\n",
       "                        <th id=\"T_79b97674_6c7e_11eb_bd0c_d8cb8a5cd364level0_row14\" class=\"row_heading level0 row14\" >rougher.input.feed_rate</th>\n",
       "                        <td id=\"T_79b97674_6c7e_11eb_bd0c_d8cb8a5cd364row14_col0\" class=\"data row14 col0\" >0.384161</td>\n",
       "                        <td id=\"T_79b97674_6c7e_11eb_bd0c_d8cb8a5cd364row14_col1\" class=\"data row14 col1\" >0.217805</td>\n",
       "                        <td id=\"T_79b97674_6c7e_11eb_bd0c_d8cb8a5cd364row14_col2\" class=\"data row14 col2\" >0.085372</td>\n",
       "                        <td id=\"T_79b97674_6c7e_11eb_bd0c_d8cb8a5cd364row14_col3\" class=\"data row14 col3\" >0.335329</td>\n",
       "                        <td id=\"T_79b97674_6c7e_11eb_bd0c_d8cb8a5cd364row14_col4\" class=\"data row14 col4\" >0.139258</td>\n",
       "                        <td id=\"T_79b97674_6c7e_11eb_bd0c_d8cb8a5cd364row14_col5\" class=\"data row14 col5\" >0.171920</td>\n",
       "                        <td id=\"T_79b97674_6c7e_11eb_bd0c_d8cb8a5cd364row14_col6\" class=\"data row14 col6\" >0.134082</td>\n",
       "                        <td id=\"T_79b97674_6c7e_11eb_bd0c_d8cb8a5cd364row14_col7\" class=\"data row14 col7\" >0.164751</td>\n",
       "                        <td id=\"T_79b97674_6c7e_11eb_bd0c_d8cb8a5cd364row14_col8\" class=\"data row14 col8\" >0.125703</td>\n",
       "                        <td id=\"T_79b97674_6c7e_11eb_bd0c_d8cb8a5cd364row14_col9\" class=\"data row14 col9\" >0.164116</td>\n",
       "                        <td id=\"T_79b97674_6c7e_11eb_bd0c_d8cb8a5cd364row14_col10\" class=\"data row14 col10\" >0.024535</td>\n",
       "                        <td id=\"T_79b97674_6c7e_11eb_bd0c_d8cb8a5cd364row14_col11\" class=\"data row14 col11\" >0.134463</td>\n",
       "                        <td id=\"T_79b97674_6c7e_11eb_bd0c_d8cb8a5cd364row14_col12\" class=\"data row14 col12\" >-0.021554</td>\n",
       "                        <td id=\"T_79b97674_6c7e_11eb_bd0c_d8cb8a5cd364row14_col13\" class=\"data row14 col13\" >-0.066139</td>\n",
       "                        <td id=\"T_79b97674_6c7e_11eb_bd0c_d8cb8a5cd364row14_col14\" class=\"data row14 col14\" >1.000000</td>\n",
       "                        <td id=\"T_79b97674_6c7e_11eb_bd0c_d8cb8a5cd364row14_col15\" class=\"data row14 col15\" >0.040846</td>\n",
       "                        <td id=\"T_79b97674_6c7e_11eb_bd0c_d8cb8a5cd364row14_col16\" class=\"data row14 col16\" >0.640423</td>\n",
       "                        <td id=\"T_79b97674_6c7e_11eb_bd0c_d8cb8a5cd364row14_col17\" class=\"data row14 col17\" >-0.097470</td>\n",
       "                        <td id=\"T_79b97674_6c7e_11eb_bd0c_d8cb8a5cd364row14_col18\" class=\"data row14 col18\" >0.224844</td>\n",
       "                        <td id=\"T_79b97674_6c7e_11eb_bd0c_d8cb8a5cd364row14_col19\" class=\"data row14 col19\" >0.590691</td>\n",
       "                        <td id=\"T_79b97674_6c7e_11eb_bd0c_d8cb8a5cd364row14_col20\" class=\"data row14 col20\" >0.402912</td>\n",
       "                        <td id=\"T_79b97674_6c7e_11eb_bd0c_d8cb8a5cd364row14_col21\" class=\"data row14 col21\" >0.705803</td>\n",
       "                        <td id=\"T_79b97674_6c7e_11eb_bd0c_d8cb8a5cd364row14_col22\" class=\"data row14 col22\" >0.107300</td>\n",
       "                        <td id=\"T_79b97674_6c7e_11eb_bd0c_d8cb8a5cd364row14_col23\" class=\"data row14 col23\" >0.088502</td>\n",
       "                        <td id=\"T_79b97674_6c7e_11eb_bd0c_d8cb8a5cd364row14_col24\" class=\"data row14 col24\" >-0.034642</td>\n",
       "                        <td id=\"T_79b97674_6c7e_11eb_bd0c_d8cb8a5cd364row14_col25\" class=\"data row14 col25\" >-0.163951</td>\n",
       "                        <td id=\"T_79b97674_6c7e_11eb_bd0c_d8cb8a5cd364row14_col26\" class=\"data row14 col26\" >-0.076555</td>\n",
       "                        <td id=\"T_79b97674_6c7e_11eb_bd0c_d8cb8a5cd364row14_col27\" class=\"data row14 col27\" >-0.204037</td>\n",
       "                        <td id=\"T_79b97674_6c7e_11eb_bd0c_d8cb8a5cd364row14_col28\" class=\"data row14 col28\" >-0.077553</td>\n",
       "                        <td id=\"T_79b97674_6c7e_11eb_bd0c_d8cb8a5cd364row14_col29\" class=\"data row14 col29\" >-0.180499</td>\n",
       "                        <td id=\"T_79b97674_6c7e_11eb_bd0c_d8cb8a5cd364row14_col30\" class=\"data row14 col30\" >-0.014570</td>\n",
       "                        <td id=\"T_79b97674_6c7e_11eb_bd0c_d8cb8a5cd364row14_col31\" class=\"data row14 col31\" >-0.190884</td>\n",
       "                        <td id=\"T_79b97674_6c7e_11eb_bd0c_d8cb8a5cd364row14_col32\" class=\"data row14 col32\" >-0.033584</td>\n",
       "                        <td id=\"T_79b97674_6c7e_11eb_bd0c_d8cb8a5cd364row14_col33\" class=\"data row14 col33\" >-0.220137</td>\n",
       "                        <td id=\"T_79b97674_6c7e_11eb_bd0c_d8cb8a5cd364row14_col34\" class=\"data row14 col34\" >0.275849</td>\n",
       "                        <td id=\"T_79b97674_6c7e_11eb_bd0c_d8cb8a5cd364row14_col35\" class=\"data row14 col35\" >0.260248</td>\n",
       "                        <td id=\"T_79b97674_6c7e_11eb_bd0c_d8cb8a5cd364row14_col36\" class=\"data row14 col36\" >0.178650</td>\n",
       "                        <td id=\"T_79b97674_6c7e_11eb_bd0c_d8cb8a5cd364row14_col37\" class=\"data row14 col37\" >0.265808</td>\n",
       "                        <td id=\"T_79b97674_6c7e_11eb_bd0c_d8cb8a5cd364row14_col38\" class=\"data row14 col38\" >0.041321</td>\n",
       "                        <td id=\"T_79b97674_6c7e_11eb_bd0c_d8cb8a5cd364row14_col39\" class=\"data row14 col39\" >-0.110197</td>\n",
       "                        <td id=\"T_79b97674_6c7e_11eb_bd0c_d8cb8a5cd364row14_col40\" class=\"data row14 col40\" >-0.061465</td>\n",
       "                        <td id=\"T_79b97674_6c7e_11eb_bd0c_d8cb8a5cd364row14_col41\" class=\"data row14 col41\" >0.055021</td>\n",
       "                        <td id=\"T_79b97674_6c7e_11eb_bd0c_d8cb8a5cd364row14_col42\" class=\"data row14 col42\" >0.088724</td>\n",
       "                        <td id=\"T_79b97674_6c7e_11eb_bd0c_d8cb8a5cd364row14_col43\" class=\"data row14 col43\" >-0.126148</td>\n",
       "                        <td id=\"T_79b97674_6c7e_11eb_bd0c_d8cb8a5cd364row14_col44\" class=\"data row14 col44\" >-0.050791</td>\n",
       "                        <td id=\"T_79b97674_6c7e_11eb_bd0c_d8cb8a5cd364row14_col45\" class=\"data row14 col45\" >-0.119925</td>\n",
       "                        <td id=\"T_79b97674_6c7e_11eb_bd0c_d8cb8a5cd364row14_col46\" class=\"data row14 col46\" >-0.033346</td>\n",
       "                        <td id=\"T_79b97674_6c7e_11eb_bd0c_d8cb8a5cd364row14_col47\" class=\"data row14 col47\" >-0.047733</td>\n",
       "                        <td id=\"T_79b97674_6c7e_11eb_bd0c_d8cb8a5cd364row14_col48\" class=\"data row14 col48\" >-0.090979</td>\n",
       "                        <td id=\"T_79b97674_6c7e_11eb_bd0c_d8cb8a5cd364row14_col49\" class=\"data row14 col49\" >-0.060506</td>\n",
       "                        <td id=\"T_79b97674_6c7e_11eb_bd0c_d8cb8a5cd364row14_col50\" class=\"data row14 col50\" >-0.164455</td>\n",
       "                        <td id=\"T_79b97674_6c7e_11eb_bd0c_d8cb8a5cd364row14_col51\" class=\"data row14 col51\" >0.152592</td>\n",
       "            </tr>\n",
       "    </tbody></table>"
      ],
      "text/plain": [
       "<pandas.io.formats.style.Styler at 0x7fbe67bce990>"
      ]
     },
     "execution_count": 109,
     "metadata": {},
     "output_type": "execute_result"
    }
   ],
   "source": [
    "corr_matrix_all = df_train_corr[feature_cols_all].corr()\n",
    "corr_matrix_all.head(15).style.background_gradient(cmap='coolwarm')"
   ]
  },
  {
   "cell_type": "markdown",
   "metadata": {},
   "source": [
    "There are many signs to consider at the same time. But there is a tendency that, for example, many parameters of the flotation plant are strongly correlated with each other. That is, you can reduce the number of highly dependent features."
   ]
  },
  {
   "cell_type": "markdown",
   "metadata": {},
   "source": [
    "Let's create correlation matrices by processing stages:"
   ]
  },
  {
   "cell_type": "code",
   "execution_count": 110,
   "metadata": {},
   "outputs": [],
   "source": [
    "corr_matrix_rougher = df_train_corr[rougher_features].corr()\n",
    "corr_matrix_cleaner = df_train_corr[cleaner_features].corr()"
   ]
  },
  {
   "cell_type": "markdown",
   "metadata": {},
   "source": [
    "Find features with a correlation> 0.9:"
   ]
  },
  {
   "cell_type": "code",
   "execution_count": 51,
   "metadata": {},
   "outputs": [],
   "source": [
    "high_corr_rougher = get_high_corr_cols(corr_matrix_rougher, 0.7)\n",
    "high_corr_cleaner = get_high_corr_cols(corr_matrix_cleaner, 0.7)\n",
    "high_corr_cols = high_corr_rougher + high_corr_cleaner"
   ]
  },
  {
   "cell_type": "markdown",
   "metadata": {},
   "source": [
    "Let's remove features with high correlation from the dataset:"
   ]
  },
  {
   "cell_type": "code",
   "execution_count": 52,
   "metadata": {},
   "outputs": [],
   "source": [
    "df_train_corr = df_train_corr.drop(labels=high_corr_cols, axis=1)"
   ]
  },
  {
   "cell_type": "code",
   "execution_count": 53,
   "metadata": {},
   "outputs": [],
   "source": [
    "#list of selected features for training\n",
    "feature_cols_selected = [col for col in df_train_corr.columns if col not in ['date','final.output.recovery','rougher.output.recovery']]\n",
    "features_rougher_selected = [col for col in feature_cols_selected if 'rougher' in col]\n",
    "features_final_selected = [col for col in feature_cols_selected if 'rougher' not in col]"
   ]
  },
  {
   "cell_type": "code",
   "execution_count": 111,
   "metadata": {},
   "outputs": [
    {
     "name": "stdout",
     "output_type": "stream",
     "text": [
      "We removed 26 features with high correlation.\n"
     ]
    }
   ],
   "source": [
    "print('We removed {} features with high correlation.'.format(len(high_corr_cols)))"
   ]
  },
  {
   "cell_type": "code",
   "execution_count": 55,
   "metadata": {},
   "outputs": [
    {
     "data": {
      "text/plain": [
       "'At this stage we removed  14.47% rows and  66.67% columns from initial dataset.'"
      ]
     },
     "execution_count": 55,
     "metadata": {},
     "output_type": "execute_result"
    }
   ],
   "source": [
    "check_removed_data(df_train, df_train_corr)"
   ]
  },
  {
   "cell_type": "markdown",
   "metadata": {},
   "source": [
    "At this stage, we have significantly reduced the number of features, which should make it easier to work with the model. We can return to this step and try to set a different threshold for filtering features based on the correlation value in order to improve the quality of the model."
   ]
  },
  {
   "cell_type": "markdown",
   "metadata": {},
   "source": [
    "# 3. Train and validate model <a class=\"anchor\" id=\"step3\"></a>\n",
    "[back to content](#content)"
   ]
  },
  {
   "cell_type": "markdown",
   "metadata": {},
   "source": [
    "## 3.1 Functions for calculation of final metric <a class=\"anchor\" id=\"step3.1\"></a>\n",
    "[back to content](#content)"
   ]
  },
  {
   "cell_type": "code",
   "execution_count": 56,
   "metadata": {},
   "outputs": [],
   "source": [
    "def calculate_smape(target, prediction):\n",
    "    smape = 100/len(target) * np.sum(2 * np.abs(target - prediction) / (np.abs(target) + np.abs(prediction)))\n",
    "    return np.round(smape, 2)\n",
    "\n",
    "def calculate_result_smape(smape_rougher, smape_final):\n",
    "    smape_result = 0.25 * smape_rougher + 0.75 * smape_final\n",
    "    return np.round(smape_result, 2)\n",
    "    \n",
    "    \n",
    "smape_scorer = {'main': 'neg_mean_absolute_error',\n",
    "                'custom': make_scorer(calculate_smape, greater_is_better=False)}"
   ]
  },
  {
   "cell_type": "markdown",
   "metadata": {},
   "source": [
    "## 3.2 Train Test Split <a class=\"anchor\" id=\"step3.2\"></a>\n",
    "[back to content](#content)"
   ]
  },
  {
   "cell_type": "code",
   "execution_count": 57,
   "metadata": {},
   "outputs": [],
   "source": [
    "#function for automatic data splitting into training and validation samples\n",
    "def split_data(df, test_size, features, target):\n",
    "    df_train, df_valid = train_test_split(df,test_size=test_size,\n",
    "                                          random_state=random_state,\n",
    "                                          shuffle=True)\n",
    "\n",
    "    features_train = df_train[features]\n",
    "    target_train = df_train[target]\n",
    "    features_valid =df_valid[features]\n",
    "    target_valid = df_valid[target]\n",
    "    \n",
    "    return features_train, target_train, features_valid, target_valid"
   ]
  },
  {
   "cell_type": "code",
   "execution_count": 58,
   "metadata": {},
   "outputs": [],
   "source": [
    "features_train, target_train, features_valid, target_valid = split_data(df_train_corr, 0.25, feature_cols_selected, target_cols)"
   ]
  },
  {
   "cell_type": "code",
   "execution_count": 112,
   "metadata": {},
   "outputs": [
    {
     "name": "stdout",
     "output_type": "stream",
     "text": [
      "Training sample size: (10815, 26)\n",
      "Test samle size: (3605, 26)\n"
     ]
    }
   ],
   "source": [
    "#посмотрим на размеры полученных датафреймов\n",
    "print('Training sample size: {}'.format(features_train.shape))\n",
    "print('Test samle size: {}'.format(features_valid.shape))"
   ]
  },
  {
   "cell_type": "markdown",
   "metadata": {},
   "source": [
    "## 3.3 Model 1 <a class=\"anchor\" id=\"step3.3\"></a>\n",
    "[back to content](#content)"
   ]
  },
  {
   "cell_type": "code",
   "execution_count": 60,
   "metadata": {},
   "outputs": [],
   "source": [
    "#train the model\n",
    "model_1_rougher = LinearRegression().fit(features_train[features_rougher_selected],\n",
    "                                         target_train['rougher.output.recovery'])\n",
    "\n",
    "model_1_final = LinearRegression().fit(features_train,\n",
    "                                       target_train['final.output.recovery'])"
   ]
  },
  {
   "cell_type": "code",
   "execution_count": 61,
   "metadata": {},
   "outputs": [],
   "source": [
    "#function to check models metrics on cross validation\n",
    "def cross_validation(model, features, target, scorer, cv):\n",
    "    result = cross_validate(model, features, target, scoring=scorer, cv=5)\n",
    "    \n",
    "    avg_test_score = np.round(np.abs(np.mean(result['test_custom'])), 2)\n",
    "    \n",
    "    return avg_test_score"
   ]
  },
  {
   "cell_type": "code",
   "execution_count": 62,
   "metadata": {},
   "outputs": [],
   "source": [
    "cross_val_1_rougher = cross_validation(model_1_rougher,\n",
    "                                       features_valid[features_rougher_selected],\n",
    "                                       target_valid['rougher.output.recovery'],\n",
    "                                       smape_scorer, 5)\n",
    "cross_val_1_final = cross_validation(model_1_final, features_valid,\n",
    "                                     target_valid['final.output.recovery'],\n",
    "                                     smape_scorer, 5)"
   ]
  },
  {
   "cell_type": "code",
   "execution_count": 113,
   "metadata": {},
   "outputs": [
    {
     "name": "stdout",
     "output_type": "stream",
     "text": [
      "sMAPE on cross-validation (regression for rougher): 5.76\n"
     ]
    }
   ],
   "source": [
    "print('sMAPE on cross-validation (regression for rougher): {}'.format(cross_val_1_rougher))"
   ]
  },
  {
   "cell_type": "code",
   "execution_count": 114,
   "metadata": {},
   "outputs": [
    {
     "name": "stdout",
     "output_type": "stream",
     "text": [
      "sMAPE on cross-validation (regression for final): 9.29\n"
     ]
    }
   ],
   "source": [
    "print('sMAPE on cross-validation (regression for final): {}'.format(cross_val_1_final))"
   ]
  },
  {
   "cell_type": "code",
   "execution_count": 128,
   "metadata": {},
   "outputs": [
    {
     "name": "stdout",
     "output_type": "stream",
     "text": [
      "Final sMAPE for regression: 8.41\n"
     ]
    }
   ],
   "source": [
    "model1_smape = calculate_result_smape(cross_val_1_rougher,cross_val_1_final)\n",
    "print('Final sMAPE for regression: {}'.format(model1_smape))"
   ]
  },
  {
   "cell_type": "markdown",
   "metadata": {},
   "source": [
    "## 3.4 Model 2 <a class=\"anchor\" id=\"step3.4\"></a>\n",
    "[back to content](#content)"
   ]
  },
  {
   "cell_type": "code",
   "execution_count": 66,
   "metadata": {},
   "outputs": [],
   "source": [
    "#function to perform GridSearchCV\n",
    "def find_best_hyperparams(df_features, df_target, estimator, random_state, param_grid, cv, scoring):\n",
    "    grid_search_cv = GridSearchCV(estimator=estimator(random_state=random_state),\n",
    "                                  param_grid=param_grid,\n",
    "                                  cv=cv,\n",
    "                                  scoring=scoring,\n",
    "                                  refit='custom')\n",
    "    grid_search_cv.fit(df_features, df_target)\n",
    "    return grid_search_cv.best_estimator_"
   ]
  },
  {
   "cell_type": "code",
   "execution_count": 67,
   "metadata": {},
   "outputs": [],
   "source": [
    "#grid to look for hyperparameters\n",
    "max_depth = [5, 10, 20, 30, 50]\n",
    "min_samples_leaf = [1, 5, 15, 20]\n",
    "param_tree  = {'max_depth': max_depth,\n",
    "               'min_samples_leaf': min_samples_leaf}"
   ]
  },
  {
   "cell_type": "raw",
   "metadata": {},
   "source": [
    "%%time\n",
    "#find the best hyperparameters for the decision tree: rougher\n",
    "find_best_hyperparams(features_train[features_rougher_selected],\n",
    "                      target_train['rougher.output.recovery'],\n",
    "                      DecisionTreeRegressor,\n",
    "                      random_state,\n",
    "                      param_tree,\n",
    "                      5,\n",
    "                      smape_scorer)"
   ]
  },
  {
   "cell_type": "code",
   "execution_count": 68,
   "metadata": {},
   "outputs": [],
   "source": [
    "#result from GridSearch rougher\n",
    "#DecisionTreeRegressor(max_depth=30, min_samples_leaf=15, random_state=666)"
   ]
  },
  {
   "cell_type": "raw",
   "metadata": {},
   "source": [
    "%%time\n",
    "#find the best hyperparameters for the decision tree: final\n",
    "find_best_hyperparams(features_train,\n",
    "                      target_train['final.output.recovery'],\n",
    "                      DecisionTreeRegressor,\n",
    "                      random_state,\n",
    "                      param_tree,\n",
    "                      5,\n",
    "                      smape_scorer)"
   ]
  },
  {
   "cell_type": "code",
   "execution_count": 69,
   "metadata": {},
   "outputs": [],
   "source": [
    "#DecisionTreeRegressor(max_depth=10, min_samples_leaf=20, random_state=666)"
   ]
  },
  {
   "cell_type": "code",
   "execution_count": 70,
   "metadata": {},
   "outputs": [],
   "source": [
    "#train the model and save the predictions\n",
    "model_2_rougher = DecisionTreeRegressor(max_depth=30, min_samples_leaf=15).fit(features_train[features_rougher_selected],\n",
    "                                         target_train['rougher.output.recovery'])\n",
    "\n",
    "model_2_final = DecisionTreeRegressor(max_depth=10, min_samples_leaf=20).fit(features_train,\n",
    "                                       target_train['final.output.recovery'])"
   ]
  },
  {
   "cell_type": "code",
   "execution_count": 71,
   "metadata": {},
   "outputs": [],
   "source": [
    "cross_val_2_rougher = cross_validation(model_2_rougher,\n",
    "                                       features_valid[features_rougher_selected],\n",
    "                                       target_valid['rougher.output.recovery'],\n",
    "                                       smape_scorer, 5)\n",
    "cross_val_2_final = cross_validation(model_2_final, features_valid,\n",
    "                                     target_valid['final.output.recovery'],\n",
    "                                     smape_scorer, 5)"
   ]
  },
  {
   "cell_type": "code",
   "execution_count": 116,
   "metadata": {},
   "outputs": [
    {
     "name": "stdout",
     "output_type": "stream",
     "text": [
      "sMAPE on cross-validation (decision tree for rougher): 4.89\n"
     ]
    }
   ],
   "source": [
    "print('sMAPE on cross-validation (decision tree for rougher): {}'.format(cross_val_2_rougher))"
   ]
  },
  {
   "cell_type": "code",
   "execution_count": 117,
   "metadata": {},
   "outputs": [
    {
     "name": "stdout",
     "output_type": "stream",
     "text": [
      "sMAPE on cross-validation (decision tree for final): 8.85\n"
     ]
    }
   ],
   "source": [
    "print('sMAPE on cross-validation (decision tree for final): {}'.format(cross_val_2_final))"
   ]
  },
  {
   "cell_type": "code",
   "execution_count": 129,
   "metadata": {},
   "outputs": [
    {
     "name": "stdout",
     "output_type": "stream",
     "text": [
      "The final sMAPE for the decision tree: 7.86\n"
     ]
    }
   ],
   "source": [
    "model2_smape = calculate_result_smape(cross_val_2_rougher,cross_val_2_final)\n",
    "print('The final sMAPE for the decision tree: {}'.format(model2_smape))"
   ]
  },
  {
   "cell_type": "markdown",
   "metadata": {},
   "source": [
    "## 3.5 Model 3 <a class=\"anchor\" id=\"step3.5\"></a>\n",
    "[back to content](#content)"
   ]
  },
  {
   "cell_type": "code",
   "execution_count": 75,
   "metadata": {},
   "outputs": [],
   "source": [
    "#grid to look for hyperparameters\n",
    "max_depth = [5, 15, 20]\n",
    "min_samples_leaf = [5, 15, 20]\n",
    "param_forest  = {'max_depth': max_depth,\n",
    "                 'min_samples_leaf': min_samples_leaf}"
   ]
  },
  {
   "cell_type": "raw",
   "metadata": {},
   "source": [
    "%%time\n",
    "#find the best hyperparameters: rougher\n",
    "find_best_hyperparams(features_train[features_rougher_selected],\n",
    "                      target_train['rougher.output.recovery'],\n",
    "                      RandomForestRegressor,\n",
    "                      random_state,\n",
    "                      param_forest,\n",
    "                      3,\n",
    "                      smape_scorer)"
   ]
  },
  {
   "cell_type": "code",
   "execution_count": 76,
   "metadata": {},
   "outputs": [],
   "source": [
    "#result from GridSearch\n",
    "#RandomForestRegressor(max_depth=20, min_samples_leaf=5, random_state=666)"
   ]
  },
  {
   "cell_type": "code",
   "execution_count": 77,
   "metadata": {},
   "outputs": [
    {
     "name": "stdout",
     "output_type": "stream",
     "text": [
      "CPU times: user 24.3 s, sys: 20 ms, total: 24.3 s\n",
      "Wall time: 24.3 s\n"
     ]
    }
   ],
   "source": [
    "%%time\n",
    "#train the model and save predictions\n",
    "model_3_rougher = RandomForestRegressor(max_depth=20, min_samples_leaf=5).fit(features_train[features_rougher_selected],\n",
    "                                         target_train['rougher.output.recovery'])\n",
    "\n",
    "model_3_final = RandomForestRegressor(max_depth=20, min_samples_leaf=5).fit(features_train[feature_cols_selected],\n",
    "                                       target_train['final.output.recovery'])"
   ]
  },
  {
   "cell_type": "code",
   "execution_count": 78,
   "metadata": {},
   "outputs": [
    {
     "name": "stdout",
     "output_type": "stream",
     "text": [
      "CPU times: user 24.6 s, sys: 10.5 ms, total: 24.6 s\n",
      "Wall time: 24.6 s\n"
     ]
    }
   ],
   "source": [
    "%%time\n",
    "cross_val_3_rougher = cross_validation(model_3_rougher,\n",
    "                                       features_valid[features_rougher_selected],\n",
    "                                       target_valid['rougher.output.recovery'],\n",
    "                                       smape_scorer, 5)\n",
    "cross_val_3_final = cross_validation(model_3_final, features_valid[feature_cols_selected],\n",
    "                                     target_valid['final.output.recovery'],\n",
    "                                     smape_scorer, 5)"
   ]
  },
  {
   "cell_type": "code",
   "execution_count": 119,
   "metadata": {},
   "outputs": [
    {
     "name": "stdout",
     "output_type": "stream",
     "text": [
      "sMAPE on cross-validation (random forest for rougher): 4.0\n"
     ]
    }
   ],
   "source": [
    "print('sMAPE on cross-validation (random forest for rougher): {}'.format(cross_val_3_rougher))"
   ]
  },
  {
   "cell_type": "code",
   "execution_count": 120,
   "metadata": {},
   "outputs": [
    {
     "name": "stdout",
     "output_type": "stream",
     "text": [
      "sMAPE on cross-validation (random forest for final): 7.27\n"
     ]
    }
   ],
   "source": [
    "print('sMAPE on cross-validation (random forest for final): {}'.format(cross_val_3_final))"
   ]
  },
  {
   "cell_type": "code",
   "execution_count": 130,
   "metadata": {},
   "outputs": [
    {
     "name": "stdout",
     "output_type": "stream",
     "text": [
      "Summary sMAPE for random forest: 6.45\n"
     ]
    }
   ],
   "source": [
    "model3_smape = calculate_result_smape(cross_val_3_rougher,cross_val_3_final)\n",
    "print('Summary sMAPcalculate_result_smape(cross_val_best_rougher,cross_val_best_final)E for random forest: {}'.format(model3_smape))"
   ]
  },
  {
   "cell_type": "markdown",
   "metadata": {},
   "source": [
    "## 3.6 Model selection <a class=\"anchor\" id=\"step3.6\"></a>\n",
    "[back to content](#content)"
   ]
  },
  {
   "cell_type": "markdown",
   "metadata": {},
   "source": [
    "Let's look at the results in the pivot table and choose the best model:"
   ]
  },
  {
   "cell_type": "code",
   "execution_count": 122,
   "metadata": {},
   "outputs": [],
   "source": [
    "model_results = pd.DataFrame(\n",
    "    {'Model': ['Linear Regression [overall]','Linear Regression [rougher]', 'Linear Regression [final]',\n",
    "                'Decision Tree [overall]', 'Decision Tree [rougher]','Decision Tree [final]',\n",
    "                'Random Forest [overall]', 'Random Forest [rougher]', 'Random Forest [final]'],\n",
    "     'sMAPE on CV': [calculate_result_smape(cross_val_1_rougher,cross_val_1_final),\n",
    "                                  cross_val_1_rougher, cross_val_1_final,\n",
    "                                  calculate_result_smape(cross_val_2_rougher,cross_val_2_final),\n",
    "                                  cross_val_2_rougher, cross_val_2_final,\n",
    "                                  calculate_result_smape(cross_val_3_rougher,cross_val_3_final),\n",
    "                                  cross_val_3_rougher, cross_val_3_final]}).sort_values('sMAPE on CV')"
   ]
  },
  {
   "cell_type": "code",
   "execution_count": 123,
   "metadata": {},
   "outputs": [
    {
     "data": {
      "text/html": [
       "<style  type=\"text/css\" >\n",
       "#T_6442e9d0_6c81_11eb_bd0c_d8cb8a5cd364row0_col1{\n",
       "            background-color:  #3b4cc0;\n",
       "            color:  #f1f1f1;\n",
       "        }#T_6442e9d0_6c81_11eb_bd0c_d8cb8a5cd364row1_col1{\n",
       "            background-color:  #7093f3;\n",
       "            color:  #000000;\n",
       "        }#T_6442e9d0_6c81_11eb_bd0c_d8cb8a5cd364row2_col1{\n",
       "            background-color:  #aac7fd;\n",
       "            color:  #000000;\n",
       "        }#T_6442e9d0_6c81_11eb_bd0c_d8cb8a5cd364row3_col1{\n",
       "            background-color:  #d3dbe7;\n",
       "            color:  #000000;\n",
       "        }#T_6442e9d0_6c81_11eb_bd0c_d8cb8a5cd364row4_col1{\n",
       "            background-color:  #f4c6af;\n",
       "            color:  #000000;\n",
       "        }#T_6442e9d0_6c81_11eb_bd0c_d8cb8a5cd364row5_col1{\n",
       "            background-color:  #f6a283;\n",
       "            color:  #000000;\n",
       "        }#T_6442e9d0_6c81_11eb_bd0c_d8cb8a5cd364row6_col1{\n",
       "            background-color:  #e7745b;\n",
       "            color:  #000000;\n",
       "        }#T_6442e9d0_6c81_11eb_bd0c_d8cb8a5cd364row7_col1{\n",
       "            background-color:  #d1493f;\n",
       "            color:  #f1f1f1;\n",
       "        }#T_6442e9d0_6c81_11eb_bd0c_d8cb8a5cd364row8_col1{\n",
       "            background-color:  #b40426;\n",
       "            color:  #f1f1f1;\n",
       "        }</style><table id=\"T_6442e9d0_6c81_11eb_bd0c_d8cb8a5cd364\" ><thead>    <tr>        <th class=\"blank level0\" ></th>        <th class=\"col_heading level0 col0\" >Model</th>        <th class=\"col_heading level0 col1\" >sMAPE on CV</th>    </tr></thead><tbody>\n",
       "                <tr>\n",
       "                        <th id=\"T_6442e9d0_6c81_11eb_bd0c_d8cb8a5cd364level0_row0\" class=\"row_heading level0 row0\" >7</th>\n",
       "                        <td id=\"T_6442e9d0_6c81_11eb_bd0c_d8cb8a5cd364row0_col0\" class=\"data row0 col0\" >Random Forest [rougher]</td>\n",
       "                        <td id=\"T_6442e9d0_6c81_11eb_bd0c_d8cb8a5cd364row0_col1\" class=\"data row0 col1\" >4.00</td>\n",
       "            </tr>\n",
       "            <tr>\n",
       "                        <th id=\"T_6442e9d0_6c81_11eb_bd0c_d8cb8a5cd364level0_row1\" class=\"row_heading level0 row1\" >4</th>\n",
       "                        <td id=\"T_6442e9d0_6c81_11eb_bd0c_d8cb8a5cd364row1_col0\" class=\"data row1 col0\" >Decision Tree [rougher]</td>\n",
       "                        <td id=\"T_6442e9d0_6c81_11eb_bd0c_d8cb8a5cd364row1_col1\" class=\"data row1 col1\" >4.89</td>\n",
       "            </tr>\n",
       "            <tr>\n",
       "                        <th id=\"T_6442e9d0_6c81_11eb_bd0c_d8cb8a5cd364level0_row2\" class=\"row_heading level0 row2\" >1</th>\n",
       "                        <td id=\"T_6442e9d0_6c81_11eb_bd0c_d8cb8a5cd364row2_col0\" class=\"data row2 col0\" >Linear Regression [rougher]</td>\n",
       "                        <td id=\"T_6442e9d0_6c81_11eb_bd0c_d8cb8a5cd364row2_col1\" class=\"data row2 col1\" >5.76</td>\n",
       "            </tr>\n",
       "            <tr>\n",
       "                        <th id=\"T_6442e9d0_6c81_11eb_bd0c_d8cb8a5cd364level0_row3\" class=\"row_heading level0 row3\" >6</th>\n",
       "                        <td id=\"T_6442e9d0_6c81_11eb_bd0c_d8cb8a5cd364row3_col0\" class=\"data row3 col0\" >Random Forest [overall]</td>\n",
       "                        <td id=\"T_6442e9d0_6c81_11eb_bd0c_d8cb8a5cd364row3_col1\" class=\"data row3 col1\" >6.45</td>\n",
       "            </tr>\n",
       "            <tr>\n",
       "                        <th id=\"T_6442e9d0_6c81_11eb_bd0c_d8cb8a5cd364level0_row4\" class=\"row_heading level0 row4\" >8</th>\n",
       "                        <td id=\"T_6442e9d0_6c81_11eb_bd0c_d8cb8a5cd364row4_col0\" class=\"data row4 col0\" >Random Forest [final]</td>\n",
       "                        <td id=\"T_6442e9d0_6c81_11eb_bd0c_d8cb8a5cd364row4_col1\" class=\"data row4 col1\" >7.27</td>\n",
       "            </tr>\n",
       "            <tr>\n",
       "                        <th id=\"T_6442e9d0_6c81_11eb_bd0c_d8cb8a5cd364level0_row5\" class=\"row_heading level0 row5\" >3</th>\n",
       "                        <td id=\"T_6442e9d0_6c81_11eb_bd0c_d8cb8a5cd364row5_col0\" class=\"data row5 col0\" >Decision Tree [overall]</td>\n",
       "                        <td id=\"T_6442e9d0_6c81_11eb_bd0c_d8cb8a5cd364row5_col1\" class=\"data row5 col1\" >7.86</td>\n",
       "            </tr>\n",
       "            <tr>\n",
       "                        <th id=\"T_6442e9d0_6c81_11eb_bd0c_d8cb8a5cd364level0_row6\" class=\"row_heading level0 row6\" >0</th>\n",
       "                        <td id=\"T_6442e9d0_6c81_11eb_bd0c_d8cb8a5cd364row6_col0\" class=\"data row6 col0\" >Linear Regression [overall]</td>\n",
       "                        <td id=\"T_6442e9d0_6c81_11eb_bd0c_d8cb8a5cd364row6_col1\" class=\"data row6 col1\" >8.41</td>\n",
       "            </tr>\n",
       "            <tr>\n",
       "                        <th id=\"T_6442e9d0_6c81_11eb_bd0c_d8cb8a5cd364level0_row7\" class=\"row_heading level0 row7\" >5</th>\n",
       "                        <td id=\"T_6442e9d0_6c81_11eb_bd0c_d8cb8a5cd364row7_col0\" class=\"data row7 col0\" >Decision Tree [final]</td>\n",
       "                        <td id=\"T_6442e9d0_6c81_11eb_bd0c_d8cb8a5cd364row7_col1\" class=\"data row7 col1\" >8.85</td>\n",
       "            </tr>\n",
       "            <tr>\n",
       "                        <th id=\"T_6442e9d0_6c81_11eb_bd0c_d8cb8a5cd364level0_row8\" class=\"row_heading level0 row8\" >2</th>\n",
       "                        <td id=\"T_6442e9d0_6c81_11eb_bd0c_d8cb8a5cd364row8_col0\" class=\"data row8 col0\" >Linear Regression [final]</td>\n",
       "                        <td id=\"T_6442e9d0_6c81_11eb_bd0c_d8cb8a5cd364row8_col1\" class=\"data row8 col1\" >9.29</td>\n",
       "            </tr>\n",
       "    </tbody></table>"
      ],
      "text/plain": [
       "<pandas.io.formats.style.Styler at 0x7fbe569f3550>"
      ]
     },
     "execution_count": 123,
     "metadata": {},
     "output_type": "execute_result"
    }
   ],
   "source": [
    "model_results.style.background_gradient(cmap='coolwarm').set_precision(2)"
   ]
  },
  {
   "cell_type": "markdown",
   "metadata": {},
   "source": [
    "The best results were shown by: **Random Forest**."
   ]
  },
  {
   "cell_type": "markdown",
   "metadata": {},
   "source": [
    "# 4. Test the model <a class=\"anchor\" id=\"step4\"></a>\n",
    "[back to content](#content)"
   ]
  },
  {
   "cell_type": "markdown",
   "metadata": {},
   "source": [
    "## 4.1 Model performance on test data <a class=\"anchor\" id=\"step4.1\"></a>\n",
    "[back to content](#content)"
   ]
  },
  {
   "cell_type": "code",
   "execution_count": 84,
   "metadata": {},
   "outputs": [],
   "source": [
    "#set date as index in both datasets\n",
    "df_test_eval = df_test_outliers.copy()\n",
    "df_test_eval = df_test_eval.set_index(['date'])\n",
    "\n",
    "df_full_eval = df_full.copy()\n",
    "df_full_eval = df_full.set_index(['date'])"
   ]
  },
  {
   "cell_type": "code",
   "execution_count": 85,
   "metadata": {},
   "outputs": [],
   "source": [
    "#get missing data in test dataset from full dataset\n",
    "#remove missing data from test data and remove negative target values\n",
    "df_test_eval['rougher.output.recovery'] = df_full_eval.loc[df_test_eval.index]['rougher.output.recovery']\n",
    "df_test_eval['final.output.recovery'] = df_full_eval.loc[df_test_eval.index]['final.output.recovery']\n",
    "df_test_eval = df_test_eval.dropna()\n",
    "df_test_eval = df_test_eval[df_test_eval['rougher.output.recovery'] > 0]"
   ]
  },
  {
   "cell_type": "code",
   "execution_count": 86,
   "metadata": {},
   "outputs": [
    {
     "name": "stdout",
     "output_type": "stream",
     "text": [
      "CPU times: user 34.2 s, sys: 17.3 ms, total: 34.2 s\n",
      "Wall time: 34.2 s\n"
     ]
    }
   ],
   "source": [
    "%%time\n",
    "#train the model\n",
    "model_best_rougher = RandomForestRegressor(max_depth=20, min_samples_leaf=5).fit(df_train_corr[features_rougher_selected],\n",
    "                                         df_train_corr['rougher.output.recovery'])\n",
    "\n",
    "model_best_final = RandomForestRegressor(max_depth=20, min_samples_leaf=5).fit(df_train_corr[feature_cols_selected],\n",
    "                                       df_train_corr['final.output.recovery'])"
   ]
  },
  {
   "cell_type": "code",
   "execution_count": 87,
   "metadata": {},
   "outputs": [
    {
     "name": "stdout",
     "output_type": "stream",
     "text": [
      "CPU times: user 42.2 s, sys: 4.72 ms, total: 42.2 s\n",
      "Wall time: 42.3 s\n"
     ]
    }
   ],
   "source": [
    "%%time\n",
    "cross_val_best_rougher = cross_validation(model_best_rougher,\n",
    "                                       df_test_eval[features_rougher_selected],\n",
    "                                       df_test_eval['rougher.output.recovery'],\n",
    "                                       smape_scorer, 5)\n",
    "cross_val_best_final = cross_validation(model_best_final,\n",
    "                                        df_test_eval[feature_cols_selected],\n",
    "                                        df_test_eval['final.output.recovery'],\n",
    "                                        smape_scorer, 5)"
   ]
  },
  {
   "cell_type": "code",
   "execution_count": 125,
   "metadata": {},
   "outputs": [
    {
     "name": "stdout",
     "output_type": "stream",
     "text": [
      "sMAPE on test data for rougher: 4.55\n"
     ]
    }
   ],
   "source": [
    "print('sMAPE on test data for rougher: {}'.format(cross_val_best_rougher))"
   ]
  },
  {
   "cell_type": "code",
   "execution_count": 126,
   "metadata": {},
   "outputs": [
    {
     "name": "stdout",
     "output_type": "stream",
     "text": [
      "sMAPE on test data for final: 9.05\n"
     ]
    }
   ],
   "source": [
    "print('sMAPE on test data for final: {}'.format(cross_val_best_final))"
   ]
  },
  {
   "cell_type": "code",
   "execution_count": 131,
   "metadata": {},
   "outputs": [
    {
     "name": "stdout",
     "output_type": "stream",
     "text": [
      "Overall sMAPE on test data: 7.93\n"
     ]
    }
   ],
   "source": [
    "model3_test_smape = calculate_result_smape(cross_val_best_rougher,cross_val_best_final)\n",
    "print('Overall sMAPE on test data: {}'.format(model3_test_smape))"
   ]
  },
  {
   "cell_type": "code",
   "execution_count": 134,
   "metadata": {},
   "outputs": [],
   "source": [
    "#lets summurize results of model evaluation in one table\n",
    "results = pd.DataFrame({'Model': ['Linear Regression', 'Decision Tree', 'Random Forest'],\n",
    "                        'overall sMAPE (CV)': [model1_smape, model2_smape, model3_smape],\n",
    "                        'overall sMAPE (test)': [None,None,model3_test_smape]})"
   ]
  },
  {
   "cell_type": "markdown",
   "metadata": {},
   "source": [
    "Lets visualize models performance:"
   ]
  },
  {
   "cell_type": "code",
   "execution_count": 138,
   "metadata": {},
   "outputs": [
    {
     "data": {
      "text/plain": [
       "<matplotlib.legend.Legend at 0x7fbe56fc0450>"
      ]
     },
     "execution_count": 138,
     "metadata": {},
     "output_type": "execute_result"
    },
    {
     "data": {
      "image/png": "[encoded data removed]",
      "text/plain": [
       "<Figure size 720x360 with 1 Axes>"
      ]
     },
     "metadata": {
      "needs_background": "light"
     },
     "output_type": "display_data"
    }
   ],
   "source": [
    "results.plot(kind='bar', x='Model', y=['overall sMAPE (CV)', 'overall sMAPE (test)'], figsize=(10,5))\n",
    "plt.ylabel('sMAPE score')\n",
    "plt.title('Model metrics comparison (lower is better)')\n",
    "plt.xticks(rotation=30)\n",
    "plt.legend(loc='lower right')"
   ]
  },
  {
   "cell_type": "markdown",
   "metadata": {},
   "source": [
    "## 4.2 Comparison with dummy model<a class=\"anchor\" id=\"step4.2\"></a>\n",
    "[back to content](#content)"
   ]
  },
  {
   "cell_type": "markdown",
   "metadata": {},
   "source": [
    "Let's create a dummy model that predicts the median value for a target feature:"
   ]
  },
  {
   "cell_type": "code",
   "execution_count": 91,
   "metadata": {},
   "outputs": [],
   "source": [
    "dummy_reg_rougher = DummyRegressor(strategy='median').fit(df_train_corr[features_rougher_selected],\n",
    "                                                          df_train_corr['rougher.output.recovery'])\n",
    "\n",
    "dummy_reg_final = DummyRegressor(strategy='median').fit(df_train_corr[features_final_selected],\n",
    "                                                          df_train_corr['final.output.recovery'])"
   ]
  },
  {
   "cell_type": "code",
   "execution_count": 92,
   "metadata": {},
   "outputs": [
    {
     "name": "stdout",
     "output_type": "stream",
     "text": [
      "CPU times: user 28.5 ms, sys: 9 µs, total: 28.5 ms\n",
      "Wall time: 27.6 ms\n"
     ]
    }
   ],
   "source": [
    "%%time\n",
    "cross_val_dummy_rougher = cross_validation(dummy_reg_rougher,\n",
    "                                       df_test_eval[features_rougher_selected],\n",
    "                                       df_test_eval['rougher.output.recovery'],\n",
    "                                       smape_scorer, 5)\n",
    "\n",
    "cross_val_dummy_final = cross_validation(dummy_reg_final,\n",
    "                                        df_test_eval[features_final_selected],\n",
    "                                        df_test_eval['final.output.recovery'],\n",
    "                                        smape_scorer, 5)"
   ]
  },
  {
   "cell_type": "code",
   "execution_count": 139,
   "metadata": {},
   "outputs": [
    {
     "name": "stdout",
     "output_type": "stream",
     "text": [
      "Overall sMAPE score for dummy on test data: 8.09\n"
     ]
    }
   ],
   "source": [
    "model_dummy_smape = calculate_result_smape(cross_val_dummy_rougher,cross_val_dummy_final)\n",
    "print('Overall sMAPE score for dummy on test data: {}'.format(model_dummy_smape))"
   ]
  },
  {
   "cell_type": "code",
   "execution_count": 141,
   "metadata": {},
   "outputs": [],
   "source": [
    "#save results of dummy comparison in a table\n",
    "dummy_compare = pd.DataFrame({'Model': ['Random Forest', 'DummyRegresspr (median)'],\n",
    "                              'overall sMAPE (test)': [model3_test_smape,model_dummy_smape]})"
   ]
  },
  {
   "cell_type": "markdown",
   "metadata": {},
   "source": [
    "Results of dummy comparison:"
   ]
  },
  {
   "cell_type": "code",
   "execution_count": 142,
   "metadata": {},
   "outputs": [
    {
     "data": {
      "text/plain": [
       "Text(0.5, 0, 'Model')"
      ]
     },
     "execution_count": 142,
     "metadata": {},
     "output_type": "execute_result"
    },
    {
     "data": {
      "image/png": "[encoded data removed]",
      "text/plain": [
       "<Figure size 432x288 with 1 Axes>"
      ]
     },
     "metadata": {
      "needs_background": "light"
     },
     "output_type": "display_data"
    }
   ],
   "source": [
    "plt.title('Best model vs dummy comparison (lower is better)')\n",
    "sns.barplot(data=dummy_compare, x='Model', y='overall sMAPE (test)')\n",
    "plt.ylabel('sMAPE score')\n",
    "plt.xlabel('Model')"
   ]
  },
  {
   "cell_type": "markdown",
   "metadata": {},
   "source": [
    "# 5. Summary <a class=\"anchor\" id=\"step5\"></a>\n",
    "[back to content](#content)"
   ]
  },
  {
   "cell_type": "markdown",
   "metadata": {},
   "source": [
    "* in the final cross-validation, the best model showed a similar result as the constant model (median), that is, the trained model does not perform much better than a random prediction:\n",
    "    * final sMAPE for the best model: 8.00%\n",
    "    * final sMAPE for random model: 8.09%\n",
    "* although we managed to significantly improve the target metrics with the help of data preprocessing, this was not enough to significantly outrun the dummy model\n",
    "* what can be done to improve the model?\n",
    "    * try a different approach in preprocessing, for example a different strategy for dealing with gaps and anomalies\n",
    "    * gain a deeper understanding of the technical process and better understand the relevant parameters for selection\n",
    "    * try to use other models based on gradient boosting, CatBoost for example, because dependencies in technological process data are usually nonlinear\n",
    "    * try to install additional sensors in production to collect more or higher quality data"
   ]
  }
 ],
 "metadata": {
  "kernelspec": {
   "display_name": "Python 3",
   "language": "python",
   "name": "python3"
  },
  "language_info": {
   "codemirror_mode": {
    "name": "ipython",
    "version": 3
   },
   "file_extension": ".py",
   "mimetype": "text/x-python",
   "name": "python",
   "nbconvert_exporter": "python",
   "pygments_lexer": "ipython3",
   "version": "3.7.8"
  }
 },
 "nbformat": 4,
 "nbformat_minor": 4
}

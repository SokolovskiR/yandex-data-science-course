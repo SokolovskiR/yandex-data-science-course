{
 "cells": [
  {
   "cell_type": "markdown",
   "metadata": {},
   "source": [
    "# Project description\n",
    "The service for the sale of used cars \"Not damaged, not painted\" is developing an application to attract new customers. In it you can quickly find out the market value of your car. Historical data is at your disposal: technical characteristics, equipment and prices of cars. You need to build a model to estimate the price of a used car.\n",
    "\n",
    "Important for the customer:\n",
    "\n",
    "- prediction quality\n",
    "- prediction speed\n",
    "- learning duration\n",
    "\n",
    "\n",
    "# Data description\n",
    "The data is in the `autos.csv` file.\n",
    "\n",
    "Columns:\n",
    "* DateCrawled - date of downloading the profile from the database\n",
    "* VehicleType - type of car body\n",
    "* RegistrationYear - year of vehicle registration\n",
    "* Gearbox - type of gearbox\n",
    "* Power - power (l. From.)\n",
    "* Model - car model\n",
    "* Kilometer - mileage (km)\n",
    "* RegistrationMonth - month of vehicle registration\n",
    "* FuelType - type of fuel\n",
    "* Brand - car brand\n",
    "* NotRepaired - was the car under repair or not\n",
    "* DateCreated - the date the profile was created\n",
    "* NumberOfPictures - number of car photos\n",
    "* PostalCode - postal code of the profile owner (user)\n",
    "* LastSeen - date of last user activity\n",
    "\n",
    "Target value: *Price* (car price in €)"
   ]
  },
  {
   "cell_type": "markdown",
   "metadata": {},
   "source": [
    "### Содержание <a id='content'></a>\n",
    "\n",
    "[**1. Data preprocessing.**](#step1)\n",
    "   * [*1.1 Data overview.*](#step1.1)\n",
    "   * [*1.2 Missing values and anomalies.*](#step1.2)   \n",
    "   * [*1.3 Correlation matrix.*](#step1.3)\n",
    "   * [*1.4 Coding categorical features.*](#step1.4)\n",
    "   * [*1.5 Data scaling.*](#step1.5) \n",
    "\n",
    "[**2. Train the model.**](#step2)\n",
    "   * [*2.1 Model 1 - Linear Regression.*](#step2.1)\n",
    "   * [*2.2 Model 2 - RandomForestRegressor.*](#step2.2)\n",
    "   * [*2.3 Model 3 - LGBMRegressor.*](#step2.3)\n",
    "   * [*2.4 Model 4 - CatBoostRegressor.*](#step2.4)\n",
    "   \n",
    "[**3. Model analysis.**](#step3)\n",
    "\n",
    "[**4. Summary.**](#step4)"
   ]
  },
  {
   "cell_type": "markdown",
   "metadata": {},
   "source": [
    "# 1. Data preprocessing  <a class=\"anchor\" id=\"step1\"></a>\n",
    "[back to content](#content)"
   ]
  },
  {
   "cell_type": "markdown",
   "metadata": {},
   "source": [
    "## 1. Data overview  <a class=\"anchor\" id=\"step1.1\"></a>\n",
    "[back to content](#content)"
   ]
  },
  {
   "cell_type": "markdown",
   "metadata": {},
   "source": [
    "Import libraries:"
   ]
  },
  {
   "cell_type": "code",
   "execution_count": 29,
   "metadata": {},
   "outputs": [],
   "source": [
    "import pandas as pd\n",
    "import numpy as np\n",
    "import catboost as cb\n",
    "import lightgbm as lgb\n",
    "from sklearn.pipeline import Pipeline\n",
    "from sklearn.linear_model import LinearRegression\n",
    "from sklearn.ensemble import RandomForestRegressor\n",
    "from sklearn.dummy import DummyRegressor\n",
    "from sklearn.model_selection import train_test_split, GridSearchCV, cross_validate\n",
    "from sklearn.preprocessing import StandardScaler, LabelEncoder\n",
    "from sklearn.metrics import mean_squared_error, make_scorer\n",
    "import seaborn as sns\n",
    "import matplotlib.pyplot as plt\n",
    "\n",
    "random_state = 666\n",
    "\n",
    "import warnings\n",
    "warnings.filterwarnings(\"ignore\")"
   ]
  },
  {
   "cell_type": "markdown",
   "metadata": {},
   "source": [
    "We load data and immediately parse the columns with dates:"
   ]
  },
  {
   "cell_type": "code",
   "execution_count": 6,
   "metadata": {},
   "outputs": [],
   "source": [
    "df = pd.read_csv('autos.csv', parse_dates=['DateCrawled', 'DateCreated', 'LastSeen'])"
   ]
  },
  {
   "cell_type": "markdown",
   "metadata": {},
   "source": [
    "Let's write down some functions for further work:"
   ]
  },
  {
   "cell_type": "code",
   "execution_count": 27,
   "metadata": {
    "tags": [
     "hide-input"
    ]
   },
   "outputs": [],
   "source": [
    "def dataset_overview(df):\n",
    "    \"\"\"Display a table with dataset statistics like size, missing values, duplicates etc.\n",
    "    Parameters\n",
    "    ----------\n",
    "    df: pandas DataFrame\n",
    "        Dataset to display infromation about.\n",
    "    Returns\n",
    "    -------\n",
    "    DataFrame\n",
    "        Resulting table as pandas dataframe.\n",
    "    \"\"\"\n",
    "    #calculate values for table\n",
    "    number_of_columns = df.shape[1]\n",
    "    number_of_rows = df.shape[0]  \n",
    "    missing_cells_number = df.isnull().sum().sum()\n",
    "    missing_cells_ratio = missing_cells_number / (number_of_rows * number_of_columns)\n",
    "    duplicate_rows_number = df.duplicated().sum()\n",
    "    duplicate_rows_ratio = duplicate_rows_number / number_of_rows\n",
    "    df_memory_size = np.round((df.memory_usage().sum() / 1000000), 2)\n",
    "    datetime_col_number = len([c for c in df.columns if pd.api.types.is_datetime64_any_dtype(df[c]) == True])\n",
    "    object_col_number = len([c for c in df.columns if pd.api.types.is_object_dtype(df[c]) == True])\n",
    "    num_col_number = len([c for c in df.columns if pd.api.types.is_numeric_dtype(df[c]) == True])\n",
    "    bool_col_number = len([c for c in df.columns if pd.api.types.is_bool_dtype(df[c]) == True])\n",
    "    #create dataframe table\n",
    "    result_table = pd.DataFrame([number_of_columns,number_of_rows,missing_cells_number,\n",
    "                                 '{:.2%}'.format(missing_cells_ratio), duplicate_rows_number,\n",
    "                                 '{:.2%}'.format(duplicate_rows_ratio),(str(df_memory_size) + \" MiB\"),\n",
    "                                 datetime_col_number,object_col_number,num_col_number,bool_col_number],\n",
    "                                index=['Number of variables','Number of observations','Missing cells',\n",
    "                                       'Missing cells (%)','Duplicate rows', 'Duplicate rows (%)',\n",
    "                                       'Total size in memory','DATETIME variables','CATEGORICAL variables',\n",
    "                                       'NUMERICAL variables', 'BOOL variables'], columns=['value'])\n",
    "    \n",
    "    print('Dataset overview')\n",
    "    return result_table\n",
    "\n",
    "\n",
    "def num_var_overview(df):\n",
    "    \"\"\"Display a table with statistics for numerical variables like size, missing values, zeros etc.\n",
    "    Parameters\n",
    "    ----------\n",
    "    df: pandas DataFrame\n",
    "        Dataset to display infromation about.\n",
    "    Returns\n",
    "    -------\n",
    "    DataFrame\n",
    "        Resulting table as pandas dataframe.\n",
    "    \"\"\"\n",
    "    #find numerical columns\n",
    "    cat_var = [c for c in df.columns if pd.api.types.is_numeric_dtype(df[c]) == True]\n",
    "    #column names for result table\n",
    "    columns = ['Rows', 'Unique values', 'Unique values (%)', 'Missing values', 'Missing values (%)',\n",
    "               'Mean', 'Median', 'Minimum', 'Maximum', 'Zeros', 'Zeros (%)']\n",
    "    \n",
    "    #create resutl table\n",
    "    result_table = pd.DataFrame([], columns=columns, index=cat_var)\n",
    "    for var in result_table.index:\n",
    "        result_table.loc[var, 'Rows'] = df.shape[0]\n",
    "        result_table.loc[var, 'Unique values'] = len(df[var].unique())\n",
    "        result_table.loc[var, 'Unique values (%)'] = np.round((len(df[var].unique()) / df.shape[0]), 4)\n",
    "        result_table.loc[var, 'Missing values'] = df[var].isnull().sum()\n",
    "        result_table.loc[var, 'Missing values (%)'] =  np.round((df[var].isnull().sum() / df.shape[0]), 4)\n",
    "        result_table.loc[var, 'Mean'] =  np.round(df[var].mean(), 2)\n",
    "        result_table.loc[var, 'Median'] =  np.round(df[var].median(), 2)\n",
    "        result_table.loc[var, 'Minimum'] =  df[var].min()\n",
    "        result_table.loc[var, 'Maximum'] =  df[var].max()\n",
    "        result_table.loc[var, 'Zeros'] =  df[df[var] == 0].count()[var]\n",
    "        result_table.loc[var, 'Zeros (%)'] =  np.round((df[df[var] == 0].count()[var] / df.shape[0]), 4) \n",
    "    \n",
    "    #convert datatypes\n",
    "    result_table = result_table.astype(float)\n",
    "    \n",
    "    formatter = {'Unique values (%)': '{:,.2%}','Missing values (%)': '{:,.2%}', 'Zeros (%)': '{:,.2%}'}\n",
    "    \n",
    "    print('Numerical variables overview')\n",
    "    return result_table.style.format(formatter).background_gradient(\n",
    "        subset=['Unique values','Missing values','Zeros'], cmap='coolwarm')\n",
    "        \n",
    "\n",
    "def check_removed_data(data_start, data_end):\n",
    "    '''function for calculating the proportion of deleted data during processing'''\n",
    "    rows_removed = (data_start.shape[0] - data_end.shape[0]) / data_start.shape[0]\n",
    "    cols_removed = (data_start.shape[1] - data_end.shape[1]) / data_start.shape[1]\n",
    "    \n",
    "    result = 'At this stage {:.2%} rows and {:.2%} columns were deleted.'.format(rows_removed,\n",
    "                                                                                 cols_removed)\n",
    "    return result\n",
    "\n",
    "\n",
    "def split_data(df, test_size, features, target):\n",
    "    '''function for automatically \n",
    "    splitting data into training and test samples'''\n",
    "    df_train, df_valid = train_test_split(df,test_size=test_size,\n",
    "                                            random_state=random_state,\n",
    "                                            shuffle=True)\n",
    " \n",
    "    features_train = df_train[features]\n",
    "    target_train = df_train[target]\n",
    "    features_valid =df_valid[features]\n",
    "    target_valid = df_valid[target]\n",
    "    \n",
    "    return features_train, target_train, features_valid, target_valid\n",
    "\n",
    "\n",
    "def cross_validation(model, features, target, cv):\n",
    "    '''function to check the model for cross-validation'''\n",
    "    mse_scorer = make_scorer(mean_squared_error, greater_is_better=False)\n",
    "    \n",
    "    result = cross_validate(model, features, target, scoring=mse_scorer, cv=cv)\n",
    "    \n",
    "    avg_test_score = np.abs(np.mean(result['test_score']))\n",
    "    \n",
    "    return np.round((avg_test_score ** 0.5), 2)\n",
    "\n",
    "\n",
    "def find_best_hyperparams(features, target, model, param_grid,\n",
    "                          cv=5, scoring='neg_mean_squared_error'):\n",
    "    '''use GridSearchCV to find best model hyperparameters. Returns GS result object.'''\n",
    "    gs = GridSearchCV(\n",
    "        estimator=model,\n",
    "        param_grid=param_grid, \n",
    "        cv=cv, \n",
    "        n_jobs=-1, \n",
    "        scoring=scoring,\n",
    "        verbose=2)\n",
    "    \n",
    "    result = gs.fit(features, target)\n",
    "    \n",
    "    return result\n",
    "\n",
    "\n",
    "def print_rmse_cv(rmse_valid):\n",
    "    '''print model RMSE'''\n",
    "    print('RMSE on cross validation: {}'.format(rmse_valid))\n",
    "\n",
    "    \n",
    "def plot_distplot(data, title, xlabel, ylabel, figsize=(10,6)):\n",
    "    '''plot a seaborn histogram'''\n",
    "    plt.figure(figsize=figsize)\n",
    "    plt.title(title)\n",
    "    sns.distplot(data)\n",
    "    plt.ylabel(ylabel)\n",
    "    plt.xlabel(xlabel)\n",
    "    \n",
    "    \n",
    "def plot_barchart(data, x, y, title, xlabel, ylabel, figsize=(10,6), xlabel_rotation=None):\n",
    "    '''plot a seaborn barchart'''\n",
    "    plt.figure(figsize=figsize)\n",
    "    plt.title(title)\n",
    "    sns.barplot(data=data, x=x, y=y)\n",
    "    plt.ylabel(ylabel)\n",
    "    plt.xlabel(xlabel)\n",
    "    plt.xticks(rotation=xlabel_rotation)\n",
    "\n",
    "\n",
    "def get_mode(x):\n",
    "    '''get most frequent value in a column:\n",
    "    for usage as groupby aggregation function'''\n",
    "    try:\n",
    "        return x.value_counts().index[0]\n",
    "    except:\n",
    "        return np.nan\n",
    "\n",
    "\n",
    "def fill_missing_values(row, column):\n",
    "    '''fill missing values in specified column from \"cat_data_groupby\"'''\n",
    "    if pd.isna(row[column]) and column != 'Power':\n",
    "        try:\n",
    "            return cat_data_groupby[(cat_data_groupby.Brand == row.Brand) & \\\n",
    "                   (cat_data_groupby.RegistrationYear == row.RegistrationYear)]\\\n",
    "                   [column].values[0]\n",
    "        except:\n",
    "            return row[column]\n",
    "    elif column == 'Power' and row[column] ==0:\n",
    "        try:\n",
    "            return cat_data_groupby[(cat_data_groupby.Brand == row.Brand) & \\\n",
    "                   (cat_data_groupby.RegistrationYear == row.RegistrationYear)]\\\n",
    "                   [column].values[0]\n",
    "        except:\n",
    "            return row[column]       \n",
    "    else:\n",
    "        return row[column]"
   ]
  },
  {
   "cell_type": "markdown",
   "metadata": {},
   "source": [
    "Let's look at the general information about the dataset:"
   ]
  },
  {
   "cell_type": "code",
   "execution_count": 8,
   "metadata": {},
   "outputs": [
    {
     "name": "stdout",
     "output_type": "stream",
     "text": [
      "Dataset overview\n"
     ]
    },
    {
     "data": {
      "text/html": [
       "<div>\n",
       "<style scoped>\n",
       "    .dataframe tbody tr th:only-of-type {\n",
       "        vertical-align: middle;\n",
       "    }\n",
       "\n",
       "    .dataframe tbody tr th {\n",
       "        vertical-align: top;\n",
       "    }\n",
       "\n",
       "    .dataframe thead th {\n",
       "        text-align: right;\n",
       "    }\n",
       "</style>\n",
       "<table border=\"1\" class=\"dataframe\">\n",
       "  <thead>\n",
       "    <tr style=\"text-align: right;\">\n",
       "      <th></th>\n",
       "      <th>value</th>\n",
       "    </tr>\n",
       "  </thead>\n",
       "  <tbody>\n",
       "    <tr>\n",
       "      <th>Number of variables</th>\n",
       "      <td>16</td>\n",
       "    </tr>\n",
       "    <tr>\n",
       "      <th>Number of observations</th>\n",
       "      <td>354369</td>\n",
       "    </tr>\n",
       "    <tr>\n",
       "      <th>Missing cells</th>\n",
       "      <td>181077</td>\n",
       "    </tr>\n",
       "    <tr>\n",
       "      <th>Missing cells (%)</th>\n",
       "      <td>3.19%</td>\n",
       "    </tr>\n",
       "    <tr>\n",
       "      <th>Duplicate rows</th>\n",
       "      <td>4</td>\n",
       "    </tr>\n",
       "    <tr>\n",
       "      <th>Duplicate rows (%)</th>\n",
       "      <td>0.00%</td>\n",
       "    </tr>\n",
       "    <tr>\n",
       "      <th>Total size in memory</th>\n",
       "      <td>45.36 MiB</td>\n",
       "    </tr>\n",
       "    <tr>\n",
       "      <th>DATETIME variables</th>\n",
       "      <td>3</td>\n",
       "    </tr>\n",
       "    <tr>\n",
       "      <th>CATEGORICAL variables</th>\n",
       "      <td>6</td>\n",
       "    </tr>\n",
       "    <tr>\n",
       "      <th>NUMERICAL variables</th>\n",
       "      <td>7</td>\n",
       "    </tr>\n",
       "    <tr>\n",
       "      <th>BOOL variables</th>\n",
       "      <td>0</td>\n",
       "    </tr>\n",
       "  </tbody>\n",
       "</table>\n",
       "</div>"
      ],
      "text/plain": [
       "                            value\n",
       "Number of variables            16\n",
       "Number of observations     354369\n",
       "Missing cells              181077\n",
       "Missing cells (%)           3.19%\n",
       "Duplicate rows                  4\n",
       "Duplicate rows (%)          0.00%\n",
       "Total size in memory    45.36 MiB\n",
       "DATETIME variables              3\n",
       "CATEGORICAL variables           6\n",
       "NUMERICAL variables             7\n",
       "BOOL variables                  0"
      ]
     },
     "execution_count": 8,
     "metadata": {},
     "output_type": "execute_result"
    }
   ],
   "source": [
    "dataset_overview(df)"
   ]
  },
  {
   "cell_type": "markdown",
   "metadata": {},
   "source": [
    "Three random rows:"
   ]
  },
  {
   "cell_type": "code",
   "execution_count": 9,
   "metadata": {},
   "outputs": [
    {
     "data": {
      "text/html": [
       "<div>\n",
       "<style scoped>\n",
       "    .dataframe tbody tr th:only-of-type {\n",
       "        vertical-align: middle;\n",
       "    }\n",
       "\n",
       "    .dataframe tbody tr th {\n",
       "        vertical-align: top;\n",
       "    }\n",
       "\n",
       "    .dataframe thead th {\n",
       "        text-align: right;\n",
       "    }\n",
       "</style>\n",
       "<table border=\"1\" class=\"dataframe\">\n",
       "  <thead>\n",
       "    <tr style=\"text-align: right;\">\n",
       "      <th></th>\n",
       "      <th>DateCrawled</th>\n",
       "      <th>Price</th>\n",
       "      <th>VehicleType</th>\n",
       "      <th>RegistrationYear</th>\n",
       "      <th>Gearbox</th>\n",
       "      <th>Power</th>\n",
       "      <th>Model</th>\n",
       "      <th>Kilometer</th>\n",
       "      <th>RegistrationMonth</th>\n",
       "      <th>FuelType</th>\n",
       "      <th>Brand</th>\n",
       "      <th>NotRepaired</th>\n",
       "      <th>DateCreated</th>\n",
       "      <th>NumberOfPictures</th>\n",
       "      <th>PostalCode</th>\n",
       "      <th>LastSeen</th>\n",
       "    </tr>\n",
       "  </thead>\n",
       "  <tbody>\n",
       "    <tr>\n",
       "      <th>222803</th>\n",
       "      <td>2016-03-30 20:44:56</td>\n",
       "      <td>0</td>\n",
       "      <td>other</td>\n",
       "      <td>1986</td>\n",
       "      <td>auto</td>\n",
       "      <td>90</td>\n",
       "      <td>NaN</td>\n",
       "      <td>70000</td>\n",
       "      <td>7</td>\n",
       "      <td>petrol</td>\n",
       "      <td>sonstige_autos</td>\n",
       "      <td>yes</td>\n",
       "      <td>2016-03-30</td>\n",
       "      <td>0</td>\n",
       "      <td>24837</td>\n",
       "      <td>2016-04-07 12:46:38</td>\n",
       "    </tr>\n",
       "    <tr>\n",
       "      <th>54814</th>\n",
       "      <td>2016-03-22 19:41:21</td>\n",
       "      <td>6000</td>\n",
       "      <td>small</td>\n",
       "      <td>2012</td>\n",
       "      <td>auto</td>\n",
       "      <td>75</td>\n",
       "      <td>twingo</td>\n",
       "      <td>30000</td>\n",
       "      <td>2</td>\n",
       "      <td>petrol</td>\n",
       "      <td>renault</td>\n",
       "      <td>no</td>\n",
       "      <td>2016-03-22</td>\n",
       "      <td>0</td>\n",
       "      <td>48157</td>\n",
       "      <td>2016-04-06 12:15:57</td>\n",
       "    </tr>\n",
       "    <tr>\n",
       "      <th>202992</th>\n",
       "      <td>2016-03-16 11:36:44</td>\n",
       "      <td>1500</td>\n",
       "      <td>wagon</td>\n",
       "      <td>2001</td>\n",
       "      <td>manual</td>\n",
       "      <td>192</td>\n",
       "      <td>5er</td>\n",
       "      <td>150000</td>\n",
       "      <td>6</td>\n",
       "      <td>petrol</td>\n",
       "      <td>bmw</td>\n",
       "      <td>no</td>\n",
       "      <td>2016-03-16</td>\n",
       "      <td>0</td>\n",
       "      <td>96476</td>\n",
       "      <td>2016-03-16 11:36:44</td>\n",
       "    </tr>\n",
       "  </tbody>\n",
       "</table>\n",
       "</div>"
      ],
      "text/plain": [
       "               DateCrawled  Price VehicleType  RegistrationYear Gearbox  \\\n",
       "222803 2016-03-30 20:44:56      0       other              1986    auto   \n",
       "54814  2016-03-22 19:41:21   6000       small              2012    auto   \n",
       "202992 2016-03-16 11:36:44   1500       wagon              2001  manual   \n",
       "\n",
       "        Power   Model  Kilometer  RegistrationMonth FuelType           Brand  \\\n",
       "222803     90     NaN      70000                  7   petrol  sonstige_autos   \n",
       "54814      75  twingo      30000                  2   petrol         renault   \n",
       "202992    192     5er     150000                  6   petrol             bmw   \n",
       "\n",
       "       NotRepaired DateCreated  NumberOfPictures  PostalCode  \\\n",
       "222803         yes  2016-03-30                 0       24837   \n",
       "54814           no  2016-03-22                 0       48157   \n",
       "202992          no  2016-03-16                 0       96476   \n",
       "\n",
       "                  LastSeen  \n",
       "222803 2016-04-07 12:46:38  \n",
       "54814  2016-04-06 12:15:57  \n",
       "202992 2016-03-16 11:36:44  "
      ]
     },
     "execution_count": 9,
     "metadata": {},
     "output_type": "execute_result"
    }
   ],
   "source": [
    "df.sample(3)"
   ]
  },
  {
   "cell_type": "markdown",
   "metadata": {},
   "source": [
    "Let's look at the numeric parameters:"
   ]
  },
  {
   "cell_type": "code",
   "execution_count": 10,
   "metadata": {},
   "outputs": [
    {
     "name": "stdout",
     "output_type": "stream",
     "text": [
      "Numerical variables overview\n"
     ]
    },
    {
     "data": {
      "text/html": [
       "<style  type=\"text/css\" >\n",
       "#T_fffa3058_6fc0_11eb_892e_d8cb8a5cd364row0_col1{\n",
       "            background-color:  #d2dbe8;\n",
       "            color:  #000000;\n",
       "        }#T_fffa3058_6fc0_11eb_892e_d8cb8a5cd364row0_col3,#T_fffa3058_6fc0_11eb_892e_d8cb8a5cd364row1_col3,#T_fffa3058_6fc0_11eb_892e_d8cb8a5cd364row1_col9,#T_fffa3058_6fc0_11eb_892e_d8cb8a5cd364row2_col3,#T_fffa3058_6fc0_11eb_892e_d8cb8a5cd364row3_col1,#T_fffa3058_6fc0_11eb_892e_d8cb8a5cd364row3_col3,#T_fffa3058_6fc0_11eb_892e_d8cb8a5cd364row3_col9,#T_fffa3058_6fc0_11eb_892e_d8cb8a5cd364row4_col1,#T_fffa3058_6fc0_11eb_892e_d8cb8a5cd364row4_col3,#T_fffa3058_6fc0_11eb_892e_d8cb8a5cd364row5_col1,#T_fffa3058_6fc0_11eb_892e_d8cb8a5cd364row5_col3,#T_fffa3058_6fc0_11eb_892e_d8cb8a5cd364row6_col3,#T_fffa3058_6fc0_11eb_892e_d8cb8a5cd364row6_col9{\n",
       "            background-color:  #3b4cc0;\n",
       "            color:  #f1f1f1;\n",
       "        }#T_fffa3058_6fc0_11eb_892e_d8cb8a5cd364row0_col9{\n",
       "            background-color:  #4358cb;\n",
       "            color:  #f1f1f1;\n",
       "        }#T_fffa3058_6fc0_11eb_892e_d8cb8a5cd364row1_col1{\n",
       "            background-color:  #3f53c6;\n",
       "            color:  #f1f1f1;\n",
       "        }#T_fffa3058_6fc0_11eb_892e_d8cb8a5cd364row2_col1{\n",
       "            background-color:  #5572df;\n",
       "            color:  #000000;\n",
       "        }#T_fffa3058_6fc0_11eb_892e_d8cb8a5cd364row2_col9{\n",
       "            background-color:  #5e7de7;\n",
       "            color:  #000000;\n",
       "        }#T_fffa3058_6fc0_11eb_892e_d8cb8a5cd364row4_col9{\n",
       "            background-color:  #5a78e4;\n",
       "            color:  #000000;\n",
       "        }#T_fffa3058_6fc0_11eb_892e_d8cb8a5cd364row5_col9,#T_fffa3058_6fc0_11eb_892e_d8cb8a5cd364row6_col1{\n",
       "            background-color:  #b40426;\n",
       "            color:  #f1f1f1;\n",
       "        }</style><table id=\"T_fffa3058_6fc0_11eb_892e_d8cb8a5cd364\" ><thead>    <tr>        <th class=\"blank level0\" ></th>        <th class=\"col_heading level0 col0\" >Rows</th>        <th class=\"col_heading level0 col1\" >Unique values</th>        <th class=\"col_heading level0 col2\" >Unique values (%)</th>        <th class=\"col_heading level0 col3\" >Missing values</th>        <th class=\"col_heading level0 col4\" >Missing values (%)</th>        <th class=\"col_heading level0 col5\" >Mean</th>        <th class=\"col_heading level0 col6\" >Median</th>        <th class=\"col_heading level0 col7\" >Minimum</th>        <th class=\"col_heading level0 col8\" >Maximum</th>        <th class=\"col_heading level0 col9\" >Zeros</th>        <th class=\"col_heading level0 col10\" >Zeros (%)</th>    </tr></thead><tbody>\n",
       "                <tr>\n",
       "                        <th id=\"T_fffa3058_6fc0_11eb_892e_d8cb8a5cd364level0_row0\" class=\"row_heading level0 row0\" >Price</th>\n",
       "                        <td id=\"T_fffa3058_6fc0_11eb_892e_d8cb8a5cd364row0_col0\" class=\"data row0 col0\" >354369.000000</td>\n",
       "                        <td id=\"T_fffa3058_6fc0_11eb_892e_d8cb8a5cd364row0_col1\" class=\"data row0 col1\" >3731.000000</td>\n",
       "                        <td id=\"T_fffa3058_6fc0_11eb_892e_d8cb8a5cd364row0_col2\" class=\"data row0 col2\" >1.05%</td>\n",
       "                        <td id=\"T_fffa3058_6fc0_11eb_892e_d8cb8a5cd364row0_col3\" class=\"data row0 col3\" >0.000000</td>\n",
       "                        <td id=\"T_fffa3058_6fc0_11eb_892e_d8cb8a5cd364row0_col4\" class=\"data row0 col4\" >0.00%</td>\n",
       "                        <td id=\"T_fffa3058_6fc0_11eb_892e_d8cb8a5cd364row0_col5\" class=\"data row0 col5\" >4416.660000</td>\n",
       "                        <td id=\"T_fffa3058_6fc0_11eb_892e_d8cb8a5cd364row0_col6\" class=\"data row0 col6\" >2700.000000</td>\n",
       "                        <td id=\"T_fffa3058_6fc0_11eb_892e_d8cb8a5cd364row0_col7\" class=\"data row0 col7\" >0.000000</td>\n",
       "                        <td id=\"T_fffa3058_6fc0_11eb_892e_d8cb8a5cd364row0_col8\" class=\"data row0 col8\" >20000.000000</td>\n",
       "                        <td id=\"T_fffa3058_6fc0_11eb_892e_d8cb8a5cd364row0_col9\" class=\"data row0 col9\" >10772.000000</td>\n",
       "                        <td id=\"T_fffa3058_6fc0_11eb_892e_d8cb8a5cd364row0_col10\" class=\"data row0 col10\" >3.04%</td>\n",
       "            </tr>\n",
       "            <tr>\n",
       "                        <th id=\"T_fffa3058_6fc0_11eb_892e_d8cb8a5cd364level0_row1\" class=\"row_heading level0 row1\" >RegistrationYear</th>\n",
       "                        <td id=\"T_fffa3058_6fc0_11eb_892e_d8cb8a5cd364row1_col0\" class=\"data row1 col0\" >354369.000000</td>\n",
       "                        <td id=\"T_fffa3058_6fc0_11eb_892e_d8cb8a5cd364row1_col1\" class=\"data row1 col1\" >151.000000</td>\n",
       "                        <td id=\"T_fffa3058_6fc0_11eb_892e_d8cb8a5cd364row1_col2\" class=\"data row1 col2\" >0.04%</td>\n",
       "                        <td id=\"T_fffa3058_6fc0_11eb_892e_d8cb8a5cd364row1_col3\" class=\"data row1 col3\" >0.000000</td>\n",
       "                        <td id=\"T_fffa3058_6fc0_11eb_892e_d8cb8a5cd364row1_col4\" class=\"data row1 col4\" >0.00%</td>\n",
       "                        <td id=\"T_fffa3058_6fc0_11eb_892e_d8cb8a5cd364row1_col5\" class=\"data row1 col5\" >2004.230000</td>\n",
       "                        <td id=\"T_fffa3058_6fc0_11eb_892e_d8cb8a5cd364row1_col6\" class=\"data row1 col6\" >2003.000000</td>\n",
       "                        <td id=\"T_fffa3058_6fc0_11eb_892e_d8cb8a5cd364row1_col7\" class=\"data row1 col7\" >1000.000000</td>\n",
       "                        <td id=\"T_fffa3058_6fc0_11eb_892e_d8cb8a5cd364row1_col8\" class=\"data row1 col8\" >9999.000000</td>\n",
       "                        <td id=\"T_fffa3058_6fc0_11eb_892e_d8cb8a5cd364row1_col9\" class=\"data row1 col9\" >0.000000</td>\n",
       "                        <td id=\"T_fffa3058_6fc0_11eb_892e_d8cb8a5cd364row1_col10\" class=\"data row1 col10\" >0.00%</td>\n",
       "            </tr>\n",
       "            <tr>\n",
       "                        <th id=\"T_fffa3058_6fc0_11eb_892e_d8cb8a5cd364level0_row2\" class=\"row_heading level0 row2\" >Power</th>\n",
       "                        <td id=\"T_fffa3058_6fc0_11eb_892e_d8cb8a5cd364row2_col0\" class=\"data row2 col0\" >354369.000000</td>\n",
       "                        <td id=\"T_fffa3058_6fc0_11eb_892e_d8cb8a5cd364row2_col1\" class=\"data row2 col1\" >712.000000</td>\n",
       "                        <td id=\"T_fffa3058_6fc0_11eb_892e_d8cb8a5cd364row2_col2\" class=\"data row2 col2\" >0.20%</td>\n",
       "                        <td id=\"T_fffa3058_6fc0_11eb_892e_d8cb8a5cd364row2_col3\" class=\"data row2 col3\" >0.000000</td>\n",
       "                        <td id=\"T_fffa3058_6fc0_11eb_892e_d8cb8a5cd364row2_col4\" class=\"data row2 col4\" >0.00%</td>\n",
       "                        <td id=\"T_fffa3058_6fc0_11eb_892e_d8cb8a5cd364row2_col5\" class=\"data row2 col5\" >110.090000</td>\n",
       "                        <td id=\"T_fffa3058_6fc0_11eb_892e_d8cb8a5cd364row2_col6\" class=\"data row2 col6\" >105.000000</td>\n",
       "                        <td id=\"T_fffa3058_6fc0_11eb_892e_d8cb8a5cd364row2_col7\" class=\"data row2 col7\" >0.000000</td>\n",
       "                        <td id=\"T_fffa3058_6fc0_11eb_892e_d8cb8a5cd364row2_col8\" class=\"data row2 col8\" >20000.000000</td>\n",
       "                        <td id=\"T_fffa3058_6fc0_11eb_892e_d8cb8a5cd364row2_col9\" class=\"data row2 col9\" >40225.000000</td>\n",
       "                        <td id=\"T_fffa3058_6fc0_11eb_892e_d8cb8a5cd364row2_col10\" class=\"data row2 col10\" >11.35%</td>\n",
       "            </tr>\n",
       "            <tr>\n",
       "                        <th id=\"T_fffa3058_6fc0_11eb_892e_d8cb8a5cd364level0_row3\" class=\"row_heading level0 row3\" >Kilometer</th>\n",
       "                        <td id=\"T_fffa3058_6fc0_11eb_892e_d8cb8a5cd364row3_col0\" class=\"data row3 col0\" >354369.000000</td>\n",
       "                        <td id=\"T_fffa3058_6fc0_11eb_892e_d8cb8a5cd364row3_col1\" class=\"data row3 col1\" >13.000000</td>\n",
       "                        <td id=\"T_fffa3058_6fc0_11eb_892e_d8cb8a5cd364row3_col2\" class=\"data row3 col2\" >0.00%</td>\n",
       "                        <td id=\"T_fffa3058_6fc0_11eb_892e_d8cb8a5cd364row3_col3\" class=\"data row3 col3\" >0.000000</td>\n",
       "                        <td id=\"T_fffa3058_6fc0_11eb_892e_d8cb8a5cd364row3_col4\" class=\"data row3 col4\" >0.00%</td>\n",
       "                        <td id=\"T_fffa3058_6fc0_11eb_892e_d8cb8a5cd364row3_col5\" class=\"data row3 col5\" >128211.170000</td>\n",
       "                        <td id=\"T_fffa3058_6fc0_11eb_892e_d8cb8a5cd364row3_col6\" class=\"data row3 col6\" >150000.000000</td>\n",
       "                        <td id=\"T_fffa3058_6fc0_11eb_892e_d8cb8a5cd364row3_col7\" class=\"data row3 col7\" >5000.000000</td>\n",
       "                        <td id=\"T_fffa3058_6fc0_11eb_892e_d8cb8a5cd364row3_col8\" class=\"data row3 col8\" >150000.000000</td>\n",
       "                        <td id=\"T_fffa3058_6fc0_11eb_892e_d8cb8a5cd364row3_col9\" class=\"data row3 col9\" >0.000000</td>\n",
       "                        <td id=\"T_fffa3058_6fc0_11eb_892e_d8cb8a5cd364row3_col10\" class=\"data row3 col10\" >0.00%</td>\n",
       "            </tr>\n",
       "            <tr>\n",
       "                        <th id=\"T_fffa3058_6fc0_11eb_892e_d8cb8a5cd364level0_row4\" class=\"row_heading level0 row4\" >RegistrationMonth</th>\n",
       "                        <td id=\"T_fffa3058_6fc0_11eb_892e_d8cb8a5cd364row4_col0\" class=\"data row4 col0\" >354369.000000</td>\n",
       "                        <td id=\"T_fffa3058_6fc0_11eb_892e_d8cb8a5cd364row4_col1\" class=\"data row4 col1\" >13.000000</td>\n",
       "                        <td id=\"T_fffa3058_6fc0_11eb_892e_d8cb8a5cd364row4_col2\" class=\"data row4 col2\" >0.00%</td>\n",
       "                        <td id=\"T_fffa3058_6fc0_11eb_892e_d8cb8a5cd364row4_col3\" class=\"data row4 col3\" >0.000000</td>\n",
       "                        <td id=\"T_fffa3058_6fc0_11eb_892e_d8cb8a5cd364row4_col4\" class=\"data row4 col4\" >0.00%</td>\n",
       "                        <td id=\"T_fffa3058_6fc0_11eb_892e_d8cb8a5cd364row4_col5\" class=\"data row4 col5\" >5.710000</td>\n",
       "                        <td id=\"T_fffa3058_6fc0_11eb_892e_d8cb8a5cd364row4_col6\" class=\"data row4 col6\" >6.000000</td>\n",
       "                        <td id=\"T_fffa3058_6fc0_11eb_892e_d8cb8a5cd364row4_col7\" class=\"data row4 col7\" >0.000000</td>\n",
       "                        <td id=\"T_fffa3058_6fc0_11eb_892e_d8cb8a5cd364row4_col8\" class=\"data row4 col8\" >12.000000</td>\n",
       "                        <td id=\"T_fffa3058_6fc0_11eb_892e_d8cb8a5cd364row4_col9\" class=\"data row4 col9\" >37352.000000</td>\n",
       "                        <td id=\"T_fffa3058_6fc0_11eb_892e_d8cb8a5cd364row4_col10\" class=\"data row4 col10\" >10.54%</td>\n",
       "            </tr>\n",
       "            <tr>\n",
       "                        <th id=\"T_fffa3058_6fc0_11eb_892e_d8cb8a5cd364level0_row5\" class=\"row_heading level0 row5\" >NumberOfPictures</th>\n",
       "                        <td id=\"T_fffa3058_6fc0_11eb_892e_d8cb8a5cd364row5_col0\" class=\"data row5 col0\" >354369.000000</td>\n",
       "                        <td id=\"T_fffa3058_6fc0_11eb_892e_d8cb8a5cd364row5_col1\" class=\"data row5 col1\" >1.000000</td>\n",
       "                        <td id=\"T_fffa3058_6fc0_11eb_892e_d8cb8a5cd364row5_col2\" class=\"data row5 col2\" >0.00%</td>\n",
       "                        <td id=\"T_fffa3058_6fc0_11eb_892e_d8cb8a5cd364row5_col3\" class=\"data row5 col3\" >0.000000</td>\n",
       "                        <td id=\"T_fffa3058_6fc0_11eb_892e_d8cb8a5cd364row5_col4\" class=\"data row5 col4\" >0.00%</td>\n",
       "                        <td id=\"T_fffa3058_6fc0_11eb_892e_d8cb8a5cd364row5_col5\" class=\"data row5 col5\" >0.000000</td>\n",
       "                        <td id=\"T_fffa3058_6fc0_11eb_892e_d8cb8a5cd364row5_col6\" class=\"data row5 col6\" >0.000000</td>\n",
       "                        <td id=\"T_fffa3058_6fc0_11eb_892e_d8cb8a5cd364row5_col7\" class=\"data row5 col7\" >0.000000</td>\n",
       "                        <td id=\"T_fffa3058_6fc0_11eb_892e_d8cb8a5cd364row5_col8\" class=\"data row5 col8\" >0.000000</td>\n",
       "                        <td id=\"T_fffa3058_6fc0_11eb_892e_d8cb8a5cd364row5_col9\" class=\"data row5 col9\" >354369.000000</td>\n",
       "                        <td id=\"T_fffa3058_6fc0_11eb_892e_d8cb8a5cd364row5_col10\" class=\"data row5 col10\" >100.00%</td>\n",
       "            </tr>\n",
       "            <tr>\n",
       "                        <th id=\"T_fffa3058_6fc0_11eb_892e_d8cb8a5cd364level0_row6\" class=\"row_heading level0 row6\" >PostalCode</th>\n",
       "                        <td id=\"T_fffa3058_6fc0_11eb_892e_d8cb8a5cd364row6_col0\" class=\"data row6 col0\" >354369.000000</td>\n",
       "                        <td id=\"T_fffa3058_6fc0_11eb_892e_d8cb8a5cd364row6_col1\" class=\"data row6 col1\" >8143.000000</td>\n",
       "                        <td id=\"T_fffa3058_6fc0_11eb_892e_d8cb8a5cd364row6_col2\" class=\"data row6 col2\" >2.30%</td>\n",
       "                        <td id=\"T_fffa3058_6fc0_11eb_892e_d8cb8a5cd364row6_col3\" class=\"data row6 col3\" >0.000000</td>\n",
       "                        <td id=\"T_fffa3058_6fc0_11eb_892e_d8cb8a5cd364row6_col4\" class=\"data row6 col4\" >0.00%</td>\n",
       "                        <td id=\"T_fffa3058_6fc0_11eb_892e_d8cb8a5cd364row6_col5\" class=\"data row6 col5\" >50508.690000</td>\n",
       "                        <td id=\"T_fffa3058_6fc0_11eb_892e_d8cb8a5cd364row6_col6\" class=\"data row6 col6\" >49413.000000</td>\n",
       "                        <td id=\"T_fffa3058_6fc0_11eb_892e_d8cb8a5cd364row6_col7\" class=\"data row6 col7\" >1067.000000</td>\n",
       "                        <td id=\"T_fffa3058_6fc0_11eb_892e_d8cb8a5cd364row6_col8\" class=\"data row6 col8\" >99998.000000</td>\n",
       "                        <td id=\"T_fffa3058_6fc0_11eb_892e_d8cb8a5cd364row6_col9\" class=\"data row6 col9\" >0.000000</td>\n",
       "                        <td id=\"T_fffa3058_6fc0_11eb_892e_d8cb8a5cd364row6_col10\" class=\"data row6 col10\" >0.00%</td>\n",
       "            </tr>\n",
       "    </tbody></table>"
      ],
      "text/plain": [
       "<pandas.io.formats.style.Styler at 0x7f2942d75710>"
      ]
     },
     "execution_count": 10,
     "metadata": {},
     "output_type": "execute_result"
    }
   ],
   "source": [
    "num_var_overview(df)"
   ]
  },
  {
   "cell_type": "markdown",
   "metadata": {},
   "source": [
    "Let's look at the categorical signs:"
   ]
  },
  {
   "cell_type": "code",
   "execution_count": 11,
   "metadata": {},
   "outputs": [
    {
     "data": {
      "text/html": [
       "<div>\n",
       "<style scoped>\n",
       "    .dataframe tbody tr th:only-of-type {\n",
       "        vertical-align: middle;\n",
       "    }\n",
       "\n",
       "    .dataframe tbody tr th {\n",
       "        vertical-align: top;\n",
       "    }\n",
       "\n",
       "    .dataframe thead th {\n",
       "        text-align: right;\n",
       "    }\n",
       "</style>\n",
       "<table border=\"1\" class=\"dataframe\">\n",
       "  <thead>\n",
       "    <tr style=\"text-align: right;\">\n",
       "      <th></th>\n",
       "      <th>VehicleType</th>\n",
       "      <th>Gearbox</th>\n",
       "      <th>Model</th>\n",
       "      <th>FuelType</th>\n",
       "      <th>Brand</th>\n",
       "      <th>NotRepaired</th>\n",
       "    </tr>\n",
       "  </thead>\n",
       "  <tbody>\n",
       "    <tr>\n",
       "      <th>count</th>\n",
       "      <td>316879</td>\n",
       "      <td>334536</td>\n",
       "      <td>334664</td>\n",
       "      <td>321474</td>\n",
       "      <td>354369</td>\n",
       "      <td>283215</td>\n",
       "    </tr>\n",
       "    <tr>\n",
       "      <th>unique</th>\n",
       "      <td>8</td>\n",
       "      <td>2</td>\n",
       "      <td>250</td>\n",
       "      <td>7</td>\n",
       "      <td>40</td>\n",
       "      <td>2</td>\n",
       "    </tr>\n",
       "    <tr>\n",
       "      <th>top</th>\n",
       "      <td>sedan</td>\n",
       "      <td>manual</td>\n",
       "      <td>golf</td>\n",
       "      <td>petrol</td>\n",
       "      <td>volkswagen</td>\n",
       "      <td>no</td>\n",
       "    </tr>\n",
       "    <tr>\n",
       "      <th>freq</th>\n",
       "      <td>91457</td>\n",
       "      <td>268251</td>\n",
       "      <td>29232</td>\n",
       "      <td>216352</td>\n",
       "      <td>77013</td>\n",
       "      <td>247161</td>\n",
       "    </tr>\n",
       "  </tbody>\n",
       "</table>\n",
       "</div>"
      ],
      "text/plain": [
       "       VehicleType Gearbox   Model FuelType       Brand NotRepaired\n",
       "count       316879  334536  334664   321474      354369      283215\n",
       "unique           8       2     250        7          40           2\n",
       "top          sedan  manual    golf   petrol  volkswagen          no\n",
       "freq         91457  268251   29232   216352       77013      247161"
      ]
     },
     "execution_count": 11,
     "metadata": {},
     "output_type": "execute_result"
    }
   ],
   "source": [
    "df.describe(include=['object'])"
   ]
  },
  {
   "cell_type": "markdown",
   "metadata": {},
   "source": [
    "Let's look at the date columns:"
   ]
  },
  {
   "cell_type": "code",
   "execution_count": 14,
   "metadata": {},
   "outputs": [
    {
     "data": {
      "text/plain": [
       "count                           354369\n",
       "mean     2016-03-21 12:58:10.450648320\n",
       "min                2016-03-05 14:06:22\n",
       "25%                2016-03-13 11:52:33\n",
       "50%                2016-03-21 17:50:55\n",
       "75%                2016-03-29 14:37:20\n",
       "max                2016-04-07 14:36:58\n",
       "Name: DateCrawled, dtype: object"
      ]
     },
     "execution_count": 14,
     "metadata": {},
     "output_type": "execute_result"
    }
   ],
   "source": [
    "df.DateCrawled.describe(datetime_is_numeric=True)"
   ]
  },
  {
   "cell_type": "code",
   "execution_count": 15,
   "metadata": {},
   "outputs": [
    {
     "data": {
      "text/plain": [
       "count                           354369\n",
       "mean     2016-03-20 19:12:07.753274112\n",
       "min                2014-03-10 00:00:00\n",
       "25%                2016-03-13 00:00:00\n",
       "50%                2016-03-21 00:00:00\n",
       "75%                2016-03-29 00:00:00\n",
       "max                2016-04-07 00:00:00\n",
       "Name: DateCreated, dtype: object"
      ]
     },
     "execution_count": 15,
     "metadata": {},
     "output_type": "execute_result"
    }
   ],
   "source": [
    "df.DateCreated.describe(datetime_is_numeric=True)"
   ]
  },
  {
   "cell_type": "code",
   "execution_count": 16,
   "metadata": {},
   "outputs": [
    {
     "data": {
      "text/plain": [
       "count                           354369\n",
       "mean     2016-03-29 23:51:00.667456768\n",
       "min                2016-03-05 14:15:08\n",
       "25%                2016-03-23 02:50:03\n",
       "50%                2016-04-03 15:15:51\n",
       "75%                2016-04-06 10:15:19\n",
       "max                2016-04-07 14:58:51\n",
       "Name: LastSeen, dtype: object"
      ]
     },
     "execution_count": 16,
     "metadata": {},
     "output_type": "execute_result"
    }
   ],
   "source": [
    "df.LastSeen.describe(datetime_is_numeric=True)"
   ]
  },
  {
   "cell_type": "markdown",
   "metadata": {},
   "source": [
    "### Summary\n",
    "\n",
    "There is work to do:\n",
    "\n",
    "* handling missing values\n",
    "* handling zero values, in the price for example\n",
    "* implausible values, for example, the year of registration is 9999 or 1000\n",
    "* the *NumberOfPictures* column can be deleted immediately, it contains the constant *0*\n",
    "* categorical variables have to be coded to numerical\n",
    "* remove unnecessary features, for example, the date of the ad"
   ]
  },
  {
   "cell_type": "markdown",
   "metadata": {},
   "source": [
    "## 1.2 Missing values and anomalies  <a class=\"anchor\" id=\"step1.2\"></a>\n",
    "[back to content](#content)"
   ]
  },
  {
   "cell_type": "code",
   "execution_count": 17,
   "metadata": {},
   "outputs": [],
   "source": [
    "#backup\n",
    "df_clean = df.copy()"
   ]
  },
  {
   "cell_type": "markdown",
   "metadata": {},
   "source": [
    "Let's check for duplicates and remove them:"
   ]
  },
  {
   "cell_type": "code",
   "execution_count": 18,
   "metadata": {},
   "outputs": [
    {
     "data": {
      "text/plain": [
       "4"
      ]
     },
     "execution_count": 18,
     "metadata": {},
     "output_type": "execute_result"
    }
   ],
   "source": [
    "df_clean.duplicated().sum()"
   ]
  },
  {
   "cell_type": "code",
   "execution_count": 19,
   "metadata": {},
   "outputs": [],
   "source": [
    "df_clean = df_clean.drop_duplicates()"
   ]
  },
  {
   "cell_type": "code",
   "execution_count": 20,
   "metadata": {},
   "outputs": [],
   "source": [
    "#immediately remove unnecessary columns with the number of images and dates\n",
    "df_clean = df_clean.drop(['NumberOfPictures', 'DateCrawled',\n",
    "                          'RegistrationMonth','LastSeen',\n",
    "                          'DateCreated', 'PostalCode'], axis=1)"
   ]
  },
  {
   "cell_type": "markdown",
   "metadata": {},
   "source": [
    "Let's take a look at the target value:"
   ]
  },
  {
   "cell_type": "code",
   "execution_count": 30,
   "metadata": {},
   "outputs": [
    {
     "data": {
      "image/png": "[encoded data removed]",
      "text/plain": [
       "<Figure size 720x432 with 1 Axes>"
      ]
     },
     "metadata": {
      "needs_background": "light"
     },
     "output_type": "display_data"
    }
   ],
   "source": [
    "plot_distplot(df_clean['Price'], 'Distribution of target value',\n",
    "              'Price', 'probability density')"
   ]
  },
  {
   "cell_type": "markdown",
   "metadata": {},
   "source": [
    "Zero prices do not carry information, we will delete them. Let's leave the high prices for more expensive cars."
   ]
  },
  {
   "cell_type": "code",
   "execution_count": 31,
   "metadata": {},
   "outputs": [],
   "source": [
    "df_clean = df_clean[df_clean['Price'] > 0]"
   ]
  },
  {
   "cell_type": "markdown",
   "metadata": {},
   "source": [
    "Let's process anomalous values in the year of registration, leaving a realistic period with oldtimers from 1950 to 2020:"
   ]
  },
  {
   "cell_type": "code",
   "execution_count": 32,
   "metadata": {},
   "outputs": [],
   "source": [
    "df_clean = df_clean[(df_clean['RegistrationYear'] < 2020) & (df_clean['RegistrationYear'] > 1950)]"
   ]
  },
  {
   "cell_type": "code",
   "execution_count": 33,
   "metadata": {},
   "outputs": [
    {
     "data": {
      "image/png": "[encoded data removed]",
      "text/plain": [
       "<Figure size 720x432 with 1 Axes>"
      ]
     },
     "metadata": {
      "needs_background": "light"
     },
     "output_type": "display_data"
    }
   ],
   "source": [
    "plot_distplot(df_clean['RegistrationYear'], 'Distribution of \"RegistrationYear\" feature',\n",
    "              'RegistrationYear', 'probability density')"
   ]
  },
  {
   "cell_type": "markdown",
   "metadata": {},
   "source": [
    "We will fill the missing values in *NotRepaired* column with a new category \"unknown\":"
   ]
  },
  {
   "cell_type": "code",
   "execution_count": 34,
   "metadata": {},
   "outputs": [],
   "source": [
    "df_clean.NotRepaired = df_clean.NotRepaired.fillna(value='unknown')"
   ]
  },
  {
   "cell_type": "code",
   "execution_count": 35,
   "metadata": {},
   "outputs": [
    {
     "data": {
      "image/png": "[encoded data removed]",
      "text/plain": [
       "<Figure size 720x432 with 1 Axes>"
      ]
     },
     "metadata": {
      "needs_background": "light"
     },
     "output_type": "display_data"
    }
   ],
   "source": [
    "plot_barchart(df_clean.NotRepaired.value_counts().reset_index(), \n",
    "              'index', 'NotRepaired', 'Categories overview in \"NotRepaired\" feature',\n",
    "              'vehicle repaired?', 'number of observations')"
   ]
  },
  {
   "cell_type": "markdown",
   "metadata": {},
   "source": [
    "Missing values in 'VehicleType', 'Gearbox', 'Model', 'FuelType' as well as zero values in \"Power\" we will try to fill in with the most common values / median from the available data. Let's create a pivot table from which we will search for information on car brands and year of manufacturing (these signs have no missing data) for missing values."
   ]
  },
  {
   "cell_type": "code",
   "execution_count": 36,
   "metadata": {},
   "outputs": [
    {
     "name": "stdout",
     "output_type": "stream",
     "text": [
      "CPU times: user 3.12 s, sys: 6.33 ms, total: 3.13 s\n",
      "Wall time: 3.13 s\n"
     ]
    }
   ],
   "source": [
    "%%time\n",
    "cat_data_groupby = df_clean.dropna().groupby(\n",
    "    ['Brand','RegistrationYear'])\\\n",
    "    ['VehicleType','Gearbox','Model','FuelType', 'Power'].agg(\n",
    "    {'VehicleType': get_mode,\n",
    "     'Gearbox': get_mode,\n",
    "     'Model':get_mode,\n",
    "     'FuelType':get_mode,\n",
    "     'Power': 'median'}).reset_index()"
   ]
  },
  {
   "cell_type": "code",
   "execution_count": 37,
   "metadata": {},
   "outputs": [
    {
     "data": {
      "text/html": [
       "<div>\n",
       "<style scoped>\n",
       "    .dataframe tbody tr th:only-of-type {\n",
       "        vertical-align: middle;\n",
       "    }\n",
       "\n",
       "    .dataframe tbody tr th {\n",
       "        vertical-align: top;\n",
       "    }\n",
       "\n",
       "    .dataframe thead th {\n",
       "        text-align: right;\n",
       "    }\n",
       "</style>\n",
       "<table border=\"1\" class=\"dataframe\">\n",
       "  <thead>\n",
       "    <tr style=\"text-align: right;\">\n",
       "      <th></th>\n",
       "      <th>Brand</th>\n",
       "      <th>RegistrationYear</th>\n",
       "      <th>VehicleType</th>\n",
       "      <th>Gearbox</th>\n",
       "      <th>Model</th>\n",
       "      <th>FuelType</th>\n",
       "      <th>Power</th>\n",
       "    </tr>\n",
       "  </thead>\n",
       "  <tbody>\n",
       "    <tr>\n",
       "      <th>418</th>\n",
       "      <td>fiat</td>\n",
       "      <td>2013</td>\n",
       "      <td>small</td>\n",
       "      <td>manual</td>\n",
       "      <td>500</td>\n",
       "      <td>petrol</td>\n",
       "      <td>69.0</td>\n",
       "    </tr>\n",
       "    <tr>\n",
       "      <th>325</th>\n",
       "      <td>daewoo</td>\n",
       "      <td>1998</td>\n",
       "      <td>sedan</td>\n",
       "      <td>manual</td>\n",
       "      <td>nubira</td>\n",
       "      <td>petrol</td>\n",
       "      <td>100.0</td>\n",
       "    </tr>\n",
       "    <tr>\n",
       "      <th>141</th>\n",
       "      <td>bmw</td>\n",
       "      <td>1999</td>\n",
       "      <td>sedan</td>\n",
       "      <td>manual</td>\n",
       "      <td>3er</td>\n",
       "      <td>petrol</td>\n",
       "      <td>150.0</td>\n",
       "    </tr>\n",
       "  </tbody>\n",
       "</table>\n",
       "</div>"
      ],
      "text/plain": [
       "      Brand  RegistrationYear VehicleType Gearbox   Model FuelType  Power\n",
       "418    fiat              2013       small  manual     500   petrol   69.0\n",
       "325  daewoo              1998       sedan  manual  nubira   petrol  100.0\n",
       "141     bmw              1999       sedan  manual     3er   petrol  150.0"
      ]
     },
     "execution_count": 37,
     "metadata": {},
     "output_type": "execute_result"
    }
   ],
   "source": [
    "cat_data_groupby.sample(3)"
   ]
  },
  {
   "cell_type": "markdown",
   "metadata": {},
   "source": [
    "Now let's use a function `fill_missing_values` to fill in the gaps with a pivot table:"
   ]
  },
  {
   "cell_type": "code",
   "execution_count": 38,
   "metadata": {},
   "outputs": [
    {
     "name": "stdout",
     "output_type": "stream",
     "text": [
      "CPU times: user 24.8 s, sys: 67.5 ms, total: 24.8 s\n",
      "Wall time: 24.8 s\n"
     ]
    }
   ],
   "source": [
    "%%time\n",
    "df_clean['FuelType'] = df_clean.apply(\n",
    "    lambda row: fill_missing_values(row, 'FuelType'), axis=1)"
   ]
  },
  {
   "cell_type": "code",
   "execution_count": 39,
   "metadata": {},
   "outputs": [
    {
     "name": "stdout",
     "output_type": "stream",
     "text": [
      "CPU times: user 27.8 s, sys: 46.5 ms, total: 27.8 s\n",
      "Wall time: 27.9 s\n"
     ]
    }
   ],
   "source": [
    "%%time\n",
    "df_clean['VehicleType'] = df_clean.apply(\n",
    "    lambda row: fill_missing_values(row, 'VehicleType'), axis=1)"
   ]
  },
  {
   "cell_type": "code",
   "execution_count": 40,
   "metadata": {},
   "outputs": [
    {
     "name": "stdout",
     "output_type": "stream",
     "text": [
      "CPU times: user 15.9 s, sys: 63.6 ms, total: 15.9 s\n",
      "Wall time: 15.9 s\n"
     ]
    }
   ],
   "source": [
    "%%time\n",
    "df_clean['Gearbox'] = df_clean.apply(\n",
    "    lambda row: fill_missing_values(row, 'Gearbox'), axis=1)"
   ]
  },
  {
   "cell_type": "code",
   "execution_count": 41,
   "metadata": {},
   "outputs": [
    {
     "name": "stdout",
     "output_type": "stream",
     "text": [
      "CPU times: user 16.1 s, sys: 59.6 ms, total: 16.1 s\n",
      "Wall time: 16.1 s\n"
     ]
    }
   ],
   "source": [
    "%%time\n",
    "df_clean['Model'] = df_clean.apply(\n",
    "    lambda row: fill_missing_values(row, 'Model'), axis=1)"
   ]
  },
  {
   "cell_type": "code",
   "execution_count": 42,
   "metadata": {},
   "outputs": [
    {
     "name": "stdout",
     "output_type": "stream",
     "text": [
      "CPU times: user 30.6 s, sys: 59.9 ms, total: 30.6 s\n",
      "Wall time: 30.6 s\n"
     ]
    }
   ],
   "source": [
    "%%time\n",
    "df_clean['Power'] = df_clean.apply(\n",
    "    lambda row: fill_missing_values(row, 'Power'), axis=1)"
   ]
  },
  {
   "cell_type": "markdown",
   "metadata": {},
   "source": [
    "Let's see how much missing data is left:"
   ]
  },
  {
   "cell_type": "code",
   "execution_count": 43,
   "metadata": {},
   "outputs": [
    {
     "name": "stdout",
     "output_type": "stream",
     "text": [
      "Dataset overview\n"
     ]
    },
    {
     "data": {
      "text/html": [
       "<div>\n",
       "<style scoped>\n",
       "    .dataframe tbody tr th:only-of-type {\n",
       "        vertical-align: middle;\n",
       "    }\n",
       "\n",
       "    .dataframe tbody tr th {\n",
       "        vertical-align: top;\n",
       "    }\n",
       "\n",
       "    .dataframe thead th {\n",
       "        text-align: right;\n",
       "    }\n",
       "</style>\n",
       "<table border=\"1\" class=\"dataframe\">\n",
       "  <thead>\n",
       "    <tr style=\"text-align: right;\">\n",
       "      <th></th>\n",
       "      <th>value</th>\n",
       "    </tr>\n",
       "  </thead>\n",
       "  <tbody>\n",
       "    <tr>\n",
       "      <th>Number of variables</th>\n",
       "      <td>10</td>\n",
       "    </tr>\n",
       "    <tr>\n",
       "      <th>Number of observations</th>\n",
       "      <td>343311</td>\n",
       "    </tr>\n",
       "    <tr>\n",
       "      <th>Missing cells</th>\n",
       "      <td>17124</td>\n",
       "    </tr>\n",
       "    <tr>\n",
       "      <th>Missing cells (%)</th>\n",
       "      <td>0.50%</td>\n",
       "    </tr>\n",
       "    <tr>\n",
       "      <th>Duplicate rows</th>\n",
       "      <td>48708</td>\n",
       "    </tr>\n",
       "    <tr>\n",
       "      <th>Duplicate rows (%)</th>\n",
       "      <td>14.19%</td>\n",
       "    </tr>\n",
       "    <tr>\n",
       "      <th>Total size in memory</th>\n",
       "      <td>30.21 MiB</td>\n",
       "    </tr>\n",
       "    <tr>\n",
       "      <th>DATETIME variables</th>\n",
       "      <td>0</td>\n",
       "    </tr>\n",
       "    <tr>\n",
       "      <th>CATEGORICAL variables</th>\n",
       "      <td>6</td>\n",
       "    </tr>\n",
       "    <tr>\n",
       "      <th>NUMERICAL variables</th>\n",
       "      <td>4</td>\n",
       "    </tr>\n",
       "    <tr>\n",
       "      <th>BOOL variables</th>\n",
       "      <td>0</td>\n",
       "    </tr>\n",
       "  </tbody>\n",
       "</table>\n",
       "</div>"
      ],
      "text/plain": [
       "                            value\n",
       "Number of variables            10\n",
       "Number of observations     343311\n",
       "Missing cells               17124\n",
       "Missing cells (%)           0.50%\n",
       "Duplicate rows              48708\n",
       "Duplicate rows (%)         14.19%\n",
       "Total size in memory    30.21 MiB\n",
       "DATETIME variables              0\n",
       "CATEGORICAL variables           6\n",
       "NUMERICAL variables             4\n",
       "BOOL variables                  0"
      ]
     },
     "execution_count": 43,
     "metadata": {},
     "output_type": "execute_result"
    }
   ],
   "source": [
    "dataset_overview(df_clean)"
   ]
  },
  {
   "cell_type": "markdown",
   "metadata": {},
   "source": [
    "The amount of missing data was noticeably reduced. The rest of the gaps cannot be filled adequately, so we will delete them."
   ]
  },
  {
   "cell_type": "code",
   "execution_count": 44,
   "metadata": {},
   "outputs": [],
   "source": [
    "df_clean = df_clean.dropna(subset=['VehicleType', 'Gearbox', 'Model', 'FuelType'])"
   ]
  },
  {
   "cell_type": "markdown",
   "metadata": {},
   "source": [
    "The 'Power' column contains zero and very high values. Let's remove these outliers."
   ]
  },
  {
   "cell_type": "code",
   "execution_count": 45,
   "metadata": {},
   "outputs": [],
   "source": [
    "df_clean = df_clean[(df_clean['Power'] < 600) & (df_clean['Power'] > 0)]"
   ]
  },
  {
   "cell_type": "code",
   "execution_count": 46,
   "metadata": {},
   "outputs": [
    {
     "data": {
      "image/png": "[encoded data removed]",
      "text/plain": [
       "<Figure size 720x432 with 1 Axes>"
      ]
     },
     "metadata": {
      "needs_background": "light"
     },
     "output_type": "display_data"
    }
   ],
   "source": [
    "plot_distplot(df_clean.Power, 'Distribution of \"Power\" feature',\n",
    "              'Power', 'probability density')"
   ]
  },
  {
   "cell_type": "code",
   "execution_count": 47,
   "metadata": {},
   "outputs": [
    {
     "data": {
      "text/plain": [
       "count    332109.000000\n",
       "mean        118.435672\n",
       "std          52.128759\n",
       "min           1.000000\n",
       "25%          75.000000\n",
       "50%         109.000000\n",
       "75%         145.000000\n",
       "max         585.000000\n",
       "Name: Power, dtype: float64"
      ]
     },
     "execution_count": 47,
     "metadata": {},
     "output_type": "execute_result"
    }
   ],
   "source": [
    "df_clean[\"Power\"].describe()"
   ]
  },
  {
   "cell_type": "markdown",
   "metadata": {},
   "source": [
    "Let's see how much data we deleted at this stage:"
   ]
  },
  {
   "cell_type": "code",
   "execution_count": 48,
   "metadata": {},
   "outputs": [
    {
     "data": {
      "text/plain": [
       "'At this stage 6.28% rows and 37.50% columns were deleted.'"
      ]
     },
     "execution_count": 48,
     "metadata": {},
     "output_type": "execute_result"
    }
   ],
   "source": [
    "check_removed_data(df, df_clean)"
   ]
  },
  {
   "cell_type": "markdown",
   "metadata": {},
   "source": [
    "## 1.3 Correlation matrix  <a class=\"anchor\" id=\"step1.3\"></a>\n",
    "[back to content](#content)"
   ]
  },
  {
   "cell_type": "code",
   "execution_count": 35,
   "metadata": {},
   "outputs": [
    {
     "data": {
      "text/plain": [
       "<matplotlib.axes._subplots.AxesSubplot at 0x7f3fa74fe810>"
      ]
     },
     "execution_count": 35,
     "metadata": {},
     "output_type": "execute_result"
    },
    {
     "data": {
      "image/png": "[encoded data removed]",
      "text/plain": [
       "<Figure size 432x288 with 2 Axes>"
      ]
     },
     "metadata": {
      "needs_background": "light"
     },
     "output_type": "display_data"
    }
   ],
   "source": [
    "sns.heatmap(df_clean.corr(), annot=True, cmap='coolwarm')"
   ]
  },
  {
   "cell_type": "markdown",
   "metadata": {},
   "source": [
    "There is no strong linear correlation between features."
   ]
  },
  {
   "cell_type": "markdown",
   "metadata": {},
   "source": [
    "## 1.4 Coding categorical features  <a class=\"anchor\" id=\"step1.4\"></a>\n",
    "[back to content](#content)"
   ]
  },
  {
   "cell_type": "code",
   "execution_count": 49,
   "metadata": {},
   "outputs": [],
   "source": [
    "#backup\n",
    "df_encoded = df_clean.copy()"
   ]
  },
  {
   "cell_type": "markdown",
   "metadata": {},
   "source": [
    "To code categorical features, we will use the *Ordinal Encoding* technique, since we have quite a lot of them and the *One Hot Encoding* technique is not optimal in this case."
   ]
  },
  {
   "cell_type": "code",
   "execution_count": 50,
   "metadata": {},
   "outputs": [],
   "source": [
    "#save categorical features in a list\n",
    "cat_features = ['Gearbox', 'NotRepaired', 'VehicleType', 'Model', 'FuelType', 'Brand']"
   ]
  },
  {
   "cell_type": "code",
   "execution_count": 51,
   "metadata": {},
   "outputs": [],
   "source": [
    "#OE with sklearn LabelEncoder\n",
    "label_encoder = LabelEncoder()\n",
    "\n",
    "for column in cat_features:\n",
    "    df_encoded[column + '_enc'] = label_encoder.fit_transform(df_encoded[column])\n",
    "\n",
    "df_encoded = df_encoded.drop(columns=cat_features)"
   ]
  },
  {
   "cell_type": "code",
   "execution_count": 52,
   "metadata": {},
   "outputs": [
    {
     "data": {
      "text/html": [
       "<div>\n",
       "<style scoped>\n",
       "    .dataframe tbody tr th:only-of-type {\n",
       "        vertical-align: middle;\n",
       "    }\n",
       "\n",
       "    .dataframe tbody tr th {\n",
       "        vertical-align: top;\n",
       "    }\n",
       "\n",
       "    .dataframe thead th {\n",
       "        text-align: right;\n",
       "    }\n",
       "</style>\n",
       "<table border=\"1\" class=\"dataframe\">\n",
       "  <thead>\n",
       "    <tr style=\"text-align: right;\">\n",
       "      <th></th>\n",
       "      <th>Price</th>\n",
       "      <th>RegistrationYear</th>\n",
       "      <th>Power</th>\n",
       "      <th>Kilometer</th>\n",
       "      <th>Gearbox_enc</th>\n",
       "      <th>NotRepaired_enc</th>\n",
       "      <th>VehicleType_enc</th>\n",
       "      <th>Model_enc</th>\n",
       "      <th>FuelType_enc</th>\n",
       "      <th>Brand_enc</th>\n",
       "    </tr>\n",
       "  </thead>\n",
       "  <tbody>\n",
       "    <tr>\n",
       "      <th>15109</th>\n",
       "      <td>650</td>\n",
       "      <td>1993</td>\n",
       "      <td>113.0</td>\n",
       "      <td>125000</td>\n",
       "      <td>1</td>\n",
       "      <td>0</td>\n",
       "      <td>4</td>\n",
       "      <td>11</td>\n",
       "      <td>6</td>\n",
       "      <td>2</td>\n",
       "    </tr>\n",
       "    <tr>\n",
       "      <th>53109</th>\n",
       "      <td>600</td>\n",
       "      <td>2000</td>\n",
       "      <td>60.0</td>\n",
       "      <td>150000</td>\n",
       "      <td>1</td>\n",
       "      <td>1</td>\n",
       "      <td>5</td>\n",
       "      <td>173</td>\n",
       "      <td>6</td>\n",
       "      <td>37</td>\n",
       "    </tr>\n",
       "    <tr>\n",
       "      <th>286341</th>\n",
       "      <td>2098</td>\n",
       "      <td>2007</td>\n",
       "      <td>56.0</td>\n",
       "      <td>150000</td>\n",
       "      <td>1</td>\n",
       "      <td>0</td>\n",
       "      <td>4</td>\n",
       "      <td>107</td>\n",
       "      <td>2</td>\n",
       "      <td>37</td>\n",
       "    </tr>\n",
       "  </tbody>\n",
       "</table>\n",
       "</div>"
      ],
      "text/plain": [
       "        Price  RegistrationYear  Power  Kilometer  Gearbox_enc  \\\n",
       "15109     650              1993  113.0     125000            1   \n",
       "53109     600              2000   60.0     150000            1   \n",
       "286341   2098              2007   56.0     150000            1   \n",
       "\n",
       "        NotRepaired_enc  VehicleType_enc  Model_enc  FuelType_enc  Brand_enc  \n",
       "15109                 0                4         11             6          2  \n",
       "53109                 1                5        173             6         37  \n",
       "286341                0                4        107             2         37  "
      ]
     },
     "execution_count": 52,
     "metadata": {},
     "output_type": "execute_result"
    }
   ],
   "source": [
    "df_encoded.sample(3)"
   ]
  },
  {
   "cell_type": "markdown",
   "metadata": {},
   "source": [
    "## 1.5 Data scaling  <a class=\"anchor\" id=\"step1.5\"></a>\n",
    "[back to content](#content)"
   ]
  },
  {
   "cell_type": "code",
   "execution_count": 53,
   "metadata": {},
   "outputs": [],
   "source": [
    "#backup\n",
    "df_scale = df_encoded.copy()"
   ]
  },
  {
   "cell_type": "markdown",
   "metadata": {},
   "source": [
    "Let's standardize numerical features using *StandardScaler*:"
   ]
  },
  {
   "cell_type": "code",
   "execution_count": 54,
   "metadata": {},
   "outputs": [
    {
     "data": {
      "text/plain": [
       "StandardScaler()"
      ]
     },
     "execution_count": 54,
     "metadata": {},
     "output_type": "execute_result"
    }
   ],
   "source": [
    "#select columns for scaling and create a StandardScaler() object\n",
    "scale_cols = ['Power', 'Kilometer', 'RegistrationYear']\n",
    "scaler = StandardScaler()\n",
    "scaler.fit(df_scale[scale_cols])"
   ]
  },
  {
   "cell_type": "code",
   "execution_count": 55,
   "metadata": {},
   "outputs": [],
   "source": [
    "#feature standartization\n",
    "df_scale.loc[:, scale_cols] = scaler.transform(df_scale[scale_cols])"
   ]
  },
  {
   "cell_type": "code",
   "execution_count": 56,
   "metadata": {},
   "outputs": [
    {
     "data": {
      "text/html": [
       "<div>\n",
       "<style scoped>\n",
       "    .dataframe tbody tr th:only-of-type {\n",
       "        vertical-align: middle;\n",
       "    }\n",
       "\n",
       "    .dataframe tbody tr th {\n",
       "        vertical-align: top;\n",
       "    }\n",
       "\n",
       "    .dataframe thead th {\n",
       "        text-align: right;\n",
       "    }\n",
       "</style>\n",
       "<table border=\"1\" class=\"dataframe\">\n",
       "  <thead>\n",
       "    <tr style=\"text-align: right;\">\n",
       "      <th></th>\n",
       "      <th>Price</th>\n",
       "      <th>RegistrationYear</th>\n",
       "      <th>Power</th>\n",
       "      <th>Kilometer</th>\n",
       "      <th>Gearbox_enc</th>\n",
       "      <th>NotRepaired_enc</th>\n",
       "      <th>VehicleType_enc</th>\n",
       "      <th>Model_enc</th>\n",
       "      <th>FuelType_enc</th>\n",
       "      <th>Brand_enc</th>\n",
       "    </tr>\n",
       "  </thead>\n",
       "  <tbody>\n",
       "    <tr>\n",
       "      <th>332604</th>\n",
       "      <td>2890</td>\n",
       "      <td>0.892785</td>\n",
       "      <td>-1.236089</td>\n",
       "      <td>-1.852499</td>\n",
       "      <td>1</td>\n",
       "      <td>1</td>\n",
       "      <td>5</td>\n",
       "      <td>169</td>\n",
       "      <td>6</td>\n",
       "      <td>9</td>\n",
       "    </tr>\n",
       "    <tr>\n",
       "      <th>104450</th>\n",
       "      <td>1350</td>\n",
       "      <td>-0.438221</td>\n",
       "      <td>-0.046724</td>\n",
       "      <td>0.575377</td>\n",
       "      <td>1</td>\n",
       "      <td>0</td>\n",
       "      <td>4</td>\n",
       "      <td>116</td>\n",
       "      <td>6</td>\n",
       "      <td>37</td>\n",
       "    </tr>\n",
       "    <tr>\n",
       "      <th>350507</th>\n",
       "      <td>1750</td>\n",
       "      <td>1.928012</td>\n",
       "      <td>-0.583857</td>\n",
       "      <td>0.575377</td>\n",
       "      <td>1</td>\n",
       "      <td>0</td>\n",
       "      <td>5</td>\n",
       "      <td>170</td>\n",
       "      <td>6</td>\n",
       "      <td>37</td>\n",
       "    </tr>\n",
       "  </tbody>\n",
       "</table>\n",
       "</div>"
      ],
      "text/plain": [
       "        Price  RegistrationYear     Power  Kilometer  Gearbox_enc  \\\n",
       "332604   2890          0.892785 -1.236089  -1.852499            1   \n",
       "104450   1350         -0.438221 -0.046724   0.575377            1   \n",
       "350507   1750          1.928012 -0.583857   0.575377            1   \n",
       "\n",
       "        NotRepaired_enc  VehicleType_enc  Model_enc  FuelType_enc  Brand_enc  \n",
       "332604                1                5        169             6          9  \n",
       "104450                0                4        116             6         37  \n",
       "350507                0                5        170             6         37  "
      ]
     },
     "execution_count": 56,
     "metadata": {},
     "output_type": "execute_result"
    }
   ],
   "source": [
    "df_scale.sample(3)"
   ]
  },
  {
   "cell_type": "markdown",
   "metadata": {},
   "source": [
    "# 2. Train the model  <a class=\"anchor\" id=\"step2\"></a>\n",
    "[back to content](#content)"
   ]
  },
  {
   "cell_type": "markdown",
   "metadata": {},
   "source": [
    "Let's divide the initial data into two samples with sizes:\n",
    "* training: 80%\n",
    "* validation: 20%"
   ]
  },
  {
   "cell_type": "code",
   "execution_count": 57,
   "metadata": {},
   "outputs": [],
   "source": [
    "#save training and target features in variables\n",
    "target = 'Price'\n",
    "features = df_scale.drop(['Price'], axis=1).columns.to_list()"
   ]
  },
  {
   "cell_type": "code",
   "execution_count": 58,
   "metadata": {},
   "outputs": [],
   "source": [
    "#create samples for training and validation\n",
    "features_train, target_train,\\\n",
    "features_valid, target_valid = split_data(df_scale, 0.2, features, target)"
   ]
  },
  {
   "cell_type": "code",
   "execution_count": 59,
   "metadata": {},
   "outputs": [
    {
     "name": "stdout",
     "output_type": "stream",
     "text": [
      "Training data size: (265687, 9)\n",
      "Validation data size: (66422, 9)\n"
     ]
    }
   ],
   "source": [
    "#посмотрим на размеры полученных датафреймов\n",
    "print('Training data size: {}'.format(features_train.shape))\n",
    "print('Validation data size: {}'.format(features_valid.shape))"
   ]
  },
  {
   "cell_type": "markdown",
   "metadata": {},
   "source": [
    "## 2.1 Model 1 - Linear Regression  <a class=\"anchor\" id=\"step2.1\"></a>\n",
    "[back to content](#content)"
   ]
  },
  {
   "cell_type": "markdown",
   "metadata": {},
   "source": [
    "Let's first create a simple model using linear regression and store the following metrics in variables:\n",
    "* prediction quality (RMSE) in €\n",
    "* prediction speed in seconds\n",
    "* learning rate in seconds\n",
    "\n",
    "The code execution time will be measured in cells by the magic function %% time. Time measurements may vary depending on the computer performance. For conviniece the results are hard coded in variable."
   ]
  },
  {
   "cell_type": "code",
   "execution_count": 65,
   "metadata": {},
   "outputs": [
    {
     "name": "stdout",
     "output_type": "stream",
     "text": [
      "CPU times: user 114 ms, sys: 4.06 ms, total: 118 ms\n",
      "Wall time: 46.9 ms\n"
     ]
    }
   ],
   "source": [
    "%%time\n",
    "#build a linear regression model and measure the training time\n",
    "model_reg = LinearRegression().fit(features_train, target_train)"
   ]
  },
  {
   "cell_type": "code",
   "execution_count": 66,
   "metadata": {},
   "outputs": [],
   "source": [
    "#write the training time into a variable\n",
    "reg_train_time = 0.049"
   ]
  },
  {
   "cell_type": "code",
   "execution_count": 67,
   "metadata": {},
   "outputs": [
    {
     "name": "stdout",
     "output_type": "stream",
     "text": [
      "CPU times: user 4.86 ms, sys: 0 ns, total: 4.86 ms\n",
      "Wall time: 5.18 ms\n"
     ]
    },
    {
     "data": {
      "text/plain": [
       "array([ 7207.06439313,  7092.83475167,  2121.62436897, ...,\n",
       "        7613.22449854, -1416.88052254, -1671.5956014 ])"
      ]
     },
     "execution_count": 67,
     "metadata": {},
     "output_type": "execute_result"
    }
   ],
   "source": [
    "%%time\n",
    "#measure the prediction time\n",
    "model_reg.predict(features_valid)"
   ]
  },
  {
   "cell_type": "code",
   "execution_count": 68,
   "metadata": {},
   "outputs": [],
   "source": [
    "#save prediction time\n",
    "reg_predict_time = 0.0033"
   ]
  },
  {
   "cell_type": "code",
   "execution_count": 69,
   "metadata": {},
   "outputs": [
    {
     "name": "stdout",
     "output_type": "stream",
     "text": [
      "RMSE on cross validation: 2980.16\n"
     ]
    }
   ],
   "source": [
    "#we will make cross-validation on test and validation\n",
    "#samples and display the metrics on the screen\n",
    "reg_rmse_valid = cross_validation(model_reg, features_valid, target_valid, 3)\n",
    "print_rmse_cv(reg_rmse_valid)"
   ]
  },
  {
   "cell_type": "markdown",
   "metadata": {},
   "source": [
    "Quite high RMSE considering the small range of the target value. Apparently there are no linear dependencies."
   ]
  },
  {
   "cell_type": "code",
   "execution_count": 70,
   "metadata": {},
   "outputs": [
    {
     "data": {
      "text/plain": [
       "count    332109.000000\n",
       "mean       4580.576103\n",
       "std        4523.268447\n",
       "min           1.000000\n",
       "25%        1200.000000\n",
       "50%        2900.000000\n",
       "75%        6500.000000\n",
       "max       20000.000000\n",
       "Name: Price, dtype: float64"
      ]
     },
     "execution_count": 70,
     "metadata": {},
     "output_type": "execute_result"
    }
   ],
   "source": [
    "df_clean[target].describe()"
   ]
  },
  {
   "cell_type": "markdown",
   "metadata": {},
   "source": [
    "## 2.2 Model 2 - RandomForestRegressor  <a class=\"anchor\" id=\"step2.2\"></a>\n",
    "[back to content](#content)"
   ]
  },
  {
   "cell_type": "markdown",
   "metadata": {},
   "source": [
    "Let's build a random forest model. In order not to wait for the code to execute, the results are copied in advance in the markdown cells and the variables are written manually."
   ]
  },
  {
   "cell_type": "code",
   "execution_count": 71,
   "metadata": {},
   "outputs": [],
   "source": [
    "model_rfr = RandomForestRegressor(random_state=random_state)\n",
    "\n",
    "rfr_param_grid = {'n_estimators': [100, 400],\n",
    "                   'max_depth': [10,15],\n",
    "                  }"
   ]
  },
  {
   "cell_type": "raw",
   "metadata": {},
   "source": [
    "%%time\n",
    "rfr_gs_result = find_best_hyperparams(features_train, target_train, model_rfr, rfr_param_grid, cv=3)"
   ]
  },
  {
   "cell_type": "markdown",
   "metadata": {},
   "source": [
    "Best hyperparameters:"
   ]
  },
  {
   "cell_type": "raw",
   "metadata": {},
   "source": [
    "RandomForestRegressor(bootstrap=True, criterion='mse', max_depth=15,\n",
    "                      max_features='auto', max_leaf_nodes=None,\n",
    "                      min_impurity_decrease=0.0, min_impurity_split=None,\n",
    "                      min_samples_leaf=1, min_samples_split=2,\n",
    "                      min_weight_fraction_leaf=0.0, n_estimators=400,\n",
    "                      n_jobs=None, oob_score=False, random_state=666, verbose=0,\n",
    "                      warm_start=False)"
   ]
  },
  {
   "cell_type": "markdown",
   "metadata": {},
   "source": [
    "Learning time:"
   ]
  },
  {
   "cell_type": "code",
   "execution_count": 72,
   "metadata": {},
   "outputs": [],
   "source": [
    "rfr_train_time = 172"
   ]
  },
  {
   "cell_type": "raw",
   "metadata": {},
   "source": [
    "%%time\n",
    "model_rfr = RandomForestRegressor(\n",
    "    random_state=random_state, n_estimators=400, max_depth=15).fit(features_train,target_train)"
   ]
  },
  {
   "cell_type": "raw",
   "metadata": {},
   "source": [
    "CPU times: user 2min 52s, sys: 7.25 ms, total: 2min 52s\n",
    "Wall time: 2min 52s"
   ]
  },
  {
   "cell_type": "raw",
   "metadata": {},
   "source": [
    "%%time\n",
    "rfr_rmse_valid = cross_validation(model_rfr, features_valid, target_valid, 3)\n",
    "print_rmse_cv(rfr_rmse_valid)"
   ]
  },
  {
   "cell_type": "raw",
   "metadata": {},
   "source": [
    "RMSE on validation: 1723.89\n",
    "CPU times: user 2min 59s, sys: 300 ms, total: 3min\n",
    "Wall time: 3min"
   ]
  },
  {
   "cell_type": "code",
   "execution_count": 73,
   "metadata": {},
   "outputs": [],
   "source": [
    "rfr_rmse_valid = 1723"
   ]
  },
  {
   "cell_type": "markdown",
   "metadata": {},
   "source": [
    "Prediction time:"
   ]
  },
  {
   "cell_type": "raw",
   "metadata": {},
   "source": [
    "%%time\n",
    "model_rfr.predict(features_valid)"
   ]
  },
  {
   "cell_type": "raw",
   "metadata": {},
   "source": [
    "CPU times: user 4.08 s, sys: 0 ns, total: 4.08 s\n",
    "Wall time: 4.08 s"
   ]
  },
  {
   "cell_type": "code",
   "execution_count": 74,
   "metadata": {},
   "outputs": [],
   "source": [
    "rfr_predict_time = 4"
   ]
  },
  {
   "cell_type": "markdown",
   "metadata": {},
   "source": [
    "The quality of the model is significantly improved over linear regression. The training and prediction time is certainly an order of magnitude higher."
   ]
  },
  {
   "cell_type": "markdown",
   "metadata": {},
   "source": [
    "## 2.3 Model 3 - LGBMRegressor  <a class=\"anchor\" id=\"step2.3\"></a>\n",
    "[back to content](#content)"
   ]
  },
  {
   "cell_type": "markdown",
   "metadata": {},
   "source": [
    "Let's find the optimal hyperparameters using GridSearchCV."
   ]
  },
  {
   "cell_type": "code",
   "execution_count": 75,
   "metadata": {},
   "outputs": [],
   "source": [
    "model_lgbm = lgb.LGBMRegressor(random_state=random_state)\n",
    "\n",
    "lgbm_param_grid = {'n_estimators': [100, 400, 800],\n",
    "                   'max_depth': [10,15, 20],\n",
    "                   'num_leaves': [30, 50, 100]\n",
    "                  }"
   ]
  },
  {
   "cell_type": "raw",
   "metadata": {},
   "source": [
    "%%time\n",
    "lgbm_gs_result = find_best_hyperparams(features_train, target_train, model_lgbm, lgbm_param_grid, cv=3)\n",
    "\n",
    "CPU times: user 28.4 s, sys: 396 ms, total: 28.8 s\n",
    "Wall time: 3min 48s\n",
    "\n",
    "LGBMRegressor(boosting_type='gbdt', class_weight=None, colsample_bytree=1.0,\n",
    "              importance_type='split', learning_rate=0.1, max_depth=20,\n",
    "              min_child_samples=20, min_child_weight=0.001, min_split_gain=0.0,\n",
    "              n_estimators=1000, n_jobs=-1, num_leaves=100, objective=None,\n",
    "              random_state=666, reg_alpha=0.0, reg_lambda=0.0, silent=True,\n",
    "              subsample=1.0, subsample_for_bin=200000, subsample_freq=0)"
   ]
  },
  {
   "cell_type": "code",
   "execution_count": 76,
   "metadata": {},
   "outputs": [
    {
     "name": "stdout",
     "output_type": "stream",
     "text": [
      "CPU times: user 24.5 s, sys: 142 ms, total: 24.7 s\n",
      "Wall time: 6.48 s\n"
     ]
    },
    {
     "data": {
      "text/plain": [
       "LGBMRegressor(max_depth=20, n_estimators=1000, num_leaves=100, random_state=666)"
      ]
     },
     "execution_count": 76,
     "metadata": {},
     "output_type": "execute_result"
    }
   ],
   "source": [
    "%%time\n",
    "model_lgbm = lgb.LGBMRegressor(n_estimators=1000, max_depth=20, num_leaves=100, random_state=random_state)\n",
    "model_lgbm.fit(features_train, target_train)"
   ]
  },
  {
   "cell_type": "code",
   "execution_count": 77,
   "metadata": {},
   "outputs": [],
   "source": [
    "lgbm_train_time = 5.7"
   ]
  },
  {
   "cell_type": "raw",
   "metadata": {},
   "source": [
    "%%time\n",
    "lgbm_rmse_valid = cross_validation(model_lgbm, features_valid, target_valid, 3)\n",
    "print_rmse_cv(lgbm_rmse_valid)"
   ]
  },
  {
   "cell_type": "code",
   "execution_count": 78,
   "metadata": {},
   "outputs": [],
   "source": [
    "lgbm_rmse_valid = 1718"
   ]
  },
  {
   "cell_type": "raw",
   "metadata": {},
   "source": [
    "%%time\n",
    "model_lgbm.predict(features_valid)"
   ]
  },
  {
   "cell_type": "code",
   "execution_count": 79,
   "metadata": {},
   "outputs": [],
   "source": [
    "lgbm_predict_time = 1.5"
   ]
  },
  {
   "cell_type": "markdown",
   "metadata": {},
   "source": [
    "The quality of predictions for the model with gradient boosting is almost the same as for the random forest, but the speed of work is noticeably higher. Let's look at the importance of features for this model:"
   ]
  },
  {
   "cell_type": "code",
   "execution_count": 80,
   "metadata": {},
   "outputs": [
    {
     "data": {
      "text/plain": [
       "<AxesSubplot:title={'center':'Feature importance'}, xlabel='Feature importance', ylabel='Features'>"
      ]
     },
     "execution_count": 80,
     "metadata": {},
     "output_type": "execute_result"
    },
    {
     "data": {
      "image/png": "[encoded data removed]",
      "text/plain": [
       "<Figure size 432x288 with 1 Axes>"
      ]
     },
     "metadata": {
      "needs_background": "light"
     },
     "output_type": "display_data"
    }
   ],
   "source": [
    "lgb.plot_importance(model_lgbm)"
   ]
  },
  {
   "cell_type": "markdown",
   "metadata": {},
   "source": [
    "The importance of used variables for the model are well interpreted by common sense. So the model is not a \"black box\". The age and power of a car are the most important features."
   ]
  },
  {
   "cell_type": "markdown",
   "metadata": {},
   "source": [
    "## 2.4 Model 4 - CatBoostRegressor  <a class=\"anchor\" id=\"step2.4\"></a>\n",
    "[back to content](#content)"
   ]
  },
  {
   "cell_type": "markdown",
   "metadata": {},
   "source": [
    "Finally, let's make a CatBoost model without a special selection of hyperparameters."
   ]
  },
  {
   "cell_type": "code",
   "execution_count": 81,
   "metadata": {},
   "outputs": [],
   "source": [
    "model_catboost = cb.CatBoostRegressor(verbose=0)"
   ]
  },
  {
   "cell_type": "raw",
   "metadata": {},
   "source": [
    "%%time\n",
    "model_catboost.fit(features_train, target_train)"
   ]
  },
  {
   "cell_type": "raw",
   "metadata": {},
   "source": [
    "CPU times: user 52.1 s, sys: 2.12 s, total: 54.2 s\n",
    "Wall time: 14.5 s"
   ]
  },
  {
   "cell_type": "code",
   "execution_count": 82,
   "metadata": {},
   "outputs": [],
   "source": [
    "cb_train_time = 14.5"
   ]
  },
  {
   "cell_type": "raw",
   "metadata": {},
   "source": [
    "%%time\n",
    "cb_rmse_valid = cross_validation(model_catboost, features_valid, target_valid, 3)\n",
    "print_rmse_cv(cb_rmse_valid)"
   ]
  },
  {
   "cell_type": "raw",
   "metadata": {},
   "source": [
    "RMSE на валидации: 1714.07\n",
    "CPU times: user 28.5 s, sys: 1.83 s, total: 30.4 s\n",
    "Wall time: 8.47 s"
   ]
  },
  {
   "cell_type": "code",
   "execution_count": 83,
   "metadata": {},
   "outputs": [],
   "source": [
    "cb_rmse_valid = 1714"
   ]
  },
  {
   "cell_type": "raw",
   "metadata": {},
   "source": [
    "%%time\n",
    "model_catboost.predict(features_valid)"
   ]
  },
  {
   "cell_type": "raw",
   "metadata": {},
   "source": [
    "CPU times: user 60.4 ms, sys: 8.05 ms, total: 68.4 ms\n",
    "Wall time: 30.3 ms"
   ]
  },
  {
   "cell_type": "code",
   "execution_count": 84,
   "metadata": {},
   "outputs": [],
   "source": [
    "cb_predict_time = 0.030"
   ]
  },
  {
   "cell_type": "markdown",
   "metadata": {},
   "source": [
    "The quality of predictions has not improved, but the speed of work is high."
   ]
  },
  {
   "cell_type": "markdown",
   "metadata": {},
   "source": [
    "# 3. Model analysis  <a class=\"anchor\" id=\"step3\"></a>\n",
    "[back to content](#content)"
   ]
  },
  {
   "cell_type": "markdown",
   "metadata": {},
   "source": [
    "Let's create a pivot table based on the results of the models' work and visualize the metrics:"
   ]
  },
  {
   "cell_type": "code",
   "execution_count": 85,
   "metadata": {},
   "outputs": [],
   "source": [
    "results = pd.DataFrame({'Model': ['Linear Regression', 'RandomForestRegressor', 'LGBMRegressor', 'CatBoostRegressor'],\n",
    "                        'RMSE [€]': [reg_rmse_valid, rfr_rmse_valid, lgbm_rmse_valid, cb_rmse_valid],\n",
    "                        'Training time [s]': [reg_train_time, rfr_train_time, lgbm_train_time, cb_train_time],\n",
    "                        'Prediction time [s]': [reg_predict_time, rfr_predict_time, lgbm_predict_time, cb_predict_time]})"
   ]
  },
  {
   "cell_type": "code",
   "execution_count": 90,
   "metadata": {},
   "outputs": [
    {
     "data": {
      "image/png": "[encoded data removed]",
      "text/plain": [
       "<Figure size 720x432 with 1 Axes>"
      ]
     },
     "metadata": {
      "needs_background": "light"
     },
     "output_type": "display_data"
    }
   ],
   "source": [
    "plot_barchart(results, 'Model', 'RMSE [€]',\n",
    "              'Comparison of model prediction quality (lower is better)',\n",
    "              'Model', 'RMSE [€]',(10,6), 20)"
   ]
  },
  {
   "cell_type": "code",
   "execution_count": 91,
   "metadata": {},
   "outputs": [
    {
     "data": {
      "image/png": "[encoded data removed]",
      "text/plain": [
       "<Figure size 720x432 with 1 Axes>"
      ]
     },
     "metadata": {
      "needs_background": "light"
     },
     "output_type": "display_data"
    }
   ],
   "source": [
    "plot_barchart(results, 'Model', 'Training time [s]',\n",
    "              'Comparison of model training time (lower is better)',\n",
    "              'Model', 'Training time [s]',(10,6), 20)"
   ]
  },
  {
   "cell_type": "code",
   "execution_count": 92,
   "metadata": {},
   "outputs": [
    {
     "data": {
      "image/png": "[encoded data removed]",
      "text/plain": [
       "<Figure size 720x432 with 1 Axes>"
      ]
     },
     "metadata": {
      "needs_background": "light"
     },
     "output_type": "display_data"
    }
   ],
   "source": [
    "plot_barchart(results, 'Model', 'Prediction time [s]',\n",
    "              'Comparison of model prediction time (lower is better)',\n",
    "              'Model', 'Prediction time [s]',(10,6),20)"
   ]
  },
  {
   "cell_type": "markdown",
   "metadata": {},
   "source": [
    "Linear regression clearly loses out on the RMSE quality metric, but it wins in model training and prediction time. The RMSE metrics are roughly the same for the three models, except for linear regression. The CatBoost algorithm has clear advantages in terms of model prediction time, and the random forest turned out to be the slowest. LGBMRegressor learns quite quickly, but is much slower on predictions, which is very important if you need to work in real time.\n",
    "\n",
    "Best model in this comparison: **CatBoostRegressor**"
   ]
  },
  {
   "cell_type": "markdown",
   "metadata": {},
   "source": [
    "## Compare best model with dummy estimator"
   ]
  },
  {
   "cell_type": "markdown",
   "metadata": {},
   "source": [
    "Using constant prediction from a dataset, let's check how much better the selected model performs."
   ]
  },
  {
   "cell_type": "code",
   "execution_count": 93,
   "metadata": {},
   "outputs": [],
   "source": [
    "#save the dummy metrics in variables\n",
    "\n",
    "rmse_dummy_median = mean_squared_error(\n",
    "    target_valid, DummyRegressor(strategy='median').fit(\n",
    "        features_train, target_train).predict(features_valid)) ** 0.5\n",
    "\n",
    "rmse_dummy_mean = mean_squared_error(\n",
    "    target_valid, DummyRegressor(strategy='mean').fit(\n",
    "        features_train, target_train).predict(features_valid)) ** 0.5"
   ]
  },
  {
   "cell_type": "code",
   "execution_count": 94,
   "metadata": {},
   "outputs": [],
   "source": [
    "#save results in table\n",
    "dummy_compare = pd.DataFrame({'Model': ['CatBoostRegressor', 'DummyRegresspr (median)', 'DummyRegresspr (mean)'],\n",
    "                              'RMSE [€]': [cb_rmse_valid,rmse_dummy_median,rmse_dummy_mean]})"
   ]
  },
  {
   "cell_type": "code",
   "execution_count": 96,
   "metadata": {},
   "outputs": [
    {
     "data": {
      "image/png": "[encoded data removed]",
      "text/plain": [
       "<Figure size 720x432 with 1 Axes>"
      ]
     },
     "metadata": {
      "needs_background": "light"
     },
     "output_type": "display_data"
    }
   ],
   "source": [
    "plot_barchart(dummy_compare, 'Model', 'RMSE [€]',\n",
    "              'Best model vs dummy comparison (lower is better)',\n",
    "              'Model', 'RMSE [€]',(10,6), 20)"
   ]
  },
  {
   "cell_type": "markdown",
   "metadata": {},
   "source": [
    "The best model is definitely better than the random one."
   ]
  },
  {
   "cell_type": "markdown",
   "metadata": {},
   "source": [
    "# 4. Summary  <a class=\"anchor\" id=\"step4\"></a>\n",
    "[back to content](#content)"
   ]
  },
  {
   "cell_type": "markdown",
   "metadata": {},
   "source": [
    "* weighing prediction quality versus performance, the best model is **CatBoostRegressor**\n",
    "* although we could overcome the dummy model, the RMSE metric still definitely needs some optimization, 1700 € is too big for an error\n",
    "* what else can be done to improve metrics:\n",
    "     * try to preprocess data better, fill in the gaps with other algorithm\n",
    "     * try to add additional features (feature engineering)\n",
    "     * tune model hyperparameters"
   ]
  }
 ],
 "metadata": {
  "kernelspec": {
   "display_name": "Python 3",
   "language": "python",
   "name": "python3"
  },
  "language_info": {
   "codemirror_mode": {
    "name": "ipython",
    "version": 3
   },
   "file_extension": ".py",
   "mimetype": "text/x-python",
   "name": "python",
   "nbconvert_exporter": "python",
   "pygments_lexer": "ipython3",
   "version": "3.7.8"
  },
  "toc-autonumbering": false
 },
 "nbformat": 4,
 "nbformat_minor": 4
}
